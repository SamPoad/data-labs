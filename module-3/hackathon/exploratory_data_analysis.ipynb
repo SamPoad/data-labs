{
 "cells": [
  {
   "cell_type": "markdown",
   "metadata": {},
   "source": [
    "# Hackathon"
   ]
  },
  {
   "cell_type": "markdown",
   "metadata": {},
   "source": [
    "Project Definition: https://docs.google.com/document/d/1OegVgjqh91K4sMcmrgDP_uGt3SDfz62PBCaQyTEMkhM/edit"
   ]
  },
  {
   "cell_type": "code",
   "execution_count": 1,
   "metadata": {},
   "outputs": [],
   "source": [
    "import pandas as pd\n",
    "import matplotlib.pyplot as plt"
   ]
  },
  {
   "cell_type": "code",
   "execution_count": 2,
   "metadata": {},
   "outputs": [],
   "source": [
    "cart = pd.read_csv('./bookstore/cart.csv')"
   ]
  },
  {
   "cell_type": "code",
   "execution_count": 3,
   "metadata": {},
   "outputs": [
    {
     "data": {
      "text/html": [
       "<div>\n",
       "<style scoped>\n",
       "    .dataframe tbody tr th:only-of-type {\n",
       "        vertical-align: middle;\n",
       "    }\n",
       "\n",
       "    .dataframe tbody tr th {\n",
       "        vertical-align: top;\n",
       "    }\n",
       "\n",
       "    .dataframe thead th {\n",
       "        text-align: right;\n",
       "    }\n",
       "</style>\n",
       "<table border=\"1\" class=\"dataframe\">\n",
       "  <thead>\n",
       "    <tr style=\"text-align: right;\">\n",
       "      <th></th>\n",
       "      <th>event_time</th>\n",
       "      <th>event_type</th>\n",
       "      <th>isbn</th>\n",
       "      <th>category</th>\n",
       "      <th>price</th>\n",
       "      <th>user_id</th>\n",
       "      <th>user_agent</th>\n",
       "    </tr>\n",
       "  </thead>\n",
       "  <tbody>\n",
       "    <tr>\n",
       "      <td>0</td>\n",
       "      <td>2019-11-01 00:00:51 UTC</td>\n",
       "      <td>remove_from_cart</td>\n",
       "      <td>978-1-68177-962-1</td>\n",
       "      <td>Bibles</td>\n",
       "      <td>5.54</td>\n",
       "      <td>566239468.0</td>\n",
       "      <td>Mozilla/5.0 (Macintosh; Intel Mac OS X 10_7_6 ...</td>\n",
       "    </tr>\n",
       "    <tr>\n",
       "      <td>1</td>\n",
       "      <td>2019-11-01 00:02:02 UTC</td>\n",
       "      <td>view</td>\n",
       "      <td>978-1-121-11580-4</td>\n",
       "      <td>Study Aids</td>\n",
       "      <td>7.14</td>\n",
       "      <td>NaN</td>\n",
       "      <td>Mozilla/5.0 (compatible; MSIE 5.0; Windows NT ...</td>\n",
       "    </tr>\n",
       "    <tr>\n",
       "      <td>2</td>\n",
       "      <td>2019-11-01 00:03:38 UTC</td>\n",
       "      <td>cart</td>\n",
       "      <td>978-1-72613-750-8</td>\n",
       "      <td>Biography &amp; Autobiography</td>\n",
       "      <td>20.16</td>\n",
       "      <td>565876667.0</td>\n",
       "      <td>Opera/9.54.(Windows NT 5.2; ku-TR) Presto/2.9....</td>\n",
       "    </tr>\n",
       "    <tr>\n",
       "      <td>3</td>\n",
       "      <td>2019-11-01 00:03:54 UTC</td>\n",
       "      <td>view</td>\n",
       "      <td>978-0-01-454531-5</td>\n",
       "      <td>Nature</td>\n",
       "      <td>15.71</td>\n",
       "      <td>562076640.0</td>\n",
       "      <td>Mozilla/5.0 (Linux; Android 4.1.2) AppleWebKit...</td>\n",
       "    </tr>\n",
       "    <tr>\n",
       "      <td>4</td>\n",
       "      <td>2019-11-01 00:07:14 UTC</td>\n",
       "      <td>view</td>\n",
       "      <td>978-1-4168-4283-5</td>\n",
       "      <td>Games &amp; Activities</td>\n",
       "      <td>24.92</td>\n",
       "      <td>565876667.0</td>\n",
       "      <td>Opera/9.54.(Windows NT 5.2; ku-TR) Presto/2.9....</td>\n",
       "    </tr>\n",
       "  </tbody>\n",
       "</table>\n",
       "</div>"
      ],
      "text/plain": [
       "                event_time        event_type               isbn  \\\n",
       "0  2019-11-01 00:00:51 UTC  remove_from_cart  978-1-68177-962-1   \n",
       "1  2019-11-01 00:02:02 UTC              view  978-1-121-11580-4   \n",
       "2  2019-11-01 00:03:38 UTC              cart  978-1-72613-750-8   \n",
       "3  2019-11-01 00:03:54 UTC              view  978-0-01-454531-5   \n",
       "4  2019-11-01 00:07:14 UTC              view  978-1-4168-4283-5   \n",
       "\n",
       "                    category  price      user_id  \\\n",
       "0                     Bibles   5.54  566239468.0   \n",
       "1                 Study Aids   7.14          NaN   \n",
       "2  Biography & Autobiography  20.16  565876667.0   \n",
       "3                     Nature  15.71  562076640.0   \n",
       "4         Games & Activities  24.92  565876667.0   \n",
       "\n",
       "                                          user_agent  \n",
       "0  Mozilla/5.0 (Macintosh; Intel Mac OS X 10_7_6 ...  \n",
       "1  Mozilla/5.0 (compatible; MSIE 5.0; Windows NT ...  \n",
       "2  Opera/9.54.(Windows NT 5.2; ku-TR) Presto/2.9....  \n",
       "3  Mozilla/5.0 (Linux; Android 4.1.2) AppleWebKit...  \n",
       "4  Opera/9.54.(Windows NT 5.2; ku-TR) Presto/2.9....  "
      ]
     },
     "execution_count": 3,
     "metadata": {},
     "output_type": "execute_result"
    }
   ],
   "source": [
    "cart.head()"
   ]
  },
  {
   "cell_type": "code",
   "execution_count": 4,
   "metadata": {},
   "outputs": [
    {
     "data": {
      "text/plain": [
       "event_time     object\n",
       "event_type     object\n",
       "isbn           object\n",
       "category       object\n",
       "price         float64\n",
       "user_id       float64\n",
       "user_agent     object\n",
       "dtype: object"
      ]
     },
     "execution_count": 4,
     "metadata": {},
     "output_type": "execute_result"
    }
   ],
   "source": [
    "cart.dtypes"
   ]
  },
  {
   "cell_type": "code",
   "execution_count": 5,
   "metadata": {
    "scrolled": false
   },
   "outputs": [
    {
     "data": {
      "text/plain": [
       "event_time        0\n",
       "event_type        0\n",
       "isbn              0\n",
       "category          0\n",
       "price             0\n",
       "user_id       30973\n",
       "user_agent        0\n",
       "dtype: int64"
      ]
     },
     "execution_count": 5,
     "metadata": {},
     "output_type": "execute_result"
    }
   ],
   "source": [
    "cart.isna().sum()"
   ]
  },
  {
   "cell_type": "code",
   "execution_count": 6,
   "metadata": {
    "scrolled": false
   },
   "outputs": [
    {
     "data": {
      "text/plain": [
       "100000"
      ]
     },
     "execution_count": 6,
     "metadata": {},
     "output_type": "execute_result"
    }
   ],
   "source": [
    "len(cart)"
   ]
  },
  {
   "cell_type": "code",
   "execution_count": 168,
   "metadata": {},
   "outputs": [
    {
     "data": {
      "text/plain": [
       "49609"
      ]
     },
     "execution_count": 168,
     "metadata": {},
     "output_type": "execute_result"
    }
   ],
   "source": [
    "len(users)"
   ]
  },
  {
   "cell_type": "code",
   "execution_count": null,
   "metadata": {},
   "outputs": [],
   "source": []
  },
  {
   "cell_type": "markdown",
   "metadata": {},
   "source": [
    "So we have 100k rows, and 30.9k have not signed up"
   ]
  },
  {
   "cell_type": "code",
   "execution_count": 7,
   "metadata": {},
   "outputs": [
    {
     "data": {
      "text/plain": [
       "array(['remove_from_cart', 'view', 'cart', 'purchase'], dtype=object)"
      ]
     },
     "execution_count": 7,
     "metadata": {},
     "output_type": "execute_result"
    }
   ],
   "source": [
    "cart['event_type'].unique()"
   ]
  },
  {
   "cell_type": "code",
   "execution_count": 8,
   "metadata": {
    "scrolled": false
   },
   "outputs": [
    {
     "data": {
      "text/html": [
       "<div>\n",
       "<style scoped>\n",
       "    .dataframe tbody tr th:only-of-type {\n",
       "        vertical-align: middle;\n",
       "    }\n",
       "\n",
       "    .dataframe tbody tr th {\n",
       "        vertical-align: top;\n",
       "    }\n",
       "\n",
       "    .dataframe thead th {\n",
       "        text-align: right;\n",
       "    }\n",
       "</style>\n",
       "<table border=\"1\" class=\"dataframe\">\n",
       "  <thead>\n",
       "    <tr style=\"text-align: right;\">\n",
       "      <th></th>\n",
       "      <th>event_time</th>\n",
       "      <th>event_type</th>\n",
       "    </tr>\n",
       "  </thead>\n",
       "  <tbody>\n",
       "    <tr>\n",
       "      <td>0</td>\n",
       "      <td>2019-11-01 00:00:51 UTC</td>\n",
       "      <td>remove_from_cart</td>\n",
       "    </tr>\n",
       "    <tr>\n",
       "      <td>1</td>\n",
       "      <td>2019-11-01 00:02:02 UTC</td>\n",
       "      <td>view</td>\n",
       "    </tr>\n",
       "    <tr>\n",
       "      <td>2</td>\n",
       "      <td>2019-11-01 00:03:38 UTC</td>\n",
       "      <td>cart</td>\n",
       "    </tr>\n",
       "    <tr>\n",
       "      <td>3</td>\n",
       "      <td>2019-11-01 00:03:54 UTC</td>\n",
       "      <td>view</td>\n",
       "    </tr>\n",
       "    <tr>\n",
       "      <td>4</td>\n",
       "      <td>2019-11-01 00:07:14 UTC</td>\n",
       "      <td>view</td>\n",
       "    </tr>\n",
       "    <tr>\n",
       "      <td>...</td>\n",
       "      <td>...</td>\n",
       "      <td>...</td>\n",
       "    </tr>\n",
       "    <tr>\n",
       "      <td>99995</td>\n",
       "      <td>2019-11-30 22:22:24 UTC</td>\n",
       "      <td>purchase</td>\n",
       "    </tr>\n",
       "    <tr>\n",
       "      <td>99996</td>\n",
       "      <td>2019-11-30 22:28:22 UTC</td>\n",
       "      <td>purchase</td>\n",
       "    </tr>\n",
       "    <tr>\n",
       "      <td>99997</td>\n",
       "      <td>2019-11-30 22:56:03 UTC</td>\n",
       "      <td>purchase</td>\n",
       "    </tr>\n",
       "    <tr>\n",
       "      <td>99998</td>\n",
       "      <td>2019-11-30 23:09:47 UTC</td>\n",
       "      <td>purchase</td>\n",
       "    </tr>\n",
       "    <tr>\n",
       "      <td>99999</td>\n",
       "      <td>2019-11-30 23:09:47 UTC</td>\n",
       "      <td>purchase</td>\n",
       "    </tr>\n",
       "  </tbody>\n",
       "</table>\n",
       "<p>63449 rows × 2 columns</p>\n",
       "</div>"
      ],
      "text/plain": [
       "                    event_time        event_type\n",
       "0      2019-11-01 00:00:51 UTC  remove_from_cart\n",
       "1      2019-11-01 00:02:02 UTC              view\n",
       "2      2019-11-01 00:03:38 UTC              cart\n",
       "3      2019-11-01 00:03:54 UTC              view\n",
       "4      2019-11-01 00:07:14 UTC              view\n",
       "...                        ...               ...\n",
       "99995  2019-11-30 22:22:24 UTC          purchase\n",
       "99996  2019-11-30 22:28:22 UTC          purchase\n",
       "99997  2019-11-30 22:56:03 UTC          purchase\n",
       "99998  2019-11-30 23:09:47 UTC          purchase\n",
       "99999  2019-11-30 23:09:47 UTC          purchase\n",
       "\n",
       "[63449 rows x 2 columns]"
      ]
     },
     "execution_count": 8,
     "metadata": {},
     "output_type": "execute_result"
    }
   ],
   "source": [
    "cart.groupby('user_id')[['event_time', 'event_type']].head()"
   ]
  },
  {
   "cell_type": "code",
   "execution_count": 116,
   "metadata": {},
   "outputs": [
    {
     "data": {
      "text/plain": [
       "30973"
      ]
     },
     "execution_count": 116,
     "metadata": {},
     "output_type": "execute_result"
    }
   ],
   "source": [
    "cart['user_id'].isna().sum()"
   ]
  },
  {
   "cell_type": "code",
   "execution_count": null,
   "metadata": {},
   "outputs": [],
   "source": []
  },
  {
   "cell_type": "code",
   "execution_count": 115,
   "metadata": {},
   "outputs": [
    {
     "ename": "ValueError",
     "evalue": "Cannot convert non-finite values (NA or inf) to integer",
     "output_type": "error",
     "traceback": [
      "\u001b[0;31m---------------------------------------------------------------------------\u001b[0m",
      "\u001b[0;31mValueError\u001b[0m                                Traceback (most recent call last)",
      "\u001b[0;32m<ipython-input-115-cf2f6cb2278f>\u001b[0m in \u001b[0;36m<module>\u001b[0;34m\u001b[0m\n\u001b[0;32m----> 1\u001b[0;31m \u001b[0mcart\u001b[0m\u001b[0;34m[\u001b[0m\u001b[0;34m'user_id'\u001b[0m\u001b[0;34m]\u001b[0m \u001b[0;34m=\u001b[0m \u001b[0mcart\u001b[0m\u001b[0;34m[\u001b[0m\u001b[0;34m'user_id'\u001b[0m\u001b[0;34m]\u001b[0m\u001b[0;34m.\u001b[0m\u001b[0mastype\u001b[0m\u001b[0;34m(\u001b[0m\u001b[0mint\u001b[0m\u001b[0;34m)\u001b[0m\u001b[0;34m\u001b[0m\u001b[0;34m\u001b[0m\u001b[0m\n\u001b[0m",
      "\u001b[0;32m~/opt/anaconda3/lib/python3.7/site-packages/pandas/core/generic.py\u001b[0m in \u001b[0;36mastype\u001b[0;34m(self, dtype, copy, errors, **kwargs)\u001b[0m\n\u001b[1;32m   5880\u001b[0m             \u001b[0;31m# else, only a single dtype is given\u001b[0m\u001b[0;34m\u001b[0m\u001b[0;34m\u001b[0m\u001b[0;34m\u001b[0m\u001b[0m\n\u001b[1;32m   5881\u001b[0m             new_data = self._data.astype(\n\u001b[0;32m-> 5882\u001b[0;31m                 \u001b[0mdtype\u001b[0m\u001b[0;34m=\u001b[0m\u001b[0mdtype\u001b[0m\u001b[0;34m,\u001b[0m \u001b[0mcopy\u001b[0m\u001b[0;34m=\u001b[0m\u001b[0mcopy\u001b[0m\u001b[0;34m,\u001b[0m \u001b[0merrors\u001b[0m\u001b[0;34m=\u001b[0m\u001b[0merrors\u001b[0m\u001b[0;34m,\u001b[0m \u001b[0;34m**\u001b[0m\u001b[0mkwargs\u001b[0m\u001b[0;34m\u001b[0m\u001b[0;34m\u001b[0m\u001b[0m\n\u001b[0m\u001b[1;32m   5883\u001b[0m             )\n\u001b[1;32m   5884\u001b[0m             \u001b[0;32mreturn\u001b[0m \u001b[0mself\u001b[0m\u001b[0;34m.\u001b[0m\u001b[0m_constructor\u001b[0m\u001b[0;34m(\u001b[0m\u001b[0mnew_data\u001b[0m\u001b[0;34m)\u001b[0m\u001b[0;34m.\u001b[0m\u001b[0m__finalize__\u001b[0m\u001b[0;34m(\u001b[0m\u001b[0mself\u001b[0m\u001b[0;34m)\u001b[0m\u001b[0;34m\u001b[0m\u001b[0;34m\u001b[0m\u001b[0m\n",
      "\u001b[0;32m~/opt/anaconda3/lib/python3.7/site-packages/pandas/core/internals/managers.py\u001b[0m in \u001b[0;36mastype\u001b[0;34m(self, dtype, **kwargs)\u001b[0m\n\u001b[1;32m    579\u001b[0m \u001b[0;34m\u001b[0m\u001b[0m\n\u001b[1;32m    580\u001b[0m     \u001b[0;32mdef\u001b[0m \u001b[0mastype\u001b[0m\u001b[0;34m(\u001b[0m\u001b[0mself\u001b[0m\u001b[0;34m,\u001b[0m \u001b[0mdtype\u001b[0m\u001b[0;34m,\u001b[0m \u001b[0;34m**\u001b[0m\u001b[0mkwargs\u001b[0m\u001b[0;34m)\u001b[0m\u001b[0;34m:\u001b[0m\u001b[0;34m\u001b[0m\u001b[0;34m\u001b[0m\u001b[0m\n\u001b[0;32m--> 581\u001b[0;31m         \u001b[0;32mreturn\u001b[0m \u001b[0mself\u001b[0m\u001b[0;34m.\u001b[0m\u001b[0mapply\u001b[0m\u001b[0;34m(\u001b[0m\u001b[0;34m\"astype\"\u001b[0m\u001b[0;34m,\u001b[0m \u001b[0mdtype\u001b[0m\u001b[0;34m=\u001b[0m\u001b[0mdtype\u001b[0m\u001b[0;34m,\u001b[0m \u001b[0;34m**\u001b[0m\u001b[0mkwargs\u001b[0m\u001b[0;34m)\u001b[0m\u001b[0;34m\u001b[0m\u001b[0;34m\u001b[0m\u001b[0m\n\u001b[0m\u001b[1;32m    582\u001b[0m \u001b[0;34m\u001b[0m\u001b[0m\n\u001b[1;32m    583\u001b[0m     \u001b[0;32mdef\u001b[0m \u001b[0mconvert\u001b[0m\u001b[0;34m(\u001b[0m\u001b[0mself\u001b[0m\u001b[0;34m,\u001b[0m \u001b[0;34m**\u001b[0m\u001b[0mkwargs\u001b[0m\u001b[0;34m)\u001b[0m\u001b[0;34m:\u001b[0m\u001b[0;34m\u001b[0m\u001b[0;34m\u001b[0m\u001b[0m\n",
      "\u001b[0;32m~/opt/anaconda3/lib/python3.7/site-packages/pandas/core/internals/managers.py\u001b[0m in \u001b[0;36mapply\u001b[0;34m(self, f, axes, filter, do_integrity_check, consolidate, **kwargs)\u001b[0m\n\u001b[1;32m    436\u001b[0m                     \u001b[0mkwargs\u001b[0m\u001b[0;34m[\u001b[0m\u001b[0mk\u001b[0m\u001b[0;34m]\u001b[0m \u001b[0;34m=\u001b[0m \u001b[0mobj\u001b[0m\u001b[0;34m.\u001b[0m\u001b[0mreindex\u001b[0m\u001b[0;34m(\u001b[0m\u001b[0mb_items\u001b[0m\u001b[0;34m,\u001b[0m \u001b[0maxis\u001b[0m\u001b[0;34m=\u001b[0m\u001b[0maxis\u001b[0m\u001b[0;34m,\u001b[0m \u001b[0mcopy\u001b[0m\u001b[0;34m=\u001b[0m\u001b[0malign_copy\u001b[0m\u001b[0;34m)\u001b[0m\u001b[0;34m\u001b[0m\u001b[0;34m\u001b[0m\u001b[0m\n\u001b[1;32m    437\u001b[0m \u001b[0;34m\u001b[0m\u001b[0m\n\u001b[0;32m--> 438\u001b[0;31m             \u001b[0mapplied\u001b[0m \u001b[0;34m=\u001b[0m \u001b[0mgetattr\u001b[0m\u001b[0;34m(\u001b[0m\u001b[0mb\u001b[0m\u001b[0;34m,\u001b[0m \u001b[0mf\u001b[0m\u001b[0;34m)\u001b[0m\u001b[0;34m(\u001b[0m\u001b[0;34m**\u001b[0m\u001b[0mkwargs\u001b[0m\u001b[0;34m)\u001b[0m\u001b[0;34m\u001b[0m\u001b[0;34m\u001b[0m\u001b[0m\n\u001b[0m\u001b[1;32m    439\u001b[0m             \u001b[0mresult_blocks\u001b[0m \u001b[0;34m=\u001b[0m \u001b[0m_extend_blocks\u001b[0m\u001b[0;34m(\u001b[0m\u001b[0mapplied\u001b[0m\u001b[0;34m,\u001b[0m \u001b[0mresult_blocks\u001b[0m\u001b[0;34m)\u001b[0m\u001b[0;34m\u001b[0m\u001b[0;34m\u001b[0m\u001b[0m\n\u001b[1;32m    440\u001b[0m \u001b[0;34m\u001b[0m\u001b[0m\n",
      "\u001b[0;32m~/opt/anaconda3/lib/python3.7/site-packages/pandas/core/internals/blocks.py\u001b[0m in \u001b[0;36mastype\u001b[0;34m(self, dtype, copy, errors, values, **kwargs)\u001b[0m\n\u001b[1;32m    557\u001b[0m \u001b[0;34m\u001b[0m\u001b[0m\n\u001b[1;32m    558\u001b[0m     \u001b[0;32mdef\u001b[0m \u001b[0mastype\u001b[0m\u001b[0;34m(\u001b[0m\u001b[0mself\u001b[0m\u001b[0;34m,\u001b[0m \u001b[0mdtype\u001b[0m\u001b[0;34m,\u001b[0m \u001b[0mcopy\u001b[0m\u001b[0;34m=\u001b[0m\u001b[0;32mFalse\u001b[0m\u001b[0;34m,\u001b[0m \u001b[0merrors\u001b[0m\u001b[0;34m=\u001b[0m\u001b[0;34m\"raise\"\u001b[0m\u001b[0;34m,\u001b[0m \u001b[0mvalues\u001b[0m\u001b[0;34m=\u001b[0m\u001b[0;32mNone\u001b[0m\u001b[0;34m,\u001b[0m \u001b[0;34m**\u001b[0m\u001b[0mkwargs\u001b[0m\u001b[0;34m)\u001b[0m\u001b[0;34m:\u001b[0m\u001b[0;34m\u001b[0m\u001b[0;34m\u001b[0m\u001b[0m\n\u001b[0;32m--> 559\u001b[0;31m         \u001b[0;32mreturn\u001b[0m \u001b[0mself\u001b[0m\u001b[0;34m.\u001b[0m\u001b[0m_astype\u001b[0m\u001b[0;34m(\u001b[0m\u001b[0mdtype\u001b[0m\u001b[0;34m,\u001b[0m \u001b[0mcopy\u001b[0m\u001b[0;34m=\u001b[0m\u001b[0mcopy\u001b[0m\u001b[0;34m,\u001b[0m \u001b[0merrors\u001b[0m\u001b[0;34m=\u001b[0m\u001b[0merrors\u001b[0m\u001b[0;34m,\u001b[0m \u001b[0mvalues\u001b[0m\u001b[0;34m=\u001b[0m\u001b[0mvalues\u001b[0m\u001b[0;34m,\u001b[0m \u001b[0;34m**\u001b[0m\u001b[0mkwargs\u001b[0m\u001b[0;34m)\u001b[0m\u001b[0;34m\u001b[0m\u001b[0;34m\u001b[0m\u001b[0m\n\u001b[0m\u001b[1;32m    560\u001b[0m \u001b[0;34m\u001b[0m\u001b[0m\n\u001b[1;32m    561\u001b[0m     \u001b[0;32mdef\u001b[0m \u001b[0m_astype\u001b[0m\u001b[0;34m(\u001b[0m\u001b[0mself\u001b[0m\u001b[0;34m,\u001b[0m \u001b[0mdtype\u001b[0m\u001b[0;34m,\u001b[0m \u001b[0mcopy\u001b[0m\u001b[0;34m=\u001b[0m\u001b[0;32mFalse\u001b[0m\u001b[0;34m,\u001b[0m \u001b[0merrors\u001b[0m\u001b[0;34m=\u001b[0m\u001b[0;34m\"raise\"\u001b[0m\u001b[0;34m,\u001b[0m \u001b[0mvalues\u001b[0m\u001b[0;34m=\u001b[0m\u001b[0;32mNone\u001b[0m\u001b[0;34m,\u001b[0m \u001b[0;34m**\u001b[0m\u001b[0mkwargs\u001b[0m\u001b[0;34m)\u001b[0m\u001b[0;34m:\u001b[0m\u001b[0;34m\u001b[0m\u001b[0;34m\u001b[0m\u001b[0m\n",
      "\u001b[0;32m~/opt/anaconda3/lib/python3.7/site-packages/pandas/core/internals/blocks.py\u001b[0m in \u001b[0;36m_astype\u001b[0;34m(self, dtype, copy, errors, values, **kwargs)\u001b[0m\n\u001b[1;32m    641\u001b[0m                     \u001b[0;31m# _astype_nansafe works fine with 1-d only\u001b[0m\u001b[0;34m\u001b[0m\u001b[0;34m\u001b[0m\u001b[0;34m\u001b[0m\u001b[0m\n\u001b[1;32m    642\u001b[0m                     \u001b[0mvals1d\u001b[0m \u001b[0;34m=\u001b[0m \u001b[0mvalues\u001b[0m\u001b[0;34m.\u001b[0m\u001b[0mravel\u001b[0m\u001b[0;34m(\u001b[0m\u001b[0;34m)\u001b[0m\u001b[0;34m\u001b[0m\u001b[0;34m\u001b[0m\u001b[0m\n\u001b[0;32m--> 643\u001b[0;31m                     \u001b[0mvalues\u001b[0m \u001b[0;34m=\u001b[0m \u001b[0mastype_nansafe\u001b[0m\u001b[0;34m(\u001b[0m\u001b[0mvals1d\u001b[0m\u001b[0;34m,\u001b[0m \u001b[0mdtype\u001b[0m\u001b[0;34m,\u001b[0m \u001b[0mcopy\u001b[0m\u001b[0;34m=\u001b[0m\u001b[0;32mTrue\u001b[0m\u001b[0;34m,\u001b[0m \u001b[0;34m**\u001b[0m\u001b[0mkwargs\u001b[0m\u001b[0;34m)\u001b[0m\u001b[0;34m\u001b[0m\u001b[0;34m\u001b[0m\u001b[0m\n\u001b[0m\u001b[1;32m    644\u001b[0m \u001b[0;34m\u001b[0m\u001b[0m\n\u001b[1;32m    645\u001b[0m                 \u001b[0;31m# TODO(extension)\u001b[0m\u001b[0;34m\u001b[0m\u001b[0;34m\u001b[0m\u001b[0;34m\u001b[0m\u001b[0m\n",
      "\u001b[0;32m~/opt/anaconda3/lib/python3.7/site-packages/pandas/core/dtypes/cast.py\u001b[0m in \u001b[0;36mastype_nansafe\u001b[0;34m(arr, dtype, copy, skipna)\u001b[0m\n\u001b[1;32m    698\u001b[0m         \u001b[0;32mif\u001b[0m \u001b[0;32mnot\u001b[0m \u001b[0mnp\u001b[0m\u001b[0;34m.\u001b[0m\u001b[0misfinite\u001b[0m\u001b[0;34m(\u001b[0m\u001b[0marr\u001b[0m\u001b[0;34m)\u001b[0m\u001b[0;34m.\u001b[0m\u001b[0mall\u001b[0m\u001b[0;34m(\u001b[0m\u001b[0;34m)\u001b[0m\u001b[0;34m:\u001b[0m\u001b[0;34m\u001b[0m\u001b[0;34m\u001b[0m\u001b[0m\n\u001b[1;32m    699\u001b[0m             raise ValueError(\n\u001b[0;32m--> 700\u001b[0;31m                 \u001b[0;34m\"Cannot convert non-finite values (NA or inf) to \"\u001b[0m \u001b[0;34m\"integer\"\u001b[0m\u001b[0;34m\u001b[0m\u001b[0;34m\u001b[0m\u001b[0m\n\u001b[0m\u001b[1;32m    701\u001b[0m             )\n\u001b[1;32m    702\u001b[0m \u001b[0;34m\u001b[0m\u001b[0m\n",
      "\u001b[0;31mValueError\u001b[0m: Cannot convert non-finite values (NA or inf) to integer"
     ]
    }
   ],
   "source": [
    "cart['user_id'] = cart['user_id'].astype('int')"
   ]
  },
  {
   "cell_type": "code",
   "execution_count": null,
   "metadata": {},
   "outputs": [],
   "source": [
    "cart['user_id'].dtype"
   ]
  },
  {
   "cell_type": "code",
   "execution_count": null,
   "metadata": {},
   "outputs": [],
   "source": []
  },
  {
   "cell_type": "code",
   "execution_count": 85,
   "metadata": {},
   "outputs": [],
   "source": [
    "# group by a user id, and then find those rows by index in my df to view all cart activity\n",
    "\n"
   ]
  },
  {
   "cell_type": "code",
   "execution_count": 10,
   "metadata": {},
   "outputs": [],
   "source": [
    "# where in the process is the signup? View -> Cart -> Signup -> Purchase\n",
    "# or View -> Cart -> Remove from Cart\n"
   ]
  },
  {
   "cell_type": "code",
   "execution_count": 11,
   "metadata": {
    "scrolled": true
   },
   "outputs": [
    {
     "data": {
      "text/html": [
       "<div>\n",
       "<style scoped>\n",
       "    .dataframe tbody tr th:only-of-type {\n",
       "        vertical-align: middle;\n",
       "    }\n",
       "\n",
       "    .dataframe tbody tr th {\n",
       "        vertical-align: top;\n",
       "    }\n",
       "\n",
       "    .dataframe thead th {\n",
       "        text-align: right;\n",
       "    }\n",
       "</style>\n",
       "<table border=\"1\" class=\"dataframe\">\n",
       "  <thead>\n",
       "    <tr style=\"text-align: right;\">\n",
       "      <th></th>\n",
       "      <th>user_id</th>\n",
       "      <th>username</th>\n",
       "      <th>password</th>\n",
       "      <th>title</th>\n",
       "      <th>name</th>\n",
       "      <th>suffix</th>\n",
       "      <th>sex</th>\n",
       "      <th>address</th>\n",
       "      <th>email</th>\n",
       "      <th>birthdate</th>\n",
       "      <th>credit_card_number</th>\n",
       "      <th>credit_card_expire</th>\n",
       "      <th>credit_card_provider</th>\n",
       "      <th>credit_card_security_code</th>\n",
       "    </tr>\n",
       "  </thead>\n",
       "  <tbody>\n",
       "    <tr>\n",
       "      <td>0</td>\n",
       "      <td>305464808</td>\n",
       "      <td>kirkt90</td>\n",
       "      <td>7QjsS</td>\n",
       "      <td>NaN</td>\n",
       "      <td>Kirk, T.</td>\n",
       "      <td>NaN</td>\n",
       "      <td>F</td>\n",
       "      <td>88146 Brian Burg Suite 871\\nSouth Marcton, NV ...</td>\n",
       "      <td>kirkt@yahoo.com</td>\n",
       "      <td>Nov 16 1959</td>\n",
       "      <td>4448988541220362</td>\n",
       "      <td>01/26</td>\n",
       "      <td>VISA</td>\n",
       "      <td>648</td>\n",
       "    </tr>\n",
       "    <tr>\n",
       "      <td>1</td>\n",
       "      <td>415424718</td>\n",
       "      <td>kristenwest26</td>\n",
       "      <td>f5XfW</td>\n",
       "      <td>NaN</td>\n",
       "      <td>Kristen West</td>\n",
       "      <td>NaN</td>\n",
       "      <td>F</td>\n",
       "      <td>386 Angela Trafficway\\nSouth Sarah, NH 63374</td>\n",
       "      <td>kristenwest@yahoo.com</td>\n",
       "      <td>11/15/06</td>\n",
       "      <td>30078155364052</td>\n",
       "      <td>08/23</td>\n",
       "      <td>VISA</td>\n",
       "      <td>688</td>\n",
       "    </tr>\n",
       "    <tr>\n",
       "      <td>2</td>\n",
       "      <td>491534059</td>\n",
       "      <td>jodihester6</td>\n",
       "      <td>8xwDc</td>\n",
       "      <td>NaN</td>\n",
       "      <td>Jodi Hester</td>\n",
       "      <td>NaN</td>\n",
       "      <td>F</td>\n",
       "      <td>52461 Joel Route Apt. 492\\nWest Candace, IL 45057</td>\n",
       "      <td>jodihester@gmail.com</td>\n",
       "      <td>1936-03-07</td>\n",
       "      <td>3573829156543392</td>\n",
       "      <td>04/21</td>\n",
       "      <td>VISA</td>\n",
       "      <td>46</td>\n",
       "    </tr>\n",
       "    <tr>\n",
       "      <td>3</td>\n",
       "      <td>344018551</td>\n",
       "      <td>rosejudy96</td>\n",
       "      <td>6AjYt</td>\n",
       "      <td>NaN</td>\n",
       "      <td>Rose, Judy</td>\n",
       "      <td>NaN</td>\n",
       "      <td>F</td>\n",
       "      <td>077 Patterson Mountains\\nChristophermouth, HI ...</td>\n",
       "      <td>rosejudy@hotmail.com</td>\n",
       "      <td>09/06/99</td>\n",
       "      <td>5177223986533879</td>\n",
       "      <td>06/26</td>\n",
       "      <td>Mastercard</td>\n",
       "      <td>35</td>\n",
       "    </tr>\n",
       "    <tr>\n",
       "      <td>4</td>\n",
       "      <td>308521287</td>\n",
       "      <td>joshuakochdds21</td>\n",
       "      <td>s8Eld</td>\n",
       "      <td>Mr.</td>\n",
       "      <td>Joshua Koch</td>\n",
       "      <td>DDS</td>\n",
       "      <td>M</td>\n",
       "      <td>7083 Samantha Streets Suite 832\\nAndrewview, C...</td>\n",
       "      <td>joshuakochdds@hotmail.com</td>\n",
       "      <td>Sep 08 1913</td>\n",
       "      <td>3523787527165249</td>\n",
       "      <td>07/28</td>\n",
       "      <td>VISA</td>\n",
       "      <td>668</td>\n",
       "    </tr>\n",
       "  </tbody>\n",
       "</table>\n",
       "</div>"
      ],
      "text/plain": [
       "     user_id         username password title          name suffix sex  \\\n",
       "0  305464808          kirkt90    7QjsS   NaN      Kirk, T.    NaN   F   \n",
       "1  415424718    kristenwest26    f5XfW   NaN  Kristen West    NaN   F   \n",
       "2  491534059      jodihester6    8xwDc   NaN   Jodi Hester    NaN   F   \n",
       "3  344018551       rosejudy96    6AjYt   NaN    Rose, Judy    NaN   F   \n",
       "4  308521287  joshuakochdds21    s8Eld   Mr.   Joshua Koch    DDS   M   \n",
       "\n",
       "                                             address  \\\n",
       "0  88146 Brian Burg Suite 871\\nSouth Marcton, NV ...   \n",
       "1       386 Angela Trafficway\\nSouth Sarah, NH 63374   \n",
       "2  52461 Joel Route Apt. 492\\nWest Candace, IL 45057   \n",
       "3  077 Patterson Mountains\\nChristophermouth, HI ...   \n",
       "4  7083 Samantha Streets Suite 832\\nAndrewview, C...   \n",
       "\n",
       "                       email    birthdate  credit_card_number  \\\n",
       "0            kirkt@yahoo.com  Nov 16 1959    4448988541220362   \n",
       "1      kristenwest@yahoo.com     11/15/06      30078155364052   \n",
       "2       jodihester@gmail.com   1936-03-07    3573829156543392   \n",
       "3       rosejudy@hotmail.com     09/06/99    5177223986533879   \n",
       "4  joshuakochdds@hotmail.com  Sep 08 1913    3523787527165249   \n",
       "\n",
       "  credit_card_expire credit_card_provider  credit_card_security_code  \n",
       "0              01/26                 VISA                        648  \n",
       "1              08/23                 VISA                        688  \n",
       "2              04/21                 VISA                         46  \n",
       "3              06/26           Mastercard                         35  \n",
       "4              07/28                 VISA                        668  "
      ]
     },
     "execution_count": 11,
     "metadata": {},
     "output_type": "execute_result"
    }
   ],
   "source": [
    "users = pd.read_csv('./bookstore/users.csv')\n",
    "\n",
    "users.head()"
   ]
  },
  {
   "cell_type": "code",
   "execution_count": null,
   "metadata": {},
   "outputs": [],
   "source": [
    "users['user_id'] = users['user_id'].astype()"
   ]
  },
  {
   "cell_type": "code",
   "execution_count": 111,
   "metadata": {},
   "outputs": [
    {
     "data": {
      "text/plain": [
       "dtype('int64')"
      ]
     },
     "execution_count": 111,
     "metadata": {},
     "output_type": "execute_result"
    }
   ],
   "source": [
    "users['user_id'].dtype"
   ]
  },
  {
   "cell_type": "code",
   "execution_count": 113,
   "metadata": {},
   "outputs": [
    {
     "ename": "SyntaxError",
     "evalue": "invalid syntax (<ipython-input-113-470a7da0f729>, line 1)",
     "output_type": "error",
     "traceback": [
      "\u001b[0;36m  File \u001b[0;32m\"<ipython-input-113-470a7da0f729>\"\u001b[0;36m, line \u001b[0;32m1\u001b[0m\n\u001b[0;31m    34 === 34.0\u001b[0m\n\u001b[0m         ^\u001b[0m\n\u001b[0;31mSyntaxError\u001b[0m\u001b[0;31m:\u001b[0m invalid syntax\n"
     ]
    }
   ],
   "source": []
  },
  {
   "cell_type": "code",
   "execution_count": null,
   "metadata": {},
   "outputs": [],
   "source": []
  },
  {
   "cell_type": "code",
   "execution_count": 12,
   "metadata": {},
   "outputs": [],
   "source": [
    "users['birthdate_time'] = pd.to_datetime(users['birthdate'], infer_datetime_format=True)"
   ]
  },
  {
   "cell_type": "code",
   "execution_count": 13,
   "metadata": {
    "scrolled": true
   },
   "outputs": [
    {
     "data": {
      "text/plain": [
       "0       1959-11-16\n",
       "1       2006-11-15\n",
       "2       1936-03-07\n",
       "3       1999-09-06\n",
       "4       1913-09-08\n",
       "           ...    \n",
       "49604   1933-05-23\n",
       "49605   1929-10-25\n",
       "49606   1925-10-06\n",
       "49607   1973-02-03\n",
       "49608   2017-05-08\n",
       "Name: birthdate_time, Length: 49609, dtype: datetime64[ns]"
      ]
     },
     "execution_count": 13,
     "metadata": {},
     "output_type": "execute_result"
    }
   ],
   "source": [
    "users['birthdate_time']"
   ]
  },
  {
   "cell_type": "code",
   "execution_count": 14,
   "metadata": {},
   "outputs": [
    {
     "data": {
      "text/plain": [
       "datetime.datetime(2020, 2, 22, 15, 38, 38, 144032)"
      ]
     },
     "execution_count": 14,
     "metadata": {},
     "output_type": "execute_result"
    }
   ],
   "source": [
    "pd.datetime.now()"
   ]
  },
  {
   "cell_type": "code",
   "execution_count": 15,
   "metadata": {
    "scrolled": true
   },
   "outputs": [],
   "source": [
    "users['age'] = (pd.datetime.now() - users['birthdate_time'])"
   ]
  },
  {
   "cell_type": "code",
   "execution_count": 16,
   "metadata": {},
   "outputs": [
    {
     "data": {
      "text/plain": [
       "22265"
      ]
     },
     "execution_count": 16,
     "metadata": {},
     "output_type": "execute_result"
    }
   ],
   "source": [
    "61 * 365"
   ]
  },
  {
   "cell_type": "code",
   "execution_count": 17,
   "metadata": {
    "scrolled": false
   },
   "outputs": [
    {
     "data": {
      "text/plain": [
       "0       22013 days 15:38:38.150491\n",
       "1        4847 days 15:38:38.150491\n",
       "2       30667 days 15:38:38.150491\n",
       "3        7474 days 15:38:38.150491\n",
       "4       38883 days 15:38:38.150491\n",
       "                   ...            \n",
       "49604   31686 days 15:38:38.150491\n",
       "49605   32992 days 15:38:38.150491\n",
       "49606   34472 days 15:38:38.150491\n",
       "49607   17185 days 15:38:38.150491\n",
       "49608    1020 days 15:38:38.150491\n",
       "Name: age, Length: 49609, dtype: timedelta64[ns]"
      ]
     },
     "execution_count": 17,
     "metadata": {},
     "output_type": "execute_result"
    }
   ],
   "source": [
    "users['age']"
   ]
  },
  {
   "cell_type": "code",
   "execution_count": 18,
   "metadata": {},
   "outputs": [
    {
     "data": {
      "text/plain": [
       "0"
      ]
     },
     "execution_count": 18,
     "metadata": {},
     "output_type": "execute_result"
    }
   ],
   "source": [
    "users['age'].isna().sum()"
   ]
  },
  {
   "cell_type": "code",
   "execution_count": 19,
   "metadata": {
    "scrolled": true
   },
   "outputs": [],
   "source": [
    "users['age_years'] = str(users['age']).split()[1]"
   ]
  },
  {
   "cell_type": "code",
   "execution_count": 20,
   "metadata": {},
   "outputs": [],
   "source": [
    "users['age_years'] = (users['age'].apply(lambda x: str(x).split()[0]))"
   ]
  },
  {
   "cell_type": "code",
   "execution_count": 21,
   "metadata": {},
   "outputs": [
    {
     "data": {
      "text/plain": [
       "0        22013\n",
       "1         4847\n",
       "2        30667\n",
       "3         7474\n",
       "4        38883\n",
       "         ...  \n",
       "49604    31686\n",
       "49605    32992\n",
       "49606    34472\n",
       "49607    17185\n",
       "49608     1020\n",
       "Name: age_years, Length: 49609, dtype: object"
      ]
     },
     "execution_count": 21,
     "metadata": {},
     "output_type": "execute_result"
    }
   ],
   "source": [
    "users['age_years']"
   ]
  },
  {
   "cell_type": "code",
   "execution_count": 22,
   "metadata": {
    "scrolled": true
   },
   "outputs": [],
   "source": [
    "users['age_in_years'] = users['age_years'].apply(lambda x: int(x) / 365)"
   ]
  },
  {
   "cell_type": "code",
   "execution_count": 23,
   "metadata": {},
   "outputs": [
    {
     "data": {
      "text/html": [
       "<div>\n",
       "<style scoped>\n",
       "    .dataframe tbody tr th:only-of-type {\n",
       "        vertical-align: middle;\n",
       "    }\n",
       "\n",
       "    .dataframe tbody tr th {\n",
       "        vertical-align: top;\n",
       "    }\n",
       "\n",
       "    .dataframe thead th {\n",
       "        text-align: right;\n",
       "    }\n",
       "</style>\n",
       "<table border=\"1\" class=\"dataframe\">\n",
       "  <thead>\n",
       "    <tr style=\"text-align: right;\">\n",
       "      <th></th>\n",
       "      <th>user_id</th>\n",
       "      <th>username</th>\n",
       "      <th>password</th>\n",
       "      <th>title</th>\n",
       "      <th>name</th>\n",
       "      <th>suffix</th>\n",
       "      <th>sex</th>\n",
       "      <th>address</th>\n",
       "      <th>email</th>\n",
       "      <th>birthdate</th>\n",
       "      <th>credit_card_number</th>\n",
       "      <th>credit_card_expire</th>\n",
       "      <th>credit_card_provider</th>\n",
       "      <th>credit_card_security_code</th>\n",
       "      <th>birthdate_time</th>\n",
       "      <th>age</th>\n",
       "      <th>age_years</th>\n",
       "      <th>age_in_years</th>\n",
       "    </tr>\n",
       "  </thead>\n",
       "  <tbody>\n",
       "    <tr>\n",
       "      <td>8</td>\n",
       "      <td>505974945</td>\n",
       "      <td>lindseygallagher65</td>\n",
       "      <td>G0Fei</td>\n",
       "      <td>NaN</td>\n",
       "      <td>Lindsey Gallagher</td>\n",
       "      <td>NaN</td>\n",
       "      <td>F</td>\n",
       "      <td>009 Brian Course Suite 393\\nPort Jill, VA 75103</td>\n",
       "      <td>lindseygallagher@gmail.com</td>\n",
       "      <td>04/09/48</td>\n",
       "      <td>36739030557368</td>\n",
       "      <td>12/23</td>\n",
       "      <td>Maestro</td>\n",
       "      <td>818</td>\n",
       "      <td>2048-04-09</td>\n",
       "      <td>-10274 days +15:38:38.150491</td>\n",
       "      <td>-10274</td>\n",
       "      <td>-28.147945</td>\n",
       "    </tr>\n",
       "    <tr>\n",
       "      <td>20</td>\n",
       "      <td>545649890</td>\n",
       "      <td>wellssean75</td>\n",
       "      <td>8Q7fk</td>\n",
       "      <td>NaN</td>\n",
       "      <td>Wells, Sean</td>\n",
       "      <td>NaN</td>\n",
       "      <td>M</td>\n",
       "      <td>277 Smith Plains\\nFreemanton, OK 58590</td>\n",
       "      <td>wellssean@gmail.com</td>\n",
       "      <td>01/21/46</td>\n",
       "      <td>180086241776690</td>\n",
       "      <td>04/23</td>\n",
       "      <td>VISA</td>\n",
       "      <td>868</td>\n",
       "      <td>2046-01-21</td>\n",
       "      <td>-9465 days +15:38:38.150491</td>\n",
       "      <td>-9465</td>\n",
       "      <td>-25.931507</td>\n",
       "    </tr>\n",
       "    <tr>\n",
       "      <td>25</td>\n",
       "      <td>442508971</td>\n",
       "      <td>curtisedwards16</td>\n",
       "      <td>A3Ehj</td>\n",
       "      <td>NaN</td>\n",
       "      <td>Curtis, Edwards,</td>\n",
       "      <td>NaN</td>\n",
       "      <td>M</td>\n",
       "      <td>91879 Renee Underpass Apt. 128\\nLake Daniel, R...</td>\n",
       "      <td>curtisedwards@gmail.com</td>\n",
       "      <td>12/06/55</td>\n",
       "      <td>4336099888509</td>\n",
       "      <td>07/27</td>\n",
       "      <td>VISA</td>\n",
       "      <td>354</td>\n",
       "      <td>2055-12-06</td>\n",
       "      <td>-13071 days +15:38:38.150491</td>\n",
       "      <td>-13071</td>\n",
       "      <td>-35.810959</td>\n",
       "    </tr>\n",
       "    <tr>\n",
       "      <td>26</td>\n",
       "      <td>448289480</td>\n",
       "      <td>leed71</td>\n",
       "      <td>7Ftoz</td>\n",
       "      <td>NaN</td>\n",
       "      <td>Lee, D.</td>\n",
       "      <td>NaN</td>\n",
       "      <td>M</td>\n",
       "      <td>151 Lozano Course\\nJoshuabury, LA 82528</td>\n",
       "      <td>leed@gmail.com</td>\n",
       "      <td>07/19/29</td>\n",
       "      <td>180052387834636</td>\n",
       "      <td>02/28</td>\n",
       "      <td>Diners Club / Carte Blanche</td>\n",
       "      <td>579</td>\n",
       "      <td>2029-07-19</td>\n",
       "      <td>-3435 days +15:38:38.150491</td>\n",
       "      <td>-3435</td>\n",
       "      <td>-9.410959</td>\n",
       "    </tr>\n",
       "    <tr>\n",
       "      <td>34</td>\n",
       "      <td>570703192</td>\n",
       "      <td>joshuamcguire14</td>\n",
       "      <td>6EgkV</td>\n",
       "      <td>NaN</td>\n",
       "      <td>Joshua Mcguire</td>\n",
       "      <td>NaN</td>\n",
       "      <td>M</td>\n",
       "      <td>PSC 3016, Box 3890\\nAPO AA 27200</td>\n",
       "      <td>joshuamcguire@gmail.com</td>\n",
       "      <td>05/20/26</td>\n",
       "      <td>4760297038543531765</td>\n",
       "      <td>12/21</td>\n",
       "      <td>Mastercard</td>\n",
       "      <td>487</td>\n",
       "      <td>2026-05-20</td>\n",
       "      <td>-2279 days +15:38:38.150491</td>\n",
       "      <td>-2279</td>\n",
       "      <td>-6.243836</td>\n",
       "    </tr>\n",
       "    <tr>\n",
       "      <td>...</td>\n",
       "      <td>...</td>\n",
       "      <td>...</td>\n",
       "      <td>...</td>\n",
       "      <td>...</td>\n",
       "      <td>...</td>\n",
       "      <td>...</td>\n",
       "      <td>...</td>\n",
       "      <td>...</td>\n",
       "      <td>...</td>\n",
       "      <td>...</td>\n",
       "      <td>...</td>\n",
       "      <td>...</td>\n",
       "      <td>...</td>\n",
       "      <td>...</td>\n",
       "      <td>...</td>\n",
       "      <td>...</td>\n",
       "      <td>...</td>\n",
       "      <td>...</td>\n",
       "    </tr>\n",
       "    <tr>\n",
       "      <td>49562</td>\n",
       "      <td>566894707</td>\n",
       "      <td>wolfea90</td>\n",
       "      <td>5RGoj</td>\n",
       "      <td>NaN</td>\n",
       "      <td>Wolfe, A.</td>\n",
       "      <td>NaN</td>\n",
       "      <td>F</td>\n",
       "      <td>621 Jacqueline Summit\\nNew Melissatown, HI 17711</td>\n",
       "      <td>wolfea@gmail.com</td>\n",
       "      <td>06/22/36</td>\n",
       "      <td>579957854071</td>\n",
       "      <td>11/29</td>\n",
       "      <td>VISA</td>\n",
       "      <td>786</td>\n",
       "      <td>2036-06-22</td>\n",
       "      <td>-5965 days +15:38:38.150491</td>\n",
       "      <td>-5965</td>\n",
       "      <td>-16.342466</td>\n",
       "    </tr>\n",
       "    <tr>\n",
       "      <td>49569</td>\n",
       "      <td>574781721</td>\n",
       "      <td>jaredmeyer91</td>\n",
       "      <td>6mgRx</td>\n",
       "      <td>NaN</td>\n",
       "      <td>Jared Meyer</td>\n",
       "      <td>NaN</td>\n",
       "      <td>M</td>\n",
       "      <td>0179 Graham Track\\nPort Martinstad, NH 19447</td>\n",
       "      <td>jaredmeyer@yahoo.com</td>\n",
       "      <td>09/06/62</td>\n",
       "      <td>3554481384808909</td>\n",
       "      <td>11/25</td>\n",
       "      <td>Diners Club / Carte Blanche</td>\n",
       "      <td>324</td>\n",
       "      <td>2062-09-06</td>\n",
       "      <td>-15537 days +15:38:38.150491</td>\n",
       "      <td>-15537</td>\n",
       "      <td>-42.567123</td>\n",
       "    </tr>\n",
       "    <tr>\n",
       "      <td>49572</td>\n",
       "      <td>577348628</td>\n",
       "      <td>ronaldwaller51</td>\n",
       "      <td>58FEr</td>\n",
       "      <td>NaN</td>\n",
       "      <td>Ronald Waller</td>\n",
       "      <td>NaN</td>\n",
       "      <td>M</td>\n",
       "      <td>7363 Blackburn Mountain Suite 166\\nEast Sarahv...</td>\n",
       "      <td>ronaldwaller@hotmail.com</td>\n",
       "      <td>05/08/24</td>\n",
       "      <td>30212244459041</td>\n",
       "      <td>11/23</td>\n",
       "      <td>VISA</td>\n",
       "      <td>503</td>\n",
       "      <td>2024-05-08</td>\n",
       "      <td>-1537 days +15:38:38.150491</td>\n",
       "      <td>-1537</td>\n",
       "      <td>-4.210959</td>\n",
       "    </tr>\n",
       "    <tr>\n",
       "      <td>49587</td>\n",
       "      <td>437050099</td>\n",
       "      <td>christianmichael83</td>\n",
       "      <td>A6Kcw</td>\n",
       "      <td>NaN</td>\n",
       "      <td>Christian, Michael</td>\n",
       "      <td>NaN</td>\n",
       "      <td>M</td>\n",
       "      <td>366 Martinez Burgs Suite 469\\nNew Philip, VA 2...</td>\n",
       "      <td>christianmichael@hotmail.com</td>\n",
       "      <td>09/19/26</td>\n",
       "      <td>4980357450754263106</td>\n",
       "      <td>07/29</td>\n",
       "      <td>Mastercard</td>\n",
       "      <td>758</td>\n",
       "      <td>2026-09-19</td>\n",
       "      <td>-2401 days +15:38:38.150491</td>\n",
       "      <td>-2401</td>\n",
       "      <td>-6.578082</td>\n",
       "    </tr>\n",
       "    <tr>\n",
       "      <td>49590</td>\n",
       "      <td>439158583</td>\n",
       "      <td>sandram52</td>\n",
       "      <td>h6iZk</td>\n",
       "      <td>NaN</td>\n",
       "      <td>Sandra, M.</td>\n",
       "      <td>NaN</td>\n",
       "      <td>F</td>\n",
       "      <td>1521 Laura Plain\\nMullenborough, NM 90636</td>\n",
       "      <td>sandram@gmail.com</td>\n",
       "      <td>08/12/42</td>\n",
       "      <td>3555312305709109</td>\n",
       "      <td>07/22</td>\n",
       "      <td>Maestro</td>\n",
       "      <td>113</td>\n",
       "      <td>2042-08-12</td>\n",
       "      <td>-8207 days +15:38:38.150491</td>\n",
       "      <td>-8207</td>\n",
       "      <td>-22.484932</td>\n",
       "    </tr>\n",
       "  </tbody>\n",
       "</table>\n",
       "<p>7163 rows × 18 columns</p>\n",
       "</div>"
      ],
      "text/plain": [
       "         user_id            username password title                name  \\\n",
       "8      505974945  lindseygallagher65    G0Fei   NaN   Lindsey Gallagher   \n",
       "20     545649890         wellssean75    8Q7fk   NaN         Wells, Sean   \n",
       "25     442508971     curtisedwards16    A3Ehj   NaN    Curtis, Edwards,   \n",
       "26     448289480              leed71    7Ftoz   NaN             Lee, D.   \n",
       "34     570703192     joshuamcguire14    6EgkV   NaN      Joshua Mcguire   \n",
       "...          ...                 ...      ...   ...                 ...   \n",
       "49562  566894707            wolfea90    5RGoj   NaN           Wolfe, A.   \n",
       "49569  574781721        jaredmeyer91    6mgRx   NaN         Jared Meyer   \n",
       "49572  577348628      ronaldwaller51    58FEr   NaN       Ronald Waller   \n",
       "49587  437050099  christianmichael83    A6Kcw   NaN  Christian, Michael   \n",
       "49590  439158583           sandram52    h6iZk   NaN          Sandra, M.   \n",
       "\n",
       "      suffix sex                                            address  \\\n",
       "8        NaN   F    009 Brian Course Suite 393\\nPort Jill, VA 75103   \n",
       "20       NaN   M             277 Smith Plains\\nFreemanton, OK 58590   \n",
       "25       NaN   M  91879 Renee Underpass Apt. 128\\nLake Daniel, R...   \n",
       "26       NaN   M            151 Lozano Course\\nJoshuabury, LA 82528   \n",
       "34       NaN   M                   PSC 3016, Box 3890\\nAPO AA 27200   \n",
       "...      ...  ..                                                ...   \n",
       "49562    NaN   F   621 Jacqueline Summit\\nNew Melissatown, HI 17711   \n",
       "49569    NaN   M       0179 Graham Track\\nPort Martinstad, NH 19447   \n",
       "49572    NaN   M  7363 Blackburn Mountain Suite 166\\nEast Sarahv...   \n",
       "49587    NaN   M  366 Martinez Burgs Suite 469\\nNew Philip, VA 2...   \n",
       "49590    NaN   F          1521 Laura Plain\\nMullenborough, NM 90636   \n",
       "\n",
       "                              email birthdate   credit_card_number  \\\n",
       "8        lindseygallagher@gmail.com  04/09/48       36739030557368   \n",
       "20              wellssean@gmail.com  01/21/46      180086241776690   \n",
       "25          curtisedwards@gmail.com  12/06/55        4336099888509   \n",
       "26                   leed@gmail.com  07/19/29      180052387834636   \n",
       "34          joshuamcguire@gmail.com  05/20/26  4760297038543531765   \n",
       "...                             ...       ...                  ...   \n",
       "49562              wolfea@gmail.com  06/22/36         579957854071   \n",
       "49569          jaredmeyer@yahoo.com  09/06/62     3554481384808909   \n",
       "49572      ronaldwaller@hotmail.com  05/08/24       30212244459041   \n",
       "49587  christianmichael@hotmail.com  09/19/26  4980357450754263106   \n",
       "49590             sandram@gmail.com  08/12/42     3555312305709109   \n",
       "\n",
       "      credit_card_expire         credit_card_provider  \\\n",
       "8                  12/23                      Maestro   \n",
       "20                 04/23                         VISA   \n",
       "25                 07/27                         VISA   \n",
       "26                 02/28  Diners Club / Carte Blanche   \n",
       "34                 12/21                   Mastercard   \n",
       "...                  ...                          ...   \n",
       "49562              11/29                         VISA   \n",
       "49569              11/25  Diners Club / Carte Blanche   \n",
       "49572              11/23                         VISA   \n",
       "49587              07/29                   Mastercard   \n",
       "49590              07/22                      Maestro   \n",
       "\n",
       "       credit_card_security_code birthdate_time                          age  \\\n",
       "8                            818     2048-04-09 -10274 days +15:38:38.150491   \n",
       "20                           868     2046-01-21  -9465 days +15:38:38.150491   \n",
       "25                           354     2055-12-06 -13071 days +15:38:38.150491   \n",
       "26                           579     2029-07-19  -3435 days +15:38:38.150491   \n",
       "34                           487     2026-05-20  -2279 days +15:38:38.150491   \n",
       "...                          ...            ...                          ...   \n",
       "49562                        786     2036-06-22  -5965 days +15:38:38.150491   \n",
       "49569                        324     2062-09-06 -15537 days +15:38:38.150491   \n",
       "49572                        503     2024-05-08  -1537 days +15:38:38.150491   \n",
       "49587                        758     2026-09-19  -2401 days +15:38:38.150491   \n",
       "49590                        113     2042-08-12  -8207 days +15:38:38.150491   \n",
       "\n",
       "      age_years  age_in_years  \n",
       "8        -10274    -28.147945  \n",
       "20        -9465    -25.931507  \n",
       "25       -13071    -35.810959  \n",
       "26        -3435     -9.410959  \n",
       "34        -2279     -6.243836  \n",
       "...         ...           ...  \n",
       "49562     -5965    -16.342466  \n",
       "49569    -15537    -42.567123  \n",
       "49572     -1537     -4.210959  \n",
       "49587     -2401     -6.578082  \n",
       "49590     -8207    -22.484932  \n",
       "\n",
       "[7163 rows x 18 columns]"
      ]
     },
     "execution_count": 23,
     "metadata": {},
     "output_type": "execute_result"
    }
   ],
   "source": [
    "users[ users['age_in_years'] < 0]"
   ]
  },
  {
   "cell_type": "code",
   "execution_count": 24,
   "metadata": {
    "scrolled": true
   },
   "outputs": [
    {
     "data": {
      "image/png": "[encoded data removed]",
      "text/plain": [
       "<Figure size 432x288 with 1 Axes>"
      ]
     },
     "metadata": {
      "needs_background": "light"
     },
     "output_type": "display_data"
    }
   ],
   "source": [
    "%matplotlib inline\n",
    "age_dist = users['age_in_years'].hist()"
   ]
  },
  {
   "cell_type": "code",
   "execution_count": 25,
   "metadata": {},
   "outputs": [
    {
     "data": {
      "text/plain": [
       "<matplotlib.axes._subplots.AxesSubplot at 0x12139c110>"
      ]
     },
     "execution_count": 25,
     "metadata": {},
     "output_type": "execute_result"
    },
    {
     "data": {
      "image/png": "[encoded data removed]",
      "text/plain": [
       "<Figure size 432x288 with 1 Axes>"
      ]
     },
     "metadata": {
      "needs_background": "light"
     },
     "output_type": "display_data"
    }
   ],
   "source": [
    "users[ users['age_in_years'] > 0]['age_in_years'].hist(bins = 5)"
   ]
  },
  {
   "cell_type": "code",
   "execution_count": 26,
   "metadata": {},
   "outputs": [],
   "source": [
    "# get rid of the future date row users, and provide that age distribution to UX for their presentation. no, just do a numpy where to replace it with null values? "
   ]
  },
  {
   "cell_type": "code",
   "execution_count": 27,
   "metadata": {},
   "outputs": [
    {
     "data": {
      "text/plain": [
       "user_id                                int64\n",
       "username                              object\n",
       "password                              object\n",
       "title                                 object\n",
       "name                                  object\n",
       "suffix                                object\n",
       "sex                                   object\n",
       "address                               object\n",
       "email                                 object\n",
       "birthdate                             object\n",
       "credit_card_number                     int64\n",
       "credit_card_expire                    object\n",
       "credit_card_provider                  object\n",
       "credit_card_security_code              int64\n",
       "birthdate_time                datetime64[ns]\n",
       "age                          timedelta64[ns]\n",
       "age_years                             object\n",
       "age_in_years                         float64\n",
       "dtype: object"
      ]
     },
     "execution_count": 27,
     "metadata": {},
     "output_type": "execute_result"
    }
   ],
   "source": [
    "users.dtypes"
   ]
  },
  {
   "cell_type": "code",
   "execution_count": 28,
   "metadata": {},
   "outputs": [
    {
     "data": {
      "text/plain": [
       "(49609, 18)"
      ]
     },
     "execution_count": 28,
     "metadata": {},
     "output_type": "execute_result"
    }
   ],
   "source": [
    "users.shape"
   ]
  },
  {
   "cell_type": "code",
   "execution_count": 29,
   "metadata": {},
   "outputs": [
    {
     "data": {
      "text/plain": [
       "118636"
      ]
     },
     "execution_count": 29,
     "metadata": {},
     "output_type": "execute_result"
    }
   ],
   "source": [
    "users.shape[0] + len(cart[ cart['user_id'].notnull()])"
   ]
  },
  {
   "cell_type": "code",
   "execution_count": 30,
   "metadata": {},
   "outputs": [
    {
     "data": {
      "text/plain": [
       "69027"
      ]
     },
     "execution_count": 30,
     "metadata": {},
     "output_type": "execute_result"
    }
   ],
   "source": [
    "len(cart[ cart['user_id'].notnull()])"
   ]
  },
  {
   "cell_type": "markdown",
   "metadata": {},
   "source": [
    "###### What types of books are available? "
   ]
  },
  {
   "cell_type": "code",
   "execution_count": 31,
   "metadata": {
    "scrolled": false
   },
   "outputs": [
    {
     "data": {
      "text/plain": [
       "array(['Bibles', 'Study Aids', 'Biography & Autobiography', 'Nature',\n",
       "       'Games & Activities', 'Fiction', 'Young Adult Nonfiction',\n",
       "       'Mathematics', 'Social Science', 'Computers',\n",
       "       'Foreign Language Study', 'Young Adult Fiction', 'Medical',\n",
       "       'Reference', 'Education', 'Juvenile Fiction', 'Law', 'Travel',\n",
       "       'Performing Arts', 'Technology & Engineering', 'Transportation',\n",
       "       'House & Home', 'Humor', 'Science', 'Philosophy ',\n",
       "       'Literary Collections', 'History', 'Antiques & Collectibles',\n",
       "       'Self-Help', 'Cooking', 'Language Arts & Disciplines',\n",
       "       'Political Science', 'Comics & Graphic Novels',\n",
       "       'Family & Relationships', 'Gardening ', 'Drama', 'Design',\n",
       "       'Psychology', 'Body, Mind & Spirit', 'Business & Economics',\n",
       "       'Music', 'Religion', 'Pets', 'Literary Criticism', 'Poetry',\n",
       "       'Architecture', 'Photography', 'Sports & Recreation',\n",
       "       'Crafts & Hobbies', 'Juvenile Nonfiction', 'Health & Fitness',\n",
       "       'True Crime', 'Art'], dtype=object)"
      ]
     },
     "execution_count": 31,
     "metadata": {},
     "output_type": "execute_result"
    }
   ],
   "source": [
    "cart['category'].unique()"
   ]
  },
  {
   "cell_type": "code",
   "execution_count": 32,
   "metadata": {},
   "outputs": [
    {
     "data": {
      "text/plain": [
       "53"
      ]
     },
     "execution_count": 32,
     "metadata": {},
     "output_type": "execute_result"
    }
   ],
   "source": [
    "len(cart['category'].unique()) # there are 53 different categories of books"
   ]
  },
  {
   "cell_type": "code",
   "execution_count": 33,
   "metadata": {},
   "outputs": [
    {
     "data": {
      "text/plain": [
       "Social Science                 2178\n",
       "Science                        2100\n",
       "Literary Collections           2059\n",
       "Language Arts & Disciplines    2043\n",
       "House & Home                   2033\n",
       "Name: category, dtype: int64"
      ]
     },
     "execution_count": 33,
     "metadata": {},
     "output_type": "execute_result"
    }
   ],
   "source": [
    "cart['category'].value_counts()[:5]"
   ]
  },
  {
   "cell_type": "code",
   "execution_count": 34,
   "metadata": {
    "scrolled": true
   },
   "outputs": [
    {
     "data": {
      "text/plain": [
       "<matplotlib.axes._subplots.AxesSubplot at 0x121247f50>"
      ]
     },
     "execution_count": 34,
     "metadata": {},
     "output_type": "execute_result"
    },
    {
     "data": {
      "image/png": "[encoded data removed]",
      "text/plain": [
       "<Figure size 432x288 with 1 Axes>"
      ]
     },
     "metadata": {
      "needs_background": "light"
     },
     "output_type": "display_data"
    }
   ],
   "source": [
    "cart['category'].value_counts(normalize = True)[:5].hist()"
   ]
  },
  {
   "cell_type": "markdown",
   "metadata": {},
   "source": [
    "### Breakdown book types Viewed, Added to Card, Purchased, Removed from Cart"
   ]
  },
  {
   "cell_type": "code",
   "execution_count": 35,
   "metadata": {},
   "outputs": [
    {
     "data": {
      "text/plain": [
       "event_type  category              \n",
       "cart        Social Science            629\n",
       "            Bibles                    607\n",
       "            Science                   594\n",
       "            Humor                     587\n",
       "            Photography               579\n",
       "                                     ... \n",
       "view        Cooking                   771\n",
       "            Nature                    761\n",
       "            Body, Mind & Spirit       758\n",
       "            Young Adult Nonfiction    757\n",
       "            Reference                 756\n",
       "Name: category, Length: 212, dtype: int64"
      ]
     },
     "execution_count": 35,
     "metadata": {},
     "output_type": "execute_result"
    }
   ],
   "source": [
    "# code goes here\n",
    "# thought process: group by event type\n",
    "\n",
    "cart.groupby('event_type')['category'].value_counts()"
   ]
  },
  {
   "cell_type": "markdown",
   "metadata": {},
   "source": []
  },
  {
   "cell_type": "markdown",
   "metadata": {},
   "source": [
    "join the user data and the cart data, before building the model to create the clusters later in the model"
   ]
  },
  {
   "cell_type": "code",
   "execution_count": 87,
   "metadata": {},
   "outputs": [
    {
     "data": {
      "text/plain": [
       "Photography                    157\n",
       "Drama                          154\n",
       "Literary Collections           151\n",
       "Language Arts & Disciplines    150\n",
       "Social Science                 148\n",
       "Name: category, dtype: int64"
      ]
     },
     "execution_count": 87,
     "metadata": {},
     "output_type": "execute_result"
    }
   ],
   "source": [
    "cart[ cart['event_type'] == 'purchase']['category'].value_counts()[:5]"
   ]
  },
  {
   "cell_type": "code",
   "execution_count": 36,
   "metadata": {
    "scrolled": true
   },
   "outputs": [
    {
     "data": {
      "text/plain": [
       "Index(['event_time', 'event_type', 'isbn', 'category', 'price', 'user_id',\n",
       "       'user_agent'],\n",
       "      dtype='object')"
      ]
     },
     "execution_count": 36,
     "metadata": {},
     "output_type": "execute_result"
    }
   ],
   "source": [
    "cart.columns"
   ]
  },
  {
   "cell_type": "code",
   "execution_count": 37,
   "metadata": {},
   "outputs": [
    {
     "data": {
      "text/plain": [
       "Index(['user_id', 'username', 'password', 'title', 'name', 'suffix', 'sex',\n",
       "       'address', 'email', 'birthdate', 'credit_card_number',\n",
       "       'credit_card_expire', 'credit_card_provider',\n",
       "       'credit_card_security_code', 'birthdate_time', 'age', 'age_years',\n",
       "       'age_in_years'],\n",
       "      dtype='object')"
      ]
     },
     "execution_count": 37,
     "metadata": {},
     "output_type": "execute_result"
    }
   ],
   "source": [
    "users.columns"
   ]
  },
  {
   "cell_type": "code",
   "execution_count": 99,
   "metadata": {},
   "outputs": [
    {
     "data": {
      "text/plain": [
       "Social Science                 2178\n",
       "Science                        2100\n",
       "Literary Collections           2059\n",
       "Language Arts & Disciplines    2043\n",
       "House & Home                   2033\n",
       "Name: category, dtype: int64"
      ]
     },
     "execution_count": 99,
     "metadata": {},
     "output_type": "execute_result"
    }
   ],
   "source": [
    "df = cart.join(users, on = 'user_id', lsuffix = '_cart', rsuffix = '_user', how = 'outer')\n",
    "\n",
    "df['category'].value_counts()[:5]\n",
    "\n"
   ]
  },
  {
   "cell_type": "code",
   "execution_count": 105,
   "metadata": {
    "scrolled": true
   },
   "outputs": [
    {
     "data": {
      "text/plain": [
       "Antiques & Collectibles        82\n",
       "Social Science                 79\n",
       "Young Adult Nonfiction         79\n",
       "Science                        79\n",
       "Language Arts & Disciplines    78\n",
       "Name: category, dtype: int64"
      ]
     },
     "execution_count": 105,
     "metadata": {},
     "output_type": "execute_result"
    }
   ],
   "source": [
    "df[ \n",
    "    (df['event_type'] == 'purchase') & (df['price'] >= 3)\n",
    "]['category'].value_counts()[:5]"
   ]
  },
  {
   "cell_type": "code",
   "execution_count": 110,
   "metadata": {},
   "outputs": [
    {
     "data": {
      "text/plain": [
       "Series([], Name: sex, dtype: int64)"
      ]
     },
     "execution_count": 110,
     "metadata": {},
     "output_type": "execute_result"
    }
   ],
   "source": [
    "df[ df['event_type'] == 'cart']['sex'].value_counts()"
   ]
  },
  {
   "cell_type": "code",
   "execution_count": 106,
   "metadata": {},
   "outputs": [
    {
     "data": {
      "text/html": [
       "<div>\n",
       "<style scoped>\n",
       "    .dataframe tbody tr th:only-of-type {\n",
       "        vertical-align: middle;\n",
       "    }\n",
       "\n",
       "    .dataframe tbody tr th {\n",
       "        vertical-align: top;\n",
       "    }\n",
       "\n",
       "    .dataframe thead th {\n",
       "        text-align: right;\n",
       "    }\n",
       "</style>\n",
       "<table border=\"1\" class=\"dataframe\">\n",
       "  <thead>\n",
       "    <tr style=\"text-align: right;\">\n",
       "      <th></th>\n",
       "      <th>sex</th>\n",
       "      <th>event_type</th>\n",
       "    </tr>\n",
       "  </thead>\n",
       "  <tbody>\n",
       "    <tr>\n",
       "      <td>0.0</td>\n",
       "      <td>NaN</td>\n",
       "      <td>remove_from_cart</td>\n",
       "    </tr>\n",
       "    <tr>\n",
       "      <td>47013.0</td>\n",
       "      <td>NaN</td>\n",
       "      <td>remove_from_cart</td>\n",
       "    </tr>\n",
       "    <tr>\n",
       "      <td>1.0</td>\n",
       "      <td>NaN</td>\n",
       "      <td>view</td>\n",
       "    </tr>\n",
       "    <tr>\n",
       "      <td>5.0</td>\n",
       "      <td>NaN</td>\n",
       "      <td>view</td>\n",
       "    </tr>\n",
       "    <tr>\n",
       "      <td>16.0</td>\n",
       "      <td>NaN</td>\n",
       "      <td>cart</td>\n",
       "    </tr>\n",
       "    <tr>\n",
       "      <td>...</td>\n",
       "      <td>...</td>\n",
       "      <td>...</td>\n",
       "    </tr>\n",
       "    <tr>\n",
       "      <td>NaN</td>\n",
       "      <td>F</td>\n",
       "      <td>NaN</td>\n",
       "    </tr>\n",
       "    <tr>\n",
       "      <td>NaN</td>\n",
       "      <td>M</td>\n",
       "      <td>NaN</td>\n",
       "    </tr>\n",
       "    <tr>\n",
       "      <td>NaN</td>\n",
       "      <td>F</td>\n",
       "      <td>NaN</td>\n",
       "    </tr>\n",
       "    <tr>\n",
       "      <td>NaN</td>\n",
       "      <td>M</td>\n",
       "      <td>NaN</td>\n",
       "    </tr>\n",
       "    <tr>\n",
       "      <td>NaN</td>\n",
       "      <td>F</td>\n",
       "      <td>NaN</td>\n",
       "    </tr>\n",
       "  </tbody>\n",
       "</table>\n",
       "<p>149609 rows × 2 columns</p>\n",
       "</div>"
      ],
      "text/plain": [
       "         sex        event_type\n",
       "0.0      NaN  remove_from_cart\n",
       "47013.0  NaN  remove_from_cart\n",
       "1.0      NaN              view\n",
       "5.0      NaN              view\n",
       "16.0     NaN              cart\n",
       "...      ...               ...\n",
       "NaN        F               NaN\n",
       "NaN        M               NaN\n",
       "NaN        F               NaN\n",
       "NaN        M               NaN\n",
       "NaN        F               NaN\n",
       "\n",
       "[149609 rows x 2 columns]"
      ]
     },
     "execution_count": 106,
     "metadata": {},
     "output_type": "execute_result"
    }
   ],
   "source": [
    "df[['sex', 'event_type']]"
   ]
  },
  {
   "cell_type": "code",
   "execution_count": 102,
   "metadata": {
    "scrolled": true
   },
   "outputs": [
    {
     "data": {
      "text/plain": [
       "array([nan, 'F', 'M'], dtype=object)"
      ]
     },
     "execution_count": 102,
     "metadata": {},
     "output_type": "execute_result"
    }
   ],
   "source": [
    "df['sex'].unique()"
   ]
  },
  {
   "cell_type": "code",
   "execution_count": 95,
   "metadata": {
    "scrolled": false
   },
   "outputs": [
    {
     "data": {
      "text/html": [
       "<div>\n",
       "<style scoped>\n",
       "    .dataframe tbody tr th:only-of-type {\n",
       "        vertical-align: middle;\n",
       "    }\n",
       "\n",
       "    .dataframe tbody tr th {\n",
       "        vertical-align: top;\n",
       "    }\n",
       "\n",
       "    .dataframe thead th {\n",
       "        text-align: right;\n",
       "    }\n",
       "</style>\n",
       "<table border=\"1\" class=\"dataframe\">\n",
       "  <thead>\n",
       "    <tr style=\"text-align: right;\">\n",
       "      <th></th>\n",
       "      <th>user_id</th>\n",
       "      <th>event_time</th>\n",
       "      <th>event_type</th>\n",
       "      <th>isbn</th>\n",
       "      <th>category</th>\n",
       "      <th>price</th>\n",
       "      <th>user_id_cart</th>\n",
       "      <th>user_agent</th>\n",
       "      <th>user_id_user</th>\n",
       "      <th>username</th>\n",
       "      <th>...</th>\n",
       "      <th>email</th>\n",
       "      <th>birthdate</th>\n",
       "      <th>credit_card_number</th>\n",
       "      <th>credit_card_expire</th>\n",
       "      <th>credit_card_provider</th>\n",
       "      <th>credit_card_security_code</th>\n",
       "      <th>birthdate_time</th>\n",
       "      <th>age</th>\n",
       "      <th>age_years</th>\n",
       "      <th>age_in_years</th>\n",
       "    </tr>\n",
       "  </thead>\n",
       "  <tbody>\n",
       "    <tr>\n",
       "      <td>0.0</td>\n",
       "      <td>566239468.0</td>\n",
       "      <td>2019-11-01 00:00:51 UTC</td>\n",
       "      <td>remove_from_cart</td>\n",
       "      <td>978-1-68177-962-1</td>\n",
       "      <td>Bibles</td>\n",
       "      <td>5.54</td>\n",
       "      <td>566239468.0</td>\n",
       "      <td>Mozilla/5.0 (Macintosh; Intel Mac OS X 10_7_6 ...</td>\n",
       "      <td>NaN</td>\n",
       "      <td>NaN</td>\n",
       "      <td>...</td>\n",
       "      <td>NaN</td>\n",
       "      <td>NaN</td>\n",
       "      <td>NaN</td>\n",
       "      <td>NaN</td>\n",
       "      <td>NaN</td>\n",
       "      <td>NaN</td>\n",
       "      <td>NaT</td>\n",
       "      <td>NaT</td>\n",
       "      <td>NaN</td>\n",
       "      <td>NaN</td>\n",
       "    </tr>\n",
       "    <tr>\n",
       "      <td>47013.0</td>\n",
       "      <td>566239468.0</td>\n",
       "      <td>2019-11-18 08:43:17 UTC</td>\n",
       "      <td>remove_from_cart</td>\n",
       "      <td>978-1-932766-45-5</td>\n",
       "      <td>Transportation</td>\n",
       "      <td>2.38</td>\n",
       "      <td>566239468.0</td>\n",
       "      <td>Opera/8.93.(X11; Linux x86_64; ta-LK) Presto/2...</td>\n",
       "      <td>NaN</td>\n",
       "      <td>NaN</td>\n",
       "      <td>...</td>\n",
       "      <td>NaN</td>\n",
       "      <td>NaN</td>\n",
       "      <td>NaN</td>\n",
       "      <td>NaN</td>\n",
       "      <td>NaN</td>\n",
       "      <td>NaN</td>\n",
       "      <td>NaT</td>\n",
       "      <td>NaT</td>\n",
       "      <td>NaN</td>\n",
       "      <td>NaN</td>\n",
       "    </tr>\n",
       "    <tr>\n",
       "      <td>1.0</td>\n",
       "      <td>NaN</td>\n",
       "      <td>2019-11-01 00:02:02 UTC</td>\n",
       "      <td>view</td>\n",
       "      <td>978-1-121-11580-4</td>\n",
       "      <td>Study Aids</td>\n",
       "      <td>7.14</td>\n",
       "      <td>NaN</td>\n",
       "      <td>Mozilla/5.0 (compatible; MSIE 5.0; Windows NT ...</td>\n",
       "      <td>NaN</td>\n",
       "      <td>NaN</td>\n",
       "      <td>...</td>\n",
       "      <td>NaN</td>\n",
       "      <td>NaN</td>\n",
       "      <td>NaN</td>\n",
       "      <td>NaN</td>\n",
       "      <td>NaN</td>\n",
       "      <td>NaN</td>\n",
       "      <td>NaT</td>\n",
       "      <td>NaT</td>\n",
       "      <td>NaN</td>\n",
       "      <td>NaN</td>\n",
       "    </tr>\n",
       "    <tr>\n",
       "      <td>5.0</td>\n",
       "      <td>NaN</td>\n",
       "      <td>2019-11-01 00:11:12 UTC</td>\n",
       "      <td>view</td>\n",
       "      <td>978-0-604-08051-6</td>\n",
       "      <td>Fiction</td>\n",
       "      <td>1.43</td>\n",
       "      <td>NaN</td>\n",
       "      <td>Mozilla/5.0 (iPad; CPU iPad OS 10_3_3 like Mac...</td>\n",
       "      <td>NaN</td>\n",
       "      <td>NaN</td>\n",
       "      <td>...</td>\n",
       "      <td>NaN</td>\n",
       "      <td>NaN</td>\n",
       "      <td>NaN</td>\n",
       "      <td>NaN</td>\n",
       "      <td>NaN</td>\n",
       "      <td>NaN</td>\n",
       "      <td>NaT</td>\n",
       "      <td>NaT</td>\n",
       "      <td>NaN</td>\n",
       "      <td>NaN</td>\n",
       "    </tr>\n",
       "    <tr>\n",
       "      <td>16.0</td>\n",
       "      <td>NaN</td>\n",
       "      <td>2019-11-01 00:55:53 UTC</td>\n",
       "      <td>cart</td>\n",
       "      <td>978-0-9542871-6-0</td>\n",
       "      <td>Juvenile Fiction</td>\n",
       "      <td>5.24</td>\n",
       "      <td>NaN</td>\n",
       "      <td>Mozilla/5.0 (Windows; U; Windows NT 6.1) Apple...</td>\n",
       "      <td>NaN</td>\n",
       "      <td>NaN</td>\n",
       "      <td>...</td>\n",
       "      <td>NaN</td>\n",
       "      <td>NaN</td>\n",
       "      <td>NaN</td>\n",
       "      <td>NaN</td>\n",
       "      <td>NaN</td>\n",
       "      <td>NaN</td>\n",
       "      <td>NaT</td>\n",
       "      <td>NaT</td>\n",
       "      <td>NaN</td>\n",
       "      <td>NaN</td>\n",
       "    </tr>\n",
       "  </tbody>\n",
       "</table>\n",
       "<p>5 rows × 26 columns</p>\n",
       "</div>"
      ],
      "text/plain": [
       "             user_id               event_time        event_type  \\\n",
       "0.0      566239468.0  2019-11-01 00:00:51 UTC  remove_from_cart   \n",
       "47013.0  566239468.0  2019-11-18 08:43:17 UTC  remove_from_cart   \n",
       "1.0              NaN  2019-11-01 00:02:02 UTC              view   \n",
       "5.0              NaN  2019-11-01 00:11:12 UTC              view   \n",
       "16.0             NaN  2019-11-01 00:55:53 UTC              cart   \n",
       "\n",
       "                      isbn          category  price  user_id_cart  \\\n",
       "0.0      978-1-68177-962-1            Bibles   5.54   566239468.0   \n",
       "47013.0  978-1-932766-45-5    Transportation   2.38   566239468.0   \n",
       "1.0      978-1-121-11580-4        Study Aids   7.14           NaN   \n",
       "5.0      978-0-604-08051-6           Fiction   1.43           NaN   \n",
       "16.0     978-0-9542871-6-0  Juvenile Fiction   5.24           NaN   \n",
       "\n",
       "                                                user_agent  user_id_user  \\\n",
       "0.0      Mozilla/5.0 (Macintosh; Intel Mac OS X 10_7_6 ...           NaN   \n",
       "47013.0  Opera/8.93.(X11; Linux x86_64; ta-LK) Presto/2...           NaN   \n",
       "1.0      Mozilla/5.0 (compatible; MSIE 5.0; Windows NT ...           NaN   \n",
       "5.0      Mozilla/5.0 (iPad; CPU iPad OS 10_3_3 like Mac...           NaN   \n",
       "16.0     Mozilla/5.0 (Windows; U; Windows NT 6.1) Apple...           NaN   \n",
       "\n",
       "        username  ... email birthdate credit_card_number credit_card_expire  \\\n",
       "0.0          NaN  ...   NaN       NaN                NaN                NaN   \n",
       "47013.0      NaN  ...   NaN       NaN                NaN                NaN   \n",
       "1.0          NaN  ...   NaN       NaN                NaN                NaN   \n",
       "5.0          NaN  ...   NaN       NaN                NaN                NaN   \n",
       "16.0         NaN  ...   NaN       NaN                NaN                NaN   \n",
       "\n",
       "        credit_card_provider credit_card_security_code birthdate_time age  \\\n",
       "0.0                      NaN                       NaN            NaT NaT   \n",
       "47013.0                  NaN                       NaN            NaT NaT   \n",
       "1.0                      NaN                       NaN            NaT NaT   \n",
       "5.0                      NaN                       NaN            NaT NaT   \n",
       "16.0                     NaN                       NaN            NaT NaT   \n",
       "\n",
       "         age_years age_in_years  \n",
       "0.0            NaN          NaN  \n",
       "47013.0        NaN          NaN  \n",
       "1.0            NaN          NaN  \n",
       "5.0            NaN          NaN  \n",
       "16.0           NaN          NaN  \n",
       "\n",
       "[5 rows x 26 columns]"
      ]
     },
     "execution_count": 95,
     "metadata": {},
     "output_type": "execute_result"
    }
   ],
   "source": [
    "df.head()"
   ]
  },
  {
   "cell_type": "code",
   "execution_count": 40,
   "metadata": {},
   "outputs": [
    {
     "data": {
      "text/plain": [
       "array(['Bibles', 'Transportation', 'Study Aids', 'Fiction',\n",
       "       'Juvenile Fiction', 'Travel', 'Technology & Engineering', 'Humor',\n",
       "       'Education', 'Literary Collections', 'Performing Arts',\n",
       "       'Biography & Autobiography', 'Cooking', 'Family & Relationships',\n",
       "       'Young Adult Nonfiction', 'Antiques & Collectibles',\n",
       "       'Language Arts & Disciplines', 'Reference', 'Gardening ',\n",
       "       'Science', 'Medical', 'Drama', 'Political Science', 'Self-Help',\n",
       "       'Social Science', 'Pets', 'Music', 'Comics & Graphic Novels',\n",
       "       'Religion', 'Literary Criticism', 'Mathematics', 'Psychology',\n",
       "       'Sports & Recreation', 'History', 'Crafts & Hobbies',\n",
       "       'Foreign Language Study', 'Young Adult Fiction', 'Photography',\n",
       "       'Philosophy ', 'Health & Fitness', 'Business & Economics',\n",
       "       'Design', 'Computers', 'True Crime', 'Juvenile Nonfiction', 'Art',\n",
       "       'House & Home', 'Poetry', 'Architecture', 'Games & Activities',\n",
       "       'Body, Mind & Spirit', 'Law', 'Nature', nan], dtype=object)"
      ]
     },
     "execution_count": 40,
     "metadata": {},
     "output_type": "execute_result"
    }
   ],
   "source": [
    "df['category'].unique()"
   ]
  },
  {
   "cell_type": "code",
   "execution_count": 41,
   "metadata": {},
   "outputs": [
    {
     "data": {
      "text/plain": [
       "149609"
      ]
     },
     "execution_count": 41,
     "metadata": {},
     "output_type": "execute_result"
    }
   ],
   "source": [
    "len(df)"
   ]
  },
  {
   "cell_type": "code",
   "execution_count": 92,
   "metadata": {},
   "outputs": [],
   "source": [
    "df = df[ \n",
    "    (df['age_in_years'] > 18) & \n",
    "    (df['age_in_years'] < 150)\n",
    "]"
   ]
  },
  {
   "cell_type": "code",
   "execution_count": 93,
   "metadata": {},
   "outputs": [
    {
     "data": {
      "text/plain": [
       "NaN    NaN\n",
       "NaN    NaN\n",
       "NaN    NaN\n",
       "NaN    NaN\n",
       "NaN    NaN\n",
       "      ... \n",
       "NaN    NaN\n",
       "NaN    NaN\n",
       "NaN    NaN\n",
       "NaN    NaN\n",
       "NaN    NaN\n",
       "Name: category, Length: 32283, dtype: object"
      ]
     },
     "execution_count": 93,
     "metadata": {},
     "output_type": "execute_result"
    }
   ],
   "source": [
    "df['category']"
   ]
  },
  {
   "cell_type": "code",
   "execution_count": 43,
   "metadata": {},
   "outputs": [
    {
     "data": {
      "text/plain": [
       "32283"
      ]
     },
     "execution_count": 43,
     "metadata": {},
     "output_type": "execute_result"
    }
   ],
   "source": [
    "len(df)"
   ]
  },
  {
   "cell_type": "code",
   "execution_count": 44,
   "metadata": {
    "scrolled": true
   },
   "outputs": [
    {
     "data": {
      "text/plain": [
       "user_id                          0\n",
       "event_time                   32283\n",
       "event_type                   32283\n",
       "isbn                         32283\n",
       "category                     32283\n",
       "price                        32283\n",
       "user_id_cart                 32283\n",
       "user_agent                   32283\n",
       "user_id_user                     0\n",
       "username                         0\n",
       "password                         0\n",
       "title                        31654\n",
       "name                             0\n",
       "suffix                       31511\n",
       "sex                              0\n",
       "address                          0\n",
       "email                            0\n",
       "birthdate                        0\n",
       "credit_card_number               0\n",
       "credit_card_expire               0\n",
       "credit_card_provider             0\n",
       "credit_card_security_code        0\n",
       "birthdate_time                   0\n",
       "age                              0\n",
       "age_years                        0\n",
       "age_in_years                     0\n",
       "dtype: int64"
      ]
     },
     "execution_count": 44,
     "metadata": {},
     "output_type": "execute_result"
    }
   ],
   "source": [
    "df.isna().sum()"
   ]
  },
  {
   "cell_type": "code",
   "execution_count": 45,
   "metadata": {},
   "outputs": [
    {
     "data": {
      "text/plain": [
       "NaN     60.309589\n",
       "NaN     84.019178\n",
       "NaN     20.476712\n",
       "NaN    106.528767\n",
       "NaN     67.128767\n",
       "          ...    \n",
       "NaN     53.802740\n",
       "NaN     86.810959\n",
       "NaN     90.389041\n",
       "NaN     94.443836\n",
       "NaN     47.082192\n",
       "Name: age_in_years, Length: 32283, dtype: float64"
      ]
     },
     "execution_count": 45,
     "metadata": {},
     "output_type": "execute_result"
    }
   ],
   "source": [
    "df['age_in_years'] # I'll only have Age for a user that completed a signup. "
   ]
  },
  {
   "cell_type": "markdown",
   "metadata": {},
   "source": [
    "Improvement: Customer Segments. only on people who purchased?\n",
    "so take this joined df and look at only event_type purchased? "
   ]
  },
  {
   "cell_type": "code",
   "execution_count": 46,
   "metadata": {},
   "outputs": [],
   "source": [
    "# drop the timedelta columns\n",
    "\n",
    "timedelta_cols = ['birthdate_time', 'age', 'age_years']\n",
    "\n",
    "df.drop(columns = timedelta_cols, axis = 1, inplace = True)"
   ]
  },
  {
   "cell_type": "code",
   "execution_count": 47,
   "metadata": {},
   "outputs": [
    {
     "data": {
      "text/plain": [
       "event_time     object\n",
       "event_type     object\n",
       "isbn           object\n",
       "category       object\n",
       "price         float64\n",
       "user_id       float64\n",
       "user_agent     object\n",
       "dtype: object"
      ]
     },
     "execution_count": 47,
     "metadata": {},
     "output_type": "execute_result"
    }
   ],
   "source": [
    "cart.dtypes"
   ]
  },
  {
   "cell_type": "code",
   "execution_count": 48,
   "metadata": {},
   "outputs": [
    {
     "data": {
      "text/plain": [
       "user_id                                int64\n",
       "username                              object\n",
       "password                              object\n",
       "title                                 object\n",
       "name                                  object\n",
       "suffix                                object\n",
       "sex                                   object\n",
       "address                               object\n",
       "email                                 object\n",
       "birthdate                             object\n",
       "credit_card_number                     int64\n",
       "credit_card_expire                    object\n",
       "credit_card_provider                  object\n",
       "credit_card_security_code              int64\n",
       "birthdate_time                datetime64[ns]\n",
       "age                          timedelta64[ns]\n",
       "age_years                             object\n",
       "age_in_years                         float64\n",
       "dtype: object"
      ]
     },
     "execution_count": 48,
     "metadata": {},
     "output_type": "execute_result"
    }
   ],
   "source": [
    "users.dtypes"
   ]
  },
  {
   "cell_type": "code",
   "execution_count": 49,
   "metadata": {},
   "outputs": [
    {
     "data": {
      "text/plain": [
       "Index(['user_id', 'event_time', 'event_type', 'isbn', 'category', 'price',\n",
       "       'user_id_cart', 'user_agent', 'user_id_user', 'username', 'password',\n",
       "       'title', 'name', 'suffix', 'sex', 'address', 'email', 'birthdate',\n",
       "       'credit_card_number', 'credit_card_expire', 'credit_card_provider',\n",
       "       'credit_card_security_code', 'age_in_years'],\n",
       "      dtype='object')"
      ]
     },
     "execution_count": 49,
     "metadata": {},
     "output_type": "execute_result"
    }
   ],
   "source": [
    "df.columns"
   ]
  },
  {
   "cell_type": "code",
   "execution_count": 50,
   "metadata": {
    "scrolled": false
   },
   "outputs": [
    {
     "data": {
      "text/plain": [
       "user_id                      float64\n",
       "event_time                    object\n",
       "event_type                    object\n",
       "isbn                          object\n",
       "category                      object\n",
       "price                        float64\n",
       "user_id_cart                 float64\n",
       "user_agent                    object\n",
       "user_id_user                 float64\n",
       "username                      object\n",
       "password                      object\n",
       "title                         object\n",
       "name                          object\n",
       "suffix                        object\n",
       "sex                           object\n",
       "address                       object\n",
       "email                         object\n",
       "birthdate                     object\n",
       "credit_card_number           float64\n",
       "credit_card_expire            object\n",
       "credit_card_provider          object\n",
       "credit_card_security_code    float64\n",
       "age_in_years                 float64\n",
       "dtype: object"
      ]
     },
     "execution_count": 50,
     "metadata": {},
     "output_type": "execute_result"
    }
   ],
   "source": [
    "df.dtypes"
   ]
  },
  {
   "cell_type": "code",
   "execution_count": 51,
   "metadata": {},
   "outputs": [
    {
     "data": {
      "text/plain": [
       "18.002739726027396"
      ]
     },
     "execution_count": 51,
     "metadata": {},
     "output_type": "execute_result"
    }
   ],
   "source": [
    "df['age_in_years'].min()"
   ]
  },
  {
   "cell_type": "code",
   "execution_count": 52,
   "metadata": {},
   "outputs": [
    {
     "data": {
      "text/plain": [
       "116.08219178082192"
      ]
     },
     "execution_count": 52,
     "metadata": {},
     "output_type": "execute_result"
    }
   ],
   "source": [
    "df['age_in_years'].max()"
   ]
  },
  {
   "cell_type": "code",
   "execution_count": 88,
   "metadata": {},
   "outputs": [
    {
     "data": {
      "text/plain": [
       "array([nan], dtype=object)"
      ]
     },
     "execution_count": 88,
     "metadata": {},
     "output_type": "execute_result"
    }
   ],
   "source": [
    "df['category'].unique()"
   ]
  },
  {
   "cell_type": "code",
   "execution_count": 54,
   "metadata": {},
   "outputs": [],
   "source": [
    "df2 = df[['user_id', 'event_time', 'event_type', 'isbn', 'category', 'price',\n",
    "       'user_id_cart', 'user_agent', 'user_id_user', 'username', 'password',\n",
    "       'title', 'name', 'suffix', 'sex', 'address', 'email', 'birthdate',\n",
    "       'credit_card_number', 'credit_card_expire', 'credit_card_provider',\n",
    "       'credit_card_security_code', 'age_in_years']]"
   ]
  },
  {
   "cell_type": "code",
   "execution_count": 55,
   "metadata": {},
   "outputs": [
    {
     "data": {
      "text/plain": [
       "18.002739726027396"
      ]
     },
     "execution_count": 55,
     "metadata": {},
     "output_type": "execute_result"
    }
   ],
   "source": [
    "df2['age_in_years'].min()"
   ]
  },
  {
   "cell_type": "code",
   "execution_count": 56,
   "metadata": {},
   "outputs": [
    {
     "data": {
      "text/plain": [
       "116.08219178082192"
      ]
     },
     "execution_count": 56,
     "metadata": {},
     "output_type": "execute_result"
    }
   ],
   "source": [
    "df2['age_in_years'].max()"
   ]
  },
  {
   "cell_type": "code",
   "execution_count": 57,
   "metadata": {},
   "outputs": [
    {
     "data": {
      "text/plain": [
       "dtype('float64')"
      ]
     },
     "execution_count": 57,
     "metadata": {},
     "output_type": "execute_result"
    }
   ],
   "source": [
    "df2['age_in_years'].dtype"
   ]
  },
  {
   "cell_type": "code",
   "execution_count": 58,
   "metadata": {},
   "outputs": [],
   "source": [
    "def factorizeIt(data):\n",
    "  data = data.apply(lambda x: pd.factorize(x)[0])\n",
    "  return data\n"
   ]
  },
  {
   "cell_type": "code",
   "execution_count": 59,
   "metadata": {},
   "outputs": [],
   "source": [
    "purchase_data = factorizeIt(df2)"
   ]
  },
  {
   "cell_type": "code",
   "execution_count": 60,
   "metadata": {},
   "outputs": [
    {
     "data": {
      "text/html": [
       "<div>\n",
       "<style scoped>\n",
       "    .dataframe tbody tr th:only-of-type {\n",
       "        vertical-align: middle;\n",
       "    }\n",
       "\n",
       "    .dataframe tbody tr th {\n",
       "        vertical-align: top;\n",
       "    }\n",
       "\n",
       "    .dataframe thead th {\n",
       "        text-align: right;\n",
       "    }\n",
       "</style>\n",
       "<table border=\"1\" class=\"dataframe\">\n",
       "  <thead>\n",
       "    <tr style=\"text-align: right;\">\n",
       "      <th></th>\n",
       "      <th>user_id</th>\n",
       "      <th>event_time</th>\n",
       "      <th>event_type</th>\n",
       "      <th>isbn</th>\n",
       "      <th>category</th>\n",
       "      <th>price</th>\n",
       "      <th>user_id_cart</th>\n",
       "      <th>user_agent</th>\n",
       "      <th>user_id_user</th>\n",
       "      <th>username</th>\n",
       "      <th>...</th>\n",
       "      <th>suffix</th>\n",
       "      <th>sex</th>\n",
       "      <th>address</th>\n",
       "      <th>email</th>\n",
       "      <th>birthdate</th>\n",
       "      <th>credit_card_number</th>\n",
       "      <th>credit_card_expire</th>\n",
       "      <th>credit_card_provider</th>\n",
       "      <th>credit_card_security_code</th>\n",
       "      <th>age_in_years</th>\n",
       "    </tr>\n",
       "  </thead>\n",
       "  <tbody>\n",
       "    <tr>\n",
       "      <td>NaN</td>\n",
       "      <td>0</td>\n",
       "      <td>-1</td>\n",
       "      <td>-1</td>\n",
       "      <td>-1</td>\n",
       "      <td>-1</td>\n",
       "      <td>-1</td>\n",
       "      <td>-1</td>\n",
       "      <td>-1</td>\n",
       "      <td>0</td>\n",
       "      <td>0</td>\n",
       "      <td>...</td>\n",
       "      <td>-1</td>\n",
       "      <td>0</td>\n",
       "      <td>0</td>\n",
       "      <td>0</td>\n",
       "      <td>0</td>\n",
       "      <td>0</td>\n",
       "      <td>0</td>\n",
       "      <td>0</td>\n",
       "      <td>0</td>\n",
       "      <td>0</td>\n",
       "    </tr>\n",
       "    <tr>\n",
       "      <td>NaN</td>\n",
       "      <td>1</td>\n",
       "      <td>-1</td>\n",
       "      <td>-1</td>\n",
       "      <td>-1</td>\n",
       "      <td>-1</td>\n",
       "      <td>-1</td>\n",
       "      <td>-1</td>\n",
       "      <td>-1</td>\n",
       "      <td>1</td>\n",
       "      <td>1</td>\n",
       "      <td>...</td>\n",
       "      <td>-1</td>\n",
       "      <td>0</td>\n",
       "      <td>1</td>\n",
       "      <td>1</td>\n",
       "      <td>1</td>\n",
       "      <td>1</td>\n",
       "      <td>1</td>\n",
       "      <td>0</td>\n",
       "      <td>1</td>\n",
       "      <td>1</td>\n",
       "    </tr>\n",
       "    <tr>\n",
       "      <td>NaN</td>\n",
       "      <td>2</td>\n",
       "      <td>-1</td>\n",
       "      <td>-1</td>\n",
       "      <td>-1</td>\n",
       "      <td>-1</td>\n",
       "      <td>-1</td>\n",
       "      <td>-1</td>\n",
       "      <td>-1</td>\n",
       "      <td>2</td>\n",
       "      <td>2</td>\n",
       "      <td>...</td>\n",
       "      <td>-1</td>\n",
       "      <td>0</td>\n",
       "      <td>2</td>\n",
       "      <td>2</td>\n",
       "      <td>2</td>\n",
       "      <td>2</td>\n",
       "      <td>2</td>\n",
       "      <td>1</td>\n",
       "      <td>2</td>\n",
       "      <td>2</td>\n",
       "    </tr>\n",
       "    <tr>\n",
       "      <td>NaN</td>\n",
       "      <td>3</td>\n",
       "      <td>-1</td>\n",
       "      <td>-1</td>\n",
       "      <td>-1</td>\n",
       "      <td>-1</td>\n",
       "      <td>-1</td>\n",
       "      <td>-1</td>\n",
       "      <td>-1</td>\n",
       "      <td>3</td>\n",
       "      <td>3</td>\n",
       "      <td>...</td>\n",
       "      <td>0</td>\n",
       "      <td>1</td>\n",
       "      <td>3</td>\n",
       "      <td>3</td>\n",
       "      <td>3</td>\n",
       "      <td>3</td>\n",
       "      <td>3</td>\n",
       "      <td>0</td>\n",
       "      <td>3</td>\n",
       "      <td>3</td>\n",
       "    </tr>\n",
       "    <tr>\n",
       "      <td>NaN</td>\n",
       "      <td>4</td>\n",
       "      <td>-1</td>\n",
       "      <td>-1</td>\n",
       "      <td>-1</td>\n",
       "      <td>-1</td>\n",
       "      <td>-1</td>\n",
       "      <td>-1</td>\n",
       "      <td>-1</td>\n",
       "      <td>4</td>\n",
       "      <td>4</td>\n",
       "      <td>...</td>\n",
       "      <td>1</td>\n",
       "      <td>0</td>\n",
       "      <td>4</td>\n",
       "      <td>4</td>\n",
       "      <td>4</td>\n",
       "      <td>4</td>\n",
       "      <td>4</td>\n",
       "      <td>0</td>\n",
       "      <td>4</td>\n",
       "      <td>4</td>\n",
       "    </tr>\n",
       "  </tbody>\n",
       "</table>\n",
       "<p>5 rows × 23 columns</p>\n",
       "</div>"
      ],
      "text/plain": [
       "     user_id  event_time  event_type  isbn  category  price  user_id_cart  \\\n",
       "NaN        0          -1          -1    -1        -1     -1            -1   \n",
       "NaN        1          -1          -1    -1        -1     -1            -1   \n",
       "NaN        2          -1          -1    -1        -1     -1            -1   \n",
       "NaN        3          -1          -1    -1        -1     -1            -1   \n",
       "NaN        4          -1          -1    -1        -1     -1            -1   \n",
       "\n",
       "     user_agent  user_id_user  username  ...  suffix  sex  address  email  \\\n",
       "NaN          -1             0         0  ...      -1    0        0      0   \n",
       "NaN          -1             1         1  ...      -1    0        1      1   \n",
       "NaN          -1             2         2  ...      -1    0        2      2   \n",
       "NaN          -1             3         3  ...       0    1        3      3   \n",
       "NaN          -1             4         4  ...       1    0        4      4   \n",
       "\n",
       "     birthdate  credit_card_number  credit_card_expire  credit_card_provider  \\\n",
       "NaN          0                   0                   0                     0   \n",
       "NaN          1                   1                   1                     0   \n",
       "NaN          2                   2                   2                     1   \n",
       "NaN          3                   3                   3                     0   \n",
       "NaN          4                   4                   4                     0   \n",
       "\n",
       "     credit_card_security_code  age_in_years  \n",
       "NaN                          0             0  \n",
       "NaN                          1             1  \n",
       "NaN                          2             2  \n",
       "NaN                          3             3  \n",
       "NaN                          4             4  \n",
       "\n",
       "[5 rows x 23 columns]"
      ]
     },
     "execution_count": 60,
     "metadata": {},
     "output_type": "execute_result"
    }
   ],
   "source": [
    "purchase_data.head()"
   ]
  },
  {
   "cell_type": "code",
   "execution_count": 61,
   "metadata": {},
   "outputs": [
    {
     "data": {
      "text/plain": [
       "0"
      ]
     },
     "execution_count": 61,
     "metadata": {},
     "output_type": "execute_result"
    }
   ],
   "source": [
    "purchase_data['age_in_years'].min()"
   ]
  },
  {
   "cell_type": "markdown",
   "metadata": {},
   "source": [
    "### `KElbowVisualizer`"
   ]
  },
  {
   "cell_type": "code",
   "execution_count": 62,
   "metadata": {},
   "outputs": [],
   "source": [
    "from sklearn.cluster import KMeans\n",
    "\n",
    "from yellowbrick.cluster import KElbowVisualizer"
   ]
  },
  {
   "cell_type": "code",
   "execution_count": 63,
   "metadata": {},
   "outputs": [
    {
     "name": "stderr",
     "output_type": "stream",
     "text": [
      "/Users/sampoad/opt/anaconda3/lib/python3.7/site-packages/yellowbrick/utils/kneed.py:140: YellowbrickWarning: No 'knee' or 'elbow point' detected This could be due to bad clustering, no actual clusters being formed etc.\n",
      "  warnings.warn(warning_message, YellowbrickWarning)\n",
      "/Users/sampoad/opt/anaconda3/lib/python3.7/site-packages/yellowbrick/cluster/elbow.py:343: YellowbrickWarning: No 'knee' or 'elbow' point detected, pass `locate_elbow=False` to remove the warning\n",
      "  warnings.warn(warning_message, YellowbrickWarning)\n"
     ]
    },
    {
     "data": {
      "image/png": "[encoded data removed]",
      "text/plain": [
       "<Figure size 576x396 with 2 Axes>"
      ]
     },
     "metadata": {},
     "output_type": "display_data"
    },
    {
     "data": {
      "text/plain": [
       "<matplotlib.axes._subplots.AxesSubplot at 0x134f82e90>"
      ]
     },
     "execution_count": 63,
     "metadata": {},
     "output_type": "execute_result"
    }
   ],
   "source": [
    "from yellowbrick.cluster import KElbowVisualizer\n",
    "\n",
    "model = KMeans()\n",
    "visualizer = KElbowVisualizer(model, k=(2, 5))\n",
    "visualizer.fit(purchase_data)\n",
    "visualizer.poof()"
   ]
  },
  {
   "cell_type": "code",
   "execution_count": 64,
   "metadata": {},
   "outputs": [
    {
     "data": {
      "text/plain": [
       "KMeans(algorithm='auto', copy_x=True, init='k-means++', max_iter=300,\n",
       "       n_clusters=3, n_init=10, n_jobs=None, precompute_distances='auto',\n",
       "       random_state=None, tol=0.0001, verbose=0)"
      ]
     },
     "execution_count": 64,
     "metadata": {},
     "output_type": "execute_result"
    }
   ],
   "source": [
    "kmeans = KMeans(n_clusters = 3)\n",
    "kmeans.fit(purchase_data)\n"
   ]
  },
  {
   "cell_type": "code",
   "execution_count": 65,
   "metadata": {},
   "outputs": [
    {
     "data": {
      "text/plain": [
       "array([1, 1, 1, ..., 2, 2, 2], dtype=int32)"
      ]
     },
     "execution_count": 65,
     "metadata": {},
     "output_type": "execute_result"
    }
   ],
   "source": [
    "kmeans.labels_"
   ]
  },
  {
   "cell_type": "code",
   "execution_count": 66,
   "metadata": {},
   "outputs": [],
   "source": [
    "df2['cluster'] = kmeans.labels_"
   ]
  },
  {
   "cell_type": "code",
   "execution_count": 67,
   "metadata": {},
   "outputs": [
    {
     "data": {
      "text/html": [
       "<div>\n",
       "<style scoped>\n",
       "    .dataframe tbody tr th:only-of-type {\n",
       "        vertical-align: middle;\n",
       "    }\n",
       "\n",
       "    .dataframe tbody tr th {\n",
       "        vertical-align: top;\n",
       "    }\n",
       "\n",
       "    .dataframe thead th {\n",
       "        text-align: right;\n",
       "    }\n",
       "</style>\n",
       "<table border=\"1\" class=\"dataframe\">\n",
       "  <thead>\n",
       "    <tr style=\"text-align: right;\">\n",
       "      <th></th>\n",
       "      <th>user_id</th>\n",
       "      <th>event_time</th>\n",
       "      <th>event_type</th>\n",
       "      <th>isbn</th>\n",
       "      <th>category</th>\n",
       "      <th>price</th>\n",
       "      <th>user_id_cart</th>\n",
       "      <th>user_agent</th>\n",
       "      <th>user_id_user</th>\n",
       "      <th>username</th>\n",
       "      <th>...</th>\n",
       "      <th>sex</th>\n",
       "      <th>address</th>\n",
       "      <th>email</th>\n",
       "      <th>birthdate</th>\n",
       "      <th>credit_card_number</th>\n",
       "      <th>credit_card_expire</th>\n",
       "      <th>credit_card_provider</th>\n",
       "      <th>credit_card_security_code</th>\n",
       "      <th>age_in_years</th>\n",
       "      <th>cluster</th>\n",
       "    </tr>\n",
       "  </thead>\n",
       "  <tbody>\n",
       "    <tr>\n",
       "      <td>NaN</td>\n",
       "      <td>0.0</td>\n",
       "      <td>NaN</td>\n",
       "      <td>NaN</td>\n",
       "      <td>NaN</td>\n",
       "      <td>NaN</td>\n",
       "      <td>NaN</td>\n",
       "      <td>NaN</td>\n",
       "      <td>NaN</td>\n",
       "      <td>305464808.0</td>\n",
       "      <td>kirkt90</td>\n",
       "      <td>...</td>\n",
       "      <td>F</td>\n",
       "      <td>88146 Brian Burg Suite 871\\nSouth Marcton, NV ...</td>\n",
       "      <td>kirkt@yahoo.com</td>\n",
       "      <td>Nov 16 1959</td>\n",
       "      <td>4.448989e+15</td>\n",
       "      <td>01/26</td>\n",
       "      <td>VISA</td>\n",
       "      <td>648.0</td>\n",
       "      <td>60.309589</td>\n",
       "      <td>1</td>\n",
       "    </tr>\n",
       "    <tr>\n",
       "      <td>NaN</td>\n",
       "      <td>2.0</td>\n",
       "      <td>NaN</td>\n",
       "      <td>NaN</td>\n",
       "      <td>NaN</td>\n",
       "      <td>NaN</td>\n",
       "      <td>NaN</td>\n",
       "      <td>NaN</td>\n",
       "      <td>NaN</td>\n",
       "      <td>491534059.0</td>\n",
       "      <td>jodihester6</td>\n",
       "      <td>...</td>\n",
       "      <td>F</td>\n",
       "      <td>52461 Joel Route Apt. 492\\nWest Candace, IL 45057</td>\n",
       "      <td>jodihester@gmail.com</td>\n",
       "      <td>1936-03-07</td>\n",
       "      <td>3.573829e+15</td>\n",
       "      <td>04/21</td>\n",
       "      <td>VISA</td>\n",
       "      <td>46.0</td>\n",
       "      <td>84.019178</td>\n",
       "      <td>1</td>\n",
       "    </tr>\n",
       "    <tr>\n",
       "      <td>NaN</td>\n",
       "      <td>3.0</td>\n",
       "      <td>NaN</td>\n",
       "      <td>NaN</td>\n",
       "      <td>NaN</td>\n",
       "      <td>NaN</td>\n",
       "      <td>NaN</td>\n",
       "      <td>NaN</td>\n",
       "      <td>NaN</td>\n",
       "      <td>344018551.0</td>\n",
       "      <td>rosejudy96</td>\n",
       "      <td>...</td>\n",
       "      <td>F</td>\n",
       "      <td>077 Patterson Mountains\\nChristophermouth, HI ...</td>\n",
       "      <td>rosejudy@hotmail.com</td>\n",
       "      <td>09/06/99</td>\n",
       "      <td>5.177224e+15</td>\n",
       "      <td>06/26</td>\n",
       "      <td>Mastercard</td>\n",
       "      <td>35.0</td>\n",
       "      <td>20.476712</td>\n",
       "      <td>1</td>\n",
       "    </tr>\n",
       "    <tr>\n",
       "      <td>NaN</td>\n",
       "      <td>4.0</td>\n",
       "      <td>NaN</td>\n",
       "      <td>NaN</td>\n",
       "      <td>NaN</td>\n",
       "      <td>NaN</td>\n",
       "      <td>NaN</td>\n",
       "      <td>NaN</td>\n",
       "      <td>NaN</td>\n",
       "      <td>308521287.0</td>\n",
       "      <td>joshuakochdds21</td>\n",
       "      <td>...</td>\n",
       "      <td>M</td>\n",
       "      <td>7083 Samantha Streets Suite 832\\nAndrewview, C...</td>\n",
       "      <td>joshuakochdds@hotmail.com</td>\n",
       "      <td>Sep 08 1913</td>\n",
       "      <td>3.523788e+15</td>\n",
       "      <td>07/28</td>\n",
       "      <td>VISA</td>\n",
       "      <td>668.0</td>\n",
       "      <td>106.528767</td>\n",
       "      <td>1</td>\n",
       "    </tr>\n",
       "    <tr>\n",
       "      <td>NaN</td>\n",
       "      <td>6.0</td>\n",
       "      <td>NaN</td>\n",
       "      <td>NaN</td>\n",
       "      <td>NaN</td>\n",
       "      <td>NaN</td>\n",
       "      <td>NaN</td>\n",
       "      <td>NaN</td>\n",
       "      <td>NaN</td>\n",
       "      <td>452820640.0</td>\n",
       "      <td>lydiaconleydvm53</td>\n",
       "      <td>...</td>\n",
       "      <td>F</td>\n",
       "      <td>940 Ochoa Mission Apt. 380\\nNew Emily, MT 39205</td>\n",
       "      <td>lydiaconleydvm@hotmail.com</td>\n",
       "      <td>1953-01-22</td>\n",
       "      <td>4.410442e+12</td>\n",
       "      <td>09/24</td>\n",
       "      <td>VISA</td>\n",
       "      <td>66.0</td>\n",
       "      <td>67.128767</td>\n",
       "      <td>1</td>\n",
       "    </tr>\n",
       "  </tbody>\n",
       "</table>\n",
       "<p>5 rows × 24 columns</p>\n",
       "</div>"
      ],
      "text/plain": [
       "     user_id event_time event_type isbn category  price  user_id_cart  \\\n",
       "NaN      0.0        NaN        NaN  NaN      NaN    NaN           NaN   \n",
       "NaN      2.0        NaN        NaN  NaN      NaN    NaN           NaN   \n",
       "NaN      3.0        NaN        NaN  NaN      NaN    NaN           NaN   \n",
       "NaN      4.0        NaN        NaN  NaN      NaN    NaN           NaN   \n",
       "NaN      6.0        NaN        NaN  NaN      NaN    NaN           NaN   \n",
       "\n",
       "    user_agent  user_id_user          username  ... sex  \\\n",
       "NaN        NaN   305464808.0           kirkt90  ...   F   \n",
       "NaN        NaN   491534059.0       jodihester6  ...   F   \n",
       "NaN        NaN   344018551.0        rosejudy96  ...   F   \n",
       "NaN        NaN   308521287.0   joshuakochdds21  ...   M   \n",
       "NaN        NaN   452820640.0  lydiaconleydvm53  ...   F   \n",
       "\n",
       "                                               address  \\\n",
       "NaN  88146 Brian Burg Suite 871\\nSouth Marcton, NV ...   \n",
       "NaN  52461 Joel Route Apt. 492\\nWest Candace, IL 45057   \n",
       "NaN  077 Patterson Mountains\\nChristophermouth, HI ...   \n",
       "NaN  7083 Samantha Streets Suite 832\\nAndrewview, C...   \n",
       "NaN    940 Ochoa Mission Apt. 380\\nNew Emily, MT 39205   \n",
       "\n",
       "                          email    birthdate credit_card_number  \\\n",
       "NaN             kirkt@yahoo.com  Nov 16 1959       4.448989e+15   \n",
       "NaN        jodihester@gmail.com   1936-03-07       3.573829e+15   \n",
       "NaN        rosejudy@hotmail.com     09/06/99       5.177224e+15   \n",
       "NaN   joshuakochdds@hotmail.com  Sep 08 1913       3.523788e+15   \n",
       "NaN  lydiaconleydvm@hotmail.com   1953-01-22       4.410442e+12   \n",
       "\n",
       "    credit_card_expire credit_card_provider credit_card_security_code  \\\n",
       "NaN              01/26                 VISA                     648.0   \n",
       "NaN              04/21                 VISA                      46.0   \n",
       "NaN              06/26           Mastercard                      35.0   \n",
       "NaN              07/28                 VISA                     668.0   \n",
       "NaN              09/24                 VISA                      66.0   \n",
       "\n",
       "     age_in_years cluster  \n",
       "NaN     60.309589       1  \n",
       "NaN     84.019178       1  \n",
       "NaN     20.476712       1  \n",
       "NaN    106.528767       1  \n",
       "NaN     67.128767       1  \n",
       "\n",
       "[5 rows x 24 columns]"
      ]
     },
     "execution_count": 67,
     "metadata": {},
     "output_type": "execute_result"
    }
   ],
   "source": [
    "df2.head()"
   ]
  },
  {
   "cell_type": "markdown",
   "metadata": {},
   "source": [
    "### So who is our customer? Grabbed segment one"
   ]
  },
  {
   "cell_type": "code",
   "execution_count": 68,
   "metadata": {},
   "outputs": [],
   "source": [
    "our_cust = df2[ df2['cluster'] == 1]"
   ]
  },
  {
   "cell_type": "code",
   "execution_count": 69,
   "metadata": {},
   "outputs": [
    {
     "data": {
      "text/plain": [
       "10467"
      ]
     },
     "execution_count": 69,
     "metadata": {},
     "output_type": "execute_result"
    }
   ],
   "source": [
    "len(our_cust)"
   ]
  },
  {
   "cell_type": "code",
   "execution_count": 70,
   "metadata": {},
   "outputs": [
    {
     "data": {
      "text/plain": [
       "32283"
      ]
     },
     "execution_count": 70,
     "metadata": {},
     "output_type": "execute_result"
    }
   ],
   "source": [
    "len(purchase_data)"
   ]
  },
  {
   "cell_type": "code",
   "execution_count": 71,
   "metadata": {
    "scrolled": true
   },
   "outputs": [
    {
     "data": {
      "text/plain": [
       "<bound method DataFrame.info of      user_id event_time event_type isbn category  price  user_id_cart  \\\n",
       "NaN      0.0        NaN        NaN  NaN      NaN    NaN           NaN   \n",
       "NaN      2.0        NaN        NaN  NaN      NaN    NaN           NaN   \n",
       "NaN      3.0        NaN        NaN  NaN      NaN    NaN           NaN   \n",
       "NaN      4.0        NaN        NaN  NaN      NaN    NaN           NaN   \n",
       "NaN      6.0        NaN        NaN  NaN      NaN    NaN           NaN   \n",
       "..       ...        ...        ...  ...      ...    ...           ...   \n",
       "NaN  18907.0        NaN        NaN  NaN      NaN    NaN           NaN   \n",
       "NaN  18975.0        NaN        NaN  NaN      NaN    NaN           NaN   \n",
       "NaN  20470.0        NaN        NaN  NaN      NaN    NaN           NaN   \n",
       "NaN  20490.0        NaN        NaN  NaN      NaN    NaN           NaN   \n",
       "NaN  21924.0        NaN        NaN  NaN      NaN    NaN           NaN   \n",
       "\n",
       "    user_agent  user_id_user           username  ... sex  \\\n",
       "NaN        NaN   305464808.0            kirkt90  ...   F   \n",
       "NaN        NaN   491534059.0        jodihester6  ...   F   \n",
       "NaN        NaN   344018551.0         rosejudy96  ...   F   \n",
       "NaN        NaN   308521287.0    joshuakochdds21  ...   M   \n",
       "NaN        NaN   452820640.0   lydiaconleydvm53  ...   F   \n",
       "..         ...           ...                ...  ...  ..   \n",
       "NaN        NaN   559953844.0  robertunderwood69  ...   M   \n",
       "NaN        NaN   501502106.0               jm88  ...   M   \n",
       "NaN        NaN   566365105.0    johnsonandrew72  ...   M   \n",
       "NaN        NaN   394210622.0          wilsons66  ...   F   \n",
       "NaN        NaN   521296123.0        hernandezk9  ...   M   \n",
       "\n",
       "                                               address  \\\n",
       "NaN  88146 Brian Burg Suite 871\\nSouth Marcton, NV ...   \n",
       "NaN  52461 Joel Route Apt. 492\\nWest Candace, IL 45057   \n",
       "NaN  077 Patterson Mountains\\nChristophermouth, HI ...   \n",
       "NaN  7083 Samantha Streets Suite 832\\nAndrewview, C...   \n",
       "NaN    940 Ochoa Mission Apt. 380\\nNew Emily, MT 39205   \n",
       "..                                                 ...   \n",
       "NaN              74265 Allen Manors\\nNew Ann, MA 65893   \n",
       "NaN  8485 Robertson Circles Suite 685\\nNew Rachel, ...   \n",
       "NaN        70755 Kevin Fields\\nMitchellmouth, SD 53612   \n",
       "NaN    055 Jackson Green Suite 414\\nLambberg, ID 92216   \n",
       "NaN        57198 Benson Overpass\\nGarciastad, WV 73014   \n",
       "\n",
       "                          email    birthdate credit_card_number  \\\n",
       "NaN             kirkt@yahoo.com  Nov 16 1959       4.448989e+15   \n",
       "NaN        jodihester@gmail.com   1936-03-07       3.573829e+15   \n",
       "NaN        rosejudy@hotmail.com     09/06/99       5.177224e+15   \n",
       "NaN   joshuakochdds@hotmail.com  Sep 08 1913       3.523788e+15   \n",
       "NaN  lydiaconleydvm@hotmail.com   1953-01-22       4.410442e+12   \n",
       "..                          ...          ...                ...   \n",
       "NaN   robertunderwood@yahoo.com   1935-05-27       4.551426e+15   \n",
       "NaN                jm@gmail.com   1939-03-30       1.800007e+14   \n",
       "NaN     johnsonandrew@gmail.com  Dec 06 1923       4.223865e+15   \n",
       "NaN           wilsons@yahoo.com  Jun 01 1918       3.049933e+13   \n",
       "NaN        hernandezk@gmail.com     01/18/80       2.702716e+15   \n",
       "\n",
       "    credit_card_expire         credit_card_provider credit_card_security_code  \\\n",
       "NaN              01/26                         VISA                     648.0   \n",
       "NaN              04/21                         VISA                      46.0   \n",
       "NaN              06/26                   Mastercard                      35.0   \n",
       "NaN              07/28                         VISA                     668.0   \n",
       "NaN              09/24                         VISA                      66.0   \n",
       "..                 ...                          ...                       ...   \n",
       "NaN              03/21             American Express                     504.0   \n",
       "NaN              03/27  Diners Club / Carte Blanche                     345.0   \n",
       "NaN              04/25                      Maestro                     400.0   \n",
       "NaN              09/27                         VISA                       3.0   \n",
       "NaN              07/25                         VISA                    9999.0   \n",
       "\n",
       "     age_in_years cluster  \n",
       "NaN     60.309589       1  \n",
       "NaN     84.019178       1  \n",
       "NaN     20.476712       1  \n",
       "NaN    106.528767       1  \n",
       "NaN     67.128767       1  \n",
       "..            ...     ...  \n",
       "NaN     84.800000       1  \n",
       "NaN     80.956164       1  \n",
       "NaN     96.279452       1  \n",
       "NaN    101.797260       1  \n",
       "NaN     40.123288       1  \n",
       "\n",
       "[10467 rows x 24 columns]>"
      ]
     },
     "execution_count": 71,
     "metadata": {},
     "output_type": "execute_result"
    }
   ],
   "source": [
    "our_cust.info"
   ]
  },
  {
   "cell_type": "code",
   "execution_count": 72,
   "metadata": {},
   "outputs": [
    {
     "data": {
      "text/plain": [
       "Index(['user_id', 'event_time', 'event_type', 'isbn', 'category', 'price',\n",
       "       'user_id_cart', 'user_agent', 'user_id_user', 'username', 'password',\n",
       "       'title', 'name', 'suffix', 'sex', 'address', 'email', 'birthdate',\n",
       "       'credit_card_number', 'credit_card_expire', 'credit_card_provider',\n",
       "       'credit_card_security_code', 'age_in_years', 'cluster'],\n",
       "      dtype='object')"
      ]
     },
     "execution_count": 72,
     "metadata": {},
     "output_type": "execute_result"
    }
   ],
   "source": [
    "our_cust.columns"
   ]
  },
  {
   "cell_type": "code",
   "execution_count": 73,
   "metadata": {},
   "outputs": [
    {
     "data": {
      "text/plain": [
       "62.34355096447917"
      ]
     },
     "execution_count": 73,
     "metadata": {},
     "output_type": "execute_result"
    }
   ],
   "source": [
    "our_cust['age_in_years'].mean()"
   ]
  },
  {
   "cell_type": "code",
   "execution_count": 74,
   "metadata": {},
   "outputs": [
    {
     "data": {
      "text/plain": [
       "M    0.507022\n",
       "F    0.492978\n",
       "Name: sex, dtype: float64"
      ]
     },
     "execution_count": 74,
     "metadata": {},
     "output_type": "execute_result"
    }
   ],
   "source": [
    "our_cust['sex'].value_counts(normalize = True)"
   ]
  },
  {
   "cell_type": "code",
   "execution_count": 75,
   "metadata": {},
   "outputs": [
    {
     "data": {
      "text/plain": [
       "VISA                           0.456387\n",
       "Mastercard                     0.212955\n",
       "Maestro                        0.087991\n",
       "American Express               0.083978\n",
       "Diners Club / Carte Blanche    0.081590\n",
       "Discover                       0.077099\n",
       "Name: credit_card_provider, dtype: float64"
      ]
     },
     "execution_count": 75,
     "metadata": {},
     "output_type": "execute_result"
    }
   ],
   "source": [
    "our_cust['credit_card_provider'].value_counts(normalize = True)"
   ]
  },
  {
   "cell_type": "markdown",
   "metadata": {},
   "source": [
    "So our customer segment number one is 50% split on gender, 45% are VISA cardholders, and on average, 62 years old. how does a user persona work, should I narrow that down by gender to give updated totals? "
   ]
  },
  {
   "cell_type": "markdown",
   "metadata": {},
   "source": [
    "percentage of user ids who had added items to a cart that did NOT complete signup."
   ]
  },
  {
   "cell_type": "code",
   "execution_count": 76,
   "metadata": {},
   "outputs": [],
   "source": [
    "user_persona = our_cust[ our_cust['sex'] == 'F']"
   ]
  },
  {
   "cell_type": "code",
   "execution_count": 77,
   "metadata": {},
   "outputs": [
    {
     "data": {
      "text/plain": [
       "62.34103695444419"
      ]
     },
     "execution_count": 77,
     "metadata": {},
     "output_type": "execute_result"
    }
   ],
   "source": [
    "user_persona['age_in_years'].mean()"
   ]
  },
  {
   "cell_type": "code",
   "execution_count": 78,
   "metadata": {},
   "outputs": [
    {
     "data": {
      "text/plain": [
       "VISA                           0.456202\n",
       "Mastercard                     0.215310\n",
       "Maestro                        0.091473\n",
       "American Express               0.081395\n",
       "Diners Club / Carte Blanche    0.078488\n",
       "Discover                       0.077132\n",
       "Name: credit_card_provider, dtype: float64"
      ]
     },
     "execution_count": 78,
     "metadata": {},
     "output_type": "execute_result"
    }
   ],
   "source": [
    "user_persona['credit_card_provider'].value_counts(normalize = True)"
   ]
  },
  {
   "cell_type": "code",
   "execution_count": 79,
   "metadata": {},
   "outputs": [
    {
     "data": {
      "text/plain": [
       "user_id                      float64\n",
       "event_time                    object\n",
       "event_type                    object\n",
       "isbn                          object\n",
       "category                      object\n",
       "price                        float64\n",
       "user_id_cart                 float64\n",
       "user_agent                    object\n",
       "user_id_user                 float64\n",
       "username                      object\n",
       "password                      object\n",
       "title                         object\n",
       "name                          object\n",
       "suffix                        object\n",
       "sex                           object\n",
       "address                       object\n",
       "email                         object\n",
       "birthdate                     object\n",
       "credit_card_number           float64\n",
       "credit_card_expire            object\n",
       "credit_card_provider          object\n",
       "credit_card_security_code    float64\n",
       "age_in_years                 float64\n",
       "cluster                        int32\n",
       "dtype: object"
      ]
     },
     "execution_count": 79,
     "metadata": {},
     "output_type": "execute_result"
    }
   ],
   "source": [
    "user_persona.dtypes"
   ]
  },
  {
   "cell_type": "code",
   "execution_count": 80,
   "metadata": {},
   "outputs": [
    {
     "data": {
      "text/plain": [
       "Series([], Name: category, dtype: float64)"
      ]
     },
     "execution_count": 80,
     "metadata": {},
     "output_type": "execute_result"
    }
   ],
   "source": [
    "user_persona['category'].value_counts(normalize = True)"
   ]
  },
  {
   "cell_type": "code",
   "execution_count": 81,
   "metadata": {},
   "outputs": [
    {
     "data": {
      "text/plain": [
       "NaN    NaN\n",
       "NaN    NaN\n",
       "NaN    NaN\n",
       "NaN    NaN\n",
       "NaN    NaN\n",
       "      ... \n",
       "NaN    NaN\n",
       "NaN    NaN\n",
       "NaN    NaN\n",
       "NaN    NaN\n",
       "NaN    NaN\n",
       "Name: category, Length: 5160, dtype: object"
      ]
     },
     "execution_count": 81,
     "metadata": {},
     "output_type": "execute_result"
    }
   ],
   "source": [
    "user_persona.category"
   ]
  },
  {
   "cell_type": "code",
   "execution_count": 82,
   "metadata": {},
   "outputs": [
    {
     "data": {
      "text/plain": [
       "NaN    NaN\n",
       "NaN    NaN\n",
       "NaN    NaN\n",
       "NaN    NaN\n",
       "NaN    NaN\n",
       "      ... \n",
       "NaN    NaN\n",
       "NaN    NaN\n",
       "NaN    NaN\n",
       "NaN    NaN\n",
       "NaN    NaN\n",
       "Name: category, Length: 10467, dtype: object"
      ]
     },
     "execution_count": 82,
     "metadata": {},
     "output_type": "execute_result"
    }
   ],
   "source": [
    "our_cust['category']"
   ]
  },
  {
   "cell_type": "code",
   "execution_count": 83,
   "metadata": {},
   "outputs": [
    {
     "data": {
      "text/plain": [
       "NaN    NaN\n",
       "NaN    NaN\n",
       "NaN    NaN\n",
       "NaN    NaN\n",
       "NaN    NaN\n",
       "      ... \n",
       "NaN    NaN\n",
       "NaN    NaN\n",
       "NaN    NaN\n",
       "NaN    NaN\n",
       "NaN    NaN\n",
       "Name: category, Length: 32283, dtype: object"
      ]
     },
     "execution_count": 83,
     "metadata": {},
     "output_type": "execute_result"
    }
   ],
   "source": [
    "df2['category']"
   ]
  },
  {
   "cell_type": "code",
   "execution_count": 135,
   "metadata": {},
   "outputs": [],
   "source": [
    "users.dropna(subset = ['user_id'], inplace = True)"
   ]
  },
  {
   "cell_type": "code",
   "execution_count": 134,
   "metadata": {},
   "outputs": [],
   "source": [
    "cart.dropna(subset = ['user_id'], inplace = True)"
   ]
  },
  {
   "cell_type": "code",
   "execution_count": 149,
   "metadata": {},
   "outputs": [],
   "source": [
    "final = cart.join(users, on = 'user_id', lsuffix = '_cart', rsuffix = '_user', how = 'outer')"
   ]
  },
  {
   "cell_type": "code",
   "execution_count": 150,
   "metadata": {},
   "outputs": [
    {
     "data": {
      "text/plain": [
       "event_type  category              \n",
       "cart        Social Science            427\n",
       "            Bibles                    396\n",
       "            Medical                   392\n",
       "            Political Science         392\n",
       "            Photography               391\n",
       "                                     ... \n",
       "view        Reference                 518\n",
       "            Nature                    512\n",
       "            Young Adult Nonfiction    511\n",
       "            Cooking                   509\n",
       "            Body, Mind & Spirit       507\n",
       "Name: category, Length: 212, dtype: int64"
      ]
     },
     "execution_count": 150,
     "metadata": {},
     "output_type": "execute_result"
    }
   ],
   "source": [
    "final.groupby('event_type')['category'].value_counts()"
   ]
  },
  {
   "cell_type": "code",
   "execution_count": 151,
   "metadata": {},
   "outputs": [
    {
     "data": {
      "text/plain": [
       "dtype('float64')"
      ]
     },
     "execution_count": 151,
     "metadata": {},
     "output_type": "execute_result"
    }
   ],
   "source": [
    "cart['user_id'].dtype"
   ]
  },
  {
   "cell_type": "code",
   "execution_count": 158,
   "metadata": {},
   "outputs": [
    {
     "data": {
      "text/plain": [
       "0"
      ]
     },
     "execution_count": 158,
     "metadata": {},
     "output_type": "execute_result"
    }
   ],
   "source": [
    "cart['user_id'].isna().sum()"
   ]
  },
  {
   "cell_type": "code",
   "execution_count": 159,
   "metadata": {},
   "outputs": [
    {
     "data": {
      "text/plain": [
       "0"
      ]
     },
     "execution_count": 159,
     "metadata": {},
     "output_type": "execute_result"
    }
   ],
   "source": [
    "users['user_id'].isna().sum()"
   ]
  },
  {
   "cell_type": "code",
   "execution_count": 152,
   "metadata": {},
   "outputs": [
    {
     "data": {
      "text/plain": [
       "dtype('float64')"
      ]
     },
     "execution_count": 152,
     "metadata": {},
     "output_type": "execute_result"
    }
   ],
   "source": [
    "users['user_id'].dtype"
   ]
  },
  {
   "cell_type": "code",
   "execution_count": 153,
   "metadata": {},
   "outputs": [],
   "source": [
    "users['user_id'] = users['user_id'].astype('float64')"
   ]
  },
  {
   "cell_type": "code",
   "execution_count": 154,
   "metadata": {},
   "outputs": [
    {
     "data": {
      "text/plain": [
       "dtype('float64')"
      ]
     },
     "execution_count": 154,
     "metadata": {},
     "output_type": "execute_result"
    }
   ],
   "source": [
    "users['user_id'].dtype"
   ]
  },
  {
   "cell_type": "code",
   "execution_count": 155,
   "metadata": {
    "scrolled": true
   },
   "outputs": [
    {
     "data": {
      "text/html": [
       "<div>\n",
       "<style scoped>\n",
       "    .dataframe tbody tr th:only-of-type {\n",
       "        vertical-align: middle;\n",
       "    }\n",
       "\n",
       "    .dataframe tbody tr th {\n",
       "        vertical-align: top;\n",
       "    }\n",
       "\n",
       "    .dataframe thead th {\n",
       "        text-align: right;\n",
       "    }\n",
       "</style>\n",
       "<table border=\"1\" class=\"dataframe\">\n",
       "  <thead>\n",
       "    <tr style=\"text-align: right;\">\n",
       "      <th></th>\n",
       "      <th>user_id</th>\n",
       "      <th>event_time</th>\n",
       "      <th>event_type</th>\n",
       "      <th>isbn</th>\n",
       "      <th>category</th>\n",
       "      <th>price</th>\n",
       "      <th>user_id_cart</th>\n",
       "      <th>user_agent</th>\n",
       "      <th>user_id_user</th>\n",
       "      <th>username</th>\n",
       "      <th>...</th>\n",
       "      <th>email</th>\n",
       "      <th>birthdate</th>\n",
       "      <th>credit_card_number</th>\n",
       "      <th>credit_card_expire</th>\n",
       "      <th>credit_card_provider</th>\n",
       "      <th>credit_card_security_code</th>\n",
       "      <th>birthdate_time</th>\n",
       "      <th>age</th>\n",
       "      <th>age_years</th>\n",
       "      <th>age_in_years</th>\n",
       "    </tr>\n",
       "  </thead>\n",
       "  <tbody>\n",
       "  </tbody>\n",
       "</table>\n",
       "<p>0 rows × 26 columns</p>\n",
       "</div>"
      ],
      "text/plain": [
       "Empty DataFrame\n",
       "Columns: [user_id, event_time, event_type, isbn, category, price, user_id_cart, user_agent, user_id_user, username, password, title, name, suffix, sex, address, email, birthdate, credit_card_number, credit_card_expire, credit_card_provider, credit_card_security_code, birthdate_time, age, age_years, age_in_years]\n",
       "Index: []\n",
       "\n",
       "[0 rows x 26 columns]"
      ]
     },
     "execution_count": 155,
     "metadata": {},
     "output_type": "execute_result"
    }
   ],
   "source": [
    "final[\n",
    "    (final['sex'] == 'F') & \n",
    "    (final['event_type'] == 'purchase') \n",
    "#     (final['credit_card_provider'] == 'VISA')\n",
    "]#['category'].value_counts()"
   ]
  },
  {
   "cell_type": "code",
   "execution_count": 156,
   "metadata": {},
   "outputs": [
    {
     "data": {
      "text/plain": [
       "user_id                              float64\n",
       "event_time                            object\n",
       "event_type                            object\n",
       "isbn                                  object\n",
       "category                              object\n",
       "price                                float64\n",
       "user_id_cart                         float64\n",
       "user_agent                            object\n",
       "user_id_user                         float64\n",
       "username                              object\n",
       "password                              object\n",
       "title                                 object\n",
       "name                                  object\n",
       "suffix                                object\n",
       "sex                                   object\n",
       "address                               object\n",
       "email                                 object\n",
       "birthdate                             object\n",
       "credit_card_number                   float64\n",
       "credit_card_expire                    object\n",
       "credit_card_provider                  object\n",
       "credit_card_security_code            float64\n",
       "birthdate_time                datetime64[ns]\n",
       "age                          timedelta64[ns]\n",
       "age_years                             object\n",
       "age_in_years                         float64\n",
       "dtype: object"
      ]
     },
     "execution_count": 156,
     "metadata": {},
     "output_type": "execute_result"
    }
   ],
   "source": [
    "final.dtypes"
   ]
  },
  {
   "cell_type": "code",
   "execution_count": 157,
   "metadata": {},
   "outputs": [
    {
     "data": {
      "text/html": [
       "<div>\n",
       "<style scoped>\n",
       "    .dataframe tbody tr th:only-of-type {\n",
       "        vertical-align: middle;\n",
       "    }\n",
       "\n",
       "    .dataframe tbody tr th {\n",
       "        vertical-align: top;\n",
       "    }\n",
       "\n",
       "    .dataframe thead th {\n",
       "        text-align: right;\n",
       "    }\n",
       "</style>\n",
       "<table border=\"1\" class=\"dataframe\">\n",
       "  <thead>\n",
       "    <tr style=\"text-align: right;\">\n",
       "      <th></th>\n",
       "      <th>sex</th>\n",
       "      <th>event_type</th>\n",
       "    </tr>\n",
       "  </thead>\n",
       "  <tbody>\n",
       "    <tr>\n",
       "      <td>0.0</td>\n",
       "      <td>NaN</td>\n",
       "      <td>remove_from_cart</td>\n",
       "    </tr>\n",
       "    <tr>\n",
       "      <td>47013.0</td>\n",
       "      <td>NaN</td>\n",
       "      <td>remove_from_cart</td>\n",
       "    </tr>\n",
       "    <tr>\n",
       "      <td>2.0</td>\n",
       "      <td>NaN</td>\n",
       "      <td>cart</td>\n",
       "    </tr>\n",
       "    <tr>\n",
       "      <td>4.0</td>\n",
       "      <td>NaN</td>\n",
       "      <td>view</td>\n",
       "    </tr>\n",
       "    <tr>\n",
       "      <td>2036.0</td>\n",
       "      <td>NaN</td>\n",
       "      <td>view</td>\n",
       "    </tr>\n",
       "    <tr>\n",
       "      <td>...</td>\n",
       "      <td>...</td>\n",
       "      <td>...</td>\n",
       "    </tr>\n",
       "    <tr>\n",
       "      <td>NaN</td>\n",
       "      <td>F</td>\n",
       "      <td>NaN</td>\n",
       "    </tr>\n",
       "    <tr>\n",
       "      <td>NaN</td>\n",
       "      <td>M</td>\n",
       "      <td>NaN</td>\n",
       "    </tr>\n",
       "    <tr>\n",
       "      <td>NaN</td>\n",
       "      <td>F</td>\n",
       "      <td>NaN</td>\n",
       "    </tr>\n",
       "    <tr>\n",
       "      <td>NaN</td>\n",
       "      <td>M</td>\n",
       "      <td>NaN</td>\n",
       "    </tr>\n",
       "    <tr>\n",
       "      <td>NaN</td>\n",
       "      <td>F</td>\n",
       "      <td>NaN</td>\n",
       "    </tr>\n",
       "  </tbody>\n",
       "</table>\n",
       "<p>118636 rows × 2 columns</p>\n",
       "</div>"
      ],
      "text/plain": [
       "         sex        event_type\n",
       "0.0      NaN  remove_from_cart\n",
       "47013.0  NaN  remove_from_cart\n",
       "2.0      NaN              cart\n",
       "4.0      NaN              view\n",
       "2036.0   NaN              view\n",
       "...      ...               ...\n",
       "NaN        F               NaN\n",
       "NaN        M               NaN\n",
       "NaN        F               NaN\n",
       "NaN        M               NaN\n",
       "NaN        F               NaN\n",
       "\n",
       "[118636 rows x 2 columns]"
      ]
     },
     "execution_count": 157,
     "metadata": {},
     "output_type": "execute_result"
    }
   ],
   "source": [
    "final[['sex', 'event_type']]"
   ]
  },
  {
   "cell_type": "code",
   "execution_count": 160,
   "metadata": {},
   "outputs": [],
   "source": [
    "final2 = cart.merge(users, how = 'inner', on = 'user_id')"
   ]
  },
  {
   "cell_type": "code",
   "execution_count": 161,
   "metadata": {},
   "outputs": [
    {
     "data": {
      "text/html": [
       "<div>\n",
       "<style scoped>\n",
       "    .dataframe tbody tr th:only-of-type {\n",
       "        vertical-align: middle;\n",
       "    }\n",
       "\n",
       "    .dataframe tbody tr th {\n",
       "        vertical-align: top;\n",
       "    }\n",
       "\n",
       "    .dataframe thead th {\n",
       "        text-align: right;\n",
       "    }\n",
       "</style>\n",
       "<table border=\"1\" class=\"dataframe\">\n",
       "  <thead>\n",
       "    <tr style=\"text-align: right;\">\n",
       "      <th></th>\n",
       "      <th>sex</th>\n",
       "      <th>event_type</th>\n",
       "    </tr>\n",
       "  </thead>\n",
       "  <tbody>\n",
       "    <tr>\n",
       "      <td>0</td>\n",
       "      <td>M</td>\n",
       "      <td>remove_from_cart</td>\n",
       "    </tr>\n",
       "    <tr>\n",
       "      <td>1</td>\n",
       "      <td>M</td>\n",
       "      <td>remove_from_cart</td>\n",
       "    </tr>\n",
       "    <tr>\n",
       "      <td>2</td>\n",
       "      <td>M</td>\n",
       "      <td>cart</td>\n",
       "    </tr>\n",
       "    <tr>\n",
       "      <td>3</td>\n",
       "      <td>M</td>\n",
       "      <td>view</td>\n",
       "    </tr>\n",
       "    <tr>\n",
       "      <td>4</td>\n",
       "      <td>M</td>\n",
       "      <td>view</td>\n",
       "    </tr>\n",
       "    <tr>\n",
       "      <td>...</td>\n",
       "      <td>...</td>\n",
       "      <td>...</td>\n",
       "    </tr>\n",
       "    <tr>\n",
       "      <td>69022</td>\n",
       "      <td>F</td>\n",
       "      <td>purchase</td>\n",
       "    </tr>\n",
       "    <tr>\n",
       "      <td>69023</td>\n",
       "      <td>F</td>\n",
       "      <td>purchase</td>\n",
       "    </tr>\n",
       "    <tr>\n",
       "      <td>69024</td>\n",
       "      <td>M</td>\n",
       "      <td>purchase</td>\n",
       "    </tr>\n",
       "    <tr>\n",
       "      <td>69025</td>\n",
       "      <td>M</td>\n",
       "      <td>purchase</td>\n",
       "    </tr>\n",
       "    <tr>\n",
       "      <td>69026</td>\n",
       "      <td>M</td>\n",
       "      <td>purchase</td>\n",
       "    </tr>\n",
       "  </tbody>\n",
       "</table>\n",
       "<p>69027 rows × 2 columns</p>\n",
       "</div>"
      ],
      "text/plain": [
       "      sex        event_type\n",
       "0       M  remove_from_cart\n",
       "1       M  remove_from_cart\n",
       "2       M              cart\n",
       "3       M              view\n",
       "4       M              view\n",
       "...    ..               ...\n",
       "69022   F          purchase\n",
       "69023   F          purchase\n",
       "69024   M          purchase\n",
       "69025   M          purchase\n",
       "69026   M          purchase\n",
       "\n",
       "[69027 rows x 2 columns]"
      ]
     },
     "execution_count": 161,
     "metadata": {},
     "output_type": "execute_result"
    }
   ],
   "source": [
    "final2[['sex', 'event_type']]"
   ]
  },
  {
   "cell_type": "code",
   "execution_count": 164,
   "metadata": {},
   "outputs": [
    {
     "data": {
      "text/plain": [
       "Language Arts & Disciplines    54\n",
       "Young Adult Fiction            40\n",
       "Literary Collections           40\n",
       "House & Home                   39\n",
       "Crafts & Hobbies               38\n",
       "Name: category, dtype: int64"
      ]
     },
     "execution_count": 164,
     "metadata": {},
     "output_type": "execute_result"
    }
   ],
   "source": [
    "final2[\n",
    "    (final2['sex'] == 'F') & \n",
    "    (final2['event_type'] == 'purchase') &\n",
    "    (final2['credit_card_provider'] == 'VISA')\n",
    "]['category'].value_counts()[:5]"
   ]
  },
  {
   "cell_type": "code",
   "execution_count": 167,
   "metadata": {},
   "outputs": [
    {
     "data": {
      "text/plain": [
       "978-1-06-285759-7    3\n",
       "978-1-9847-0952-3    3\n",
       "978-1-878170-62-0    2\n",
       "978-0-947602-38-3    2\n",
       "978-0-692-39877-7    2\n",
       "978-0-238-08383-9    2\n",
       "978-0-608-16081-8    2\n",
       "978-0-665-27884-6    2\n",
       "978-1-111-54399-0    2\n",
       "978-1-71354-310-7    2\n",
       "Name: isbn, dtype: int64"
      ]
     },
     "execution_count": 167,
     "metadata": {},
     "output_type": "execute_result"
    }
   ],
   "source": [
    "final2[\n",
    "    (final2['sex'] == 'F') & \n",
    "    (final2['event_type'] == 'purchase') &\n",
    "    (final2['credit_card_provider'] == 'VISA')\n",
    "]['isbn'].value_counts()[:10]"
   ]
  },
  {
   "cell_type": "code",
   "execution_count": null,
   "metadata": {},
   "outputs": [],
   "source": [
    "Language Arts & Disciplines\n",
    "Young Adult Fiction\n",
    "Literary Collections\n",
    "House & Home\n",
    "Crafts & Hobbies"
   ]
  },
  {
   "cell_type": "code",
   "execution_count": null,
   "metadata": {},
   "outputs": [],
   "source": [
    "uppercase letters 3 of them 26^3\n",
    "\n",
    "62^5"
   ]
  },
  {
   "cell_type": "code",
   "execution_count": 169,
   "metadata": {},
   "outputs": [
    {
     "data": {
      "text/plain": [
       "0        7QjsS\n",
       "1        f5XfW\n",
       "2        8xwDc\n",
       "3        6AjYt\n",
       "4        s8Eld\n",
       "         ...  \n",
       "49604    4YGl5\n",
       "49605    6oZjW\n",
       "49606    2V2pC\n",
       "49607    8xAac\n",
       "49608    6W8k8\n",
       "Name: password, Length: 49609, dtype: object"
      ]
     },
     "execution_count": 169,
     "metadata": {},
     "output_type": "execute_result"
    }
   ],
   "source": [
    "users['password'] 5 characters, "
   ]
  },
  {
   "cell_type": "code",
   "execution_count": 172,
   "metadata": {},
   "outputs": [
    {
     "data": {
      "text/plain": [
       "916132832"
      ]
     },
     "execution_count": 172,
     "metadata": {},
     "output_type": "execute_result"
    }
   ],
   "source": [
    "62 ** 5"
   ]
  },
  {
   "cell_type": "markdown",
   "metadata": {},
   "source": [
    "916 million password combinations"
   ]
  },
  {
   "cell_type": "code",
   "execution_count": 175,
   "metadata": {},
   "outputs": [
    {
     "data": {
      "text/plain": [
       "0.458066416"
      ]
     },
     "execution_count": 175,
     "metadata": {},
     "output_type": "execute_result"
    }
   ],
   "source": [
    "sec_decrypt1 = 916132832 / 2000000000\n",
    "sec_decrypt1"
   ]
  },
  {
   "cell_type": "code",
   "execution_count": 176,
   "metadata": {},
   "outputs": [
    {
     "data": {
      "text/plain": [
       "403230.0459470405"
      ]
     },
     "execution_count": 176,
     "metadata": {},
     "output_type": "execute_result"
    }
   ],
   "source": [
    "sec_decrypt2 = (73 ** 8) / 2000000000\n",
    "sec_decrypt2"
   ]
  },
  {
   "cell_type": "code",
   "execution_count": 180,
   "metadata": {},
   "outputs": [
    {
     "data": {
      "text/plain": [
       "4.667014420683339"
      ]
     },
     "execution_count": 180,
     "metadata": {},
     "output_type": "execute_result"
    }
   ],
   "source": [
    "sec_decrypt2 / (3600 * 24)"
   ]
  },
  {
   "cell_type": "code",
   "execution_count": null,
   "metadata": {},
   "outputs": [],
   "source": [
    "786-747-0717"
   ]
  },
  {
   "cell_type": "code",
   "execution_count": null,
   "metadata": {},
   "outputs": [],
   "source": [
    "%d%d%d - %d%d%d - %d%d%d%d"
   ]
  },
  {
   "cell_type": "code",
   "execution_count": null,
   "metadata": {},
   "outputs": [],
   "source": [
    "+1(123) 123-123213"
   ]
  }
 ],
 "metadata": {
  "kernelspec": {
   "display_name": "Python 3",
   "language": "python",
   "name": "python3"
  },
  "language_info": {
   "codemirror_mode": {
    "name": "ipython",
    "version": 3
   },
   "file_extension": ".py",
   "mimetype": "text/x-python",
   "name": "python",
   "nbconvert_exporter": "python",
   "pygments_lexer": "ipython3",
   "version": "3.7.4"
  }
 },
 "nbformat": 4,
 "nbformat_minor": 4
}
