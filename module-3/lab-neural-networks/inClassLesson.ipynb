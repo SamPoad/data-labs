{
 "cells": [
  {
   "cell_type": "markdown",
   "metadata": {},
   "source": [
    "# Neural Networks"
   ]
  },
  {
   "cell_type": "markdown",
   "metadata": {},
   "source": [
    "Watch this 3Blue1Brown video: https://www.youtube.com/watch?v=aircAruvnKk"
   ]
  },
  {
   "cell_type": "markdown",
   "metadata": {},
   "source": []
  },
  {
   "cell_type": "code",
   "execution_count": 2,
   "metadata": {},
   "outputs": [],
   "source": [
    "# Dependencies\n",
    "import pandas as pd\n",
    "import numpy as np\n",
    "import matplotlib.pyplot as plt\n",
    "# import seaborn as sns\n",
    "# np.random.seed(42)\n",
    "\n",
    "import tensorflow.keras as keras\n",
    "import tensorflow as tf\n"
   ]
  },
  {
   "cell_type": "markdown",
   "metadata": {},
   "source": [
    "Keras is a Python wrapper that makes it easier to work with Google's TensorFlow\n",
    "\n",
    "If a neural network has any \"Hidden Layers\" then its called DeepLearning\n",
    "\n"
   ]
  },
  {
   "cell_type": "code",
   "execution_count": 6,
   "metadata": {},
   "outputs": [
    {
     "data": {
      "text/plain": [
       "array([[0, 0, 0, 0, 0, 0, 0, 0, 0, 0, 0, 0, 0, 0, 0, 0, 0, 0, 0, 0, 0, 0,\n",
       "        0, 0, 0, 0, 0, 0],\n",
       "       [0, 0, 0, 0, 0, 0, 0, 0, 0, 0, 0, 0, 0, 0, 0, 0, 0, 0, 0, 0, 0, 0,\n",
       "        0, 0, 0, 0, 0, 0],\n",
       "       [0, 0, 0, 0, 0, 0, 0, 0, 0, 0, 0, 0, 0, 0, 0, 0, 0, 0, 0, 0, 0, 0,\n",
       "        0, 0, 0, 0, 0, 0],\n",
       "       [0, 0, 0, 0, 0, 0, 0, 0, 0, 0, 0, 0, 0, 0, 0, 0, 0, 0, 0, 0, 0, 0,\n",
       "        0, 0, 0, 0, 0, 0],\n",
       "       [0, 0, 0, 0, 0, 0, 0, 0, 0, 0, 0, 0, 0, 0, 0, 0, 0, 0, 0, 0, 0, 0,\n",
       "        0, 0, 0, 0, 0, 0]], dtype=uint8)"
      ]
     },
     "execution_count": 6,
     "metadata": {},
     "output_type": "execute_result"
    }
   ],
   "source": [
    "# Dataset 60k images of 28x28 of handdrawn numbers\n",
    "mnist = tf.keras.datasets.mnist\n",
    "\n",
    "(train_X, train_y), (test_X, test_y) = mnist.load_data() # notice the syntax is similar to train_test_split, even the order is different\n",
    "\n",
    "train_X.shape # returns (60000, 28, 28) 60k images of 28 x 28\n",
    "\n",
    "train_X[0][:5]"
   ]
  },
  {
   "cell_type": "code",
   "execution_count": 8,
   "metadata": {},
   "outputs": [
    {
     "data": {
      "image/png": "[encoded data removed]",
      "text/plain": [
       "<Figure size 432x288 with 1 Axes>"
      ]
     },
     "metadata": {
      "needs_background": "light"
     },
     "output_type": "display_data"
    }
   ],
   "source": [
    "plt.imshow(\n",
    "    train_X[0], # just give it our first image\n",
    "    cmap = plt.cm.binary # cmap = colormap, we're saying binary (grayscale)\n",
    ")\n",
    "\n",
    "plt.show()"
   ]
  },
  {
   "cell_type": "code",
   "execution_count": 9,
   "metadata": {},
   "outputs": [
    {
     "data": {
      "text/plain": [
       "5"
      ]
     },
     "execution_count": 9,
     "metadata": {},
     "output_type": "execute_result"
    }
   ],
   "source": [
    "train_y[0] # so we check our Training data, the target for it, and we see that's what its classified as, a 5! "
   ]
  },
  {
   "cell_type": "markdown",
   "metadata": {},
   "source": [
    "Andrew Ing, DeepLearning Researcher from Princeton"
   ]
  },
  {
   "cell_type": "markdown",
   "metadata": {},
   "source": [
    "### Normalization"
   ]
  },
  {
   "cell_type": "code",
   "execution_count": 10,
   "metadata": {},
   "outputs": [
    {
     "data": {
      "text/plain": [
       "(60000, 28, 28)"
      ]
     },
     "execution_count": 10,
     "metadata": {},
     "output_type": "execute_result"
    }
   ],
   "source": [
    "train_X.shape"
   ]
  },
  {
   "cell_type": "code",
   "execution_count": 12,
   "metadata": {},
   "outputs": [
    {
     "data": {
      "text/plain": [
       "{0,\n",
       " 1,\n",
       " 2,\n",
       " 3,\n",
       " 9,\n",
       " 11,\n",
       " 14,\n",
       " 16,\n",
       " 18,\n",
       " 23,\n",
       " 24,\n",
       " 25,\n",
       " 26,\n",
       " 27,\n",
       " 30,\n",
       " 35,\n",
       " 36,\n",
       " 39,\n",
       " 43,\n",
       " 45,\n",
       " 46,\n",
       " 49,\n",
       " 55,\n",
       " 56,\n",
       " 64,\n",
       " 66,\n",
       " 70,\n",
       " 78,\n",
       " 80,\n",
       " 81,\n",
       " 82,\n",
       " 90,\n",
       " 93,\n",
       " 94,\n",
       " 107,\n",
       " 108,\n",
       " 114,\n",
       " 119,\n",
       " 126,\n",
       " 127,\n",
       " 130,\n",
       " 132,\n",
       " 133,\n",
       " 135,\n",
       " 136,\n",
       " 139,\n",
       " 148,\n",
       " 150,\n",
       " 154,\n",
       " 156,\n",
       " 160,\n",
       " 166,\n",
       " 170,\n",
       " 171,\n",
       " 172,\n",
       " 175,\n",
       " 182,\n",
       " 183,\n",
       " 186,\n",
       " 187,\n",
       " 190,\n",
       " 195,\n",
       " 198,\n",
       " 201,\n",
       " 205,\n",
       " 207,\n",
       " 212,\n",
       " 213,\n",
       " 219,\n",
       " 221,\n",
       " 225,\n",
       " 226,\n",
       " 229,\n",
       " 238,\n",
       " 240,\n",
       " 241,\n",
       " 242,\n",
       " 244,\n",
       " 247,\n",
       " 249,\n",
       " 250,\n",
       " 251,\n",
       " 252,\n",
       " 253,\n",
       " 255}"
      ]
     },
     "execution_count": 12,
     "metadata": {},
     "output_type": "execute_result"
    }
   ],
   "source": [
    "# convert this into a set to see all the unique values of that image\n",
    "# reshape and ravel to get a 1-dimensional, flat array\n",
    "set(train_X[0].reshape(-1, 1).ravel()) # each value ranges from 0 to 255\n"
   ]
  },
  {
   "cell_type": "code",
   "execution_count": 14,
   "metadata": {},
   "outputs": [],
   "source": [
    "# see it goes from 1-255, we want it to be scaled to 0-1!\n",
    "\n",
    "# Built in Normalizer in Keras\n",
    "train_X = tf.keras.utils.normalize(train_X, axis = 1)\n",
    "test_X = tf.keras.utils.normalize(test_X, axis = 1)"
   ]
  },
  {
   "cell_type": "code",
   "execution_count": 16,
   "metadata": {},
   "outputs": [
    {
     "data": {
      "text/plain": [
       "{0.0,\n",
       " 0.001291638275603334,\n",
       " 0.0017157656927661758,\n",
       " 0.002583276551206668,\n",
       " 0.0029117418490504305,\n",
       " 0.0039312436435731965,\n",
       " 0.006250335720407404,\n",
       " 0.013126034057736942,\n",
       " 0.014256948070666159,\n",
       " 0.01601458016977737,\n",
       " 0.016223782922246823,\n",
       " 0.023329551388362804,\n",
       " 0.023335171658199007,\n",
       " 0.023598229705086286,\n",
       " 0.025373104769234954,\n",
       " 0.026205676641453873,\n",
       " 0.026252068115473884,\n",
       " 0.0408993336947506,\n",
       " 0.04117837662638822,\n",
       " 0.04431706172896948,\n",
       " 0.045002250168764066,\n",
       " 0.04586450917502063,\n",
       " 0.05110616736645155,\n",
       " 0.05298496674891638,\n",
       " 0.05664824129382238,\n",
       " 0.0578048631247428,\n",
       " 0.05882701980512324,\n",
       " 0.05945041980090344,\n",
       " 0.06524512654946131,\n",
       " 0.06551419160363468,\n",
       " 0.0669700625281599,\n",
       " 0.10191096471676507,\n",
       " 0.10498298124763263,\n",
       " 0.11198800009007391,\n",
       " 0.11646967396201723,\n",
       " 0.11664775694181402,\n",
       " 0.11961606534067908,\n",
       " 0.12250612545941328,\n",
       " 0.12298800925361815,\n",
       " 0.12760592112762187,\n",
       " 0.128578814918233,\n",
       " 0.1493173334534319,\n",
       " 0.15214552134447223,\n",
       " 0.15370495479679672,\n",
       " 0.15414630166598078,\n",
       " 0.15731019777223806,\n",
       " 0.16128197512002052,\n",
       " 0.16813738664873978,\n",
       " 0.17420355569567053,\n",
       " 0.17428513486507838,\n",
       " 0.1756628054820534,\n",
       " 0.1786598379266706,\n",
       " 0.18358692912598082,\n",
       " 0.18959826972286695,\n",
       " 0.19182075585987196,\n",
       " 0.19891229444291342,\n",
       " 0.20001074305303693,\n",
       " 0.20500962056293712,\n",
       " 0.22277047313581447,\n",
       " 0.2264810714451352,\n",
       " 0.2271329609114555,\n",
       " 0.23335171658199008,\n",
       " 0.24466922456047993,\n",
       " 0.2453960021685036,\n",
       " 0.24625637576605183,\n",
       " 0.2489787640929691,\n",
       " 0.25273680670726373,\n",
       " 0.25300992612942624,\n",
       " 0.2562637645367036,\n",
       " 0.2596192933962701,\n",
       " 0.2654375776120137,\n",
       " 0.2656976685896875,\n",
       " 0.27127137052656347,\n",
       " 0.28272888171433236,\n",
       " 0.28629533586325423,\n",
       " 0.28826244305599263,\n",
       " 0.28877274927021274,\n",
       " 0.2896016150765588,\n",
       " 0.31128482442040345,\n",
       " 0.3123567713664131,\n",
       " 0.32161793062523014,\n",
       " 0.3242012071764368,\n",
       " 0.3254928454520401,\n",
       " 0.32678448372764346,\n",
       " 0.32757095801817343,\n",
       " 0.3279098056253216,\n",
       " 0.33153488060800623,\n",
       " 0.3333944417162743,\n",
       " 0.3414942718796081,\n",
       " 0.34940902188605166,\n",
       " 0.34978967929368765,\n",
       " 0.35987300300256586,\n",
       " 0.3654580925591954,\n",
       " 0.36809400325275543,\n",
       " 0.3683353439048795,\n",
       " 0.3689874018452718,\n",
       " 0.3731470072116769,\n",
       " 0.374749903943748,\n",
       " 0.37491383394299593,\n",
       " 0.3965376890567566,\n",
       " 0.40743158161326093,\n",
       " 0.4084876994148491,\n",
       " 0.408993336947506,\n",
       " 0.4139012569908761,\n",
       " 0.4219755008106224,\n",
       " 0.4275213766032586,\n",
       " 0.43408872026984247,\n",
       " 0.45002403451816314,\n",
       " 0.45100715183927814,\n",
       " 0.4585282504726031,\n",
       " 0.45858524745629287,\n",
       " 0.48748767901866424,\n",
       " 0.5187778647938145,\n",
       " 0.5425158493139143,\n",
       " 0.5622206109958121,\n",
       " 0.6149400462680907,\n",
       " 0.6325316273720727,\n",
       " 0.6652556936252835,\n",
       " 0.6798047832300288,\n",
       " 0.7163232219985841,\n",
       " 0.7447331437486581,\n",
       " 0.7789240586062484,\n",
       " 0.7906674686315366,\n",
       " 0.8269872940810491,\n",
       " 0.8930164434969801,\n",
       " 0.92705966211359}"
      ]
     },
     "execution_count": 16,
     "metadata": {},
     "output_type": "execute_result"
    }
   ],
   "source": [
    "set(train_X[0].reshape(-1, 1).ravel()) # now we can see that its scaled the above data between 0 and 1"
   ]
  },
  {
   "cell_type": "code",
   "execution_count": 15,
   "metadata": {},
   "outputs": [
    {
     "data": {
      "image/png": "[encoded data removed]",
      "text/plain": [
       "<Figure size 432x288 with 1 Axes>"
      ]
     },
     "metadata": {
      "needs_background": "light"
     },
     "output_type": "display_data"
    }
   ],
   "source": [
    "plt.imshow(train_X[0], cmap = plt.cm.binary)\n",
    "plt.show() # so we have SCALED the image to values between 0 and 1"
   ]
  },
  {
   "cell_type": "markdown",
   "metadata": {},
   "source": [
    "Model"
   ]
  },
  {
   "cell_type": "markdown",
   "metadata": {},
   "source": [
    "create instance of Sequential model:"
   ]
  },
  {
   "cell_type": "code",
   "execution_count": 17,
   "metadata": {},
   "outputs": [],
   "source": [
    "model = tf.keras.models.Sequential()"
   ]
  },
  {
   "cell_type": "markdown",
   "metadata": {},
   "source": [
    "add input layer: (this the first, left-most layer)"
   ]
  },
  {
   "cell_type": "code",
   "execution_count": 19,
   "metadata": {},
   "outputs": [],
   "source": [
    "model.add(tf.keras.layers.Flatten()) # flattens our input array, determines the total number of neurons in the input layer"
   ]
  },
  {
   "cell_type": "markdown",
   "metadata": {},
   "source": [
    "Add `.Dense` hidden layer\n",
    "\n",
    "* in a densely-connected layer, each node connects to each prior and subsequent node"
   ]
  },
  {
   "cell_type": "code",
   "execution_count": 20,
   "metadata": {},
   "outputs": [],
   "source": [
    "model.add(tf.keras.layers.Dense( # instead of flattening the layer\n",
    "    128, # number of nodes, completely arbitrary, this is the \"hyperparameter\" to experiment with\n",
    "    activation = tf.nn.sigmoid, # use the Sigmoid function like in the video\n",
    "))"
   ]
  },
  {
   "cell_type": "markdown",
   "metadata": {},
   "source": [
    "Add a second hidden layer: (as you increase neurons/nodes and layers, think about the added math involved!)"
   ]
  },
  {
   "cell_type": "code",
   "execution_count": 21,
   "metadata": {},
   "outputs": [],
   "source": [
    "model.add(tf.keras.layers.Dense(128, activation = tf.nn.sigmoid)) # add an identical layer, the model will add these in the ORDER you add them"
   ]
  },
  {
   "cell_type": "markdown",
   "metadata": {},
   "source": [
    "Add the final output layer (we don't have to DEFINE it as the final, its just the last added)"
   ]
  },
  {
   "cell_type": "code",
   "execution_count": 22,
   "metadata": {},
   "outputs": [],
   "source": [
    "model.add(tf.keras.layers.Dense(\n",
    "    10, # spit back our 0-9\n",
    "    activation = tf.nn.softmax, # using a different function here at the end\n",
    "))"
   ]
  },
  {
   "cell_type": "markdown",
   "metadata": {},
   "source": [
    "the `.softmax` function maps the non-normalized output of a network to a probability distribution"
   ]
  },
  {
   "cell_type": "markdown",
   "metadata": {},
   "source": [
    "the output of each neuron/node are not normalized, so this softmax function will normalize the final results to a 0-1 range of probability distribution. (as a distribution, remember all probabilities will add up to 1)"
   ]
  },
  {
   "cell_type": "code",
   "execution_count": 23,
   "metadata": {},
   "outputs": [],
   "source": [
    "model.compile( # if you don't know why to change something, leave it\n",
    "    optimizer = 'adam',\n",
    "    loss = 'sparse_categorical_crossentropy',\n",
    "    metrics = ['accuracy'], # report this specific metric of the accuracy\n",
    ")"
   ]
  },
  {
   "cell_type": "code",
   "execution_count": 24,
   "metadata": {},
   "outputs": [
    {
     "name": "stdout",
     "output_type": "stream",
     "text": [
      "Train on 60000 samples\n",
      "Epoch 1/3\n",
      "60000/60000 [==============================] - 2s 34us/sample - loss: 0.5303 - accuracy: 0.8556\n",
      "Epoch 2/3\n",
      "60000/60000 [==============================] - 2s 30us/sample - loss: 0.2253 - accuracy: 0.9330\n",
      "Epoch 3/3\n",
      "60000/60000 [==============================] - 2s 30us/sample - loss: 0.1671 - accuracy: 0.9495\n"
     ]
    },
    {
     "data": {
      "text/plain": [
       "<tensorflow.python.keras.callbacks.History at 0x10c566790>"
      ]
     },
     "execution_count": 24,
     "metadata": {},
     "output_type": "execute_result"
    }
   ],
   "source": [
    "model.fit(train_X, train_y, epochs = 3) # epochs is the number of passes through the data"
   ]
  },
  {
   "cell_type": "code",
   "execution_count": 25,
   "metadata": {},
   "outputs": [],
   "source": [
    "# see how the accuracy increases on each epoch, but it gets a diminishing return the more epochs we run? "
   ]
  },
  {
   "cell_type": "markdown",
   "metadata": {},
   "source": [
    "### Validation:\n",
    "\n",
    "Let's say we don't trust the accuracy above"
   ]
  },
  {
   "cell_type": "code",
   "execution_count": null,
   "metadata": {},
   "outputs": [],
   "source": []
  },
  {
   "cell_type": "code",
   "execution_count": 26,
   "metadata": {},
   "outputs": [
    {
     "name": "stdout",
     "output_type": "stream",
     "text": [
      "10000/10000 [==============================] - 0s 26us/sample - loss: 0.1506 - accuracy: 0.9534\n",
      "Loss: 0.15055524591207503\n",
      "Accuracy: 0.9534000158309937\n"
     ]
    }
   ],
   "source": [
    "val_loss, val_acc = model.evaluate(test_X, test_y) # \n",
    "\n",
    "print(f'Loss: {val_loss}')\n",
    "print(f'Accuracy: {val_acc}')\n"
   ]
  },
  {
   "cell_type": "markdown",
   "metadata": {},
   "source": [
    "### Save the model: "
   ]
  },
  {
   "cell_type": "code",
   "execution_count": 27,
   "metadata": {},
   "outputs": [
    {
     "name": "stdout",
     "output_type": "stream",
     "text": [
      "WARNING:tensorflow:From /Users/sampoad/opt/anaconda3/lib/python3.7/site-packages/tensorflow_core/python/ops/resource_variable_ops.py:1786: calling BaseResourceVariable.__init__ (from tensorflow.python.ops.resource_variable_ops) with constraint is deprecated and will be removed in a future version.\n",
      "Instructions for updating:\n",
      "If using Keras pass *_constraint arguments to layers.\n",
      "INFO:tensorflow:Assets written to: msint.model/assets\n"
     ]
    }
   ],
   "source": [
    "model.save('msint.model')"
   ]
  },
  {
   "cell_type": "markdown",
   "metadata": {},
   "source": [
    "### Load a saved model:"
   ]
  },
  {
   "cell_type": "code",
   "execution_count": 28,
   "metadata": {},
   "outputs": [],
   "source": [
    "prev_model = tf.keras.models.load_model('msint.model')"
   ]
  },
  {
   "cell_type": "markdown",
   "metadata": {},
   "source": [
    "### Predictions:"
   ]
  },
  {
   "cell_type": "code",
   "execution_count": 29,
   "metadata": {},
   "outputs": [
    {
     "data": {
      "text/plain": [
       "array([9.4571405e-06, 3.7920652e-06, 1.0493569e-03, 1.2221958e-03,\n",
       "       4.3127006e-06, 1.4125947e-05, 1.5827077e-08, 9.9764568e-01,\n",
       "       5.0688009e-06, 4.5948866e-05], dtype=float32)"
      ]
     },
     "execution_count": 29,
     "metadata": {},
     "output_type": "execute_result"
    }
   ],
   "source": [
    "predictions = prev_model.predict(test_X)\n",
    "\n",
    "predictions[0] # returns a list of probability distributions"
   ]
  },
  {
   "cell_type": "markdown",
   "metadata": {},
   "source": [
    "Convert probability distribution to a single prediction:\n"
   ]
  },
  {
   "cell_type": "code",
   "execution_count": 30,
   "metadata": {},
   "outputs": [
    {
     "data": {
      "text/plain": [
       "0.9976457"
      ]
     },
     "execution_count": 30,
     "metadata": {},
     "output_type": "execute_result"
    }
   ],
   "source": [
    "max(predictions[0]) # the most probable"
   ]
  },
  {
   "cell_type": "markdown",
   "metadata": {},
   "source": [
    "So it is very confident in that prediction!!!"
   ]
  },
  {
   "cell_type": "code",
   "execution_count": 31,
   "metadata": {},
   "outputs": [
    {
     "name": "stdout",
     "output_type": "stream",
     "text": [
      "7\n"
     ]
    }
   ],
   "source": [
    "print(np.argmax(predictions[0])) # returns the index of the maximum value"
   ]
  },
  {
   "cell_type": "code",
   "execution_count": 33,
   "metadata": {},
   "outputs": [
    {
     "data": {
      "image/png": "[encoded data removed]",
      "text/plain": [
       "<Figure size 432x288 with 1 Axes>"
      ]
     },
     "metadata": {
      "needs_background": "light"
     },
     "output_type": "display_data"
    }
   ],
   "source": [
    "plt.imshow(test_X[0], cmap = plt.cm.binary)\n",
    "plt.show()"
   ]
  },
  {
   "cell_type": "code",
   "execution_count": 34,
   "metadata": {},
   "outputs": [
    {
     "name": "stdout",
     "output_type": "stream",
     "text": [
      "6\n"
     ]
    }
   ],
   "source": [
    "print(np.argmin(predictions[0])) # what number is the model most sure it is NOT?"
   ]
  },
  {
   "cell_type": "markdown",
   "metadata": {},
   "source": [
    "computationally complex? typically go for Neural Networks"
   ]
  },
  {
   "cell_type": "code",
   "execution_count": null,
   "metadata": {},
   "outputs": [],
   "source": []
  }
 ],
 "metadata": {
  "kernelspec": {
   "display_name": "Python 3",
   "language": "python",
   "name": "python3"
  },
  "language_info": {
   "codemirror_mode": {
    "name": "ipython",
    "version": 3
   },
   "file_extension": ".py",
   "mimetype": "text/x-python",
   "name": "python",
   "nbconvert_exporter": "python",
   "pygments_lexer": "ipython3",
   "version": "3.7.4"
  }
 },
 "nbformat": 4,
 "nbformat_minor": 2
}
