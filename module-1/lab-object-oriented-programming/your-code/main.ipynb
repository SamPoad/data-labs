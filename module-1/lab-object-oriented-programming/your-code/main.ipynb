{
 "cells": [
  {
   "cell_type": "markdown",
   "metadata": {},
   "source": [
    "# Before your start:\n",
    "- Read the README.md file\n",
    "- Comment as much as you can and use the resources in the README.md file\n",
    "- Happy learning!"
   ]
  },
  {
   "cell_type": "markdown",
   "metadata": {},
   "source": [
    "# Challenge 1 - Matrix Functions\n",
    "\n",
    "#### We would like to create our own matrix. To make life simple for us, we can represent matrices as a list of lists. For the sake of simplicity, we will assume that the maximum number of dimensions a matrix will have is 2.\n",
    "\n",
    "The most basic thing we would like to do with two matrices is to add them together. To add two matrices, we must perform a number of checks. The first check we would like to perform is whether the matrix is two dimesional. This is because we want to limit ourselves to two dimensional matrices to simplify our problem. In the cell below write a function that checks is a matrix is two dimesional. "
   ]
  },
  {
   "cell_type": "code",
   "execution_count": 1,
   "metadata": {},
   "outputs": [],
   "source": [
    "def twodim(mat):\n",
    "    # This function takes a list of lists and checks that it is of depth 2. \n",
    "    # If the depth is not 2, either return false or return informative errors that let the user know the depth of the list.\n",
    "    # Input: nested list\n",
    "    # Output: Boolean (or error)\n",
    "    # Sample Input: [[1,2,3], [4,5,6]]\n",
    "    # Sample Output: True\n",
    "    \n",
    "    # Your Code Here:\n",
    "    if len(mat) > 2:\n",
    "        print(\"This matrix has too many dimensions!\")\n",
    "    else:\n",
    "        return True\n",
    "# in the example, [1,2,3] and [4,5,6] are the rows of data. so row1=mat[0], row2=mat[1].\n",
    "# so what would a 3d matrix look like? \n",
    "# mat = [[[row1], [row2]], [Z-valuerow1]]\n",
    "# essentially, there can be infinite column items within a row, and infinite rows, but the \"second\" part of the list for the matrix above would be the Z-value, which extends into the 3rd dimension"
   ]
  },
  {
   "cell_type": "code",
   "execution_count": 10,
   "metadata": {},
   "outputs": [
    {
     "name": "stdout",
     "output_type": "stream",
     "text": [
      "This matrix has too many dimensions!\n"
     ]
    },
    {
     "data": {
      "text/plain": [
       "True"
      ]
     },
     "execution_count": 10,
     "metadata": {},
     "output_type": "execute_result"
    }
   ],
   "source": [
    "# twodim([[1,2], [1,2,3],[1,2,3]]) # should return True? one that came with the assignment? don't think so\n",
    "twodim([\n",
    "    [1,2,3],\n",
    "    [4,5,6],\n",
    "    [7,8,9]\n",
    "])\n",
    "twodim([[1,2,3,4,5], [6,7,8,9,10]])\n"
   ]
  },
  {
   "cell_type": "markdown",
   "metadata": {},
   "source": [
    "# Bonus Challenge 1 - Write the function recursively\n",
    "\n",
    "Rewrite the `twodim` function using recursion. \n",
    "Read more about recursion [here](https://www.cs.utah.edu/~germain/PPS/Topics/recursion.html)\n",
    "\n",
    "Hint: stop your recursion when there are no more lists, this wil be the depth of your matrix. Check that this depth is equal to 2.\n",
    "Second Hint: At every level of the recursion, use the filter function to keep only the members of the list that are lists."
   ]
  },
  {
   "cell_type": "code",
   "execution_count": 13,
   "metadata": {},
   "outputs": [],
   "source": [
    "def twodimrecursive(mat):\n",
    "    # Your code here:\n",
    "    list_spot = 0\n",
    "    if list_spot == 2:\n",
    "        return True\n",
    "    else:\n",
    "        list_spot += 1\n",
    "        twodimrecursive(mat)\n",
    "        \n",
    "        \n",
    "        "
   ]
  },
  {
   "cell_type": "code",
   "execution_count": 73,
   "metadata": {},
   "outputs": [],
   "source": [
    "# twodimrecursive([[1,2,3],[1,2]]) # should return True, according to assignment"
   ]
  },
  {
   "cell_type": "markdown",
   "metadata": {},
   "source": [
    "#### Next, we will write a function that checks for the number of rows and columns of a matrix. \n",
    "\n",
    "Recall that the outer list will tell us the number of rows and the inner lists will tell us the number of columns. Make sure that all inner lists are of the same length."
   ]
  },
  {
   "cell_type": "code",
   "execution_count": 4,
   "metadata": {},
   "outputs": [],
   "source": [
    "def rowcolumn(mat):\n",
    "    # This function takes a list of lists and returns the size of the rows and the columns \n",
    "    # Input: list of lists\n",
    "    # Output: Tuple of rows and columns\n",
    "    #\n",
    "    # Sample input: [[1,2,3],[4,5,6]]\n",
    "    # Sample Output: (2, 3)\n",
    "    \n",
    "    # Your code here:\n",
    "    def checkColumn(mat):\n",
    "        for i in range(len(mat)+1):\n",
    "            if len(mat[i]) == len(mat[(i+1)]):\n",
    "                return True\n",
    "            else:\n",
    "                return False\n",
    "            \n",
    "    for i in mat:\n",
    "        return (len(mat), len(i)) if checkColumn(mat) == True else print(\"These columns are not all the same length!\")\n",
    "    \n"
   ]
  },
  {
   "cell_type": "code",
   "execution_count": 5,
   "metadata": {},
   "outputs": [
    {
     "name": "stdout",
     "output_type": "stream",
     "text": [
      "(3, 4)\n",
      "These columns are not all the same length!\n",
      "None\n"
     ]
    }
   ],
   "source": [
    "print(rowcolumn([[1,2,3,4], [1,2,3,4],[1,2,3,4]])) # should return (3, 4)\n",
    "print(rowcolumn([[1,2,3], [1,2,3,4], [1,2,3,4]])) # should return False"
   ]
  },
  {
   "cell_type": "markdown",
   "metadata": {},
   "source": [
    "#### Our next step is to write a function that compares two matrices and tells us whether they are of equal size.\n",
    "\n",
    "In this function we will check whether the number of rows and number of columns is the same."
   ]
  },
  {
   "cell_type": "code",
   "execution_count": 6,
   "metadata": {},
   "outputs": [],
   "source": [
    "def compare(mat1, mat2):\n",
    "    # This function takes a two lists of lists and checks whether they have the same number of rows and columns\n",
    "    # Input: two list of lists\n",
    "    # Output: True or False\n",
    "    #\n",
    "    # Sample input: [[1,2,3],[4,5,6]], [[7,8,9], [10,11,12]]\n",
    "    # Sample Output: True\n",
    "    \n",
    "    # Your code here:\n",
    "    return True if rowcolumn(mat1) == rowcolumn(mat2) else False"
   ]
  },
  {
   "cell_type": "code",
   "execution_count": 7,
   "metadata": {},
   "outputs": [
    {
     "name": "stdout",
     "output_type": "stream",
     "text": [
      "True\n"
     ]
    }
   ],
   "source": [
    "print(compare([[1,2,3], [4,5,6]], [[7,8,9], [10,11,12]])) # should return True\n",
    "# print(compare([[1,2,3], [4,5,6]], [[7,8,9], [10,11]])) # should return False\n"
   ]
  },
  {
   "cell_type": "markdown",
   "metadata": {},
   "source": [
    "#### Now that we have all the tools we need, write a function that adds two matrices together. \n",
    "\n",
    "Remember that a matrix is represented as a list of lists. Therefore, we must add each element in the list. The plus symbol is used for concatenating two lists and not for adding every element in two lists."
   ]
  },
  {
   "cell_type": "code",
   "execution_count": 114,
   "metadata": {},
   "outputs": [],
   "source": [
    "# import numpy as np # this is not how the question was supposed to be answered\n",
    "# def numpyaddition(mat1, mat2):\n",
    "#     return list(np.array(mat1) + np.array(mat2))\n",
    "# numpyaddition([[1,2,3],[4,5,6]], [[7,8,9],[10,11,12]]) #uncomment me to test\n",
    "\n",
    "# from operator import add # this didn't work at all, it returned [[1, 2, 3, 7, 8, 9], [4, 5, 6, 10, 11, 12]]\n",
    "# # list(map(add, mat1, mat2))\n",
    "# print(list(map(add, [[1,2,3],[4,5,6]], [[7,8,9],[10,11,12]])))\n",
    "\n",
    "\n",
    "\n",
    "def addition(mat1, mat2):\n",
    "    # This function takes a two lists of lists and adds each cell together\n",
    "    # Input: two list of lists\n",
    "    # Output: one summed list of lists\n",
    "    #\n",
    "    # Sample input: [[1,2,3],[4,5,6]], [[7,8,9], [10,11,12]]\n",
    "    # Sample Output: [[8,10,12],[14,16,18]]\n",
    "    \n",
    "#     sample mat1 = [\n",
    "#         [1,2,3],\n",
    "#         [4,5,6],\n",
    "#     ]\n",
    "#     sample mat2 = [\n",
    "#         [7,8,9],\n",
    "#         [10,11,12],\n",
    "#     ]\n",
    "    # Your code here:\n",
    "    # first check if the matrices are the same dimensions\n",
    "    if compare(mat1, mat2):\n",
    "#         mat3 = [sum(x) for x in list(zip(list1, list2))] worked out the format here, but these need to be called on the sublist!\n",
    "#         for sublist in mat1:\n",
    "#             for sublist in mat2:\n",
    "#                 mat3 = [sum(x) for x in list(zip(mat1[0], mat2[0]))]        \n",
    "#                 return mat3\n",
    "#         mat3 = []\n",
    "#         for sublist in mat1:\n",
    "#             for element in range(len(sublist)):\n",
    "#                 mat3.append([sum(mat1[element] + mat2[element])])\n",
    "#                 return mat3 # returns a single sum, 30, which is just the first row of each matrix combined\n",
    "#         mat3 = []\n",
    "#         if len(mat3) < len(mat1):\n",
    "#             for sublist in mat1:\n",
    "#                 for element in range(len(sublist)): # or range(len(mat1))?\n",
    "# #                   print([sum(element) for element in list(zip(mat1[element], mat2[element]))])\n",
    "#                     mat3.append([sum(element) for element in list(zip(mat1[element], mat2[element]))])\n",
    "#                     return mat3 # returns [8, 10, 12], it is only adding the index zero, so add a recursive element\n",
    "#         else:\n",
    "#             return mat3\n",
    "#         for sublist in mat1:\n",
    "#             for element in range(len(mat1)):\n",
    "#                 mat1[element] += mat2[element]\n",
    "#         return mat1 # wrong, it returns [[1, 2, 3, 7, 8, 9, 7, 8, 9], [4, 5, 6, 10, 11, 12, 10, 11, 12]]\n",
    "\n",
    "#         THIS ONE WORKS, BUT IS NOT RECURSIVE\n",
    "#         new_matrix = [[matrix1[row][column] + matrix2[row][column] for column in range(len(matrix1[0]))] for row in range(len(matrix1))]\n",
    "#         mat3 = [[mat1[row][column] + mat2[row][column] for column in range(len(mat1[0]))] for row in range(len(mat1))]\n",
    "#         return mat3\n"
   ]
  },
  {
   "cell_type": "code",
   "execution_count": 115,
   "metadata": {},
   "outputs": [
    {
     "name": "stdout",
     "output_type": "stream",
     "text": [
      "[[8, 10, 12], [14, 16, 18]]\n"
     ]
    }
   ],
   "source": [
    "# addition([[1,2,3],[4,5,6]], [[7,8,9],[10,11,12]]) # returns [[8, 10, 12], [14, 16, 18]]\n",
    "print(addition([[1,2,3],[4,5,6]], [[7,8,9],[10,11,12]]))\n"
   ]
  },
  {
   "cell_type": "markdown",
   "metadata": {},
   "source": [
    "# Challenge 2 - Creating the Class\n",
    "\n",
    "In the cell below, you will be creating the class Matrix2D. Use the functions you have written above and tweak them according to the instructions in the comments. You got this!"
   ]
  },
  {
   "cell_type": "code",
   "execution_count": 19,
   "metadata": {},
   "outputs": [],
   "source": [
    "class Matrix2D:\n",
    "    # First, we will write the __init__ function. \n",
    "    # In this function, we will initialize rows and the columns using the matrix that we have passed to the class.\n",
    "    \n",
    "    def __init__(self, mat):\n",
    "        # Assign mat to self.mat\n",
    "        # Assign rows and cols to self.rows and self.cols\n",
    "        # To find the rows and the cols, use the rowcolumn function and pass self.mat to the function.\n",
    "        # Since the rowcolumn function is now a member of the class, make sure to refer to the function as self.rowcolumn\n",
    "        \n",
    "        # Your code here:\n",
    "        \n",
    "        \n",
    "    \n",
    "    \n",
    "    # Insert the twodim function here.\n",
    "    # The only change you need to make is that now we are passing self and mat to the function (make sure self is first).\n",
    "    \n",
    "    # Your code here:\n",
    "\n",
    "    \n",
    "    # Insert the rowcolumn function here.\n",
    "    # The changes you need to make: \n",
    "    # 1. The function now takes self and mat as arguments (make sure to pass self first).\n",
    "    # 2. Any reference to twodim will be changed to self.twodim since this function is a member of the class and takes self \n",
    "    \n",
    "    # Your code here:\n",
    "\n",
    "    \n",
    "    \n",
    "    # Insert the compare function here\n",
    "    # Add self as the first argument passed to the function\n",
    "    \n",
    "    # Your code here:\n",
    "\n",
    "\n",
    "    # Insert the addition function here\n",
    "    # This function now takes self and matrix (another matrix of the Matrix2D class)\n",
    "    # Change the compare function to self.compare \n",
    "    # Change any reference to mat1 and mat2 to self.mat and matrix.mat respectively\n",
    "    # Return your result as a Matrix2D(result). This will ensure that we return a new matrix and not a list of lists.\n",
    "    \n",
    "    # Your code here:\n"
   ]
  },
  {
   "cell_type": "code",
   "execution_count": 20,
   "metadata": {},
   "outputs": [
    {
     "data": {
      "text/plain": [
       "[[8, 10, 12], [14, 16, 18]]"
      ]
     },
     "execution_count": 20,
     "metadata": {},
     "output_type": "execute_result"
    }
   ],
   "source": [
    "Matrix2D([[1,2,3],[4,5,6]]).addition(Matrix2D([[7,8,9],[10,11,12]])).mat # should return [[8, 10, 12], [14, 16, 18]]"
   ]
  },
  {
   "cell_type": "markdown",
   "metadata": {},
   "source": [
    "# Bonus Challenge 2 - Transpose Function\n",
    "\n",
    "#### Write a function that transposes the matrix and add it to your class.\n",
    "\n",
    "You can read more about the transpose of a matrix [here](https://en.wikipedia.org/wiki/Transpose).\n",
    "\n",
    "Hint: Use the zip function. Read about it [here](https://docs.python.org/3.3/library/functions.html#zip)\n",
    "\n",
    "Second Hint: Read about the asterisk in Python [here](https://docs.python.org/3/reference/expressions.html#expression-lists)"
   ]
  },
  {
   "cell_type": "code",
   "execution_count": 22,
   "metadata": {},
   "outputs": [],
   "source": [
    "def transpose(mat):\n",
    "    # This function takes a list of lists and returns a transposed list of lists.\n",
    "    # Input: list of lists\n",
    "    # Output: list of lists\n",
    "    \n",
    "    # Sample Input: [[1,2,3],[4,5,6]]\n",
    "    # Sample Output: [[1,4], [2,5], [3,6]]\n",
    "    \n",
    "    # Your code here:\n",
    "    "
   ]
  },
  {
   "cell_type": "code",
   "execution_count": 23,
   "metadata": {},
   "outputs": [
    {
     "data": {
      "text/plain": [
       "[[1, 4], [2, 5], [3, 6]]"
      ]
     },
     "execution_count": 23,
     "metadata": {},
     "output_type": "execute_result"
    }
   ],
   "source": [
    "transpose([[1,2,3],[4,5,6]]) # should return [[1, 4], [2, 5], [3, 6]]"
   ]
  },
  {
   "cell_type": "code",
   "execution_count": null,
   "metadata": {},
   "outputs": [],
   "source": []
  }
 ],
 "metadata": {
  "kernelspec": {
   "display_name": "Python 3",
   "language": "python",
   "name": "python3"
  },
  "language_info": {
   "codemirror_mode": {
    "name": "ipython",
    "version": 3
   },
   "file_extension": ".py",
   "mimetype": "text/x-python",
   "name": "python",
   "nbconvert_exporter": "python",
   "pygments_lexer": "ipython3",
   "version": "3.7.3"
  }
 },
 "nbformat": 4,
 "nbformat_minor": 2
}
