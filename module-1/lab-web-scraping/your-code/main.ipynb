{
 "cells": [
  {
   "cell_type": "markdown",
   "metadata": {},
   "source": [
    "# Web Scraping Lab\n",
    "\n",
    "You will find in this notebook some scrapy exercises to practise your scraping skills.\n",
    "\n",
    "**Tips:**\n",
    "\n",
    "- Check the response status code for each request to ensure you have obtained the intended contennt.\n",
    "- Print the response text in each request to understand the kind of info you are getting and its format.\n",
    "- Check for patterns in the response text to extract the data/info requested in each question.\n",
    "- Visit each url and take a look at its source through Chrome DevTools. You'll need to identify the html tags, special class names etc. used for the html content you are expected to extract."
   ]
  },
  {
   "cell_type": "markdown",
   "metadata": {},
   "source": [
    "- [Requests library](http://docs.python-requests.org/en/master/#the-user-guide) documentation \n",
    "- [Beautiful Soup Doc](https://www.crummy.com/software/BeautifulSoup/bs4/doc/)\n",
    "- [Urllib](https://docs.python.org/3/library/urllib.html#module-urllib)\n",
    "- [re lib](https://docs.python.org/3/library/re.html)\n",
    "- [lxml lib](https://lxml.de/)\n",
    "- [Scrapy](https://scrapy.org/)\n",
    "- [List of HTTP status codes](https://en.wikipedia.org/wiki/List_of_HTTP_status_codes)\n",
    "- [HTML basics](http://www.simplehtmlguide.com/cheatsheet.php)\n",
    "- [CSS basics](https://www.cssbasics.com/#page_start)"
   ]
  },
  {
   "cell_type": "markdown",
   "metadata": {},
   "source": [
    "#### Below are the libraries and modules you may need. `requests`,  `BeautifulSoup` and `pandas` are imported for you. If you prefer to use additional libraries feel free to uncomment them."
   ]
  },
  {
   "cell_type": "code",
   "execution_count": 64,
   "metadata": {},
   "outputs": [],
   "source": [
    "import requests\n",
    "from bs4 import BeautifulSoup as bs\n",
    "import pandas as pd\n",
    "# from pprint import pprint\n",
    "# from lxml import html\n",
    "# from lxml.html import fromstring\n",
    "# import urllib.request\n",
    "# from urllib.request import urlopen\n",
    "# import random\n",
    "# import re\n",
    "# import scrapy\n",
    "# import lxml"
   ]
  },
  {
   "cell_type": "markdown",
   "metadata": {},
   "source": [
    "#### Download, parse (using BeautifulSoup), and print the content from the Trending Developers page from GitHub:"
   ]
  },
  {
   "cell_type": "code",
   "execution_count": 54,
   "metadata": {},
   "outputs": [],
   "source": [
    "# This is the url you will scrape in this exercise\n",
    "url = 'https://github.com/trending/developers'"
   ]
  },
  {
   "cell_type": "code",
   "execution_count": 55,
   "metadata": {},
   "outputs": [],
   "source": [
    "#your code\n",
    "# download the content\n",
    "html_content = requests.get(url).content\n",
    "# print(html_content[0:600])\n",
    "# parse the content - make the soup\n",
    "soup = BeautifulSoup(html_content, \"html.parser\")\n",
    "# print(soup)"
   ]
  },
  {
   "cell_type": "markdown",
   "metadata": {},
   "source": [
    "#### Display the names of the trending developers retrieved in the previous step.\n",
    "\n",
    "Your output should be a Python list of developer names. Each name should not contain any html tag.\n",
    "\n",
    "**Instructions:**\n",
    "\n",
    "1. Find out the html tag and class names used for the developer names. You can achieve this using Chrome DevTools.\n",
    "\n",
    "1. Use BeautifulSoup to extract all the html elements that contain the developer names.\n",
    "\n",
    "1. Use string manipulation techniques to replace whitespaces and linebreaks (i.e. `\\n`) in the *text* of each html element. Use a list to store the clean names.\n",
    "\n",
    "1. Print the list of names.\n",
    "\n",
    "Your output should look like below:\n",
    "\n",
    "```\n",
    "['trimstray (@trimstray)',\n",
    " 'joewalnes (JoeWalnes)',\n",
    " 'charlax (Charles-AxelDein)',\n",
    " 'ForrestKnight (ForrestKnight)',\n",
    " 'revery-ui (revery-ui)',\n",
    " 'alibaba (Alibaba)',\n",
    " 'Microsoft (Microsoft)',\n",
    " 'github (GitHub)',\n",
    " 'facebook (Facebook)',\n",
    " 'boazsegev (Bo)',\n",
    " 'google (Google)',\n",
    " 'cloudfetch',\n",
    " 'sindresorhus (SindreSorhus)',\n",
    " 'tensorflow',\n",
    " 'apache (TheApacheSoftwareFoundation)',\n",
    " 'DevonCrawford (DevonCrawford)',\n",
    " 'ARMmbed (ArmMbed)',\n",
    " 'vuejs (vuejs)',\n",
    " 'fastai (fast.ai)',\n",
    " 'QiShaoXuan (Qi)',\n",
    " 'joelparkerhenderson (JoelParkerHenderson)',\n",
    " 'torvalds (LinusTorvalds)',\n",
    " 'CyC2018',\n",
    " 'komeiji-satori (神楽坂覚々)',\n",
    " 'script-8']\n",
    " ```"
   ]
  },
  {
   "cell_type": "code",
   "execution_count": 56,
   "metadata": {},
   "outputs": [
    {
     "name": "stdout",
     "output_type": "stream",
     "text": [
      "[<h1 class=\"h3 lh-condensed\">\n",
      "<a href=\"/timdeschryver\">\n",
      "            Tim Deschryver\n",
      "</a>\n",
      "</h1>, <h1 class=\"h3 lh-condensed\">\n",
      "<a href=\"/me-no-dev\">\n",
      "            Me No Dev\n",
      "</a>\n",
      "</h1>, <h1 class=\"h3 lh-condensed\">\n",
      "<a href=\"/ADmad\">\n",
      "            ADmad\n",
      "</a>\n",
      "</h1>, <h1 class=\"h3 lh-condensed\">\n",
      "<a href=\"/ericniebler\">\n",
      "            Eric Niebler\n",
      "</a>\n",
      "</h1>, <h1 class=\"h3 lh-condensed\">\n",
      "<a href=\"/hacdias\">\n",
      "            Henrique Dias\n",
      "</a>\n",
      "</h1>, <h1 class=\"h3 lh-condensed\">\n",
      "<a href=\"/RicoSuter\">\n",
      "            Rico Suter\n",
      "</a>\n",
      "</h1>, <h1 class=\"h3 lh-condensed\">\n",
      "<a href=\"/galkahana\">\n",
      "            gal kahana\n",
      "</a>\n",
      "</h1>, <h1 class=\"h3 lh-condensed\">\n",
      "<a href=\"/lithammer\">\n",
      "            Peter Lithammer\n",
      "</a>\n",
      "</h1>, <h1 class=\"h3 lh-condensed\">\n",
      "<a href=\"/edenhill\">\n",
      "            Magnus Edenhill\n",
      "</a>\n",
      "</h1>, <h1 class=\"h3 lh-condensed\">\n",
      "<a href=\"/groue\">\n",
      "            Gwendal Roué\n",
      "</a>\n",
      "</h1>, <h1 class=\"h3 lh-condensed\">\n",
      "<a href=\"/MichalLytek\">\n",
      "            Michał Lytek\n",
      "</a>\n",
      "</h1>, <h1 class=\"h3 lh-condensed\">\n",
      "<a href=\"/atomiks\">\n",
      "            atomiks\n",
      "</a>\n",
      "</h1>, <h1 class=\"h3 lh-condensed\">\n",
      "<a href=\"/torkelo\">\n",
      "            Torkel Ödegaard\n",
      "</a>\n",
      "</h1>, <h1 class=\"h3 lh-condensed\">\n",
      "<a href=\"/TomasVotruba\">\n",
      "            Tomáš Votruba\n",
      "</a>\n",
      "</h1>, <h1 class=\"h3 lh-condensed\">\n",
      "<a href=\"/alexcrichton\">\n",
      "            Alex Crichton\n",
      "</a>\n",
      "</h1>, <h1 class=\"h3 lh-condensed\">\n",
      "<a href=\"/yonaskolb\">\n",
      "            Yonas Kolb\n",
      "</a>\n",
      "</h1>, <h1 class=\"h3 lh-condensed\">\n",
      "<a href=\"/adrienverge\">\n",
      "            Adrien Vergé\n",
      "</a>\n",
      "</h1>, <h1 class=\"h3 lh-condensed\">\n",
      "<a href=\"/tmorehouse\">\n",
      "            Troy Morehouse\n",
      "</a>\n",
      "</h1>, <h1 class=\"h3 lh-condensed\">\n",
      "<a href=\"/duduribeiro\">\n",
      "            Kadu Ribeiro\n",
      "</a>\n",
      "</h1>, <h1 class=\"h3 lh-condensed\">\n",
      "<a href=\"/perliedman\">\n",
      "            Per Liedman\n",
      "</a>\n",
      "</h1>, <h1 class=\"h3 lh-condensed\">\n",
      "<a href=\"/wcandillon\">\n",
      "            William Candillon\n",
      "</a>\n",
      "</h1>, <h1 class=\"h3 lh-condensed\">\n",
      "<a href=\"/dpkp\">\n",
      "            Dana Powers\n",
      "</a>\n",
      "</h1>, <h1 class=\"h3 lh-condensed\">\n",
      "<a href=\"/nukeop\">\n",
      "            nukeop\n",
      "</a>\n",
      "</h1>, <h1 class=\"h3 lh-condensed\">\n",
      "<a href=\"/Cheesebaron\">\n",
      "            Tomasz Cielecki\n",
      "</a>\n",
      "</h1>, <h1 class=\"h3 lh-condensed\">\n",
      "<a href=\"/misolori\">\n",
      "            Miguel Solorio\n",
      "</a>\n",
      "</h1>]\n"
     ]
    }
   ],
   "source": [
    "#your code\n",
    "# <a href=\"/yonaskolb\">Yonas Kolb</a> this includes both the developer name and their handle\n",
    "# or perhaps\n",
    "# class = h3 lh-condensed\n",
    "# print(soup)\n",
    "# trending_devs = soup.find_all('a')\n",
    "trending_devs = soup.find_all('h1', {'class':'h3 lh-condensed'})\n",
    "print(trending_devs)"
   ]
  },
  {
   "cell_type": "code",
   "execution_count": 57,
   "metadata": {},
   "outputs": [
    {
     "name": "stdout",
     "output_type": "stream",
     "text": [
      "['Tim Deschryver', 'Me No Dev', 'ADmad', 'Eric Niebler', 'Henrique Dias', 'Rico Suter', 'gal kahana', 'Peter Lithammer', 'Magnus Edenhill', 'Gwendal Roué', 'Michał Lytek', 'atomiks', 'Torkel Ödegaard', 'Tomáš Votruba', 'Alex Crichton', 'Yonas Kolb', 'Adrien Vergé', 'Troy Morehouse', 'Kadu Ribeiro', 'Per Liedman', 'William Candillon', 'Dana Powers', 'nukeop', 'Tomasz Cielecki', 'Miguel Solorio']\n"
     ]
    }
   ],
   "source": [
    "# then loop through to find the <a href> text\n",
    "# the .text from the <a> tag will be my developer name\n",
    "\n",
    "final_names = []\n",
    "dev_names = [element.text.replace('\\n', '').split() for element in trending_devs]\n",
    "for namepair in dev_names:\n",
    "    final_names.append(' '.join(namepair))\n",
    "#     print(new_name)\n",
    "print(final_names) # although, my output didn't save the \"link name\" from the <a href>"
   ]
  },
  {
   "cell_type": "code",
   "execution_count": 59,
   "metadata": {},
   "outputs": [],
   "source": [
    "#DJK's code\n",
    "# elements = html.find_all('div', {'class': 'col-md-6'})\n",
    "# for i, el in enumerate(elements):\n",
    "#     if i % 2 == 0:\n",
    "#         text = el.text.replace('\\n', '').split() # the split will split on ALL the whitespace, later join it back to skip out the whitespace\n",
    "# #         print(text[-1], \"({})\".format(' '.join(text[:-1]))) # start at the back of the list and joined \"forward\", how come?\n",
    "#         # because some of the names are three names, or no names, just a username\n",
    "        \n",
    "#         name = ' '.join(text[:-1])\n",
    "#         username = text[-1]\n",
    "#         print(username, f'({name}')\n",
    "        "
   ]
  },
  {
   "cell_type": "code",
   "execution_count": 60,
   "metadata": {},
   "outputs": [],
   "source": [
    "# x = \"Random\"\n",
    "# y = \"Ramon\"\n",
    "# print(x + y) # RandomRamon\n",
    "# print(x + \" \" + y) # Random Ramon\n",
    "# print('{} {}'.format(x, y)) # this is the one he used above to place strings inside a parenthesis\n",
    "# print(f'{x} {y}') # Random Ramon\n",
    "# print('%s' % x, '%s' % y)"
   ]
  },
  {
   "cell_type": "markdown",
   "metadata": {},
   "source": [
    "#### Display the trending Python repositories in GitHub\n",
    "\n",
    "The steps to solve this problem is similar to the previous one except that you need to find out the repository names instead of developer names."
   ]
  },
  {
   "cell_type": "code",
   "execution_count": 65,
   "metadata": {},
   "outputs": [],
   "source": [
    "# This is the url you will scrape in this exercise\n",
    "url = 'https://github.com/trending/python?since=daily'"
   ]
  },
  {
   "cell_type": "code",
   "execution_count": 66,
   "metadata": {},
   "outputs": [
    {
     "name": "stdout",
     "output_type": "stream",
     "text": [
      "<h1 class=\"h3 lh-condensed\">\n",
      "<a href=\"/buildbot/buildbot\">\n",
      "<span class=\"mr-1 text-gray\">\n",
      "<svg aria-label=\"repo\" class=\"octicon octicon-repo\" height=\"16\" role=\"img\" version=\"1.1\" viewbox=\"0 0 12 16\" width=\"12\"><path d=\"M4 9H3V8h1v1zm0-3H3v1h1V6zm0-2H3v1h1V4zm0-2H3v1h1V2zm8-1v12c0 .55-.45 1-1 1H6v2l-1.5-1.5L3 16v-2H1c-.55 0-1-.45-1-1V1c0-.55.45-1 1-1h10c.55 0 1 .45 1 1zm-1 10H1v2h2v-1h3v1h5v-2zm0-10H2v9h9V1z\" fill-rule=\"evenodd\"></path></svg>\n",
      "</span>\n",
      "<span class=\"text-normal\">\n",
      "        buildbot /\n",
      "</span>\n",
      "\n",
      "\n",
      "      buildbot\n",
      "</a>\n",
      "</h1>\n"
     ]
    }
   ],
   "source": [
    "#your code\n",
    "html_content = requests.get(url).content\n",
    "soup = bs(html_content, \"html.parser\")\n",
    "\n",
    "trending_repos = soup.find_all('h1', {'class':'h3 lh-condensed'})\n",
    "print(trending_repos[0])"
   ]
  },
  {
   "cell_type": "code",
   "execution_count": 71,
   "metadata": {},
   "outputs": [
    {
     "name": "stdout",
     "output_type": "stream",
     "text": [
      "['buildbot', 'DataDog', 'streamlit', 'wemake-services', 'evilsocket', 'mukulhase', 'LiyuanLucasLiu', 'matrix-org', 'openai', 'cornellius-gp', 'mne-tools', 'scikit-learn', 'matterport', 'ansible', 'tensorflow', 'matplotlib', 'eeeeeeeeeeeeeeeeeeeeeeeeeeeeeeee', 'GeoNode', 'mapbox', 'bazelbuild', 'demisto', 'pytorch', 'pytorch', 'edx', 'aio-libs']\n"
     ]
    }
   ],
   "source": [
    "top_repos = []\n",
    "# repo_names = [element.text.replace('\\n', '').split() for element in trending_repos]\n",
    "repo_names = [element.text.replace('\\n', '').replace('/', '').split() for element in trending_repos]\n",
    "# print(repo_names)\n",
    "for pair in repo_names:\n",
    "    top_repos.append(pair[0])\n",
    "print(top_repos)"
   ]
  },
  {
   "cell_type": "markdown",
   "metadata": {},
   "source": [
    "#### Display all the image links from Walt Disney wikipedia page"
   ]
  },
  {
   "cell_type": "code",
   "execution_count": 72,
   "metadata": {},
   "outputs": [],
   "source": [
    "# This is the url you will scrape in this exercise\n",
    "url = 'https://en.wikipedia.org/wiki/Walt_Disney'"
   ]
  },
  {
   "cell_type": "code",
   "execution_count": 73,
   "metadata": {},
   "outputs": [],
   "source": [
    "#your code\n",
    "html_content = requests.get(url).content\n",
    "soup = bs(html_content, \"html.parser\")\n"
   ]
  },
  {
   "cell_type": "code",
   "execution_count": 97,
   "metadata": {},
   "outputs": [
    {
     "name": "stdout",
     "output_type": "stream",
     "text": [
      "[<img alt=\"This is a featured article. Click here for more information.\" data-file-height=\"438\" data-file-width=\"462\" decoding=\"async\" height=\"19\" src=\"//upload.wikimedia.org/wikipedia/en/thumb/e/e7/Cscr-featured.svg/20px-Cscr-featured.svg.png\" srcset=\"//upload.wikimedia.org/wikipedia/en/thumb/e/e7/Cscr-featured.svg/30px-Cscr-featured.svg.png 1.5x, //upload.wikimedia.org/wikipedia/en/thumb/e/e7/Cscr-featured.svg/40px-Cscr-featured.svg.png 2x\" width=\"20\"/>, <img alt=\"Page semi-protected\" data-file-height=\"512\" data-file-width=\"512\" decoding=\"async\" height=\"20\" src=\"//upload.wikimedia.org/wikipedia/en/thumb/1/1b/Semi-protection-shackle.svg/20px-Semi-protection-shackle.svg.png\" srcset=\"//upload.wikimedia.org/wikipedia/en/thumb/1/1b/Semi-protection-shackle.svg/30px-Semi-protection-shackle.svg.png 1.5x, //upload.wikimedia.org/wikipedia/en/thumb/1/1b/Semi-protection-shackle.svg/40px-Semi-protection-shackle.svg.png 2x\" width=\"20\"/>, <img alt=\"Walt Disney 1946.JPG\" data-file-height=\"675\" data-file-width=\"450\" decoding=\"async\" height=\"330\" src=\"//upload.wikimedia.org/wikipedia/commons/thumb/d/df/Walt_Disney_1946.JPG/220px-Walt_Disney_1946.JPG\" srcset=\"//upload.wikimedia.org/wikipedia/commons/thumb/d/df/Walt_Disney_1946.JPG/330px-Walt_Disney_1946.JPG 1.5x, //upload.wikimedia.org/wikipedia/commons/thumb/d/df/Walt_Disney_1946.JPG/440px-Walt_Disney_1946.JPG 2x\" width=\"220\"/>, <img alt=\"Walt Disney 1942 signature.svg\" data-file-height=\"218\" data-file-width=\"585\" decoding=\"async\" height=\"56\" src=\"//upload.wikimedia.org/wikipedia/commons/thumb/8/87/Walt_Disney_1942_signature.svg/150px-Walt_Disney_1942_signature.svg.png\" srcset=\"//upload.wikimedia.org/wikipedia/commons/thumb/8/87/Walt_Disney_1942_signature.svg/225px-Walt_Disney_1942_signature.svg.png 1.5x, //upload.wikimedia.org/wikipedia/commons/thumb/8/87/Walt_Disney_1942_signature.svg/300px-Walt_Disney_1942_signature.svg.png 2x\" width=\"150\"/>, <img alt=\"\" class=\"thumbimage\" data-file-height=\"1086\" data-file-width=\"1576\" decoding=\"async\" height=\"152\" src=\"//upload.wikimedia.org/wikipedia/commons/thumb/c/c4/Walt_Disney_envelope_ca._1921.jpg/220px-Walt_Disney_envelope_ca._1921.jpg\" srcset=\"//upload.wikimedia.org/wikipedia/commons/thumb/c/c4/Walt_Disney_envelope_ca._1921.jpg/330px-Walt_Disney_envelope_ca._1921.jpg 1.5x, //upload.wikimedia.org/wikipedia/commons/thumb/c/c4/Walt_Disney_envelope_ca._1921.jpg/440px-Walt_Disney_envelope_ca._1921.jpg 2x\" width=\"220\"/>, <img alt=\"File:Newman Laugh-O-Gram (1921).webm\" src=\"//upload.wikimedia.org/wikipedia/commons/thumb/4/4d/Newman_Laugh-O-Gram_%281921%29.webm/220px-seek%3D2-Newman_Laugh-O-Gram_%281921%29.webm.jpg\" style=\"width:220px;height:165px\"/>, <img alt=\"A cartoon rabbit is driving a tramcar; other cartoon rabbits are in, under, on and around the car.\" class=\"thumbimage\" data-file-height=\"1600\" data-file-width=\"1202\" decoding=\"async\" height=\"226\" src=\"//upload.wikimedia.org/wikipedia/commons/thumb/0/0d/Trolley_Troubles_poster.jpg/170px-Trolley_Troubles_poster.jpg\" srcset=\"//upload.wikimedia.org/wikipedia/commons/thumb/0/0d/Trolley_Troubles_poster.jpg/255px-Trolley_Troubles_poster.jpg 1.5x, //upload.wikimedia.org/wikipedia/commons/thumb/0/0d/Trolley_Troubles_poster.jpg/340px-Trolley_Troubles_poster.jpg 2x\" width=\"170\"/>, <img alt=\"Walt Disney with Mickey Mouse\" class=\"thumbimage\" data-file-height=\"1028\" data-file-width=\"915\" decoding=\"async\" height=\"191\" src=\"//upload.wikimedia.org/wikipedia/commons/thumb/7/71/Walt_Disney_and_his_cartoon_creation_%22Mickey_Mouse%22_-_National_Board_of_Review_Magazine.jpg/170px-Walt_Disney_and_his_cartoon_creation_%22Mickey_Mouse%22_-_National_Board_of_Review_Magazine.jpg\" srcset=\"//upload.wikimedia.org/wikipedia/commons/thumb/7/71/Walt_Disney_and_his_cartoon_creation_%22Mickey_Mouse%22_-_National_Board_of_Review_Magazine.jpg/255px-Walt_Disney_and_his_cartoon_creation_%22Mickey_Mouse%22_-_National_Board_of_Review_Magazine.jpg 1.5x, //upload.wikimedia.org/wikipedia/commons/thumb/7/71/Walt_Disney_and_his_cartoon_creation_%22Mickey_Mouse%22_-_National_Board_of_Review_Magazine.jpg/340px-Walt_Disney_and_his_cartoon_creation_%22Mickey_Mouse%22_-_National_Board_of_Review_Magazine.jpg 2x\" width=\"170\"/>, <img alt=\"A cartoon mouse is operating a ship's steering wheel\" class=\"thumbimage\" data-file-height=\"267\" data-file-width=\"373\" decoding=\"async\" height=\"122\" src=\"//upload.wikimedia.org/wikipedia/en/thumb/4/4e/Steamboat-willie.jpg/170px-Steamboat-willie.jpg\" srcset=\"//upload.wikimedia.org/wikipedia/en/thumb/4/4e/Steamboat-willie.jpg/255px-Steamboat-willie.jpg 1.5x, //upload.wikimedia.org/wikipedia/en/thumb/4/4e/Steamboat-willie.jpg/340px-Steamboat-willie.jpg 2x\" width=\"170\"/>, <img alt=\"\" class=\"thumbimage\" data-file-height=\"451\" data-file-width=\"358\" decoding=\"async\" height=\"214\" src=\"//upload.wikimedia.org/wikipedia/commons/thumb/5/57/Walt_Disney_1935.jpg/170px-Walt_Disney_1935.jpg\" srcset=\"//upload.wikimedia.org/wikipedia/commons/thumb/5/57/Walt_Disney_1935.jpg/255px-Walt_Disney_1935.jpg 1.5x, //upload.wikimedia.org/wikipedia/commons/thumb/5/57/Walt_Disney_1935.jpg/340px-Walt_Disney_1935.jpg 2x\" width=\"170\"/>, <img alt=\"Walt Disney sits in front of a set of models of the seven dwarfs\" class=\"thumbimage\" data-file-height=\"388\" data-file-width=\"500\" decoding=\"async\" height=\"171\" src=\"//upload.wikimedia.org/wikipedia/commons/thumb/c/cd/Walt_Disney_Snow_white_1937_trailer_screenshot_%2813%29.jpg/220px-Walt_Disney_Snow_white_1937_trailer_screenshot_%2813%29.jpg\" srcset=\"//upload.wikimedia.org/wikipedia/commons/thumb/c/cd/Walt_Disney_Snow_white_1937_trailer_screenshot_%2813%29.jpg/330px-Walt_Disney_Snow_white_1937_trailer_screenshot_%2813%29.jpg 1.5x, //upload.wikimedia.org/wikipedia/commons/thumb/c/cd/Walt_Disney_Snow_white_1937_trailer_screenshot_%2813%29.jpg/440px-Walt_Disney_Snow_white_1937_trailer_screenshot_%2813%29.jpg 2x\" width=\"220\"/>, <img alt=\"\" class=\"thumbimage\" data-file-height=\"770\" data-file-width=\"600\" decoding=\"async\" height=\"218\" src=\"//upload.wikimedia.org/wikipedia/commons/thumb/1/15/Disney_drawing_goofy.jpg/170px-Disney_drawing_goofy.jpg\" srcset=\"//upload.wikimedia.org/wikipedia/commons/thumb/1/15/Disney_drawing_goofy.jpg/255px-Disney_drawing_goofy.jpg 1.5x, //upload.wikimedia.org/wikipedia/commons/thumb/1/15/Disney_drawing_goofy.jpg/340px-Disney_drawing_goofy.jpg 2x\" width=\"170\"/>, <img alt=\"\" class=\"thumbimage\" data-file-height=\"2493\" data-file-width=\"3247\" decoding=\"async\" height=\"169\" src=\"//upload.wikimedia.org/wikipedia/commons/thumb/1/13/DisneySchiphol1951.jpg/220px-DisneySchiphol1951.jpg\" srcset=\"//upload.wikimedia.org/wikipedia/commons/thumb/1/13/DisneySchiphol1951.jpg/330px-DisneySchiphol1951.jpg 1.5x, //upload.wikimedia.org/wikipedia/commons/thumb/1/13/DisneySchiphol1951.jpg/440px-DisneySchiphol1951.jpg 2x\" width=\"220\"/>, <img alt=\"\" class=\"thumbimage\" data-file-height=\"2417\" data-file-width=\"2723\" decoding=\"async\" height=\"195\" src=\"//upload.wikimedia.org/wikipedia/commons/thumb/8/8c/WaltDisneyplansDisneylandDec1954.jpg/220px-WaltDisneyplansDisneylandDec1954.jpg\" srcset=\"//upload.wikimedia.org/wikipedia/commons/thumb/8/8c/WaltDisneyplansDisneylandDec1954.jpg/330px-WaltDisneyplansDisneylandDec1954.jpg 1.5x, //upload.wikimedia.org/wikipedia/commons/thumb/8/8c/WaltDisneyplansDisneylandDec1954.jpg/440px-WaltDisneyplansDisneylandDec1954.jpg 2x\" width=\"220\"/>, <img alt=\"\" class=\"thumbimage\" data-file-height=\"902\" data-file-width=\"667\" decoding=\"async\" height=\"230\" src=\"//upload.wikimedia.org/wikipedia/commons/thumb/f/ff/Walt_disney_portrait_right.jpg/170px-Walt_disney_portrait_right.jpg\" srcset=\"//upload.wikimedia.org/wikipedia/commons/thumb/f/ff/Walt_disney_portrait_right.jpg/255px-Walt_disney_portrait_right.jpg 1.5x, //upload.wikimedia.org/wikipedia/commons/thumb/f/ff/Walt_disney_portrait_right.jpg/340px-Walt_disney_portrait_right.jpg 2x\" width=\"170\"/>, <img alt=\"A gravestone inscribed 'Walter Elias Disney', 'Lillian Bounds Disney', 'Robert B. Brown', Sharon Disney Brown Lund ashes scattered in paradise'\" class=\"thumbimage\" data-file-height=\"1700\" data-file-width=\"1400\" decoding=\"async\" height=\"206\" src=\"//upload.wikimedia.org/wikipedia/commons/thumb/1/1a/Walt_Disney_Grave.JPG/170px-Walt_Disney_Grave.JPG\" srcset=\"//upload.wikimedia.org/wikipedia/commons/thumb/1/1a/Walt_Disney_Grave.JPG/255px-Walt_Disney_Grave.JPG 1.5x, //upload.wikimedia.org/wikipedia/commons/thumb/1/1a/Walt_Disney_Grave.JPG/340px-Walt_Disney_Grave.JPG 2x\" width=\"170\"/>, <img alt=\"\" class=\"thumbimage\" data-file-height=\"275\" data-file-width=\"220\" decoding=\"async\" height=\"213\" src=\"//upload.wikimedia.org/wikipedia/commons/thumb/2/2d/Roy_O._Disney_with_Company_at_Press_Conference.jpg/170px-Roy_O._Disney_with_Company_at_Press_Conference.jpg\" srcset=\"//upload.wikimedia.org/wikipedia/commons/2/2d/Roy_O._Disney_with_Company_at_Press_Conference.jpg 1.5x\" width=\"170\"/>, <img alt=\"\" class=\"thumbimage\" data-file-height=\"3025\" data-file-width=\"1927\" decoding=\"async\" height=\"267\" src=\"//upload.wikimedia.org/wikipedia/commons/thumb/a/a9/Disney_Display_Case.JPG/170px-Disney_Display_Case.JPG\" srcset=\"//upload.wikimedia.org/wikipedia/commons/thumb/a/a9/Disney_Display_Case.JPG/255px-Disney_Display_Case.JPG 1.5x, //upload.wikimedia.org/wikipedia/commons/thumb/a/a9/Disney_Display_Case.JPG/340px-Disney_Display_Case.JPG 2x\" width=\"170\"/>, <img alt=\"A portrait of Disney with cartoon representations of different nationalities on a 6 cent US stamp\" class=\"thumbimage\" data-file-height=\"286\" data-file-width=\"190\" decoding=\"async\" height=\"256\" src=\"//upload.wikimedia.org/wikipedia/commons/thumb/6/6c/Disney1968.jpg/170px-Disney1968.jpg\" srcset=\"//upload.wikimedia.org/wikipedia/commons/6/6c/Disney1968.jpg 1.5x\" width=\"170\"/>, <img alt=\"Edit this at Wikidata\" data-file-height=\"20\" data-file-width=\"20\" decoding=\"async\" height=\"10\" src=\"//upload.wikimedia.org/wikipedia/en/thumb/8/8a/OOjs_UI_icon_edit-ltr-progressive.svg/10px-OOjs_UI_icon_edit-ltr-progressive.svg.png\" srcset=\"//upload.wikimedia.org/wikipedia/en/thumb/8/8a/OOjs_UI_icon_edit-ltr-progressive.svg/15px-OOjs_UI_icon_edit-ltr-progressive.svg.png 1.5x, //upload.wikimedia.org/wikipedia/en/thumb/8/8a/OOjs_UI_icon_edit-ltr-progressive.svg/20px-OOjs_UI_icon_edit-ltr-progressive.svg.png 2x\" style=\"vertical-align: text-top\" width=\"10\"/>, <img alt=\"Animation disc.svg\" data-file-height=\"28\" data-file-width=\"30\" decoding=\"async\" height=\"28\" src=\"//upload.wikimedia.org/wikipedia/commons/thumb/d/da/Animation_disc.svg/30px-Animation_disc.svg.png\" srcset=\"//upload.wikimedia.org/wikipedia/commons/thumb/d/da/Animation_disc.svg/45px-Animation_disc.svg.png 1.5x, //upload.wikimedia.org/wikipedia/commons/thumb/d/da/Animation_disc.svg/60px-Animation_disc.svg.png 2x\" width=\"30\"/>, <img alt=\"P vip.svg\" data-file-height=\"1944\" data-file-width=\"1911\" decoding=\"async\" height=\"30\" src=\"//upload.wikimedia.org/wikipedia/en/thumb/6/69/P_vip.svg/29px-P_vip.svg.png\" srcset=\"//upload.wikimedia.org/wikipedia/en/thumb/6/69/P_vip.svg/44px-P_vip.svg.png 1.5x, //upload.wikimedia.org/wikipedia/en/thumb/6/69/P_vip.svg/59px-P_vip.svg.png 2x\" width=\"29\"/>, <img alt=\"Magic Kingdom castle.jpg\" data-file-height=\"1545\" data-file-width=\"1262\" decoding=\"async\" height=\"30\" src=\"//upload.wikimedia.org/wikipedia/commons/thumb/1/1a/Magic_Kingdom_castle.jpg/24px-Magic_Kingdom_castle.jpg\" srcset=\"//upload.wikimedia.org/wikipedia/commons/thumb/1/1a/Magic_Kingdom_castle.jpg/37px-Magic_Kingdom_castle.jpg 1.5x, //upload.wikimedia.org/wikipedia/commons/thumb/1/1a/Magic_Kingdom_castle.jpg/49px-Magic_Kingdom_castle.jpg 2x\" width=\"24\"/>, <img alt=\"Video-x-generic.svg\" data-file-height=\"48\" data-file-width=\"48\" decoding=\"async\" height=\"30\" src=\"//upload.wikimedia.org/wikipedia/en/thumb/e/e7/Video-x-generic.svg/30px-Video-x-generic.svg.png\" srcset=\"//upload.wikimedia.org/wikipedia/en/thumb/e/e7/Video-x-generic.svg/45px-Video-x-generic.svg.png 1.5x, //upload.wikimedia.org/wikipedia/en/thumb/e/e7/Video-x-generic.svg/60px-Video-x-generic.svg.png 2x\" width=\"30\"/>, <img alt=\"Flag of Los Angeles County, California.svg\" data-file-height=\"913\" data-file-width=\"1522\" decoding=\"async\" height=\"18\" src=\"//upload.wikimedia.org/wikipedia/commons/thumb/a/a3/Flag_of_Los_Angeles_County%2C_California.svg/30px-Flag_of_Los_Angeles_County%2C_California.svg.png\" srcset=\"//upload.wikimedia.org/wikipedia/commons/thumb/a/a3/Flag_of_Los_Angeles_County%2C_California.svg/45px-Flag_of_Los_Angeles_County%2C_California.svg.png 1.5x, //upload.wikimedia.org/wikipedia/commons/thumb/a/a3/Flag_of_Los_Angeles_County%2C_California.svg/60px-Flag_of_Los_Angeles_County%2C_California.svg.png 2x\" width=\"30\"/>, <img alt=\"Blank television set.svg\" data-file-height=\"92\" data-file-width=\"138\" decoding=\"async\" height=\"20\" src=\"//upload.wikimedia.org/wikipedia/commons/thumb/8/8c/Blank_television_set.svg/30px-Blank_television_set.svg.png\" srcset=\"//upload.wikimedia.org/wikipedia/commons/thumb/8/8c/Blank_television_set.svg/45px-Blank_television_set.svg.png 1.5x, //upload.wikimedia.org/wikipedia/commons/thumb/8/8c/Blank_television_set.svg/60px-Blank_television_set.svg.png 2x\" width=\"30\"/>, <img alt=\"Flag of the United States.svg\" data-file-height=\"650\" data-file-width=\"1235\" decoding=\"async\" height=\"16\" src=\"//upload.wikimedia.org/wikipedia/en/thumb/a/a4/Flag_of_the_United_States.svg/30px-Flag_of_the_United_States.svg.png\" srcset=\"//upload.wikimedia.org/wikipedia/en/thumb/a/a4/Flag_of_the_United_States.svg/45px-Flag_of_the_United_States.svg.png 1.5x, //upload.wikimedia.org/wikipedia/en/thumb/a/a4/Flag_of_the_United_States.svg/60px-Flag_of_the_United_States.svg.png 2x\" width=\"30\"/>, <img alt=\"\" data-file-height=\"1376\" data-file-width=\"1024\" decoding=\"async\" height=\"30\" src=\"//upload.wikimedia.org/wikipedia/en/thumb/4/4a/Commons-logo.svg/22px-Commons-logo.svg.png\" srcset=\"//upload.wikimedia.org/wikipedia/en/thumb/4/4a/Commons-logo.svg/33px-Commons-logo.svg.png 1.5x, //upload.wikimedia.org/wikipedia/en/thumb/4/4a/Commons-logo.svg/45px-Commons-logo.svg.png 2x\" width=\"22\"/>, <img alt=\"\" data-file-height=\"355\" data-file-width=\"300\" decoding=\"async\" height=\"30\" src=\"//upload.wikimedia.org/wikipedia/commons/thumb/f/fa/Wikiquote-logo.svg/25px-Wikiquote-logo.svg.png\" srcset=\"//upload.wikimedia.org/wikipedia/commons/thumb/f/fa/Wikiquote-logo.svg/38px-Wikiquote-logo.svg.png 1.5x, //upload.wikimedia.org/wikipedia/commons/thumb/f/fa/Wikiquote-logo.svg/51px-Wikiquote-logo.svg.png 2x\" width=\"25\"/>, <img alt=\"\" data-file-height=\"590\" data-file-width=\"1050\" decoding=\"async\" height=\"17\" src=\"//upload.wikimedia.org/wikipedia/commons/thumb/f/ff/Wikidata-logo.svg/30px-Wikidata-logo.svg.png\" srcset=\"//upload.wikimedia.org/wikipedia/commons/thumb/f/ff/Wikidata-logo.svg/45px-Wikidata-logo.svg.png 1.5x, //upload.wikimedia.org/wikipedia/commons/thumb/f/ff/Wikidata-logo.svg/60px-Wikidata-logo.svg.png 2x\" width=\"30\"/>, <img alt=\"Edit this at Wikidata\" data-file-height=\"20\" data-file-width=\"20\" decoding=\"async\" height=\"10\" src=\"//upload.wikimedia.org/wikipedia/en/thumb/8/8a/OOjs_UI_icon_edit-ltr-progressive.svg/10px-OOjs_UI_icon_edit-ltr-progressive.svg.png\" srcset=\"//upload.wikimedia.org/wikipedia/en/thumb/8/8a/OOjs_UI_icon_edit-ltr-progressive.svg/15px-OOjs_UI_icon_edit-ltr-progressive.svg.png 1.5x, //upload.wikimedia.org/wikipedia/en/thumb/8/8a/OOjs_UI_icon_edit-ltr-progressive.svg/20px-OOjs_UI_icon_edit-ltr-progressive.svg.png 2x\" style=\"vertical-align: text-top\" width=\"10\"/>, <img alt=\"\" height=\"1\" src=\"//en.wikipedia.org/wiki/Special:CentralAutoLogin/start?type=1x1\" style=\"border: none; position: absolute;\" title=\"\" width=\"1\"/>, <img alt=\"Wikimedia Foundation\" height=\"31\" src=\"/static/images/wikimedia-button.png\" srcset=\"/static/images/wikimedia-button-1.5x.png 1.5x, /static/images/wikimedia-button-2x.png 2x\" width=\"88\"/>, <img alt=\"Powered by MediaWiki\" height=\"31\" src=\"/static/images/poweredby_mediawiki_88x31.png\" srcset=\"/static/images/poweredby_mediawiki_132x47.png 1.5x, /static/images/poweredby_mediawiki_176x62.png 2x\" width=\"88\"/>]\n"
     ]
    }
   ],
   "source": [
    "# wd_images = soup.find_all('a', {'class':'image'})\n",
    "# print(wd_images)\n",
    "wd_images = soup.find_all('img')\n",
    "print(wd_images)"
   ]
  },
  {
   "cell_type": "code",
   "execution_count": 112,
   "metadata": {},
   "outputs": [
    {
     "name": "stdout",
     "output_type": "stream",
     "text": [
      "['//upload.wikimedia.org/wikipedia/en/thumb/e/e7/Cscr-featured.svg/20px-Cscr-featured.svg.png', '//upload.wikimedia.org/wikipedia/en/thumb/1/1b/Semi-protection-shackle.svg/20px-Semi-protection-shackle.svg.png', '//upload.wikimedia.org/wikipedia/commons/thumb/d/df/Walt_Disney_1946.JPG/220px-Walt_Disney_1946.JPG', '//upload.wikimedia.org/wikipedia/commons/thumb/8/87/Walt_Disney_1942_signature.svg/150px-Walt_Disney_1942_signature.svg.png', '//upload.wikimedia.org/wikipedia/commons/thumb/c/c4/Walt_Disney_envelope_ca._1921.jpg/220px-Walt_Disney_envelope_ca._1921.jpg', '//upload.wikimedia.org/wikipedia/commons/thumb/4/4d/Newman_Laugh-O-Gram_%281921%29.webm/220px-seek%3D2-Newman_Laugh-O-Gram_%281921%29.webm.jpg', '//upload.wikimedia.org/wikipedia/commons/thumb/0/0d/Trolley_Troubles_poster.jpg/170px-Trolley_Troubles_poster.jpg', '//upload.wikimedia.org/wikipedia/commons/thumb/7/71/Walt_Disney_and_his_cartoon_creation_%22Mickey_Mouse%22_-_National_Board_of_Review_Magazine.jpg/170px-Walt_Disney_and_his_cartoon_creation_%22Mickey_Mouse%22_-_National_Board_of_Review_Magazine.jpg', '//upload.wikimedia.org/wikipedia/en/thumb/4/4e/Steamboat-willie.jpg/170px-Steamboat-willie.jpg', '//upload.wikimedia.org/wikipedia/commons/thumb/5/57/Walt_Disney_1935.jpg/170px-Walt_Disney_1935.jpg', '//upload.wikimedia.org/wikipedia/commons/thumb/c/cd/Walt_Disney_Snow_white_1937_trailer_screenshot_%2813%29.jpg/220px-Walt_Disney_Snow_white_1937_trailer_screenshot_%2813%29.jpg', '//upload.wikimedia.org/wikipedia/commons/thumb/1/15/Disney_drawing_goofy.jpg/170px-Disney_drawing_goofy.jpg', '//upload.wikimedia.org/wikipedia/commons/thumb/1/13/DisneySchiphol1951.jpg/220px-DisneySchiphol1951.jpg', '//upload.wikimedia.org/wikipedia/commons/thumb/8/8c/WaltDisneyplansDisneylandDec1954.jpg/220px-WaltDisneyplansDisneylandDec1954.jpg', '//upload.wikimedia.org/wikipedia/commons/thumb/f/ff/Walt_disney_portrait_right.jpg/170px-Walt_disney_portrait_right.jpg', '//upload.wikimedia.org/wikipedia/commons/thumb/1/1a/Walt_Disney_Grave.JPG/170px-Walt_Disney_Grave.JPG', '//upload.wikimedia.org/wikipedia/commons/thumb/2/2d/Roy_O._Disney_with_Company_at_Press_Conference.jpg/170px-Roy_O._Disney_with_Company_at_Press_Conference.jpg', '//upload.wikimedia.org/wikipedia/commons/thumb/a/a9/Disney_Display_Case.JPG/170px-Disney_Display_Case.JPG', '//upload.wikimedia.org/wikipedia/commons/thumb/6/6c/Disney1968.jpg/170px-Disney1968.jpg', '//upload.wikimedia.org/wikipedia/en/thumb/8/8a/OOjs_UI_icon_edit-ltr-progressive.svg/10px-OOjs_UI_icon_edit-ltr-progressive.svg.png', '//upload.wikimedia.org/wikipedia/commons/thumb/d/da/Animation_disc.svg/30px-Animation_disc.svg.png', '//upload.wikimedia.org/wikipedia/en/thumb/6/69/P_vip.svg/29px-P_vip.svg.png', '//upload.wikimedia.org/wikipedia/commons/thumb/1/1a/Magic_Kingdom_castle.jpg/24px-Magic_Kingdom_castle.jpg', '//upload.wikimedia.org/wikipedia/en/thumb/e/e7/Video-x-generic.svg/30px-Video-x-generic.svg.png', '//upload.wikimedia.org/wikipedia/commons/thumb/a/a3/Flag_of_Los_Angeles_County%2C_California.svg/30px-Flag_of_Los_Angeles_County%2C_California.svg.png', '//upload.wikimedia.org/wikipedia/commons/thumb/8/8c/Blank_television_set.svg/30px-Blank_television_set.svg.png', '//upload.wikimedia.org/wikipedia/en/thumb/a/a4/Flag_of_the_United_States.svg/30px-Flag_of_the_United_States.svg.png', '//upload.wikimedia.org/wikipedia/en/thumb/4/4a/Commons-logo.svg/22px-Commons-logo.svg.png', '//upload.wikimedia.org/wikipedia/commons/thumb/f/fa/Wikiquote-logo.svg/25px-Wikiquote-logo.svg.png', '//upload.wikimedia.org/wikipedia/commons/thumb/f/ff/Wikidata-logo.svg/30px-Wikidata-logo.svg.png', '//upload.wikimedia.org/wikipedia/en/thumb/8/8a/OOjs_UI_icon_edit-ltr-progressive.svg/10px-OOjs_UI_icon_edit-ltr-progressive.svg.png', '//en.wikipedia.org/wiki/Special:CentralAutoLogin/start?type=1x1', '/static/images/wikimedia-button.png', '/static/images/poweredby_mediawiki_88x31.png']\n"
     ]
    }
   ],
   "source": [
    "disney_image_links = []\n",
    "for link in wd_images:\n",
    "#     print(link.get('src'))\n",
    "    disney_image_links.append(link.get('src'))\n",
    "print(disney_image_links) # un-comment this to technically answer the list\n"
   ]
  },
  {
   "cell_type": "markdown",
   "metadata": {},
   "source": [
    "#### Retrieve an arbitary Wikipedia page of \"Python\" and create a list of links on that page"
   ]
  },
  {
   "cell_type": "code",
   "execution_count": 114,
   "metadata": {},
   "outputs": [],
   "source": [
    "# This is the url you will scrape in this exercise\n",
    "url ='https://en.wikipedia.org/wiki/Python' "
   ]
  },
  {
   "cell_type": "code",
   "execution_count": 115,
   "metadata": {},
   "outputs": [],
   "source": [
    "#your code\n",
    "html_content = requests.get(url).content\n",
    "soup = bs(html_content, \"html.parser\")"
   ]
  },
  {
   "cell_type": "code",
   "execution_count": 116,
   "metadata": {},
   "outputs": [
    {
     "name": "stdout",
     "output_type": "stream",
     "text": [
      "None\n",
      "#mw-head\n",
      "#p-search\n",
      "https://en.wiktionary.org/wiki/Python\n",
      "https://en.wiktionary.org/wiki/python\n",
      "#Snakes\n",
      "#Ancient_Greece\n",
      "#Media_and_entertainment\n",
      "#Computing\n",
      "#Engineering\n",
      "#Roller_coasters\n",
      "#Vehicles\n",
      "#Weaponry\n",
      "#People\n",
      "#Other_uses\n",
      "#See_also\n",
      "/w/index.php?title=Python&action=edit&section=1\n",
      "/wiki/Pythonidae\n",
      "/wiki/Python_(genus)\n",
      "/w/index.php?title=Python&action=edit&section=2\n",
      "/wiki/Python_(mythology)\n",
      "/wiki/Python_of_Aenus\n",
      "/wiki/Python_(painter)\n",
      "/wiki/Python_of_Byzantium\n",
      "/wiki/Python_of_Catana\n",
      "/w/index.php?title=Python&action=edit&section=3\n",
      "/wiki/Python_(film)\n",
      "/wiki/Pythons_2\n",
      "/wiki/Monty_Python\n",
      "/wiki/Python_(Monty)_Pictures\n",
      "/w/index.php?title=Python&action=edit&section=4\n",
      "/wiki/Python_(programming_language)\n",
      "/wiki/CPython\n",
      "/wiki/CMU_Common_Lisp\n",
      "/wiki/PERQ#PERQ_3\n",
      "/w/index.php?title=Python&action=edit&section=5\n",
      "/w/index.php?title=Python&action=edit&section=6\n",
      "/wiki/Python_(Busch_Gardens_Tampa_Bay)\n",
      "/wiki/Python_(Coney_Island,_Cincinnati,_Ohio)\n",
      "/wiki/Python_(Efteling)\n",
      "/w/index.php?title=Python&action=edit&section=7\n",
      "/wiki/Python_(automobile_maker)\n",
      "/wiki/Python_(Ford_prototype)\n",
      "/w/index.php?title=Python&action=edit&section=8\n",
      "/wiki/Colt_Python\n",
      "/wiki/Python_(missile)\n",
      "/wiki/Python_(nuclear_primary)\n",
      "/w/index.php?title=Python&action=edit&section=9\n",
      "/wiki/Python_Anghelo\n",
      "/w/index.php?title=Python&action=edit&section=10\n",
      "/wiki/PYTHON\n",
      "/w/index.php?title=Python&action=edit&section=11\n",
      "/wiki/Cython\n",
      "/wiki/Pyton\n",
      "/wiki/File:Disambig_gray.svg\n",
      "/wiki/Help:Disambiguation\n",
      "https://en.wikipedia.org/w/index.php?title=Special:WhatLinksHere/Python&namespace=0\n",
      "https://en.wikipedia.org/w/index.php?title=Python&oldid=918851926\n",
      "/wiki/Help:Category\n",
      "/wiki/Category:Disambiguation_pages\n",
      "/wiki/Category:Disambiguation_pages_with_short_description\n",
      "/wiki/Category:All_article_disambiguation_pages\n",
      "/wiki/Category:All_disambiguation_pages\n",
      "/wiki/Category:Animal_common_name_disambiguation_pages\n",
      "/wiki/Special:MyTalk\n",
      "/wiki/Special:MyContributions\n",
      "/w/index.php?title=Special:CreateAccount&returnto=Python\n",
      "/w/index.php?title=Special:UserLogin&returnto=Python\n",
      "/wiki/Python\n",
      "/wiki/Talk:Python\n",
      "/wiki/Python\n",
      "/w/index.php?title=Python&action=edit\n",
      "/w/index.php?title=Python&action=history\n",
      "/wiki/Main_Page\n",
      "/wiki/Main_Page\n",
      "/wiki/Portal:Contents\n",
      "/wiki/Portal:Featured_content\n",
      "/wiki/Portal:Current_events\n",
      "/wiki/Special:Random\n",
      "https://donate.wikimedia.org/wiki/Special:FundraiserRedirector?utm_source=donate&utm_medium=sidebar&utm_campaign=C13_en.wikipedia.org&uselang=en\n",
      "//shop.wikimedia.org\n",
      "/wiki/Help:Contents\n",
      "/wiki/Wikipedia:About\n",
      "/wiki/Wikipedia:Community_portal\n",
      "/wiki/Special:RecentChanges\n",
      "//en.wikipedia.org/wiki/Wikipedia:Contact_us\n",
      "/wiki/Special:WhatLinksHere/Python\n",
      "/wiki/Special:RecentChangesLinked/Python\n",
      "/wiki/Wikipedia:File_Upload_Wizard\n",
      "/wiki/Special:SpecialPages\n",
      "/w/index.php?title=Python&oldid=918851926\n",
      "/w/index.php?title=Python&action=info\n",
      "https://www.wikidata.org/wiki/Special:EntityPage/Q747452\n",
      "/w/index.php?title=Special:CiteThisPage&page=Python&id=918851926\n",
      "https://commons.wikimedia.org/wiki/Category:Python\n",
      "/w/index.php?title=Special:Book&bookcmd=book_creator&referer=Python\n",
      "/w/index.php?title=Special:ElectronPdf&page=Python&action=show-download-screen\n",
      "/w/index.php?title=Python&printable=yes\n",
      "https://af.wikipedia.org/wiki/Python\n",
      "https://als.wikipedia.org/wiki/Python\n",
      "https://az.wikipedia.org/wiki/Python\n",
      "https://bn.wikipedia.org/wiki/%E0%A6%AA%E0%A6%BE%E0%A6%87%E0%A6%A5%E0%A6%A8_(%E0%A6%A6%E0%A7%8D%E0%A6%AC%E0%A7%8D%E0%A6%AF%E0%A6%B0%E0%A7%8D%E0%A6%A5%E0%A6%A4%E0%A6%BE_%E0%A6%A8%E0%A6%BF%E0%A6%B0%E0%A6%B8%E0%A6%A8)\n",
      "https://be.wikipedia.org/wiki/Python\n",
      "https://bg.wikipedia.org/wiki/%D0%9F%D0%B8%D1%82%D0%BE%D0%BD_(%D0%BF%D0%BE%D1%8F%D1%81%D0%BD%D0%B5%D0%BD%D0%B8%D0%B5)\n",
      "https://cs.wikipedia.org/wiki/Python_(rozcestn%C3%ADk)\n",
      "https://da.wikipedia.org/wiki/Python\n",
      "https://de.wikipedia.org/wiki/Python\n",
      "https://eo.wikipedia.org/wiki/Pitono_(apartigilo)\n",
      "https://eu.wikipedia.org/wiki/Python_(argipena)\n",
      "https://fa.wikipedia.org/wiki/%D9%BE%D8%A7%DB%8C%D8%AA%D9%88%D9%86\n",
      "https://fr.wikipedia.org/wiki/Python\n",
      "https://ko.wikipedia.org/wiki/%ED%8C%8C%EC%9D%B4%EC%84%A0\n",
      "https://hr.wikipedia.org/wiki/Python_(razdvojba)\n",
      "https://io.wikipedia.org/wiki/Pitono\n",
      "https://id.wikipedia.org/wiki/Python\n",
      "https://ia.wikipedia.org/wiki/Python_(disambiguation)\n",
      "https://is.wikipedia.org/wiki/Python_(a%C3%B0greining)\n",
      "https://it.wikipedia.org/wiki/Python_(disambigua)\n",
      "https://he.wikipedia.org/wiki/%D7%A4%D7%99%D7%AA%D7%95%D7%9F\n",
      "https://ka.wikipedia.org/wiki/%E1%83%9E%E1%83%98%E1%83%97%E1%83%9D%E1%83%9C%E1%83%98_(%E1%83%9B%E1%83%A0%E1%83%90%E1%83%95%E1%83%90%E1%83%9A%E1%83%9B%E1%83%9C%E1%83%98%E1%83%A8%E1%83%95%E1%83%9C%E1%83%94%E1%83%9A%E1%83%9D%E1%83%95%E1%83%90%E1%83%9C%E1%83%98)\n",
      "https://kg.wikipedia.org/wiki/Mboma_(nyoka)\n",
      "https://la.wikipedia.org/wiki/Python_(discretiva)\n",
      "https://lb.wikipedia.org/wiki/Python\n",
      "https://hu.wikipedia.org/wiki/Python_(egy%C3%A9rtelm%C5%B1s%C3%ADt%C5%91_lap)\n",
      "https://mr.wikipedia.org/wiki/%E0%A4%AA%E0%A4%BE%E0%A4%AF%E0%A4%A5%E0%A5%89%E0%A4%A8_(%E0%A4%86%E0%A4%9C%E0%A5%8D%E0%A4%9E%E0%A4%BE%E0%A4%B5%E0%A4%B2%E0%A5%80_%E0%A4%AD%E0%A4%BE%E0%A4%B7%E0%A4%BE)\n",
      "https://nl.wikipedia.org/wiki/Python\n",
      "https://ja.wikipedia.org/wiki/%E3%83%91%E3%82%A4%E3%82%BD%E3%83%B3\n",
      "https://no.wikipedia.org/wiki/Pyton\n",
      "https://pl.wikipedia.org/wiki/Pyton\n",
      "https://pt.wikipedia.org/wiki/Python_(desambigua%C3%A7%C3%A3o)\n",
      "https://ru.wikipedia.org/wiki/Python_(%D0%B7%D0%BD%D0%B0%D1%87%D0%B5%D0%BD%D0%B8%D1%8F)\n",
      "https://sd.wikipedia.org/wiki/%D8%A7%D8%B1%DA%99\n",
      "https://sk.wikipedia.org/wiki/Python\n",
      "https://sh.wikipedia.org/wiki/Python\n",
      "https://fi.wikipedia.org/wiki/Python\n",
      "https://sv.wikipedia.org/wiki/Pyton\n",
      "https://th.wikipedia.org/wiki/%E0%B9%84%E0%B8%9E%E0%B8%97%E0%B8%AD%E0%B8%99\n",
      "https://tr.wikipedia.org/wiki/Python\n",
      "https://uk.wikipedia.org/wiki/%D0%9F%D1%96%D1%84%D0%BE%D0%BD\n",
      "https://ur.wikipedia.org/wiki/%D9%BE%D8%A7%D8%A6%DB%8C%D8%AA%DA%BE%D9%88%D9%86\n",
      "https://vi.wikipedia.org/wiki/Python\n",
      "https://zh.wikipedia.org/wiki/Python_(%E6%B6%88%E6%AD%A7%E4%B9%89)\n",
      "https://www.wikidata.org/wiki/Special:EntityPage/Q747452#sitelinks-wikipedia\n",
      "//en.wikipedia.org/wiki/Wikipedia:Text_of_Creative_Commons_Attribution-ShareAlike_3.0_Unported_License\n",
      "//creativecommons.org/licenses/by-sa/3.0/\n",
      "//foundation.wikimedia.org/wiki/Terms_of_Use\n",
      "//foundation.wikimedia.org/wiki/Privacy_policy\n",
      "//www.wikimediafoundation.org/\n",
      "https://foundation.wikimedia.org/wiki/Privacy_policy\n",
      "/wiki/Wikipedia:About\n",
      "/wiki/Wikipedia:General_disclaimer\n",
      "//en.wikipedia.org/wiki/Wikipedia:Contact_us\n",
      "https://www.mediawiki.org/wiki/Special:MyLanguage/How_to_contribute\n",
      "https://foundation.wikimedia.org/wiki/Cookie_statement\n",
      "//en.m.wikipedia.org/w/index.php?title=Python&mobileaction=toggle_view_mobile\n",
      "https://wikimediafoundation.org/\n",
      "https://www.mediawiki.org/\n"
     ]
    }
   ],
   "source": [
    "for link in soup.find_all('a'):\n",
    "    print(link.get('href'))"
   ]
  },
  {
   "cell_type": "markdown",
   "metadata": {},
   "source": [
    "#### Number of Titles that have changed in the United States Code since its last release point "
   ]
  },
  {
   "cell_type": "code",
   "execution_count": 117,
   "metadata": {},
   "outputs": [],
   "source": [
    "# This is the url you will scrape in this exercise\n",
    "url = 'http://uscode.house.gov/download/download.shtml'\n",
    "# those items with class=\"usctitlechanged\""
   ]
  },
  {
   "cell_type": "code",
   "execution_count": 118,
   "metadata": {},
   "outputs": [],
   "source": [
    "#your code\n",
    "html_content = requests.get(url).content\n",
    "soup = bs(html_content, \"html.parser\")"
   ]
  },
  {
   "cell_type": "code",
   "execution_count": 121,
   "metadata": {},
   "outputs": [
    {
     "name": "stdout",
     "output_type": "stream",
     "text": [
      "The number of Titles that have changed since last release point is 4\n"
     ]
    }
   ],
   "source": [
    "changed_codes = soup.find_all('div', {'class':'usctitlechanged'})\n",
    "# print(changed_codes)\n",
    "print(\"The number of Titles that have changed since last release point is \" + str(len(changed_codes)))"
   ]
  },
  {
   "cell_type": "markdown",
   "metadata": {},
   "source": [
    "#### A Python list with the top ten FBI's Most Wanted names "
   ]
  },
  {
   "cell_type": "code",
   "execution_count": 122,
   "metadata": {},
   "outputs": [],
   "source": [
    "# This is the url you will scrape in this exercise\n",
    "url = 'https://www.fbi.gov/wanted/topten'"
   ]
  },
  {
   "cell_type": "code",
   "execution_count": 127,
   "metadata": {},
   "outputs": [
    {
     "name": "stdout",
     "output_type": "stream",
     "text": [
      "['ROBERT WILLIAM FISHER', 'BHADRESHKUMAR CHETANBHAI PATEL', 'ARNOLDO JIMENEZ', 'ALEJANDRO ROSALES CASTILLO', 'YASER ABDEL SAID', 'JASON DEREK BROWN', 'ALEXIS FLORES', 'EUGENE PALMER', 'SANTIAGO VILLALBA MEDEROS', 'RAFAEL CARO-QUINTERO']\n"
     ]
    }
   ],
   "source": [
    "#your code \n",
    "html_content = requests.get(url).content\n",
    "soup = bs(html_content, \"html.parser\")\n",
    "\n",
    "most_wanted = [element.text.replace('\\n', '') for element in soup.find_all('h3', {'class':'title'})]\n",
    "print(most_wanted)"
   ]
  },
  {
   "cell_type": "markdown",
   "metadata": {},
   "source": [
    "####  20 latest earthquakes info (date, time, latitude, longitude and region name) by the EMSC as a pandas dataframe"
   ]
  },
  {
   "cell_type": "code",
   "execution_count": 192,
   "metadata": {},
   "outputs": [],
   "source": [
    "# This is the url you will scrape in this exercise\n",
    "url = 'https://www.emsc-csem.org/Earthquake/'"
   ]
  },
  {
   "cell_type": "code",
   "execution_count": 214,
   "metadata": {},
   "outputs": [],
   "source": [
    "#your code\n",
    "html_content = requests.get(url).content\n",
    "soup = bs(html_content, \"html.parser\")\n",
    "# print(soup)\n",
    "# recent_quakes_table = soup.find_all('tbody', {'id':'tbody'})[0] # because I'm looking for the FIRST tbody on the page\n",
    "# print(recent_quakes_table)"
   ]
  },
  {
   "cell_type": "code",
   "execution_count": 241,
   "metadata": {},
   "outputs": [
    {
     "ename": "TypeError",
     "evalue": "list indices must be integers or slices, not str",
     "output_type": "error",
     "traceback": [
      "\u001b[0;31m---------------------------------------------------------------------------\u001b[0m",
      "\u001b[0;31mTypeError\u001b[0m                                 Traceback (most recent call last)",
      "\u001b[0;32m<ipython-input-241-8d2240df5bd6>\u001b[0m in \u001b[0;36m<module>\u001b[0;34m\u001b[0m\n\u001b[1;32m      1\u001b[0m \u001b[0mrecent_quakes_latlong\u001b[0m \u001b[0;34m=\u001b[0m \u001b[0msoup\u001b[0m\u001b[0;34m.\u001b[0m\u001b[0mfind_all\u001b[0m\u001b[0;34m(\u001b[0m\u001b[0;34m'td'\u001b[0m\u001b[0;34m,\u001b[0m \u001b[0;34m{\u001b[0m\u001b[0;34m'class'\u001b[0m\u001b[0;34m:\u001b[0m\u001b[0;34m'tabev1'\u001b[0m\u001b[0;34m}\u001b[0m\u001b[0;34m)\u001b[0m\u001b[0;34m\u001b[0m\u001b[0;34m\u001b[0m\u001b[0m\n\u001b[1;32m      2\u001b[0m \u001b[0;31m# print(recent_quakes_latlong)\u001b[0m\u001b[0;34m\u001b[0m\u001b[0;34m\u001b[0m\u001b[0;34m\u001b[0m\u001b[0m\n\u001b[0;32m----> 3\u001b[0;31m \u001b[0mlats\u001b[0m \u001b[0;34m=\u001b[0m \u001b[0;34m[\u001b[0m\u001b[0melement\u001b[0m\u001b[0;34m.\u001b[0m\u001b[0mtext\u001b[0m\u001b[0;34m.\u001b[0m\u001b[0mstrip\u001b[0m\u001b[0;34m(\u001b[0m\u001b[0;34m)\u001b[0m \u001b[0;32mfor\u001b[0m \u001b[0melement\u001b[0m \u001b[0;32min\u001b[0m \u001b[0mrecent_quakes_latlong\u001b[0m \u001b[0;32mif\u001b[0m \u001b[0mrecent_quakes_latlong\u001b[0m\u001b[0;34m[\u001b[0m\u001b[0melement\u001b[0m\u001b[0;34m.\u001b[0m\u001b[0mtext\u001b[0m\u001b[0;34m]\u001b[0m \u001b[0;34m%\u001b[0m \u001b[0;36m2\u001b[0m \u001b[0;34m==\u001b[0m \u001b[0;36m0\u001b[0m\u001b[0;34m]\u001b[0m\u001b[0;34m\u001b[0m\u001b[0;34m\u001b[0m\u001b[0m\n\u001b[0m\u001b[1;32m      4\u001b[0m \u001b[0;31m# longs = [element.text.strip() for element in recent_quakes_latlong if [element] % 2 != 0]\u001b[0m\u001b[0;34m\u001b[0m\u001b[0;34m\u001b[0m\u001b[0;34m\u001b[0m\u001b[0m\n",
      "\u001b[0;32m<ipython-input-241-8d2240df5bd6>\u001b[0m in \u001b[0;36m<listcomp>\u001b[0;34m(.0)\u001b[0m\n\u001b[1;32m      1\u001b[0m \u001b[0mrecent_quakes_latlong\u001b[0m \u001b[0;34m=\u001b[0m \u001b[0msoup\u001b[0m\u001b[0;34m.\u001b[0m\u001b[0mfind_all\u001b[0m\u001b[0;34m(\u001b[0m\u001b[0;34m'td'\u001b[0m\u001b[0;34m,\u001b[0m \u001b[0;34m{\u001b[0m\u001b[0;34m'class'\u001b[0m\u001b[0;34m:\u001b[0m\u001b[0;34m'tabev1'\u001b[0m\u001b[0;34m}\u001b[0m\u001b[0;34m)\u001b[0m\u001b[0;34m\u001b[0m\u001b[0;34m\u001b[0m\u001b[0m\n\u001b[1;32m      2\u001b[0m \u001b[0;31m# print(recent_quakes_latlong)\u001b[0m\u001b[0;34m\u001b[0m\u001b[0;34m\u001b[0m\u001b[0;34m\u001b[0m\u001b[0m\n\u001b[0;32m----> 3\u001b[0;31m \u001b[0mlats\u001b[0m \u001b[0;34m=\u001b[0m \u001b[0;34m[\u001b[0m\u001b[0melement\u001b[0m\u001b[0;34m.\u001b[0m\u001b[0mtext\u001b[0m\u001b[0;34m.\u001b[0m\u001b[0mstrip\u001b[0m\u001b[0;34m(\u001b[0m\u001b[0;34m)\u001b[0m \u001b[0;32mfor\u001b[0m \u001b[0melement\u001b[0m \u001b[0;32min\u001b[0m \u001b[0mrecent_quakes_latlong\u001b[0m \u001b[0;32mif\u001b[0m \u001b[0mrecent_quakes_latlong\u001b[0m\u001b[0;34m[\u001b[0m\u001b[0melement\u001b[0m\u001b[0;34m.\u001b[0m\u001b[0mtext\u001b[0m\u001b[0;34m]\u001b[0m \u001b[0;34m%\u001b[0m \u001b[0;36m2\u001b[0m \u001b[0;34m==\u001b[0m \u001b[0;36m0\u001b[0m\u001b[0;34m]\u001b[0m\u001b[0;34m\u001b[0m\u001b[0;34m\u001b[0m\u001b[0m\n\u001b[0m\u001b[1;32m      4\u001b[0m \u001b[0;31m# longs = [element.text.strip() for element in recent_quakes_latlong if [element] % 2 != 0]\u001b[0m\u001b[0;34m\u001b[0m\u001b[0;34m\u001b[0m\u001b[0;34m\u001b[0m\u001b[0m\n",
      "\u001b[0;31mTypeError\u001b[0m: list indices must be integers or slices, not str"
     ]
    }
   ],
   "source": [
    "recent_quakes_latlong = soup.find_all('td', {'class':'tabev1'})\n",
    "# print(recent_quakes_latlong)\n",
    "# lats = [element.text.strip() for element in recent_quakes_latlong if recent_quakes_latlong[element.text] % 2 == 0]\n",
    "# longs = [element.text.strip() for element in recent_quakes_latlong if [element] % 2 != 0]"
   ]
  },
  {
   "cell_type": "code",
   "execution_count": 209,
   "metadata": {},
   "outputs": [
    {
     "name": "stdout",
     "output_type": "stream",
     "text": [
      "                          0                1         2         3       4   \\\n",
      "0       earthquake2019-10-04  01:36:22.116min  ago37.65         N  118.95   \n",
      "1       earthquake2019-10-04  01:32:59.020min  ago16.20         N   97.52   \n",
      "2       earthquake2019-10-04  01:32:52.020min  ago42.75         S   74.22   \n",
      "3       earthquake2019-10-04  01:21:16.931min  ago59.00         N  152.08   \n",
      "4       earthquake2019-10-04  01:06:09.046min   ago4.80         N  126.37   \n",
      "5       earthquake2019-10-04  00:53:55.159min  ago56.36         N  156.13   \n",
      "6       earthquake2019-10-04    00:45:57.71hr     07min   ago1.38       N   \n",
      "7       earthquake2019-10-04    00:34:06.61hr     18min  ago36.31       N   \n",
      "8       earthquake2019-10-04    00:26:26.01hr     26min  ago31.39       S   \n",
      "9       earthquake2019-10-04    00:12:29.81hr     40min  ago57.68       N   \n",
      "10      earthquake2019-10-04    00:07:45.81hr     45min  ago37.46       N   \n",
      "11                      None             None      None      None    None   \n",
      "12                      None             None      None      None    None   \n",
      "13                      None             None      None      None    None   \n",
      "14  36IVearthquake2019-10-03    23:52:00.92hr     01min  ago44.60       N   \n",
      "15      earthquake2019-10-03    23:44:49.02hr     08min  ago19.72       N   \n",
      "16      earthquake2019-10-03    23:34:57.02hr     18min  ago19.69       N   \n",
      "17      earthquake2019-10-03    23:33:32.12hr     19min  ago39.29       N   \n",
      "18      earthquake2019-10-03    23:23:21.42hr     29min  ago35.78       N   \n",
      "19      earthquake2019-10-03    22:48:42.33hr     04min  ago39.83       N   \n",
      "20      earthquake2019-10-03    22:41:15.93hr     11min  ago62.28       N   \n",
      "\n",
      "        5        6         7                    8                     9   \\\n",
      "0        W   5Md2.2      LONG               VALLEY                 AREA,   \n",
      "1        W        6      M4.1              OAXACA,      MEXICO2019-10-04   \n",
      "2        W  38ML3.1  OFFSHORE                  LOS                LAGOS,   \n",
      "3        W  27ML2.8  SOUTHERN     ALASKA2019-10-04                 01:29   \n",
      "4        E       93      M4.5            KEPULAUAN               TALAUD,   \n",
      "5        W  48ML2.9    ALASKA  PENINSULA2019-10-04                 01:08   \n",
      "6   125.78        E   57mb4.6              MOLUCCA         SEA2019-10-04   \n",
      "7    29.29        E   25ML2.2              WESTERN      TURKEY2019-10-04   \n",
      "8    67.69        W        10                 M3.6                   SAN   \n",
      "9   154.19        W   35ML2.3               KODIAK                ISLAND   \n",
      "10  118.49        W    2ML2.0              CENTRAL  CALIFORNIA2019-10-04   \n",
      "11    None     None      None                 None                  None   \n",
      "12    None     None      None                 None                  None   \n",
      "13    None     None      None                 None                  None   \n",
      "14   18.63        E   10ML3.0               BOSNIA                   AND   \n",
      "15   71.60        W        12                 M2.7             DOMINICAN   \n",
      "16   70.75        W        23                 M2.9             DOMINICAN   \n",
      "17   99.41        W    5mb2.6     KANSAS2019-10-03                 23:43   \n",
      "18  117.58        W   10Ml2.1             SOUTHERN  CALIFORNIA2019-10-03   \n",
      "19   40.49        E    7ML2.4              EASTERN      TURKEY2019-10-04   \n",
      "20  150.38        W   15ML2.5              CENTRAL      ALASKA2019-10-03   \n",
      "\n",
      "                       10                   11     12  \n",
      "0    CALIFORNIA2019-10-04                01:37   None  \n",
      "1                   01:50                 None   None  \n",
      "2         CHILE2019-10-04                01:42   None  \n",
      "3                    None                 None   None  \n",
      "4     INDONESIA2019-10-04                01:15   None  \n",
      "5                    None                 None   None  \n",
      "6                   00:56                 None   None  \n",
      "7                   01:51                 None   None  \n",
      "8                   JUAN,  ARGENTINA2019-10-04  00:35  \n",
      "9                 REGION,     ALASKA2019-10-04  00:29  \n",
      "10                  00:22                 None   None  \n",
      "11                   None                 None   None  \n",
      "12                   None                 None   None  \n",
      "13                   None                 None   None  \n",
      "14  HERZEGOVINA2019-10-03                23:57   None  \n",
      "15     REPUBLIC2019-10-04                00:15   None  \n",
      "16     REPUBLIC2019-10-04                00:02   None  \n",
      "17                   None                 None   None  \n",
      "18                  23:27                 None   None  \n",
      "19                  01:39                 None   None  \n",
      "20                  22:58                 None   None  \n"
     ]
    }
   ],
   "source": [
    "quake_rows = recent_quakes_table.find_all('tr')[:21]\n",
    "# quake_list = [\" \".join(element.text).split(\" \") for element in quake_rows]\n",
    "# quake_list = [(\"\".join(element.text)).split() for element in quake_rows]\n",
    "# quake_list = [(\"\".join(element.text)).split() for element in quake_rows]\n",
    "quake_list = [element.text.split() for element in quake_rows]\n",
    "quake_df = pd.DataFrame(quake_list)\n",
    "\n",
    "print(quake_df)"
   ]
  },
  {
   "cell_type": "code",
   "execution_count": 210,
   "metadata": {},
   "outputs": [],
   "source": [
    "# date, time, latitude, longitude and region name\n",
    "# ['date', 'time', 'ago', ]"
   ]
  },
  {
   "cell_type": "code",
   "execution_count": 242,
   "metadata": {},
   "outputs": [],
   "source": [
    "url = 'https://www.emsc-csem.org/Earthquake/'\n",
    "html_content = requests.get(url).content\n",
    "soup = bs(html_content, \"html.parser\")"
   ]
  },
  {
   "cell_type": "code",
   "execution_count": 245,
   "metadata": {},
   "outputs": [
    {
     "name": "stdout",
     "output_type": "stream",
     "text": [
      "<table border=\"0\" cellpadding=\"0\" cellspacing=\"0\" width=\"100%\"><thead>\n",
      "<tr>\n",
      "<td colspan=\"13\" style=\"background: white;height: 1px\"></td>\n",
      "</tr>\n",
      "<tr id=\"haut_tableau\"><th class=\"th2 th3\" colspan=\"3\" style=\"width:90px;display:table-csell;\"><div onmouseout=\"info_b('notshow','','');\" onmouseover=\"info_b('show','Represents the results of information provided by users (Felt earthquake, pictures, testimonies ,...)&lt;br&gt;See an intensity map for more details on the macroseismic intensity scale.','Citizen response');\">Citizen<br/>Response</div><br/><table cellpadding=\"0\" cellspacing=\"0\" style=\"width:100%;margin:0;text-align:center;\"><tr><td><div onclick=\"change_tri('im_report');\" onmouseout=\"change_image(this,'out','im_report');\" onmouseover=\"change_image(this,'over','im_report');\"><span class=\"spriteorig sp_ico_list\" onmouseout=\"info_b2('notshow','');\" onmouseover=\"info_b2('show','Sorted by number of &lt;b&gt;Comments&lt;/b&gt;');\"></span><span class=\"spriteorig sp_s_asc\" id=\"im_report\" style=\"display:none;\"></span></div></td><td><div onclick=\"change_tri('im_pics');\" onmouseout=\"change_image(this,'out','im_pics');\" onmouseover=\"change_image(this,'over','im_pics');\"><span class=\"spriteorig sp_digikam\" onmouseout=\"info_b2('notshow','');\" onmouseover=\"info_b2('show','Sorted by number of &lt;b&gt;Pictures&lt;/b&gt;');\"></span><span class=\"spriteorig sp_s_asc\" id=\"im_pics\" style=\"display:none;\"></span></div></td><td><div onclick=\"change_tri('im_intens');\" onmouseout=\"change_image(this,'out','im_intens');\" onmouseover=\"change_image(this,'over','im_intens');\"><span class=\"spriteorig sp_IntensityMap\" onmouseout=\"info_b2('notshow','');\" onmouseover=\"info_b2('show','Sorted by &lt;b&gt;Macroseismic Intensity&lt;/b&gt;');\"></span><span class=\"spriteorig sp_s_asc\" id=\"im_intens\" style=\"display:none;\"></span></div></td></tr></table></th><th class=\"th2\" onclick=\"change_tri('im_time');\" onmouseout=\"change_image(this,'out','im_time');\" onmouseover=\"change_image(this,'over','im_time');\">Date &amp; Time <span class=\"spriteorig sp_s_desc\" id=\"im_select\"></span><div style=\"font-weight:normal;\">UTC</div></th><th class=\"th2\" colspan=\"2\" onclick=\"change_tri('im_lat');\" onmouseout=\"change_image(this,'out','im_lat');\" onmouseover=\"change_image(this,'over','im_lat');\">Latitude <span class=\"spriteorig sp_s_asc\" id=\"im_lat\" style=\"display:none;\"></span><div style=\"font-weight:normal;\">degrees</div></th><th class=\"th2\" colspan=\"2\" onclick=\"change_tri('im_lon');\" onmouseout=\"change_image(this,'out','im_lon');\" onmouseover=\"change_image(this,'over','im_lon');\">Longitude <span class=\"spriteorig sp_s_asc\" id=\"im_lon\" style=\"display:none;\"></span><div style=\"font-weight:normal;\">degrees</div></th><th class=\"th2\" onclick=\"change_tri('im_depth');\" onmouseout=\"change_image(this,'out','im_depth');\" onmouseover=\"change_image(this,'over','im_depth');\">Depth <span class=\"spriteorig sp_s_asc\" id=\"im_depth\" style=\"display:none;\"></span><div style=\"font-weight: normal\">km</div></th><th class=\"th2\" colspan=\"1\" id=\"thmag\"><div onclick=\"change_tri('im_mag');\" onmouseout=\"change_image(this,'out','im_mag');\" onmouseover=\"change_image(this,'over','im_mag');\" style=\"float:left;\">Mag <span class=\"spriteorig sp_s_asc\" id=\"im_mag\" style=\"display:none;\"></span></div><div id=\"magplus2\" style=\"float:left;\"> <a href=\"javascript:hide_magni();\" id=\"magplus\" style=\"color:white;\">[+]</a></div></th><th class=\"th2\" id=\"ex_th2\"><div onclick=\"change_tri('im_reg');\" onmouseout=\"change_image(this,'out','im_reg');\" onmouseover=\"change_image(this,'over','im_reg');\" style=\"float:left;\">Region name <span class=\"spriteorig sp_s_asc\" id=\"im_reg\" style=\"display:none;\"></span></div><div id=\"upda\" onmouseout=\"info_b2('notshow','');\" onmouseover=\"info_b2('show','Show last update');\"> <a href=\"javascript:hide_upd();\" style=\"color:white;\">[+]</a></div></th><th class=\"th2 updatetimeno\" id=\"upd\"><div id=\"labupd\" onclick=\"change_tri('im_upd');\" onmouseout=\"change_image(this,'out','im_upd');\" onmouseover=\"change_image(this,'over','im_upd');\" style=\"float:left;text-align:right;\">Last update <span class=\"spriteorig sp_s_asc\" id=\"im_upd\" style=\"display:none;\"></span></div><div id=\"hideupda\" onmouseout=\"info_b2('notshow','');\" onmouseover=\"info_b2('show','Hide last update');\" style=\"float:left;\"><a href=\"javascript:hide_upd();\" style=\"color:white;\">[-]</a></div></th></tr>\n",
      "<tr><td colspan=\"13\" style=\"background: white;height: 1px\"></td></tr>\n",
      "<tr class=\"npages\" id=\"my_pagelist_0\"><td colspan=\"13\"><a class=\"sublink sublinka\" href=\"javascript:void()\" rel=\"nofollow\">1</a><a class=\"sublink\" href=\"/Earthquake/?view=2\">2</a><a class=\"sublink\" href=\"/Earthquake/?view=3\">3</a><a class=\"sublink\" href=\"/Earthquake/?view=4\">4</a><a class=\"sublink\" href=\"/Earthquake/?view=5\">5</a><a class=\"sublink\" href=\"/Earthquake/?view=6\">6</a><a class=\"sublink\" href=\"/Earthquake/?view=7\">7</a><a class=\"sublink\" href=\"/Earthquake/?view=8\">8</a><a class=\"sublink\" href=\"/Earthquake/?view=9\">9</a><a class=\"sublink\" href=\"/Earthquake/?view=10\">10</a><a alt=\"Next page\" class=\"sublink\" href=\"/Earthquake/?view=2\">›</a><a alt=\"Next 10 pages\" class=\"sublink\" href=\"/Earthquake/?view=11\">»</a></td></tr></thead><tbody id=\"tbody\"><tr class=\"ligne1 normal\" id=\"796797\" onclick=\"go_details(event,796797);\"><td class=\"tabev0\"></td><td class=\"tabev0\"></td><td class=\"tabev0\"></td><td class=\"tabev6\"><b><i style=\"display:none;\">earthquake</i><a href=\"/Earthquake/earthquake.php?id=796797\">2019-10-04   03:08:11.7</a></b><i class=\"ago\" id=\"ago0\">22min ago</i></td><td class=\"tabev1\">29.64 </td><td class=\"tabev2\">S  </td><td class=\"tabev1\">72.76 </td><td class=\"tabev2\">W  </td><td class=\"tabev3\">10</td><td class=\"tabev5\" id=\"magtyp0\">Mw</td><td class=\"tabev2\">4.5</td><td class=\"tb_region\" id=\"reg0\"> OFF COAST OF COQUIMBO, CHILE</td><td class=\"comment updatetimeno\" id=\"upd0\" style=\"text-align:right;\">2019-10-04 03:29</td></tr>\n",
      "<tr class=\"ligne2 normal\" id=\"796796\" onclick=\"go_details(event,796796);\"><td class=\"tabev0\"></td><td class=\"tabev0\"></td><td class=\"tabev0\"></td><td class=\"tabev6\"><b><i style=\"display:none;\">earthquake</i><a href=\"/Earthquake/earthquake.php?id=796796\">2019-10-04   02:49:56.7</a></b><i class=\"ago\" id=\"ago1\">40min ago</i></td><td class=\"tabev1\">38.08 </td><td class=\"tabev2\">N  </td><td class=\"tabev1\">15.08 </td><td class=\"tabev2\">E  </td><td class=\"tabev3\">8</td><td class=\"tabev5\" id=\"magtyp1\">ML</td><td class=\"tabev2\">2.0</td><td class=\"tb_region\" id=\"reg1\"> SICILY, ITALY</td><td class=\"comment updatetimeno\" id=\"upd1\" style=\"text-align:right;\">2019-10-04 02:57</td></tr>\n",
      "<tr class=\"ligne1 normal\" id=\"796793\" onclick=\"go_details(event,796793);\"><td class=\"tabev0\"></td><td class=\"tabev0\"></td><td class=\"tabev0\"></td><td class=\"tabev6\"><b><i style=\"display:none;\">earthquake</i><a href=\"/Earthquake/earthquake.php?id=796793\">2019-10-04   02:25:22.7</a></b><i class=\"ago\" id=\"ago2\">1hr 05min ago</i></td><td class=\"tabev1\">38.84 </td><td class=\"tabev2\">N  </td><td class=\"tabev1\">122.77 </td><td class=\"tabev2\">W  </td><td class=\"tabev3\">1</td><td class=\"tabev5\" id=\"magtyp2\">Md</td><td class=\"tabev2\">2.5</td><td class=\"tb_region\" id=\"reg2\"> NORTHERN CALIFORNIA</td><td class=\"comment updatetimeno\" id=\"upd2\" style=\"text-align:right;\">2019-10-04 02:26</td></tr>\n",
      "<tr class=\"ligne2 normal\" id=\"796789\" onclick=\"go_details(event,796789);\"><td class=\"tabev0\"></td><td class=\"tabev0\"></td><td class=\"tabev0\"></td><td class=\"tabev6\"><b><i style=\"display:none;\">earthquake</i><a href=\"/Earthquake/earthquake.php?id=796789\">2019-10-04   02:07:24.0</a></b><i class=\"ago\" id=\"ago3\">1hr 23min ago</i></td><td class=\"tabev1\">2.49 </td><td class=\"tabev2\">S  </td><td class=\"tabev1\">138.49 </td><td class=\"tabev2\">E  </td><td class=\"tabev3\">13</td><td class=\"tabev5\" id=\"magtyp3\"> M</td><td class=\"tabev2\">3.9</td><td class=\"tb_region\" id=\"reg3\"> PAPUA, INDONESIA</td><td class=\"comment updatetimeno\" id=\"upd3\" style=\"text-align:right;\">2019-10-04 02:11</td></tr>\n",
      "<tr class=\"ligne1 normal\" id=\"796787\" onclick=\"go_details(event,796787);\"><td class=\"tabev0\"></td><td class=\"tabev0\"></td><td class=\"tabev0\"></td><td class=\"tabev6\"><b><i style=\"display:none;\">earthquake</i><a href=\"/Earthquake/earthquake.php?id=796787\">2019-10-04   01:52:34.2</a></b><i class=\"ago\" id=\"ago4\">1hr 38min ago</i></td><td class=\"tabev1\">19.39 </td><td class=\"tabev2\">N  </td><td class=\"tabev1\">155.28 </td><td class=\"tabev2\">W  </td><td class=\"tabev3\">2</td><td class=\"tabev5\" id=\"magtyp4\">ML</td><td class=\"tabev2\">2.5</td><td class=\"tb_region\" id=\"reg4\"> ISLAND OF HAWAII, HAWAII</td><td class=\"comment updatetimeno\" id=\"upd4\" style=\"text-align:right;\">2019-10-04 02:47</td></tr>\n",
      "<tr class=\"ligne2 normal\" id=\"796788\" onclick=\"go_details(event,796788);\"><td class=\"tabev0\"></td><td class=\"tabev0\"></td><td class=\"tabev0\"></td><td class=\"tabev6\"><b><i style=\"display:none;\">earthquake</i><a href=\"/Earthquake/earthquake.php?id=796788\">2019-10-04   01:46:12.0</a></b><i class=\"ago\" id=\"ago5\">1hr 44min ago</i></td><td class=\"tabev1\">18.62 </td><td class=\"tabev2\">S  </td><td class=\"tabev1\">70.99 </td><td class=\"tabev2\">W  </td><td class=\"tabev3\">15</td><td class=\"tabev5\" id=\"magtyp5\">ML</td><td class=\"tabev2\">3.6</td><td class=\"tb_region\" id=\"reg5\"> OFFSHORE TARAPACA, CHILE</td><td class=\"comment updatetimeno\" id=\"upd5\" style=\"text-align:right;\">2019-10-04 02:39</td></tr>\n",
      "<tr class=\"ligne1 normal\" id=\"796781\" onclick=\"go_details(event,796781);\"><td class=\"tabev0\"></td><td class=\"tabev0\"></td><td class=\"tabev0\"></td><td class=\"tabev6\"><b><i style=\"display:none;\">earthquake</i><a href=\"/Earthquake/earthquake.php?id=796781\">2019-10-04   01:36:22.1</a></b><i class=\"ago\" id=\"ago6\">1hr 54min ago</i></td><td class=\"tabev1\">37.65 </td><td class=\"tabev2\">N  </td><td class=\"tabev1\">118.95 </td><td class=\"tabev2\">W  </td><td class=\"tabev3\">5</td><td class=\"tabev5\" id=\"magtyp6\">Md</td><td class=\"tabev2\">2.2</td><td class=\"tb_region\" id=\"reg6\"> LONG VALLEY AREA, CALIFORNIA</td><td class=\"comment updatetimeno\" id=\"upd6\" style=\"text-align:right;\">2019-10-04 01:37</td></tr>\n",
      "<tr class=\"ligne2 normal\" id=\"796784\" onclick=\"go_details(event,796784);\"><td class=\"tabev0\"></td><td class=\"tabev0\"></td><td class=\"tabev0\"></td><td class=\"tabev6\"><b><i style=\"display:none;\">earthquake</i><a href=\"/Earthquake/earthquake.php?id=796784\">2019-10-04   01:32:59.0</a></b><i class=\"ago\" id=\"ago7\">1hr 57min ago</i></td><td class=\"tabev1\">16.20 </td><td class=\"tabev2\">N  </td><td class=\"tabev1\">97.52 </td><td class=\"tabev2\">W  </td><td class=\"tabev3\">6</td><td class=\"tabev5\" id=\"magtyp7\"> M</td><td class=\"tabev2\">4.1</td><td class=\"tb_region\" id=\"reg7\"> OAXACA, MEXICO</td><td class=\"comment updatetimeno\" id=\"upd7\" style=\"text-align:right;\">2019-10-04 01:50</td></tr>\n",
      "<tr class=\"ligne1 normal\" id=\"796783\" onclick=\"go_details(event,796783);\"><td class=\"tabev0\"></td><td class=\"tabev0\"></td><td class=\"tabev0\"></td><td class=\"tabev6\"><b><i style=\"display:none;\">earthquake</i><a href=\"/Earthquake/earthquake.php?id=796783\">2019-10-04   01:32:52.0</a></b><i class=\"ago\" id=\"ago8\">1hr 57min ago</i></td><td class=\"tabev1\">42.75 </td><td class=\"tabev2\">S  </td><td class=\"tabev1\">74.22 </td><td class=\"tabev2\">W  </td><td class=\"tabev3\">38</td><td class=\"tabev5\" id=\"magtyp8\">ML</td><td class=\"tabev2\">3.1</td><td class=\"tb_region\" id=\"reg8\"> OFFSHORE LOS LAGOS, CHILE</td><td class=\"comment updatetimeno\" id=\"upd8\" style=\"text-align:right;\">2019-10-04 01:42</td></tr>\n",
      "<tr class=\"ligne2 normal\" id=\"796786\" onclick=\"go_details(event,796786);\"><td class=\"tabev0\"></td><td class=\"tabev0\"></td><td class=\"tabev0\"></td><td class=\"tabev6\"><b><i style=\"display:none;\">earthquake</i><a href=\"/Earthquake/earthquake.php?id=796786\">2019-10-04   01:28:02.9</a></b><i class=\"ago\" id=\"ago9\">2hr 02min ago</i></td><td class=\"tabev1\">39.81 </td><td class=\"tabev2\">N  </td><td class=\"tabev1\">40.48 </td><td class=\"tabev2\">E  </td><td class=\"tabev3\">7</td><td class=\"tabev5\" id=\"magtyp9\">ML</td><td class=\"tabev2\">2.6</td><td class=\"tb_region\" id=\"reg9\"> EASTERN TURKEY</td><td class=\"comment updatetimeno\" id=\"upd9\" style=\"text-align:right;\">2019-10-04 01:53</td></tr>\n",
      "<tr class=\"ligne1 normal\" id=\"796780\" onclick=\"go_details(event,796780);\"><td class=\"tabev0\"></td><td class=\"tabev0\"></td><td class=\"tabev0\"></td><td class=\"tabev6\"><b><i style=\"display:none;\">earthquake</i><a href=\"/Earthquake/earthquake.php?id=796780\">2019-10-04   01:21:16.9</a></b><i class=\"ago\" id=\"ago10\">2hr 09min ago</i></td><td class=\"tabev1\">59.00 </td><td class=\"tabev2\">N  </td><td class=\"tabev1\">152.08 </td><td class=\"tabev2\">W  </td><td class=\"tabev3\">27</td><td class=\"tabev5\" id=\"magtyp10\">ML</td><td class=\"tabev2\">2.8</td><td class=\"tb_region\" id=\"reg10\"> SOUTHERN ALASKA</td><td class=\"comment updatetimeno\" id=\"upd10\" style=\"text-align:right;\">2019-10-04 01:29</td></tr>\n",
      "<tr class=\"ligne2 normal\" id=\"796794\" onclick=\"go_details(event,796794);\"><td class=\"tabev0\"></td><td class=\"tabev0\"></td><td class=\"tabev0\"></td><td class=\"tabev6\"><b><i style=\"display:none;\">earthquake</i><a href=\"/Earthquake/earthquake.php?id=796794\">2019-10-04   01:16:00.0</a></b><i class=\"ago\" id=\"ago11\">2hr 14min ago</i></td><td class=\"tabev1\">35.78 </td><td class=\"tabev2\">N  </td><td class=\"tabev1\">4.61 </td><td class=\"tabev2\">E  </td><td class=\"tabev3\">10</td><td class=\"tabev5\" id=\"magtyp11\"> M</td><td class=\"tabev2\">3.5</td><td class=\"tb_region\" id=\"reg11\"> NORTHERN ALGERIA</td><td class=\"comment updatetimeno\" id=\"upd11\" style=\"text-align:right;\">2019-10-04 02:43</td></tr>\n",
      "<tr class=\"ligne1 normal\" id=\"796790\" onclick=\"go_details(event,796790);\"><td class=\"tabev0\"></td><td class=\"tabev0\"></td><td class=\"tabev0\"></td><td class=\"tabev6\"><b><i style=\"display:none;\">earthquake</i><a href=\"/Earthquake/earthquake.php?id=796790\">2019-10-04   01:07:16.7</a></b><i class=\"ago\" id=\"ago12\">2hr 23min ago</i></td><td class=\"tabev1\">22.68 </td><td class=\"tabev2\">S  </td><td class=\"tabev1\">152.50 </td><td class=\"tabev2\">E  </td><td class=\"tabev3\">10</td><td class=\"tabev5\" id=\"magtyp12\">ML</td><td class=\"tabev2\">3.3</td><td class=\"tb_region\" id=\"reg12\"> EAST OF AUSTRALIA</td><td class=\"comment updatetimeno\" id=\"upd12\" style=\"text-align:right;\">2019-10-04 03:16</td></tr>\n",
      "<tr class=\"ligne2 normal\" id=\"796779\" onclick=\"go_details(event,796779);\"><td class=\"tabev0\"></td><td class=\"tabev0\"></td><td class=\"tabev0\"></td><td class=\"tabev6\"><b><i style=\"display:none;\">earthquake</i><a href=\"/Earthquake/earthquake.php?id=796779\">2019-10-04   01:06:09.0</a></b><i class=\"ago\" id=\"ago13\">2hr 24min ago</i></td><td class=\"tabev1\">4.80 </td><td class=\"tabev2\">N  </td><td class=\"tabev1\">126.37 </td><td class=\"tabev2\">E  </td><td class=\"tabev3\">93</td><td class=\"tabev5\" id=\"magtyp13\"> M</td><td class=\"tabev2\">4.5</td><td class=\"tb_region\" id=\"reg13\"> KEPULAUAN TALAUD, INDONESIA</td><td class=\"comment updatetimeno\" id=\"upd13\" style=\"text-align:right;\">2019-10-04 01:15</td></tr>\n",
      "<tr class=\"ligne1 normal\" id=\"796778\" onclick=\"go_details(event,796778);\"><td class=\"tabev0\"></td><td class=\"tabev0\"></td><td class=\"tabev0\"></td><td class=\"tabev6\"><b><i style=\"display:none;\">earthquake</i><a href=\"/Earthquake/earthquake.php?id=796778\">2019-10-04   00:53:55.1</a></b><i class=\"ago\" id=\"ago14\">2hr 36min ago</i></td><td class=\"tabev1\">56.36 </td><td class=\"tabev2\">N  </td><td class=\"tabev1\">156.13 </td><td class=\"tabev2\">W  </td><td class=\"tabev3\">48</td><td class=\"tabev5\" id=\"magtyp14\">ML</td><td class=\"tabev2\">2.9</td><td class=\"tb_region\" id=\"reg14\"> ALASKA PENINSULA</td><td class=\"comment updatetimeno\" id=\"upd14\" style=\"text-align:right;\">2019-10-04 01:53</td></tr>\n",
      "<tr class=\"ligne2 normal\" id=\"796765\" onclick=\"go_details(event,796765);\"><td class=\"tabev0\"></td><td class=\"tabev0\"></td><td class=\"tabev0\"></td><td class=\"tabev6\"><b><i style=\"display:none;\">earthquake</i><a href=\"/Earthquake/earthquake.php?id=796765\">2019-10-04   00:45:57.7</a></b><i class=\"ago\" id=\"ago15\">2hr 44min ago</i></td><td class=\"tabev1\">1.40 </td><td class=\"tabev2\">N  </td><td class=\"tabev1\">125.75 </td><td class=\"tabev2\">E  </td><td class=\"tabev3\">52</td><td class=\"tabev5\" id=\"magtyp15\">mb</td><td class=\"tabev2\">4.7</td><td class=\"tb_region\" id=\"reg15\"> MOLUCCA SEA</td><td class=\"comment updatetimeno\" id=\"upd15\" style=\"text-align:right;\">2019-10-04 01:57</td></tr>\n",
      "<tr class=\"ligne1 normal\" id=\"796785\" onclick=\"go_details(event,796785);\"><td class=\"tabev0\"></td><td class=\"tabev0\"></td><td class=\"tabev0\"></td><td class=\"tabev6\"><b><i style=\"display:none;\">earthquake</i><a href=\"/Earthquake/earthquake.php?id=796785\">2019-10-04   00:34:06.6</a></b><i class=\"ago\" id=\"ago16\">2hr 56min ago</i></td><td class=\"tabev1\">36.31 </td><td class=\"tabev2\">N  </td><td class=\"tabev1\">29.29 </td><td class=\"tabev2\">E  </td><td class=\"tabev3\">25</td><td class=\"tabev5\" id=\"magtyp16\">ML</td><td class=\"tabev2\">2.2</td><td class=\"tb_region\" id=\"reg16\"> WESTERN TURKEY</td><td class=\"comment updatetimeno\" id=\"upd16\" style=\"text-align:right;\">2019-10-04 01:51</td></tr>\n",
      "<tr class=\"ligne2 normal\" id=\"796764\" onclick=\"go_details(event,796764);\"><td class=\"tabev0\"></td><td class=\"tabev0\"></td><td class=\"tabev0\"></td><td class=\"tabev6\"><b><i style=\"display:none;\">earthquake</i><a href=\"/Earthquake/earthquake.php?id=796764\">2019-10-04   00:26:26.0</a></b><i class=\"ago\" id=\"ago17\">3hr 04min ago</i></td><td class=\"tabev1\">31.39 </td><td class=\"tabev2\">S  </td><td class=\"tabev1\">67.69 </td><td class=\"tabev2\">W  </td><td class=\"tabev3\">10</td><td class=\"tabev5\" id=\"magtyp17\"> M</td><td class=\"tabev2\">3.6</td><td class=\"tb_region\" id=\"reg17\"> SAN JUAN, ARGENTINA</td><td class=\"comment updatetimeno\" id=\"upd17\" style=\"text-align:right;\">2019-10-04 00:35</td></tr>\n",
      "<tr class=\"ligne1 normal\" id=\"796763\" onclick=\"go_details(event,796763);\"><td class=\"tabev0\"></td><td class=\"tabev0\"></td><td class=\"tabev0\"></td><td class=\"tabev6\"><b><i style=\"display:none;\">earthquake</i><a href=\"/Earthquake/earthquake.php?id=796763\">2019-10-04   00:12:29.8</a></b><i class=\"ago\" id=\"ago18\">3hr 18min ago</i></td><td class=\"tabev1\">57.68 </td><td class=\"tabev2\">N  </td><td class=\"tabev1\">154.19 </td><td class=\"tabev2\">W  </td><td class=\"tabev3\">35</td><td class=\"tabev5\" id=\"magtyp18\">ML</td><td class=\"tabev2\">2.3</td><td class=\"tb_region\" id=\"reg18\"> KODIAK ISLAND REGION, ALASKA</td><td class=\"comment updatetimeno\" id=\"upd18\" style=\"text-align:right;\">2019-10-04 01:59</td></tr>\n",
      "<tr class=\"ligne2 normal\" id=\"796758\" onclick=\"go_details(event,796758);\"><td class=\"tabev0\"></td><td class=\"tabev0\"></td><td class=\"tabev0\"></td><td class=\"tabev6\"><b><i style=\"display:none;\">earthquake</i><a href=\"/Earthquake/earthquake.php?id=796758\">2019-10-04   00:07:45.8</a></b><i class=\"ago\" id=\"ago19\">3hr 22min ago</i></td><td class=\"tabev1\">37.46 </td><td class=\"tabev2\">N  </td><td class=\"tabev1\">118.49 </td><td class=\"tabev2\">W  </td><td class=\"tabev3\">2</td><td class=\"tabev5\" id=\"magtyp19\">ML</td><td class=\"tabev2\">2.0</td><td class=\"tb_region\" id=\"reg19\"> CENTRAL CALIFORNIA</td><td class=\"comment updatetimeno\" id=\"upd19\" style=\"text-align:right;\">2019-10-04 00:22</td></tr>\n",
      "<tr class=\"autour\" id=\"tr020\"><td colspan=\"13\" style=\"height:3px;background-color:#FFF;\"></td></tr><tr class=\"black\" id=\"tr120\"><td colspan=\"13\" style=\"height:1px;line-height:1px;\"> <!--[if lte IE 7]>&nbsp;<![endif]--></td></tr><tr class=\"autour\" id=\"tr220\"><td colspan=\"13\" style=\"height:3px;background-color:#FFF;\"></td></tr><tr class=\"ligne1 normal\" id=\"796754\" onclick=\"go_details(event,796754);\"><td class=\"tabev0\" style=\"text-align:center;\"><a href=\"https://www.emsc-csem.org/Earthquake/Testimonies/comments.php?id=796754\" onmouseout=\"info_b2('notshow','');\" onmouseover=\"info_b2('show','See the &lt;b&gt;36 testimonies&lt;/b&gt; for this earthquake');\"><span class=\"\" style=\"vertical-align:middle;\">36</span></a></td><td class=\"tabev0\"></td><td class=\"tabev0\"><span class=\"intensity\" onclick=\"go_details(event,null,'https://www.emsc-csem.org/Earthquake/popup_intensmap.php?id=796754&amp;f=/INTENSITY_MAPS/79/796754/AUTOMATIC/AreaThreshold_5/EMS_98__RMW_Musson/LocMethod_PerClusterCity/DynamicClusters_MaxSize50/IntensityMapThumbnails.png');\" onmouseout=\"info_b2('notshow','');\" onmouseover=\"info_b2('show','See the &lt;b&gt; Intensity map&lt;/b&gt;');\" style=\"background-color:#00FFFF;\">IV</span></td><td class=\"tabev6\"><b><i style=\"display:none;\">earthquake</i><a href=\"/Earthquake/earthquake.php?id=796754\">2019-10-03   23:52:00.9</a></b><i class=\"ago\" id=\"ago20\">3hr 38min ago</i></td><td class=\"tabev1\">44.60 </td><td class=\"tabev2\">N  </td><td class=\"tabev1\">18.63 </td><td class=\"tabev2\">E  </td><td class=\"tabev3\">10</td><td class=\"tabev5\" id=\"magtyp20\">ML</td><td class=\"tabev2\">3.0</td><td class=\"tb_region\" id=\"reg20\"> BOSNIA AND HERZEGOVINA</td><td class=\"comment updatetimeno\" id=\"upd20\" style=\"text-align:right;\">2019-10-03 23:57</td></tr>\n",
      "<tr class=\"ligne2 normal\" id=\"796759\" onclick=\"go_details(event,796759);\"><td class=\"tabev0\"></td><td class=\"tabev0\"></td><td class=\"tabev0\"></td><td class=\"tabev6\"><b><i style=\"display:none;\">earthquake</i><a href=\"/Earthquake/earthquake.php?id=796759\">2019-10-03   23:44:49.0</a></b><i class=\"ago\" id=\"ago21\">3hr 45min ago</i></td><td class=\"tabev1\">19.72 </td><td class=\"tabev2\">N  </td><td class=\"tabev1\">71.60 </td><td class=\"tabev2\">W  </td><td class=\"tabev3\">12</td><td class=\"tabev5\" id=\"magtyp21\"> M</td><td class=\"tabev2\">2.7</td><td class=\"tb_region\" id=\"reg21\"> DOMINICAN REPUBLIC</td><td class=\"comment updatetimeno\" id=\"upd21\" style=\"text-align:right;\">2019-10-04 00:15</td></tr>\n",
      "<tr class=\"ligne1 normal\" id=\"796756\" onclick=\"go_details(event,796756);\"><td class=\"tabev0\"></td><td class=\"tabev0\"></td><td class=\"tabev0\"></td><td class=\"tabev6\"><b><i style=\"display:none;\">earthquake</i><a href=\"/Earthquake/earthquake.php?id=796756\">2019-10-03   23:34:57.0</a></b><i class=\"ago\" id=\"ago22\">3hr 55min ago</i></td><td class=\"tabev1\">19.69 </td><td class=\"tabev2\">N  </td><td class=\"tabev1\">70.75 </td><td class=\"tabev2\">W  </td><td class=\"tabev3\">23</td><td class=\"tabev5\" id=\"magtyp22\"> M</td><td class=\"tabev2\">2.9</td><td class=\"tb_region\" id=\"reg22\"> DOMINICAN REPUBLIC</td><td class=\"comment updatetimeno\" id=\"upd22\" style=\"text-align:right;\">2019-10-04 00:02</td></tr>\n",
      "<tr class=\"ligne2 normal\" id=\"796751\" onclick=\"go_details(event,796751);\"><td class=\"tabev0\"></td><td class=\"tabev0\"></td><td class=\"tabev0\"></td><td class=\"tabev6\"><b><i style=\"display:none;\">earthquake</i><a href=\"/Earthquake/earthquake.php?id=796751\">2019-10-03   23:33:28.6</a></b><i class=\"ago\" id=\"ago23\">3hr 57min ago</i></td><td class=\"tabev1\">39.50 </td><td class=\"tabev2\">N  </td><td class=\"tabev1\">99.13 </td><td class=\"tabev2\">W  </td><td class=\"tabev3\">5</td><td class=\"tabev5\" id=\"magtyp23\">mb</td><td class=\"tabev2\">2.6</td><td class=\"tb_region\" id=\"reg23\"> KANSAS</td><td class=\"comment updatetimeno\" id=\"upd23\" style=\"text-align:right;\">2019-10-04 02:06</td></tr>\n",
      "<tr class=\"ligne1 normal\" id=\"796748\" onclick=\"go_details(event,796748);\"><td class=\"tabev0\"></td><td class=\"tabev0\"></td><td class=\"tabev0\"></td><td class=\"tabev6\"><b><i style=\"display:none;\">earthquake</i><a href=\"/Earthquake/earthquake.php?id=796748\">2019-10-03   23:23:21.4</a></b><i class=\"ago\" id=\"ago24\">4hr 07min ago</i></td><td class=\"tabev1\">35.78 </td><td class=\"tabev2\">N  </td><td class=\"tabev1\">117.58 </td><td class=\"tabev2\">W  </td><td class=\"tabev3\">10</td><td class=\"tabev5\" id=\"magtyp24\">Ml</td><td class=\"tabev2\">2.1</td><td class=\"tb_region\" id=\"reg24\"> SOUTHERN CALIFORNIA</td><td class=\"comment updatetimeno\" id=\"upd24\" style=\"text-align:right;\">2019-10-03 23:27</td></tr>\n",
      "<tr class=\"ligne2 normal\" id=\"796782\" onclick=\"go_details(event,796782);\"><td class=\"tabev0\"></td><td class=\"tabev0\"></td><td class=\"tabev0\"></td><td class=\"tabev6\"><b><i style=\"display:none;\">earthquake</i><a href=\"/Earthquake/earthquake.php?id=796782\">2019-10-03   22:48:42.3</a></b><i class=\"ago\" id=\"ago25\">4hr 41min ago</i></td><td class=\"tabev1\">39.83 </td><td class=\"tabev2\">N  </td><td class=\"tabev1\">40.49 </td><td class=\"tabev2\">E  </td><td class=\"tabev3\">7</td><td class=\"tabev5\" id=\"magtyp25\">ML</td><td class=\"tabev2\">2.4</td><td class=\"tb_region\" id=\"reg25\"> EASTERN TURKEY</td><td class=\"comment updatetimeno\" id=\"upd25\" style=\"text-align:right;\">2019-10-04 01:39</td></tr>\n",
      "<tr class=\"ligne1 normal\" id=\"796743\" onclick=\"go_details(event,796743);\"><td class=\"tabev0\"></td><td class=\"tabev0\"></td><td class=\"tabev0\"></td><td class=\"tabev6\"><b><i style=\"display:none;\">earthquake</i><a href=\"/Earthquake/earthquake.php?id=796743\">2019-10-03   22:41:15.9</a></b><i class=\"ago\" id=\"ago26\">4hr 49min ago</i></td><td class=\"tabev1\">62.28 </td><td class=\"tabev2\">N  </td><td class=\"tabev1\">150.38 </td><td class=\"tabev2\">W  </td><td class=\"tabev3\">15</td><td class=\"tabev5\" id=\"magtyp26\">ML</td><td class=\"tabev2\">2.5</td><td class=\"tb_region\" id=\"reg26\"> CENTRAL ALASKA</td><td class=\"comment updatetimeno\" id=\"upd26\" style=\"text-align:right;\">2019-10-03 22:58</td></tr>\n",
      "<tr class=\"ligne2 normal\" id=\"796738\" onclick=\"go_details(event,796738);\"><td class=\"tabev0\"></td><td class=\"tabev0\"></td><td class=\"tabev0\"></td><td class=\"tabev6\"><b><i style=\"display:none;\">earthquake</i><a href=\"/Earthquake/earthquake.php?id=796738\">2019-10-03   22:22:42.8</a></b><i class=\"ago\" id=\"ago27\">5hr 07min ago</i></td><td class=\"tabev1\">37.64 </td><td class=\"tabev2\">N  </td><td class=\"tabev1\">118.94 </td><td class=\"tabev2\">W  </td><td class=\"tabev3\">5</td><td class=\"tabev5\" id=\"magtyp27\">Md</td><td class=\"tabev2\">2.2</td><td class=\"tb_region\" id=\"reg27\"> LONG VALLEY AREA, CALIFORNIA</td><td class=\"comment updatetimeno\" id=\"upd27\" style=\"text-align:right;\">2019-10-03 22:24</td></tr>\n",
      "<tr class=\"ligne1 normal\" id=\"796739\" onclick=\"go_details(event,796739);\"><td class=\"tabev0\"></td><td class=\"tabev0\"></td><td class=\"tabev0\"></td><td class=\"tabev6\"><b><i style=\"display:none;\">earthquake</i><a href=\"/Earthquake/earthquake.php?id=796739\">2019-10-03   22:18:49.0</a></b><i class=\"ago\" id=\"ago28\">5hr 11min ago</i></td><td class=\"tabev1\">3.62 </td><td class=\"tabev2\">S  </td><td class=\"tabev1\">128.37 </td><td class=\"tabev2\">E  </td><td class=\"tabev3\">10</td><td class=\"tabev5\" id=\"magtyp28\"> M</td><td class=\"tabev2\">3.7</td><td class=\"tb_region\" id=\"reg28\"> SERAM, INDONESIA</td><td class=\"comment updatetimeno\" id=\"upd28\" style=\"text-align:right;\">2019-10-03 22:26</td></tr>\n",
      "<tr class=\"ligne2 normal\" id=\"796737\" onclick=\"go_details(event,796737);\"><td class=\"tabev0\"></td><td class=\"tabev0\"></td><td class=\"tabev0\"></td><td class=\"tabev6\"><b><i style=\"display:none;\">earthquake</i><a href=\"/Earthquake/earthquake.php?id=796737\">2019-10-03   22:11:54.6</a></b><i class=\"ago\" id=\"ago29\">5hr 18min ago</i></td><td class=\"tabev1\">36.88 </td><td class=\"tabev2\">N  </td><td class=\"tabev1\">29.22 </td><td class=\"tabev2\">E  </td><td class=\"tabev3\">8</td><td class=\"tabev5\" id=\"magtyp29\">ML</td><td class=\"tabev2\">2.5</td><td class=\"tb_region\" id=\"reg29\"> WESTERN TURKEY</td><td class=\"comment updatetimeno\" id=\"upd29\" style=\"text-align:right;\">2019-10-04 01:37</td></tr>\n",
      "<tr class=\"ligne1 normal\" id=\"796736\" onclick=\"go_details(event,796736);\"><td class=\"tabev0\"></td><td class=\"tabev0\"></td><td class=\"tabev0\"></td><td class=\"tabev6\"><b><i style=\"display:none;\">earthquake</i><a href=\"/Earthquake/earthquake.php?id=796736\">2019-10-03   22:11:53.5</a></b><i class=\"ago\" id=\"ago30\">5hr 18min ago</i></td><td class=\"tabev1\">19.16 </td><td class=\"tabev2\">N  </td><td class=\"tabev1\">155.48 </td><td class=\"tabev2\">W  </td><td class=\"tabev3\">30</td><td class=\"tabev5\" id=\"magtyp30\">Md</td><td class=\"tabev2\">2.1</td><td class=\"tb_region\" id=\"reg30\"> ISLAND OF HAWAII, HAWAII</td><td class=\"comment updatetimeno\" id=\"upd30\" style=\"text-align:right;\">2019-10-03 22:15</td></tr>\n",
      "<tr class=\"ligne2 normal\" id=\"796740\" onclick=\"go_details(event,796740);\"><td class=\"tabev0\"></td><td class=\"tabev0\"></td><td class=\"tabev0\"></td><td class=\"tabev6\"><b><i style=\"display:none;\">earthquake</i><a href=\"/Earthquake/earthquake.php?id=796740\">2019-10-03   22:03:26.9</a></b><i class=\"ago\" id=\"ago31\">5hr 27min ago</i></td><td class=\"tabev1\">19.16 </td><td class=\"tabev2\">N  </td><td class=\"tabev1\">67.37 </td><td class=\"tabev2\">W  </td><td class=\"tabev3\">10</td><td class=\"tabev5\" id=\"magtyp31\">ML</td><td class=\"tabev2\">3.4</td><td class=\"tb_region\" id=\"reg31\"> PUERTO RICO REGION</td><td class=\"comment updatetimeno\" id=\"upd31\" style=\"text-align:right;\">2019-10-04 02:07</td></tr>\n",
      "<tr class=\"ligne1 normal\" id=\"796735\" onclick=\"go_details(event,796735);\"><td class=\"tabev0\"></td><td class=\"tabev0\"></td><td class=\"tabev0\"><span class=\"intensity\" onclick=\"go_details(event,null,'https://www.emsc-csem.org/Earthquake/popup_intensmap.php?id=796735&amp;f=/INTENSITY_MAPS/79/796735/AUTOMATIC/AreaThreshold_5/EMS_98__RMW_Musson/LocMethod_PerClusterCity/DynamicClusters_MaxSize50/IntensityMapThumbnails.png');\" onmouseout=\"info_b2('notshow','');\" onmouseover=\"info_b2('show','See the &lt;b&gt; Intensity map&lt;/b&gt;');\" style=\"background-color:#FFFFFF;\">F</span></td><td class=\"tabev6\"><b><i style=\"display:none;\">earthquake</i><a href=\"/Earthquake/earthquake.php?id=796735\">2019-10-03   22:02:55.8</a></b><i class=\"ago\" id=\"ago32\">5hr 27min ago</i></td><td class=\"tabev1\">37.48 </td><td class=\"tabev2\">N  </td><td class=\"tabev1\">72.26 </td><td class=\"tabev2\">E  </td><td class=\"tabev3\">187</td><td class=\"tabev5\" id=\"magtyp32\">mb</td><td class=\"tabev2\">4.4</td><td class=\"tb_region\" id=\"reg32\"> TAJIKISTAN</td><td class=\"comment updatetimeno\" id=\"upd32\" style=\"text-align:right;\">2019-10-03 23:56</td></tr>\n",
      "<tr class=\"ligne2 normal\" id=\"796766\" onclick=\"go_details(event,796766);\"><td class=\"tabev0\"></td><td class=\"tabev0\"></td><td class=\"tabev0\"></td><td class=\"tabev6\"><b><i style=\"display:none;\">earthquake</i><a href=\"/Earthquake/earthquake.php?id=796766\">2019-10-03   21:54:51.0</a></b><i class=\"ago\" id=\"ago33\">5hr 35min ago</i></td><td class=\"tabev1\">16.55 </td><td class=\"tabev2\">N  </td><td class=\"tabev1\">98.97 </td><td class=\"tabev2\">W  </td><td class=\"tabev3\">14</td><td class=\"tabev5\" id=\"magtyp33\"> M</td><td class=\"tabev2\">3.5</td><td class=\"tb_region\" id=\"reg33\"> OFFSHORE GUERRERO, MEXICO</td><td class=\"comment updatetimeno\" id=\"upd33\" style=\"text-align:right;\">2019-10-04 01:05</td></tr>\n",
      "<tr class=\"ligne1 normal\" id=\"796771\" onclick=\"go_details(event,796771);\"><td class=\"tabev0\"></td><td class=\"tabev0\"></td><td class=\"tabev0\"></td><td class=\"tabev6\"><b><i style=\"display:none;\">earthquake</i><a href=\"/Earthquake/earthquake.php?id=796771\">2019-10-03   21:41:05.0</a></b><i class=\"ago\" id=\"ago34\">5hr 49min ago</i></td><td class=\"tabev1\">15.34 </td><td class=\"tabev2\">N  </td><td class=\"tabev1\">94.74 </td><td class=\"tabev2\">W  </td><td class=\"tabev3\">8</td><td class=\"tabev5\" id=\"magtyp34\"> M</td><td class=\"tabev2\">3.6</td><td class=\"tb_region\" id=\"reg34\"> OFFSHORE OAXACA, MEXICO</td><td class=\"comment updatetimeno\" id=\"upd34\" style=\"text-align:right;\">2019-10-04 01:05</td></tr>\n",
      "<tr class=\"ligne2 normal\" id=\"796732\" onclick=\"go_details(event,796732);\"><td class=\"tabev0\"></td><td class=\"tabev0\"></td><td class=\"tabev0\"></td><td class=\"tabev6\"><b><i style=\"display:none;\">earthquake</i><a href=\"/Earthquake/earthquake.php?id=796732\">2019-10-03   21:18:18.8</a></b><i class=\"ago\" id=\"ago35\">6hr 12min ago</i></td><td class=\"tabev1\">19.15 </td><td class=\"tabev2\">N  </td><td class=\"tabev1\">155.45 </td><td class=\"tabev2\">W  </td><td class=\"tabev3\">34</td><td class=\"tabev5\" id=\"magtyp35\">Md</td><td class=\"tabev2\">2.2</td><td class=\"tb_region\" id=\"reg35\"> ISLAND OF HAWAII, HAWAII</td><td class=\"comment updatetimeno\" id=\"upd35\" style=\"text-align:right;\">2019-10-03 21:21</td></tr>\n",
      "<tr class=\"ligne1 normal\" id=\"796733\" onclick=\"go_details(event,796733);\"><td class=\"tabev0\"></td><td class=\"tabev0\"></td><td class=\"tabev0\"></td><td class=\"tabev6\"><b><i style=\"display:none;\">earthquake</i><a href=\"/Earthquake/earthquake.php?id=796733\">2019-10-03   21:16:57.0</a></b><i class=\"ago\" id=\"ago36\">6hr 13min ago</i></td><td class=\"tabev1\">38.71 </td><td class=\"tabev2\">N  </td><td class=\"tabev1\">38.10 </td><td class=\"tabev2\">E  </td><td class=\"tabev3\">7</td><td class=\"tabev5\" id=\"magtyp36\">ML</td><td class=\"tabev2\">2.3</td><td class=\"tb_region\" id=\"reg36\"> EASTERN TURKEY</td><td class=\"comment updatetimeno\" id=\"upd36\" style=\"text-align:right;\">2019-10-03 21:23</td></tr>\n",
      "<tr class=\"ligne2 normal\" id=\"796734\" onclick=\"go_details(event,796734);\"><td class=\"tabev0\"></td><td class=\"tabev0\"></td><td class=\"tabev0\"></td><td class=\"tabev6\"><b><i style=\"display:none;\">earthquake</i><a href=\"/Earthquake/earthquake.php?id=796734\">2019-10-03   21:12:25.0</a></b><i class=\"ago\" id=\"ago37\">6hr 18min ago</i></td><td class=\"tabev1\">2.78 </td><td class=\"tabev2\">S  </td><td class=\"tabev1\">138.50 </td><td class=\"tabev2\">E  </td><td class=\"tabev3\">26</td><td class=\"tabev5\" id=\"magtyp37\">mb</td><td class=\"tabev2\">4.7</td><td class=\"tb_region\" id=\"reg37\"> PAPUA, INDONESIA</td><td class=\"comment updatetimeno\" id=\"upd37\" style=\"text-align:right;\">2019-10-04 02:16</td></tr>\n",
      "<tr class=\"ligne1 normal\" id=\"796731\" onclick=\"go_details(event,796731);\"><td class=\"tabev0\"></td><td class=\"tabev0\"></td><td class=\"tabev0\"></td><td class=\"tabev6\"><b><i style=\"display:none;\">earthquake</i><a href=\"/Earthquake/earthquake.php?id=796731\">2019-10-03   21:03:10.0</a></b><i class=\"ago\" id=\"ago38\">6hr 27min ago</i></td><td class=\"tabev1\">2.45 </td><td class=\"tabev2\">S  </td><td class=\"tabev1\">138.58 </td><td class=\"tabev2\">E  </td><td class=\"tabev3\">10</td><td class=\"tabev5\" id=\"magtyp38\"> M</td><td class=\"tabev2\">3.8</td><td class=\"tb_region\" id=\"reg38\"> PAPUA, INDONESIA</td><td class=\"comment updatetimeno\" id=\"upd38\" style=\"text-align:right;\">2019-10-03 21:15</td></tr>\n",
      "<tr class=\"ligne2 normal\" id=\"796746\" onclick=\"go_details(event,796746);\"><td class=\"tabev0\"></td><td class=\"tabev0\"></td><td class=\"tabev0\"></td><td class=\"tabev6\"><b><i style=\"display:none;\">earthquake</i><a href=\"/Earthquake/earthquake.php?id=796746\">2019-10-03   20:54:12.5</a></b><i class=\"ago\" id=\"ago39\">6hr 36min ago</i></td><td class=\"tabev1\">19.30 </td><td class=\"tabev2\">N  </td><td class=\"tabev1\">67.46 </td><td class=\"tabev2\">W  </td><td class=\"tabev3\">30</td><td class=\"tabev5\" id=\"magtyp39\">Md</td><td class=\"tabev2\">2.9</td><td class=\"tb_region\" id=\"reg39\"> PUERTO RICO REGION</td><td class=\"comment updatetimeno\" id=\"upd39\" style=\"text-align:right;\">2019-10-03 23:17</td></tr>\n",
      "<tr class=\"ligne1 normal\" id=\"796770\" onclick=\"go_details(event,796770);\"><td class=\"tabev0\"></td><td class=\"tabev0\"></td><td class=\"tabev0\"></td><td class=\"tabev6\"><b><i style=\"display:none;\">earthquake</i><a href=\"/Earthquake/earthquake.php?id=796770\">2019-10-03   20:51:53.0</a></b><i class=\"ago\" id=\"ago40\">6hr 38min ago</i></td><td class=\"tabev1\">15.88 </td><td class=\"tabev2\">N  </td><td class=\"tabev1\">98.53 </td><td class=\"tabev2\">W  </td><td class=\"tabev3\">20</td><td class=\"tabev5\" id=\"magtyp40\"> M</td><td class=\"tabev2\">3.7</td><td class=\"tb_region\" id=\"reg40\"> OFFSHORE OAXACA, MEXICO</td><td class=\"comment updatetimeno\" id=\"upd40\" style=\"text-align:right;\">2019-10-04 01:05</td></tr>\n",
      "<tr class=\"ligne2 normal\" id=\"796727\" onclick=\"go_details(event,796727);\"><td class=\"tabev0\"></td><td class=\"tabev0\"></td><td class=\"tabev0\"></td><td class=\"tabev6\"><b><i style=\"display:none;\">earthquake</i><a href=\"/Earthquake/earthquake.php?id=796727\">2019-10-03   20:45:26.0</a></b><i class=\"ago\" id=\"ago41\">6hr 45min ago</i></td><td class=\"tabev1\">0.68 </td><td class=\"tabev2\">S  </td><td class=\"tabev1\">127.69 </td><td class=\"tabev2\">E  </td><td class=\"tabev3\">10</td><td class=\"tabev5\" id=\"magtyp41\"> M</td><td class=\"tabev2\">3.9</td><td class=\"tb_region\" id=\"reg41\"> HALMAHERA, INDONESIA</td><td class=\"comment updatetimeno\" id=\"upd41\" style=\"text-align:right;\">2019-10-03 20:55</td></tr>\n",
      "<tr class=\"ligne1 normal\" id=\"796772\" onclick=\"go_details(event,796772);\"><td class=\"tabev0\"></td><td class=\"tabev0\"></td><td class=\"tabev0\"></td><td class=\"tabev6\"><b><i style=\"display:none;\">earthquake</i><a href=\"/Earthquake/earthquake.php?id=796772\">2019-10-03   20:34:51.0</a></b><i class=\"ago\" id=\"ago42\">6hr 55min ago</i></td><td class=\"tabev1\">15.99 </td><td class=\"tabev2\">N  </td><td class=\"tabev1\">94.30 </td><td class=\"tabev2\">W  </td><td class=\"tabev3\">10</td><td class=\"tabev5\" id=\"magtyp42\"> M</td><td class=\"tabev2\">3.9</td><td class=\"tb_region\" id=\"reg42\"> OFFSHORE OAXACA, MEXICO</td><td class=\"comment updatetimeno\" id=\"upd42\" style=\"text-align:right;\">2019-10-04 01:05</td></tr>\n",
      "<tr class=\"ligne2 normal\" id=\"796724\" onclick=\"go_details(event,796724);\"><td class=\"tabev0\"></td><td class=\"tabev0\"></td><td class=\"tabev0\"></td><td class=\"tabev6\"><b><i style=\"display:none;\">earthquake</i><a href=\"/Earthquake/earthquake.php?id=796724\">2019-10-03   20:34:19.0</a></b><i class=\"ago\" id=\"ago43\">6hr 56min ago</i></td><td class=\"tabev1\">34.64 </td><td class=\"tabev2\">S  </td><td class=\"tabev1\">71.97 </td><td class=\"tabev2\">W  </td><td class=\"tabev3\">14</td><td class=\"tabev5\" id=\"magtyp43\">ML</td><td class=\"tabev2\">3.0</td><td class=\"tb_region\" id=\"reg43\"> LIBERTADOR O'HIGGINS, CHILE</td><td class=\"comment updatetimeno\" id=\"upd43\" style=\"text-align:right;\">2019-10-03 20:57</td></tr>\n",
      "<tr class=\"ligne1 normal\" id=\"796726\" onclick=\"go_details(event,796726);\"><td class=\"tabev0\"></td><td class=\"tabev0\"></td><td class=\"tabev0\"></td><td class=\"tabev6\"><b><i style=\"display:none;\">earthquake</i><a href=\"/Earthquake/earthquake.php?id=796726\">2019-10-03   20:33:15.0</a></b><i class=\"ago\" id=\"ago44\">6hr 57min ago</i></td><td class=\"tabev1\">64.63 </td><td class=\"tabev2\">N  </td><td class=\"tabev1\">17.36 </td><td class=\"tabev2\">W  </td><td class=\"tabev3\">1</td><td class=\"tabev5\" id=\"magtyp44\"> M</td><td class=\"tabev2\">3.1</td><td class=\"tb_region\" id=\"reg44\"> ICELAND</td><td class=\"comment updatetimeno\" id=\"upd44\" style=\"text-align:right;\">2019-10-03 20:55</td></tr>\n",
      "<tr class=\"ligne2 normal\" id=\"796752\" onclick=\"go_details(event,796752);\"><td class=\"tabev0\"></td><td class=\"tabev0\"></td><td class=\"tabev0\"></td><td class=\"tabev6\"><b><i style=\"display:none;\">earthquake</i><a href=\"/Earthquake/earthquake.php?id=796752\">2019-10-03   20:13:54.0</a></b><i class=\"ago\" id=\"ago45\">7hr 16min ago</i></td><td class=\"tabev1\">19.70 </td><td class=\"tabev2\">N  </td><td class=\"tabev1\">70.72 </td><td class=\"tabev2\">W  </td><td class=\"tabev3\">23</td><td class=\"tabev5\" id=\"magtyp45\"> M</td><td class=\"tabev2\">3.2</td><td class=\"tb_region\" id=\"reg45\"> DOMINICAN REPUBLIC</td><td class=\"comment updatetimeno\" id=\"upd45\" style=\"text-align:right;\">2019-10-03 23:50</td></tr>\n",
      "<tr class=\"ligne1 normal\" id=\"796750\" onclick=\"go_details(event,796750);\"><td class=\"tabev0\"></td><td class=\"tabev0\"></td><td class=\"tabev0\"></td><td class=\"tabev6\"><b><i style=\"display:none;\">earthquake</i><a href=\"/Earthquake/earthquake.php?id=796750\">2019-10-03   20:06:14.9</a></b><i class=\"ago\" id=\"ago46\">7hr 24min ago</i></td><td class=\"tabev1\">42.59 </td><td class=\"tabev2\">N  </td><td class=\"tabev1\">111.44 </td><td class=\"tabev2\">W  </td><td class=\"tabev3\">5</td><td class=\"tabev5\" id=\"magtyp46\">Ml</td><td class=\"tabev2\">2.7</td><td class=\"tb_region\" id=\"reg46\"> SOUTHERN IDAHO</td><td class=\"comment updatetimeno\" id=\"upd46\" style=\"text-align:right;\">2019-10-03 23:29</td></tr>\n",
      "<tr class=\"ligne2 normal\" id=\"796774\" onclick=\"go_details(event,796774);\"><td class=\"tabev0\"></td><td class=\"tabev0\"></td><td class=\"tabev0\"></td><td class=\"tabev6\"><b><i style=\"display:none;\">earthquake</i><a href=\"/Earthquake/earthquake.php?id=796774\">2019-10-03   19:59:58.0</a></b><i class=\"ago\" id=\"ago47\">7hr 30min ago</i></td><td class=\"tabev1\">14.20 </td><td class=\"tabev2\">N  </td><td class=\"tabev1\">92.51 </td><td class=\"tabev2\">W  </td><td class=\"tabev3\">32</td><td class=\"tabev5\" id=\"magtyp47\"> M</td><td class=\"tabev2\">3.8</td><td class=\"tb_region\" id=\"reg47\"> OFFSHORE CHIAPAS, MEXICO</td><td class=\"comment updatetimeno\" id=\"upd47\" style=\"text-align:right;\">2019-10-04 01:06</td></tr>\n",
      "<tr class=\"ligne1 normal\" id=\"796773\" onclick=\"go_details(event,796773);\"><td class=\"tabev0\"></td><td class=\"tabev0\"></td><td class=\"tabev0\"></td><td class=\"tabev6\"><b><i style=\"display:none;\">earthquake</i><a href=\"/Earthquake/earthquake.php?id=796773\">2019-10-03   19:55:14.0</a></b><i class=\"ago\" id=\"ago48\">7hr 35min ago</i></td><td class=\"tabev1\">15.10 </td><td class=\"tabev2\">N  </td><td class=\"tabev1\">94.39 </td><td class=\"tabev2\">W  </td><td class=\"tabev3\">14</td><td class=\"tabev5\" id=\"magtyp48\"> M</td><td class=\"tabev2\">3.7</td><td class=\"tb_region\" id=\"reg48\"> OFF COAST OF CHIAPAS, MEXICO</td><td class=\"comment updatetimeno\" id=\"upd48\" style=\"text-align:right;\">2019-10-04 01:06</td></tr>\n",
      "<tr class=\"ligne2 normal\" id=\"796725\" onclick=\"go_details(event,796725);\"><td class=\"tabev0\"></td><td class=\"tabev0\"></td><td class=\"tabev0\"></td><td class=\"tabev6\"><b><i style=\"display:none;\">earthquake</i><a href=\"/Earthquake/earthquake.php?id=796725\">2019-10-03   19:50:01.1</a></b><i class=\"ago\" id=\"ago49\">7hr 40min ago</i></td><td class=\"tabev1\">36.29 </td><td class=\"tabev2\">N  </td><td class=\"tabev1\">28.50 </td><td class=\"tabev2\">E  </td><td class=\"tabev3\">7</td><td class=\"tabev5\" id=\"magtyp49\">ML</td><td class=\"tabev2\">2.0</td><td class=\"tb_region\" id=\"reg49\"> DODECANESE IS.-TURKEY BORDER REG</td><td class=\"comment updatetimeno\" id=\"upd49\" style=\"text-align:right;\">2019-10-03 20:53</td></tr>\n",
      "</tbody><tfoot><tr><td colspan=\"13\" style=\"height:3px\"></td></tr> <tr class=\"npages\" id=\"my_pagelist_1\"><td colspan=\"13\"><a class=\"sublink sublinka\" href=\"javascript:void()\" rel=\"nofollow\">1</a><a class=\"sublink\" href=\"/Earthquake/?view=2\">2</a><a class=\"sublink\" href=\"/Earthquake/?view=3\">3</a><a class=\"sublink\" href=\"/Earthquake/?view=4\">4</a><a class=\"sublink\" href=\"/Earthquake/?view=5\">5</a><a class=\"sublink\" href=\"/Earthquake/?view=6\">6</a><a class=\"sublink\" href=\"/Earthquake/?view=7\">7</a><a class=\"sublink\" href=\"/Earthquake/?view=8\">8</a><a class=\"sublink\" href=\"/Earthquake/?view=9\">9</a><a class=\"sublink\" href=\"/Earthquake/?view=10\">10</a><a alt=\"Next page\" class=\"sublink\" href=\"/Earthquake/?view=2\">›</a><a alt=\"Next 10 pages\" class=\"sublink\" href=\"/Earthquake/?view=11\">»</a></td></tr><tr><td colspan=\"13\" style=\"border-bottom:1px solid #000;\"></td></tr></tfoot></table>\n"
     ]
    }
   ],
   "source": [
    "quake_table = soup.find_all('table')[3]\n",
    "print(quake_table)"
   ]
  },
  {
   "cell_type": "code",
   "execution_count": 259,
   "metadata": {},
   "outputs": [
    {
     "name": "stdout",
     "output_type": "stream",
     "text": [
      "[<tr>\n",
      "<td colspan=\"13\" style=\"background: white;height: 1px\"></td>\n",
      "</tr>, <tr id=\"haut_tableau\"><th class=\"th2 th3\" colspan=\"3\" style=\"width:90px;display:table-csell;\"><div onmouseout=\"info_b('notshow','','');\" onmouseover=\"info_b('show','Represents the results of information provided by users (Felt earthquake, pictures, testimonies ,...)&lt;br&gt;See an intensity map for more details on the macroseismic intensity scale.','Citizen response');\">Citizen<br/>Response</div><br/><table cellpadding=\"0\" cellspacing=\"0\" style=\"width:100%;margin:0;text-align:center;\"><tr><td><div onclick=\"change_tri('im_report');\" onmouseout=\"change_image(this,'out','im_report');\" onmouseover=\"change_image(this,'over','im_report');\"><span class=\"spriteorig sp_ico_list\" onmouseout=\"info_b2('notshow','');\" onmouseover=\"info_b2('show','Sorted by number of &lt;b&gt;Comments&lt;/b&gt;');\"></span><span class=\"spriteorig sp_s_asc\" id=\"im_report\" style=\"display:none;\"></span></div></td><td><div onclick=\"change_tri('im_pics');\" onmouseout=\"change_image(this,'out','im_pics');\" onmouseover=\"change_image(this,'over','im_pics');\"><span class=\"spriteorig sp_digikam\" onmouseout=\"info_b2('notshow','');\" onmouseover=\"info_b2('show','Sorted by number of &lt;b&gt;Pictures&lt;/b&gt;');\"></span><span class=\"spriteorig sp_s_asc\" id=\"im_pics\" style=\"display:none;\"></span></div></td><td><div onclick=\"change_tri('im_intens');\" onmouseout=\"change_image(this,'out','im_intens');\" onmouseover=\"change_image(this,'over','im_intens');\"><span class=\"spriteorig sp_IntensityMap\" onmouseout=\"info_b2('notshow','');\" onmouseover=\"info_b2('show','Sorted by &lt;b&gt;Macroseismic Intensity&lt;/b&gt;');\"></span><span class=\"spriteorig sp_s_asc\" id=\"im_intens\" style=\"display:none;\"></span></div></td></tr></table></th><th class=\"th2\" onclick=\"change_tri('im_time');\" onmouseout=\"change_image(this,'out','im_time');\" onmouseover=\"change_image(this,'over','im_time');\">Date &amp; Time <span class=\"spriteorig sp_s_desc\" id=\"im_select\"></span><div style=\"font-weight:normal;\">UTC</div></th><th class=\"th2\" colspan=\"2\" onclick=\"change_tri('im_lat');\" onmouseout=\"change_image(this,'out','im_lat');\" onmouseover=\"change_image(this,'over','im_lat');\">Latitude <span class=\"spriteorig sp_s_asc\" id=\"im_lat\" style=\"display:none;\"></span><div style=\"font-weight:normal;\">degrees</div></th><th class=\"th2\" colspan=\"2\" onclick=\"change_tri('im_lon');\" onmouseout=\"change_image(this,'out','im_lon');\" onmouseover=\"change_image(this,'over','im_lon');\">Longitude <span class=\"spriteorig sp_s_asc\" id=\"im_lon\" style=\"display:none;\"></span><div style=\"font-weight:normal;\">degrees</div></th><th class=\"th2\" onclick=\"change_tri('im_depth');\" onmouseout=\"change_image(this,'out','im_depth');\" onmouseover=\"change_image(this,'over','im_depth');\">Depth <span class=\"spriteorig sp_s_asc\" id=\"im_depth\" style=\"display:none;\"></span><div style=\"font-weight: normal\">km</div></th><th class=\"th2\" colspan=\"1\" id=\"thmag\"><div onclick=\"change_tri('im_mag');\" onmouseout=\"change_image(this,'out','im_mag');\" onmouseover=\"change_image(this,'over','im_mag');\" style=\"float:left;\">Mag <span class=\"spriteorig sp_s_asc\" id=\"im_mag\" style=\"display:none;\"></span></div><div id=\"magplus2\" style=\"float:left;\"> <a href=\"javascript:hide_magni();\" id=\"magplus\" style=\"color:white;\">[+]</a></div></th><th class=\"th2\" id=\"ex_th2\"><div onclick=\"change_tri('im_reg');\" onmouseout=\"change_image(this,'out','im_reg');\" onmouseover=\"change_image(this,'over','im_reg');\" style=\"float:left;\">Region name <span class=\"spriteorig sp_s_asc\" id=\"im_reg\" style=\"display:none;\"></span></div><div id=\"upda\" onmouseout=\"info_b2('notshow','');\" onmouseover=\"info_b2('show','Show last update');\"> <a href=\"javascript:hide_upd();\" style=\"color:white;\">[+]</a></div></th><th class=\"th2 updatetimeno\" id=\"upd\"><div id=\"labupd\" onclick=\"change_tri('im_upd');\" onmouseout=\"change_image(this,'out','im_upd');\" onmouseover=\"change_image(this,'over','im_upd');\" style=\"float:left;text-align:right;\">Last update <span class=\"spriteorig sp_s_asc\" id=\"im_upd\" style=\"display:none;\"></span></div><div id=\"hideupda\" onmouseout=\"info_b2('notshow','');\" onmouseover=\"info_b2('show','Hide last update');\" style=\"float:left;\"><a href=\"javascript:hide_upd();\" style=\"color:white;\">[-]</a></div></th></tr>, <tr><td><div onclick=\"change_tri('im_report');\" onmouseout=\"change_image(this,'out','im_report');\" onmouseover=\"change_image(this,'over','im_report');\"><span class=\"spriteorig sp_ico_list\" onmouseout=\"info_b2('notshow','');\" onmouseover=\"info_b2('show','Sorted by number of &lt;b&gt;Comments&lt;/b&gt;');\"></span><span class=\"spriteorig sp_s_asc\" id=\"im_report\" style=\"display:none;\"></span></div></td><td><div onclick=\"change_tri('im_pics');\" onmouseout=\"change_image(this,'out','im_pics');\" onmouseover=\"change_image(this,'over','im_pics');\"><span class=\"spriteorig sp_digikam\" onmouseout=\"info_b2('notshow','');\" onmouseover=\"info_b2('show','Sorted by number of &lt;b&gt;Pictures&lt;/b&gt;');\"></span><span class=\"spriteorig sp_s_asc\" id=\"im_pics\" style=\"display:none;\"></span></div></td><td><div onclick=\"change_tri('im_intens');\" onmouseout=\"change_image(this,'out','im_intens');\" onmouseover=\"change_image(this,'over','im_intens');\"><span class=\"spriteorig sp_IntensityMap\" onmouseout=\"info_b2('notshow','');\" onmouseover=\"info_b2('show','Sorted by &lt;b&gt;Macroseismic Intensity&lt;/b&gt;');\"></span><span class=\"spriteorig sp_s_asc\" id=\"im_intens\" style=\"display:none;\"></span></div></td></tr>, <tr><td colspan=\"13\" style=\"background: white;height: 1px\"></td></tr>, <tr class=\"npages\" id=\"my_pagelist_0\"><td colspan=\"13\"><a class=\"sublink sublinka\" href=\"javascript:void()\" rel=\"nofollow\">1</a><a class=\"sublink\" href=\"/Earthquake/?view=2\">2</a><a class=\"sublink\" href=\"/Earthquake/?view=3\">3</a><a class=\"sublink\" href=\"/Earthquake/?view=4\">4</a><a class=\"sublink\" href=\"/Earthquake/?view=5\">5</a><a class=\"sublink\" href=\"/Earthquake/?view=6\">6</a><a class=\"sublink\" href=\"/Earthquake/?view=7\">7</a><a class=\"sublink\" href=\"/Earthquake/?view=8\">8</a><a class=\"sublink\" href=\"/Earthquake/?view=9\">9</a><a class=\"sublink\" href=\"/Earthquake/?view=10\">10</a><a alt=\"Next page\" class=\"sublink\" href=\"/Earthquake/?view=2\">›</a><a alt=\"Next 10 pages\" class=\"sublink\" href=\"/Earthquake/?view=11\">»</a></td></tr>, <tr class=\"ligne1 normal\" id=\"796797\" onclick=\"go_details(event,796797);\"><td class=\"tabev0\"></td><td class=\"tabev0\"></td><td class=\"tabev0\"></td><td class=\"tabev6\"><b><i style=\"display:none;\">earthquake</i><a href=\"/Earthquake/earthquake.php?id=796797\">2019-10-04   03:08:11.7</a></b><i class=\"ago\" id=\"ago0\">22min ago</i></td><td class=\"tabev1\">29.64 </td><td class=\"tabev2\">S  </td><td class=\"tabev1\">72.76 </td><td class=\"tabev2\">W  </td><td class=\"tabev3\">10</td><td class=\"tabev5\" id=\"magtyp0\">Mw</td><td class=\"tabev2\">4.5</td><td class=\"tb_region\" id=\"reg0\"> OFF COAST OF COQUIMBO, CHILE</td><td class=\"comment updatetimeno\" id=\"upd0\" style=\"text-align:right;\">2019-10-04 03:29</td></tr>, <tr class=\"ligne2 normal\" id=\"796796\" onclick=\"go_details(event,796796);\"><td class=\"tabev0\"></td><td class=\"tabev0\"></td><td class=\"tabev0\"></td><td class=\"tabev6\"><b><i style=\"display:none;\">earthquake</i><a href=\"/Earthquake/earthquake.php?id=796796\">2019-10-04   02:49:56.7</a></b><i class=\"ago\" id=\"ago1\">40min ago</i></td><td class=\"tabev1\">38.08 </td><td class=\"tabev2\">N  </td><td class=\"tabev1\">15.08 </td><td class=\"tabev2\">E  </td><td class=\"tabev3\">8</td><td class=\"tabev5\" id=\"magtyp1\">ML</td><td class=\"tabev2\">2.0</td><td class=\"tb_region\" id=\"reg1\"> SICILY, ITALY</td><td class=\"comment updatetimeno\" id=\"upd1\" style=\"text-align:right;\">2019-10-04 02:57</td></tr>, <tr class=\"ligne1 normal\" id=\"796793\" onclick=\"go_details(event,796793);\"><td class=\"tabev0\"></td><td class=\"tabev0\"></td><td class=\"tabev0\"></td><td class=\"tabev6\"><b><i style=\"display:none;\">earthquake</i><a href=\"/Earthquake/earthquake.php?id=796793\">2019-10-04   02:25:22.7</a></b><i class=\"ago\" id=\"ago2\">1hr 05min ago</i></td><td class=\"tabev1\">38.84 </td><td class=\"tabev2\">N  </td><td class=\"tabev1\">122.77 </td><td class=\"tabev2\">W  </td><td class=\"tabev3\">1</td><td class=\"tabev5\" id=\"magtyp2\">Md</td><td class=\"tabev2\">2.5</td><td class=\"tb_region\" id=\"reg2\"> NORTHERN CALIFORNIA</td><td class=\"comment updatetimeno\" id=\"upd2\" style=\"text-align:right;\">2019-10-04 02:26</td></tr>, <tr class=\"ligne2 normal\" id=\"796789\" onclick=\"go_details(event,796789);\"><td class=\"tabev0\"></td><td class=\"tabev0\"></td><td class=\"tabev0\"></td><td class=\"tabev6\"><b><i style=\"display:none;\">earthquake</i><a href=\"/Earthquake/earthquake.php?id=796789\">2019-10-04   02:07:24.0</a></b><i class=\"ago\" id=\"ago3\">1hr 23min ago</i></td><td class=\"tabev1\">2.49 </td><td class=\"tabev2\">S  </td><td class=\"tabev1\">138.49 </td><td class=\"tabev2\">E  </td><td class=\"tabev3\">13</td><td class=\"tabev5\" id=\"magtyp3\"> M</td><td class=\"tabev2\">3.9</td><td class=\"tb_region\" id=\"reg3\"> PAPUA, INDONESIA</td><td class=\"comment updatetimeno\" id=\"upd3\" style=\"text-align:right;\">2019-10-04 02:11</td></tr>, <tr class=\"ligne1 normal\" id=\"796787\" onclick=\"go_details(event,796787);\"><td class=\"tabev0\"></td><td class=\"tabev0\"></td><td class=\"tabev0\"></td><td class=\"tabev6\"><b><i style=\"display:none;\">earthquake</i><a href=\"/Earthquake/earthquake.php?id=796787\">2019-10-04   01:52:34.2</a></b><i class=\"ago\" id=\"ago4\">1hr 38min ago</i></td><td class=\"tabev1\">19.39 </td><td class=\"tabev2\">N  </td><td class=\"tabev1\">155.28 </td><td class=\"tabev2\">W  </td><td class=\"tabev3\">2</td><td class=\"tabev5\" id=\"magtyp4\">ML</td><td class=\"tabev2\">2.5</td><td class=\"tb_region\" id=\"reg4\"> ISLAND OF HAWAII, HAWAII</td><td class=\"comment updatetimeno\" id=\"upd4\" style=\"text-align:right;\">2019-10-04 02:47</td></tr>, <tr class=\"ligne2 normal\" id=\"796788\" onclick=\"go_details(event,796788);\"><td class=\"tabev0\"></td><td class=\"tabev0\"></td><td class=\"tabev0\"></td><td class=\"tabev6\"><b><i style=\"display:none;\">earthquake</i><a href=\"/Earthquake/earthquake.php?id=796788\">2019-10-04   01:46:12.0</a></b><i class=\"ago\" id=\"ago5\">1hr 44min ago</i></td><td class=\"tabev1\">18.62 </td><td class=\"tabev2\">S  </td><td class=\"tabev1\">70.99 </td><td class=\"tabev2\">W  </td><td class=\"tabev3\">15</td><td class=\"tabev5\" id=\"magtyp5\">ML</td><td class=\"tabev2\">3.6</td><td class=\"tb_region\" id=\"reg5\"> OFFSHORE TARAPACA, CHILE</td><td class=\"comment updatetimeno\" id=\"upd5\" style=\"text-align:right;\">2019-10-04 02:39</td></tr>, <tr class=\"ligne1 normal\" id=\"796781\" onclick=\"go_details(event,796781);\"><td class=\"tabev0\"></td><td class=\"tabev0\"></td><td class=\"tabev0\"></td><td class=\"tabev6\"><b><i style=\"display:none;\">earthquake</i><a href=\"/Earthquake/earthquake.php?id=796781\">2019-10-04   01:36:22.1</a></b><i class=\"ago\" id=\"ago6\">1hr 54min ago</i></td><td class=\"tabev1\">37.65 </td><td class=\"tabev2\">N  </td><td class=\"tabev1\">118.95 </td><td class=\"tabev2\">W  </td><td class=\"tabev3\">5</td><td class=\"tabev5\" id=\"magtyp6\">Md</td><td class=\"tabev2\">2.2</td><td class=\"tb_region\" id=\"reg6\"> LONG VALLEY AREA, CALIFORNIA</td><td class=\"comment updatetimeno\" id=\"upd6\" style=\"text-align:right;\">2019-10-04 01:37</td></tr>, <tr class=\"ligne2 normal\" id=\"796784\" onclick=\"go_details(event,796784);\"><td class=\"tabev0\"></td><td class=\"tabev0\"></td><td class=\"tabev0\"></td><td class=\"tabev6\"><b><i style=\"display:none;\">earthquake</i><a href=\"/Earthquake/earthquake.php?id=796784\">2019-10-04   01:32:59.0</a></b><i class=\"ago\" id=\"ago7\">1hr 57min ago</i></td><td class=\"tabev1\">16.20 </td><td class=\"tabev2\">N  </td><td class=\"tabev1\">97.52 </td><td class=\"tabev2\">W  </td><td class=\"tabev3\">6</td><td class=\"tabev5\" id=\"magtyp7\"> M</td><td class=\"tabev2\">4.1</td><td class=\"tb_region\" id=\"reg7\"> OAXACA, MEXICO</td><td class=\"comment updatetimeno\" id=\"upd7\" style=\"text-align:right;\">2019-10-04 01:50</td></tr>, <tr class=\"ligne1 normal\" id=\"796783\" onclick=\"go_details(event,796783);\"><td class=\"tabev0\"></td><td class=\"tabev0\"></td><td class=\"tabev0\"></td><td class=\"tabev6\"><b><i style=\"display:none;\">earthquake</i><a href=\"/Earthquake/earthquake.php?id=796783\">2019-10-04   01:32:52.0</a></b><i class=\"ago\" id=\"ago8\">1hr 57min ago</i></td><td class=\"tabev1\">42.75 </td><td class=\"tabev2\">S  </td><td class=\"tabev1\">74.22 </td><td class=\"tabev2\">W  </td><td class=\"tabev3\">38</td><td class=\"tabev5\" id=\"magtyp8\">ML</td><td class=\"tabev2\">3.1</td><td class=\"tb_region\" id=\"reg8\"> OFFSHORE LOS LAGOS, CHILE</td><td class=\"comment updatetimeno\" id=\"upd8\" style=\"text-align:right;\">2019-10-04 01:42</td></tr>, <tr class=\"ligne2 normal\" id=\"796786\" onclick=\"go_details(event,796786);\"><td class=\"tabev0\"></td><td class=\"tabev0\"></td><td class=\"tabev0\"></td><td class=\"tabev6\"><b><i style=\"display:none;\">earthquake</i><a href=\"/Earthquake/earthquake.php?id=796786\">2019-10-04   01:28:02.9</a></b><i class=\"ago\" id=\"ago9\">2hr 02min ago</i></td><td class=\"tabev1\">39.81 </td><td class=\"tabev2\">N  </td><td class=\"tabev1\">40.48 </td><td class=\"tabev2\">E  </td><td class=\"tabev3\">7</td><td class=\"tabev5\" id=\"magtyp9\">ML</td><td class=\"tabev2\">2.6</td><td class=\"tb_region\" id=\"reg9\"> EASTERN TURKEY</td><td class=\"comment updatetimeno\" id=\"upd9\" style=\"text-align:right;\">2019-10-04 01:53</td></tr>, <tr class=\"ligne1 normal\" id=\"796780\" onclick=\"go_details(event,796780);\"><td class=\"tabev0\"></td><td class=\"tabev0\"></td><td class=\"tabev0\"></td><td class=\"tabev6\"><b><i style=\"display:none;\">earthquake</i><a href=\"/Earthquake/earthquake.php?id=796780\">2019-10-04   01:21:16.9</a></b><i class=\"ago\" id=\"ago10\">2hr 09min ago</i></td><td class=\"tabev1\">59.00 </td><td class=\"tabev2\">N  </td><td class=\"tabev1\">152.08 </td><td class=\"tabev2\">W  </td><td class=\"tabev3\">27</td><td class=\"tabev5\" id=\"magtyp10\">ML</td><td class=\"tabev2\">2.8</td><td class=\"tb_region\" id=\"reg10\"> SOUTHERN ALASKA</td><td class=\"comment updatetimeno\" id=\"upd10\" style=\"text-align:right;\">2019-10-04 01:29</td></tr>, <tr class=\"ligne2 normal\" id=\"796794\" onclick=\"go_details(event,796794);\"><td class=\"tabev0\"></td><td class=\"tabev0\"></td><td class=\"tabev0\"></td><td class=\"tabev6\"><b><i style=\"display:none;\">earthquake</i><a href=\"/Earthquake/earthquake.php?id=796794\">2019-10-04   01:16:00.0</a></b><i class=\"ago\" id=\"ago11\">2hr 14min ago</i></td><td class=\"tabev1\">35.78 </td><td class=\"tabev2\">N  </td><td class=\"tabev1\">4.61 </td><td class=\"tabev2\">E  </td><td class=\"tabev3\">10</td><td class=\"tabev5\" id=\"magtyp11\"> M</td><td class=\"tabev2\">3.5</td><td class=\"tb_region\" id=\"reg11\"> NORTHERN ALGERIA</td><td class=\"comment updatetimeno\" id=\"upd11\" style=\"text-align:right;\">2019-10-04 02:43</td></tr>, <tr class=\"ligne1 normal\" id=\"796790\" onclick=\"go_details(event,796790);\"><td class=\"tabev0\"></td><td class=\"tabev0\"></td><td class=\"tabev0\"></td><td class=\"tabev6\"><b><i style=\"display:none;\">earthquake</i><a href=\"/Earthquake/earthquake.php?id=796790\">2019-10-04   01:07:16.7</a></b><i class=\"ago\" id=\"ago12\">2hr 23min ago</i></td><td class=\"tabev1\">22.68 </td><td class=\"tabev2\">S  </td><td class=\"tabev1\">152.50 </td><td class=\"tabev2\">E  </td><td class=\"tabev3\">10</td><td class=\"tabev5\" id=\"magtyp12\">ML</td><td class=\"tabev2\">3.3</td><td class=\"tb_region\" id=\"reg12\"> EAST OF AUSTRALIA</td><td class=\"comment updatetimeno\" id=\"upd12\" style=\"text-align:right;\">2019-10-04 03:16</td></tr>, <tr class=\"ligne2 normal\" id=\"796779\" onclick=\"go_details(event,796779);\"><td class=\"tabev0\"></td><td class=\"tabev0\"></td><td class=\"tabev0\"></td><td class=\"tabev6\"><b><i style=\"display:none;\">earthquake</i><a href=\"/Earthquake/earthquake.php?id=796779\">2019-10-04   01:06:09.0</a></b><i class=\"ago\" id=\"ago13\">2hr 24min ago</i></td><td class=\"tabev1\">4.80 </td><td class=\"tabev2\">N  </td><td class=\"tabev1\">126.37 </td><td class=\"tabev2\">E  </td><td class=\"tabev3\">93</td><td class=\"tabev5\" id=\"magtyp13\"> M</td><td class=\"tabev2\">4.5</td><td class=\"tb_region\" id=\"reg13\"> KEPULAUAN TALAUD, INDONESIA</td><td class=\"comment updatetimeno\" id=\"upd13\" style=\"text-align:right;\">2019-10-04 01:15</td></tr>, <tr class=\"ligne1 normal\" id=\"796778\" onclick=\"go_details(event,796778);\"><td class=\"tabev0\"></td><td class=\"tabev0\"></td><td class=\"tabev0\"></td><td class=\"tabev6\"><b><i style=\"display:none;\">earthquake</i><a href=\"/Earthquake/earthquake.php?id=796778\">2019-10-04   00:53:55.1</a></b><i class=\"ago\" id=\"ago14\">2hr 36min ago</i></td><td class=\"tabev1\">56.36 </td><td class=\"tabev2\">N  </td><td class=\"tabev1\">156.13 </td><td class=\"tabev2\">W  </td><td class=\"tabev3\">48</td><td class=\"tabev5\" id=\"magtyp14\">ML</td><td class=\"tabev2\">2.9</td><td class=\"tb_region\" id=\"reg14\"> ALASKA PENINSULA</td><td class=\"comment updatetimeno\" id=\"upd14\" style=\"text-align:right;\">2019-10-04 01:53</td></tr>, <tr class=\"ligne2 normal\" id=\"796765\" onclick=\"go_details(event,796765);\"><td class=\"tabev0\"></td><td class=\"tabev0\"></td><td class=\"tabev0\"></td><td class=\"tabev6\"><b><i style=\"display:none;\">earthquake</i><a href=\"/Earthquake/earthquake.php?id=796765\">2019-10-04   00:45:57.7</a></b><i class=\"ago\" id=\"ago15\">2hr 44min ago</i></td><td class=\"tabev1\">1.40 </td><td class=\"tabev2\">N  </td><td class=\"tabev1\">125.75 </td><td class=\"tabev2\">E  </td><td class=\"tabev3\">52</td><td class=\"tabev5\" id=\"magtyp15\">mb</td><td class=\"tabev2\">4.7</td><td class=\"tb_region\" id=\"reg15\"> MOLUCCA SEA</td><td class=\"comment updatetimeno\" id=\"upd15\" style=\"text-align:right;\">2019-10-04 01:57</td></tr>, <tr class=\"ligne1 normal\" id=\"796785\" onclick=\"go_details(event,796785);\"><td class=\"tabev0\"></td><td class=\"tabev0\"></td><td class=\"tabev0\"></td><td class=\"tabev6\"><b><i style=\"display:none;\">earthquake</i><a href=\"/Earthquake/earthquake.php?id=796785\">2019-10-04   00:34:06.6</a></b><i class=\"ago\" id=\"ago16\">2hr 56min ago</i></td><td class=\"tabev1\">36.31 </td><td class=\"tabev2\">N  </td><td class=\"tabev1\">29.29 </td><td class=\"tabev2\">E  </td><td class=\"tabev3\">25</td><td class=\"tabev5\" id=\"magtyp16\">ML</td><td class=\"tabev2\">2.2</td><td class=\"tb_region\" id=\"reg16\"> WESTERN TURKEY</td><td class=\"comment updatetimeno\" id=\"upd16\" style=\"text-align:right;\">2019-10-04 01:51</td></tr>, <tr class=\"ligne2 normal\" id=\"796764\" onclick=\"go_details(event,796764);\"><td class=\"tabev0\"></td><td class=\"tabev0\"></td><td class=\"tabev0\"></td><td class=\"tabev6\"><b><i style=\"display:none;\">earthquake</i><a href=\"/Earthquake/earthquake.php?id=796764\">2019-10-04   00:26:26.0</a></b><i class=\"ago\" id=\"ago17\">3hr 04min ago</i></td><td class=\"tabev1\">31.39 </td><td class=\"tabev2\">S  </td><td class=\"tabev1\">67.69 </td><td class=\"tabev2\">W  </td><td class=\"tabev3\">10</td><td class=\"tabev5\" id=\"magtyp17\"> M</td><td class=\"tabev2\">3.6</td><td class=\"tb_region\" id=\"reg17\"> SAN JUAN, ARGENTINA</td><td class=\"comment updatetimeno\" id=\"upd17\" style=\"text-align:right;\">2019-10-04 00:35</td></tr>, <tr class=\"ligne1 normal\" id=\"796763\" onclick=\"go_details(event,796763);\"><td class=\"tabev0\"></td><td class=\"tabev0\"></td><td class=\"tabev0\"></td><td class=\"tabev6\"><b><i style=\"display:none;\">earthquake</i><a href=\"/Earthquake/earthquake.php?id=796763\">2019-10-04   00:12:29.8</a></b><i class=\"ago\" id=\"ago18\">3hr 18min ago</i></td><td class=\"tabev1\">57.68 </td><td class=\"tabev2\">N  </td><td class=\"tabev1\">154.19 </td><td class=\"tabev2\">W  </td><td class=\"tabev3\">35</td><td class=\"tabev5\" id=\"magtyp18\">ML</td><td class=\"tabev2\">2.3</td><td class=\"tb_region\" id=\"reg18\"> KODIAK ISLAND REGION, ALASKA</td><td class=\"comment updatetimeno\" id=\"upd18\" style=\"text-align:right;\">2019-10-04 01:59</td></tr>, <tr class=\"ligne2 normal\" id=\"796758\" onclick=\"go_details(event,796758);\"><td class=\"tabev0\"></td><td class=\"tabev0\"></td><td class=\"tabev0\"></td><td class=\"tabev6\"><b><i style=\"display:none;\">earthquake</i><a href=\"/Earthquake/earthquake.php?id=796758\">2019-10-04   00:07:45.8</a></b><i class=\"ago\" id=\"ago19\">3hr 22min ago</i></td><td class=\"tabev1\">37.46 </td><td class=\"tabev2\">N  </td><td class=\"tabev1\">118.49 </td><td class=\"tabev2\">W  </td><td class=\"tabev3\">2</td><td class=\"tabev5\" id=\"magtyp19\">ML</td><td class=\"tabev2\">2.0</td><td class=\"tb_region\" id=\"reg19\"> CENTRAL CALIFORNIA</td><td class=\"comment updatetimeno\" id=\"upd19\" style=\"text-align:right;\">2019-10-04 00:22</td></tr>, <tr class=\"autour\" id=\"tr020\"><td colspan=\"13\" style=\"height:3px;background-color:#FFF;\"></td></tr>, <tr class=\"black\" id=\"tr120\"><td colspan=\"13\" style=\"height:1px;line-height:1px;\"> <!--[if lte IE 7]>&nbsp;<![endif]--></td></tr>, <tr class=\"autour\" id=\"tr220\"><td colspan=\"13\" style=\"height:3px;background-color:#FFF;\"></td></tr>, <tr class=\"ligne1 normal\" id=\"796754\" onclick=\"go_details(event,796754);\"><td class=\"tabev0\" style=\"text-align:center;\"><a href=\"https://www.emsc-csem.org/Earthquake/Testimonies/comments.php?id=796754\" onmouseout=\"info_b2('notshow','');\" onmouseover=\"info_b2('show','See the &lt;b&gt;36 testimonies&lt;/b&gt; for this earthquake');\"><span class=\"\" style=\"vertical-align:middle;\">36</span></a></td><td class=\"tabev0\"></td><td class=\"tabev0\"><span class=\"intensity\" onclick=\"go_details(event,null,'https://www.emsc-csem.org/Earthquake/popup_intensmap.php?id=796754&amp;f=/INTENSITY_MAPS/79/796754/AUTOMATIC/AreaThreshold_5/EMS_98__RMW_Musson/LocMethod_PerClusterCity/DynamicClusters_MaxSize50/IntensityMapThumbnails.png');\" onmouseout=\"info_b2('notshow','');\" onmouseover=\"info_b2('show','See the &lt;b&gt; Intensity map&lt;/b&gt;');\" style=\"background-color:#00FFFF;\">IV</span></td><td class=\"tabev6\"><b><i style=\"display:none;\">earthquake</i><a href=\"/Earthquake/earthquake.php?id=796754\">2019-10-03   23:52:00.9</a></b><i class=\"ago\" id=\"ago20\">3hr 38min ago</i></td><td class=\"tabev1\">44.60 </td><td class=\"tabev2\">N  </td><td class=\"tabev1\">18.63 </td><td class=\"tabev2\">E  </td><td class=\"tabev3\">10</td><td class=\"tabev5\" id=\"magtyp20\">ML</td><td class=\"tabev2\">3.0</td><td class=\"tb_region\" id=\"reg20\"> BOSNIA AND HERZEGOVINA</td><td class=\"comment updatetimeno\" id=\"upd20\" style=\"text-align:right;\">2019-10-03 23:57</td></tr>, <tr class=\"ligne2 normal\" id=\"796759\" onclick=\"go_details(event,796759);\"><td class=\"tabev0\"></td><td class=\"tabev0\"></td><td class=\"tabev0\"></td><td class=\"tabev6\"><b><i style=\"display:none;\">earthquake</i><a href=\"/Earthquake/earthquake.php?id=796759\">2019-10-03   23:44:49.0</a></b><i class=\"ago\" id=\"ago21\">3hr 45min ago</i></td><td class=\"tabev1\">19.72 </td><td class=\"tabev2\">N  </td><td class=\"tabev1\">71.60 </td><td class=\"tabev2\">W  </td><td class=\"tabev3\">12</td><td class=\"tabev5\" id=\"magtyp21\"> M</td><td class=\"tabev2\">2.7</td><td class=\"tb_region\" id=\"reg21\"> DOMINICAN REPUBLIC</td><td class=\"comment updatetimeno\" id=\"upd21\" style=\"text-align:right;\">2019-10-04 00:15</td></tr>, <tr class=\"ligne1 normal\" id=\"796756\" onclick=\"go_details(event,796756);\"><td class=\"tabev0\"></td><td class=\"tabev0\"></td><td class=\"tabev0\"></td><td class=\"tabev6\"><b><i style=\"display:none;\">earthquake</i><a href=\"/Earthquake/earthquake.php?id=796756\">2019-10-03   23:34:57.0</a></b><i class=\"ago\" id=\"ago22\">3hr 55min ago</i></td><td class=\"tabev1\">19.69 </td><td class=\"tabev2\">N  </td><td class=\"tabev1\">70.75 </td><td class=\"tabev2\">W  </td><td class=\"tabev3\">23</td><td class=\"tabev5\" id=\"magtyp22\"> M</td><td class=\"tabev2\">2.9</td><td class=\"tb_region\" id=\"reg22\"> DOMINICAN REPUBLIC</td><td class=\"comment updatetimeno\" id=\"upd22\" style=\"text-align:right;\">2019-10-04 00:02</td></tr>, <tr class=\"ligne2 normal\" id=\"796751\" onclick=\"go_details(event,796751);\"><td class=\"tabev0\"></td><td class=\"tabev0\"></td><td class=\"tabev0\"></td><td class=\"tabev6\"><b><i style=\"display:none;\">earthquake</i><a href=\"/Earthquake/earthquake.php?id=796751\">2019-10-03   23:33:28.6</a></b><i class=\"ago\" id=\"ago23\">3hr 57min ago</i></td><td class=\"tabev1\">39.50 </td><td class=\"tabev2\">N  </td><td class=\"tabev1\">99.13 </td><td class=\"tabev2\">W  </td><td class=\"tabev3\">5</td><td class=\"tabev5\" id=\"magtyp23\">mb</td><td class=\"tabev2\">2.6</td><td class=\"tb_region\" id=\"reg23\"> KANSAS</td><td class=\"comment updatetimeno\" id=\"upd23\" style=\"text-align:right;\">2019-10-04 02:06</td></tr>, <tr class=\"ligne1 normal\" id=\"796748\" onclick=\"go_details(event,796748);\"><td class=\"tabev0\"></td><td class=\"tabev0\"></td><td class=\"tabev0\"></td><td class=\"tabev6\"><b><i style=\"display:none;\">earthquake</i><a href=\"/Earthquake/earthquake.php?id=796748\">2019-10-03   23:23:21.4</a></b><i class=\"ago\" id=\"ago24\">4hr 07min ago</i></td><td class=\"tabev1\">35.78 </td><td class=\"tabev2\">N  </td><td class=\"tabev1\">117.58 </td><td class=\"tabev2\">W  </td><td class=\"tabev3\">10</td><td class=\"tabev5\" id=\"magtyp24\">Ml</td><td class=\"tabev2\">2.1</td><td class=\"tb_region\" id=\"reg24\"> SOUTHERN CALIFORNIA</td><td class=\"comment updatetimeno\" id=\"upd24\" style=\"text-align:right;\">2019-10-03 23:27</td></tr>, <tr class=\"ligne2 normal\" id=\"796782\" onclick=\"go_details(event,796782);\"><td class=\"tabev0\"></td><td class=\"tabev0\"></td><td class=\"tabev0\"></td><td class=\"tabev6\"><b><i style=\"display:none;\">earthquake</i><a href=\"/Earthquake/earthquake.php?id=796782\">2019-10-03   22:48:42.3</a></b><i class=\"ago\" id=\"ago25\">4hr 41min ago</i></td><td class=\"tabev1\">39.83 </td><td class=\"tabev2\">N  </td><td class=\"tabev1\">40.49 </td><td class=\"tabev2\">E  </td><td class=\"tabev3\">7</td><td class=\"tabev5\" id=\"magtyp25\">ML</td><td class=\"tabev2\">2.4</td><td class=\"tb_region\" id=\"reg25\"> EASTERN TURKEY</td><td class=\"comment updatetimeno\" id=\"upd25\" style=\"text-align:right;\">2019-10-04 01:39</td></tr>, <tr class=\"ligne1 normal\" id=\"796743\" onclick=\"go_details(event,796743);\"><td class=\"tabev0\"></td><td class=\"tabev0\"></td><td class=\"tabev0\"></td><td class=\"tabev6\"><b><i style=\"display:none;\">earthquake</i><a href=\"/Earthquake/earthquake.php?id=796743\">2019-10-03   22:41:15.9</a></b><i class=\"ago\" id=\"ago26\">4hr 49min ago</i></td><td class=\"tabev1\">62.28 </td><td class=\"tabev2\">N  </td><td class=\"tabev1\">150.38 </td><td class=\"tabev2\">W  </td><td class=\"tabev3\">15</td><td class=\"tabev5\" id=\"magtyp26\">ML</td><td class=\"tabev2\">2.5</td><td class=\"tb_region\" id=\"reg26\"> CENTRAL ALASKA</td><td class=\"comment updatetimeno\" id=\"upd26\" style=\"text-align:right;\">2019-10-03 22:58</td></tr>, <tr class=\"ligne2 normal\" id=\"796738\" onclick=\"go_details(event,796738);\"><td class=\"tabev0\"></td><td class=\"tabev0\"></td><td class=\"tabev0\"></td><td class=\"tabev6\"><b><i style=\"display:none;\">earthquake</i><a href=\"/Earthquake/earthquake.php?id=796738\">2019-10-03   22:22:42.8</a></b><i class=\"ago\" id=\"ago27\">5hr 07min ago</i></td><td class=\"tabev1\">37.64 </td><td class=\"tabev2\">N  </td><td class=\"tabev1\">118.94 </td><td class=\"tabev2\">W  </td><td class=\"tabev3\">5</td><td class=\"tabev5\" id=\"magtyp27\">Md</td><td class=\"tabev2\">2.2</td><td class=\"tb_region\" id=\"reg27\"> LONG VALLEY AREA, CALIFORNIA</td><td class=\"comment updatetimeno\" id=\"upd27\" style=\"text-align:right;\">2019-10-03 22:24</td></tr>, <tr class=\"ligne1 normal\" id=\"796739\" onclick=\"go_details(event,796739);\"><td class=\"tabev0\"></td><td class=\"tabev0\"></td><td class=\"tabev0\"></td><td class=\"tabev6\"><b><i style=\"display:none;\">earthquake</i><a href=\"/Earthquake/earthquake.php?id=796739\">2019-10-03   22:18:49.0</a></b><i class=\"ago\" id=\"ago28\">5hr 11min ago</i></td><td class=\"tabev1\">3.62 </td><td class=\"tabev2\">S  </td><td class=\"tabev1\">128.37 </td><td class=\"tabev2\">E  </td><td class=\"tabev3\">10</td><td class=\"tabev5\" id=\"magtyp28\"> M</td><td class=\"tabev2\">3.7</td><td class=\"tb_region\" id=\"reg28\"> SERAM, INDONESIA</td><td class=\"comment updatetimeno\" id=\"upd28\" style=\"text-align:right;\">2019-10-03 22:26</td></tr>, <tr class=\"ligne2 normal\" id=\"796737\" onclick=\"go_details(event,796737);\"><td class=\"tabev0\"></td><td class=\"tabev0\"></td><td class=\"tabev0\"></td><td class=\"tabev6\"><b><i style=\"display:none;\">earthquake</i><a href=\"/Earthquake/earthquake.php?id=796737\">2019-10-03   22:11:54.6</a></b><i class=\"ago\" id=\"ago29\">5hr 18min ago</i></td><td class=\"tabev1\">36.88 </td><td class=\"tabev2\">N  </td><td class=\"tabev1\">29.22 </td><td class=\"tabev2\">E  </td><td class=\"tabev3\">8</td><td class=\"tabev5\" id=\"magtyp29\">ML</td><td class=\"tabev2\">2.5</td><td class=\"tb_region\" id=\"reg29\"> WESTERN TURKEY</td><td class=\"comment updatetimeno\" id=\"upd29\" style=\"text-align:right;\">2019-10-04 01:37</td></tr>, <tr class=\"ligne1 normal\" id=\"796736\" onclick=\"go_details(event,796736);\"><td class=\"tabev0\"></td><td class=\"tabev0\"></td><td class=\"tabev0\"></td><td class=\"tabev6\"><b><i style=\"display:none;\">earthquake</i><a href=\"/Earthquake/earthquake.php?id=796736\">2019-10-03   22:11:53.5</a></b><i class=\"ago\" id=\"ago30\">5hr 18min ago</i></td><td class=\"tabev1\">19.16 </td><td class=\"tabev2\">N  </td><td class=\"tabev1\">155.48 </td><td class=\"tabev2\">W  </td><td class=\"tabev3\">30</td><td class=\"tabev5\" id=\"magtyp30\">Md</td><td class=\"tabev2\">2.1</td><td class=\"tb_region\" id=\"reg30\"> ISLAND OF HAWAII, HAWAII</td><td class=\"comment updatetimeno\" id=\"upd30\" style=\"text-align:right;\">2019-10-03 22:15</td></tr>, <tr class=\"ligne2 normal\" id=\"796740\" onclick=\"go_details(event,796740);\"><td class=\"tabev0\"></td><td class=\"tabev0\"></td><td class=\"tabev0\"></td><td class=\"tabev6\"><b><i style=\"display:none;\">earthquake</i><a href=\"/Earthquake/earthquake.php?id=796740\">2019-10-03   22:03:26.9</a></b><i class=\"ago\" id=\"ago31\">5hr 27min ago</i></td><td class=\"tabev1\">19.16 </td><td class=\"tabev2\">N  </td><td class=\"tabev1\">67.37 </td><td class=\"tabev2\">W  </td><td class=\"tabev3\">10</td><td class=\"tabev5\" id=\"magtyp31\">ML</td><td class=\"tabev2\">3.4</td><td class=\"tb_region\" id=\"reg31\"> PUERTO RICO REGION</td><td class=\"comment updatetimeno\" id=\"upd31\" style=\"text-align:right;\">2019-10-04 02:07</td></tr>, <tr class=\"ligne1 normal\" id=\"796735\" onclick=\"go_details(event,796735);\"><td class=\"tabev0\"></td><td class=\"tabev0\"></td><td class=\"tabev0\"><span class=\"intensity\" onclick=\"go_details(event,null,'https://www.emsc-csem.org/Earthquake/popup_intensmap.php?id=796735&amp;f=/INTENSITY_MAPS/79/796735/AUTOMATIC/AreaThreshold_5/EMS_98__RMW_Musson/LocMethod_PerClusterCity/DynamicClusters_MaxSize50/IntensityMapThumbnails.png');\" onmouseout=\"info_b2('notshow','');\" onmouseover=\"info_b2('show','See the &lt;b&gt; Intensity map&lt;/b&gt;');\" style=\"background-color:#FFFFFF;\">F</span></td><td class=\"tabev6\"><b><i style=\"display:none;\">earthquake</i><a href=\"/Earthquake/earthquake.php?id=796735\">2019-10-03   22:02:55.8</a></b><i class=\"ago\" id=\"ago32\">5hr 27min ago</i></td><td class=\"tabev1\">37.48 </td><td class=\"tabev2\">N  </td><td class=\"tabev1\">72.26 </td><td class=\"tabev2\">E  </td><td class=\"tabev3\">187</td><td class=\"tabev5\" id=\"magtyp32\">mb</td><td class=\"tabev2\">4.4</td><td class=\"tb_region\" id=\"reg32\"> TAJIKISTAN</td><td class=\"comment updatetimeno\" id=\"upd32\" style=\"text-align:right;\">2019-10-03 23:56</td></tr>, <tr class=\"ligne2 normal\" id=\"796766\" onclick=\"go_details(event,796766);\"><td class=\"tabev0\"></td><td class=\"tabev0\"></td><td class=\"tabev0\"></td><td class=\"tabev6\"><b><i style=\"display:none;\">earthquake</i><a href=\"/Earthquake/earthquake.php?id=796766\">2019-10-03   21:54:51.0</a></b><i class=\"ago\" id=\"ago33\">5hr 35min ago</i></td><td class=\"tabev1\">16.55 </td><td class=\"tabev2\">N  </td><td class=\"tabev1\">98.97 </td><td class=\"tabev2\">W  </td><td class=\"tabev3\">14</td><td class=\"tabev5\" id=\"magtyp33\"> M</td><td class=\"tabev2\">3.5</td><td class=\"tb_region\" id=\"reg33\"> OFFSHORE GUERRERO, MEXICO</td><td class=\"comment updatetimeno\" id=\"upd33\" style=\"text-align:right;\">2019-10-04 01:05</td></tr>, <tr class=\"ligne1 normal\" id=\"796771\" onclick=\"go_details(event,796771);\"><td class=\"tabev0\"></td><td class=\"tabev0\"></td><td class=\"tabev0\"></td><td class=\"tabev6\"><b><i style=\"display:none;\">earthquake</i><a href=\"/Earthquake/earthquake.php?id=796771\">2019-10-03   21:41:05.0</a></b><i class=\"ago\" id=\"ago34\">5hr 49min ago</i></td><td class=\"tabev1\">15.34 </td><td class=\"tabev2\">N  </td><td class=\"tabev1\">94.74 </td><td class=\"tabev2\">W  </td><td class=\"tabev3\">8</td><td class=\"tabev5\" id=\"magtyp34\"> M</td><td class=\"tabev2\">3.6</td><td class=\"tb_region\" id=\"reg34\"> OFFSHORE OAXACA, MEXICO</td><td class=\"comment updatetimeno\" id=\"upd34\" style=\"text-align:right;\">2019-10-04 01:05</td></tr>, <tr class=\"ligne2 normal\" id=\"796732\" onclick=\"go_details(event,796732);\"><td class=\"tabev0\"></td><td class=\"tabev0\"></td><td class=\"tabev0\"></td><td class=\"tabev6\"><b><i style=\"display:none;\">earthquake</i><a href=\"/Earthquake/earthquake.php?id=796732\">2019-10-03   21:18:18.8</a></b><i class=\"ago\" id=\"ago35\">6hr 12min ago</i></td><td class=\"tabev1\">19.15 </td><td class=\"tabev2\">N  </td><td class=\"tabev1\">155.45 </td><td class=\"tabev2\">W  </td><td class=\"tabev3\">34</td><td class=\"tabev5\" id=\"magtyp35\">Md</td><td class=\"tabev2\">2.2</td><td class=\"tb_region\" id=\"reg35\"> ISLAND OF HAWAII, HAWAII</td><td class=\"comment updatetimeno\" id=\"upd35\" style=\"text-align:right;\">2019-10-03 21:21</td></tr>, <tr class=\"ligne1 normal\" id=\"796733\" onclick=\"go_details(event,796733);\"><td class=\"tabev0\"></td><td class=\"tabev0\"></td><td class=\"tabev0\"></td><td class=\"tabev6\"><b><i style=\"display:none;\">earthquake</i><a href=\"/Earthquake/earthquake.php?id=796733\">2019-10-03   21:16:57.0</a></b><i class=\"ago\" id=\"ago36\">6hr 13min ago</i></td><td class=\"tabev1\">38.71 </td><td class=\"tabev2\">N  </td><td class=\"tabev1\">38.10 </td><td class=\"tabev2\">E  </td><td class=\"tabev3\">7</td><td class=\"tabev5\" id=\"magtyp36\">ML</td><td class=\"tabev2\">2.3</td><td class=\"tb_region\" id=\"reg36\"> EASTERN TURKEY</td><td class=\"comment updatetimeno\" id=\"upd36\" style=\"text-align:right;\">2019-10-03 21:23</td></tr>, <tr class=\"ligne2 normal\" id=\"796734\" onclick=\"go_details(event,796734);\"><td class=\"tabev0\"></td><td class=\"tabev0\"></td><td class=\"tabev0\"></td><td class=\"tabev6\"><b><i style=\"display:none;\">earthquake</i><a href=\"/Earthquake/earthquake.php?id=796734\">2019-10-03   21:12:25.0</a></b><i class=\"ago\" id=\"ago37\">6hr 18min ago</i></td><td class=\"tabev1\">2.78 </td><td class=\"tabev2\">S  </td><td class=\"tabev1\">138.50 </td><td class=\"tabev2\">E  </td><td class=\"tabev3\">26</td><td class=\"tabev5\" id=\"magtyp37\">mb</td><td class=\"tabev2\">4.7</td><td class=\"tb_region\" id=\"reg37\"> PAPUA, INDONESIA</td><td class=\"comment updatetimeno\" id=\"upd37\" style=\"text-align:right;\">2019-10-04 02:16</td></tr>, <tr class=\"ligne1 normal\" id=\"796731\" onclick=\"go_details(event,796731);\"><td class=\"tabev0\"></td><td class=\"tabev0\"></td><td class=\"tabev0\"></td><td class=\"tabev6\"><b><i style=\"display:none;\">earthquake</i><a href=\"/Earthquake/earthquake.php?id=796731\">2019-10-03   21:03:10.0</a></b><i class=\"ago\" id=\"ago38\">6hr 27min ago</i></td><td class=\"tabev1\">2.45 </td><td class=\"tabev2\">S  </td><td class=\"tabev1\">138.58 </td><td class=\"tabev2\">E  </td><td class=\"tabev3\">10</td><td class=\"tabev5\" id=\"magtyp38\"> M</td><td class=\"tabev2\">3.8</td><td class=\"tb_region\" id=\"reg38\"> PAPUA, INDONESIA</td><td class=\"comment updatetimeno\" id=\"upd38\" style=\"text-align:right;\">2019-10-03 21:15</td></tr>, <tr class=\"ligne2 normal\" id=\"796746\" onclick=\"go_details(event,796746);\"><td class=\"tabev0\"></td><td class=\"tabev0\"></td><td class=\"tabev0\"></td><td class=\"tabev6\"><b><i style=\"display:none;\">earthquake</i><a href=\"/Earthquake/earthquake.php?id=796746\">2019-10-03   20:54:12.5</a></b><i class=\"ago\" id=\"ago39\">6hr 36min ago</i></td><td class=\"tabev1\">19.30 </td><td class=\"tabev2\">N  </td><td class=\"tabev1\">67.46 </td><td class=\"tabev2\">W  </td><td class=\"tabev3\">30</td><td class=\"tabev5\" id=\"magtyp39\">Md</td><td class=\"tabev2\">2.9</td><td class=\"tb_region\" id=\"reg39\"> PUERTO RICO REGION</td><td class=\"comment updatetimeno\" id=\"upd39\" style=\"text-align:right;\">2019-10-03 23:17</td></tr>, <tr class=\"ligne1 normal\" id=\"796770\" onclick=\"go_details(event,796770);\"><td class=\"tabev0\"></td><td class=\"tabev0\"></td><td class=\"tabev0\"></td><td class=\"tabev6\"><b><i style=\"display:none;\">earthquake</i><a href=\"/Earthquake/earthquake.php?id=796770\">2019-10-03   20:51:53.0</a></b><i class=\"ago\" id=\"ago40\">6hr 38min ago</i></td><td class=\"tabev1\">15.88 </td><td class=\"tabev2\">N  </td><td class=\"tabev1\">98.53 </td><td class=\"tabev2\">W  </td><td class=\"tabev3\">20</td><td class=\"tabev5\" id=\"magtyp40\"> M</td><td class=\"tabev2\">3.7</td><td class=\"tb_region\" id=\"reg40\"> OFFSHORE OAXACA, MEXICO</td><td class=\"comment updatetimeno\" id=\"upd40\" style=\"text-align:right;\">2019-10-04 01:05</td></tr>, <tr class=\"ligne2 normal\" id=\"796727\" onclick=\"go_details(event,796727);\"><td class=\"tabev0\"></td><td class=\"tabev0\"></td><td class=\"tabev0\"></td><td class=\"tabev6\"><b><i style=\"display:none;\">earthquake</i><a href=\"/Earthquake/earthquake.php?id=796727\">2019-10-03   20:45:26.0</a></b><i class=\"ago\" id=\"ago41\">6hr 45min ago</i></td><td class=\"tabev1\">0.68 </td><td class=\"tabev2\">S  </td><td class=\"tabev1\">127.69 </td><td class=\"tabev2\">E  </td><td class=\"tabev3\">10</td><td class=\"tabev5\" id=\"magtyp41\"> M</td><td class=\"tabev2\">3.9</td><td class=\"tb_region\" id=\"reg41\"> HALMAHERA, INDONESIA</td><td class=\"comment updatetimeno\" id=\"upd41\" style=\"text-align:right;\">2019-10-03 20:55</td></tr>, <tr class=\"ligne1 normal\" id=\"796772\" onclick=\"go_details(event,796772);\"><td class=\"tabev0\"></td><td class=\"tabev0\"></td><td class=\"tabev0\"></td><td class=\"tabev6\"><b><i style=\"display:none;\">earthquake</i><a href=\"/Earthquake/earthquake.php?id=796772\">2019-10-03   20:34:51.0</a></b><i class=\"ago\" id=\"ago42\">6hr 55min ago</i></td><td class=\"tabev1\">15.99 </td><td class=\"tabev2\">N  </td><td class=\"tabev1\">94.30 </td><td class=\"tabev2\">W  </td><td class=\"tabev3\">10</td><td class=\"tabev5\" id=\"magtyp42\"> M</td><td class=\"tabev2\">3.9</td><td class=\"tb_region\" id=\"reg42\"> OFFSHORE OAXACA, MEXICO</td><td class=\"comment updatetimeno\" id=\"upd42\" style=\"text-align:right;\">2019-10-04 01:05</td></tr>, <tr class=\"ligne2 normal\" id=\"796724\" onclick=\"go_details(event,796724);\"><td class=\"tabev0\"></td><td class=\"tabev0\"></td><td class=\"tabev0\"></td><td class=\"tabev6\"><b><i style=\"display:none;\">earthquake</i><a href=\"/Earthquake/earthquake.php?id=796724\">2019-10-03   20:34:19.0</a></b><i class=\"ago\" id=\"ago43\">6hr 56min ago</i></td><td class=\"tabev1\">34.64 </td><td class=\"tabev2\">S  </td><td class=\"tabev1\">71.97 </td><td class=\"tabev2\">W  </td><td class=\"tabev3\">14</td><td class=\"tabev5\" id=\"magtyp43\">ML</td><td class=\"tabev2\">3.0</td><td class=\"tb_region\" id=\"reg43\"> LIBERTADOR O'HIGGINS, CHILE</td><td class=\"comment updatetimeno\" id=\"upd43\" style=\"text-align:right;\">2019-10-03 20:57</td></tr>, <tr class=\"ligne1 normal\" id=\"796726\" onclick=\"go_details(event,796726);\"><td class=\"tabev0\"></td><td class=\"tabev0\"></td><td class=\"tabev0\"></td><td class=\"tabev6\"><b><i style=\"display:none;\">earthquake</i><a href=\"/Earthquake/earthquake.php?id=796726\">2019-10-03   20:33:15.0</a></b><i class=\"ago\" id=\"ago44\">6hr 57min ago</i></td><td class=\"tabev1\">64.63 </td><td class=\"tabev2\">N  </td><td class=\"tabev1\">17.36 </td><td class=\"tabev2\">W  </td><td class=\"tabev3\">1</td><td class=\"tabev5\" id=\"magtyp44\"> M</td><td class=\"tabev2\">3.1</td><td class=\"tb_region\" id=\"reg44\"> ICELAND</td><td class=\"comment updatetimeno\" id=\"upd44\" style=\"text-align:right;\">2019-10-03 20:55</td></tr>, <tr class=\"ligne2 normal\" id=\"796752\" onclick=\"go_details(event,796752);\"><td class=\"tabev0\"></td><td class=\"tabev0\"></td><td class=\"tabev0\"></td><td class=\"tabev6\"><b><i style=\"display:none;\">earthquake</i><a href=\"/Earthquake/earthquake.php?id=796752\">2019-10-03   20:13:54.0</a></b><i class=\"ago\" id=\"ago45\">7hr 16min ago</i></td><td class=\"tabev1\">19.70 </td><td class=\"tabev2\">N  </td><td class=\"tabev1\">70.72 </td><td class=\"tabev2\">W  </td><td class=\"tabev3\">23</td><td class=\"tabev5\" id=\"magtyp45\"> M</td><td class=\"tabev2\">3.2</td><td class=\"tb_region\" id=\"reg45\"> DOMINICAN REPUBLIC</td><td class=\"comment updatetimeno\" id=\"upd45\" style=\"text-align:right;\">2019-10-03 23:50</td></tr>, <tr class=\"ligne1 normal\" id=\"796750\" onclick=\"go_details(event,796750);\"><td class=\"tabev0\"></td><td class=\"tabev0\"></td><td class=\"tabev0\"></td><td class=\"tabev6\"><b><i style=\"display:none;\">earthquake</i><a href=\"/Earthquake/earthquake.php?id=796750\">2019-10-03   20:06:14.9</a></b><i class=\"ago\" id=\"ago46\">7hr 24min ago</i></td><td class=\"tabev1\">42.59 </td><td class=\"tabev2\">N  </td><td class=\"tabev1\">111.44 </td><td class=\"tabev2\">W  </td><td class=\"tabev3\">5</td><td class=\"tabev5\" id=\"magtyp46\">Ml</td><td class=\"tabev2\">2.7</td><td class=\"tb_region\" id=\"reg46\"> SOUTHERN IDAHO</td><td class=\"comment updatetimeno\" id=\"upd46\" style=\"text-align:right;\">2019-10-03 23:29</td></tr>, <tr class=\"ligne2 normal\" id=\"796774\" onclick=\"go_details(event,796774);\"><td class=\"tabev0\"></td><td class=\"tabev0\"></td><td class=\"tabev0\"></td><td class=\"tabev6\"><b><i style=\"display:none;\">earthquake</i><a href=\"/Earthquake/earthquake.php?id=796774\">2019-10-03   19:59:58.0</a></b><i class=\"ago\" id=\"ago47\">7hr 30min ago</i></td><td class=\"tabev1\">14.20 </td><td class=\"tabev2\">N  </td><td class=\"tabev1\">92.51 </td><td class=\"tabev2\">W  </td><td class=\"tabev3\">32</td><td class=\"tabev5\" id=\"magtyp47\"> M</td><td class=\"tabev2\">3.8</td><td class=\"tb_region\" id=\"reg47\"> OFFSHORE CHIAPAS, MEXICO</td><td class=\"comment updatetimeno\" id=\"upd47\" style=\"text-align:right;\">2019-10-04 01:06</td></tr>, <tr class=\"ligne1 normal\" id=\"796773\" onclick=\"go_details(event,796773);\"><td class=\"tabev0\"></td><td class=\"tabev0\"></td><td class=\"tabev0\"></td><td class=\"tabev6\"><b><i style=\"display:none;\">earthquake</i><a href=\"/Earthquake/earthquake.php?id=796773\">2019-10-03   19:55:14.0</a></b><i class=\"ago\" id=\"ago48\">7hr 35min ago</i></td><td class=\"tabev1\">15.10 </td><td class=\"tabev2\">N  </td><td class=\"tabev1\">94.39 </td><td class=\"tabev2\">W  </td><td class=\"tabev3\">14</td><td class=\"tabev5\" id=\"magtyp48\"> M</td><td class=\"tabev2\">3.7</td><td class=\"tb_region\" id=\"reg48\"> OFF COAST OF CHIAPAS, MEXICO</td><td class=\"comment updatetimeno\" id=\"upd48\" style=\"text-align:right;\">2019-10-04 01:06</td></tr>, <tr class=\"ligne2 normal\" id=\"796725\" onclick=\"go_details(event,796725);\"><td class=\"tabev0\"></td><td class=\"tabev0\"></td><td class=\"tabev0\"></td><td class=\"tabev6\"><b><i style=\"display:none;\">earthquake</i><a href=\"/Earthquake/earthquake.php?id=796725\">2019-10-03   19:50:01.1</a></b><i class=\"ago\" id=\"ago49\">7hr 40min ago</i></td><td class=\"tabev1\">36.29 </td><td class=\"tabev2\">N  </td><td class=\"tabev1\">28.50 </td><td class=\"tabev2\">E  </td><td class=\"tabev3\">7</td><td class=\"tabev5\" id=\"magtyp49\">ML</td><td class=\"tabev2\">2.0</td><td class=\"tb_region\" id=\"reg49\"> DODECANESE IS.-TURKEY BORDER REG</td><td class=\"comment updatetimeno\" id=\"upd49\" style=\"text-align:right;\">2019-10-03 20:53</td></tr>, <tr><td colspan=\"13\" style=\"height:3px\"></td></tr>, <tr class=\"npages\" id=\"my_pagelist_1\"><td colspan=\"13\"><a class=\"sublink sublinka\" href=\"javascript:void()\" rel=\"nofollow\">1</a><a class=\"sublink\" href=\"/Earthquake/?view=2\">2</a><a class=\"sublink\" href=\"/Earthquake/?view=3\">3</a><a class=\"sublink\" href=\"/Earthquake/?view=4\">4</a><a class=\"sublink\" href=\"/Earthquake/?view=5\">5</a><a class=\"sublink\" href=\"/Earthquake/?view=6\">6</a><a class=\"sublink\" href=\"/Earthquake/?view=7\">7</a><a class=\"sublink\" href=\"/Earthquake/?view=8\">8</a><a class=\"sublink\" href=\"/Earthquake/?view=9\">9</a><a class=\"sublink\" href=\"/Earthquake/?view=10\">10</a><a alt=\"Next page\" class=\"sublink\" href=\"/Earthquake/?view=2\">›</a><a alt=\"Next 10 pages\" class=\"sublink\" href=\"/Earthquake/?view=11\">»</a></td></tr>, <tr><td colspan=\"13\" style=\"border-bottom:1px solid #000;\"></td></tr>]\n"
     ]
    }
   ],
   "source": [
    "quake_rows = quake_table.find_all('tr')\n",
    "print(quake_rows)"
   ]
  },
  {
   "cell_type": "code",
   "execution_count": 260,
   "metadata": {},
   "outputs": [
    {
     "name": "stdout",
     "output_type": "stream",
     "text": [
      "['', 'CitizenResponseDate & Time UTCLatitude degreesLongitude degreesDepth kmMag  [+]Region name  [+]Last update [-]', '', '', '12345678910›»', 'earthquake2019-10-04\\xa0\\xa0\\xa003:08:11.722min ago29.64\\xa0S\\xa0\\xa072.76\\xa0W\\xa0\\xa010Mw4.5\\xa0OFF COAST OF COQUIMBO, CHILE2019-10-04 03:29', 'earthquake2019-10-04\\xa0\\xa0\\xa002:49:56.740min ago38.08\\xa0N\\xa0\\xa015.08\\xa0E\\xa0\\xa08ML2.0\\xa0SICILY, ITALY2019-10-04 02:57', 'earthquake2019-10-04\\xa0\\xa0\\xa002:25:22.71hr 05min ago38.84\\xa0N\\xa0\\xa0122.77\\xa0W\\xa0\\xa01Md2.5\\xa0NORTHERN CALIFORNIA2019-10-04 02:26', 'earthquake2019-10-04\\xa0\\xa0\\xa002:07:24.01hr 23min ago2.49\\xa0S\\xa0\\xa0138.49\\xa0E\\xa0\\xa013 M3.9\\xa0PAPUA, INDONESIA2019-10-04 02:11', 'earthquake2019-10-04\\xa0\\xa0\\xa001:52:34.21hr 38min ago19.39\\xa0N\\xa0\\xa0155.28\\xa0W\\xa0\\xa02ML2.5\\xa0ISLAND OF HAWAII, HAWAII2019-10-04 02:47', 'earthquake2019-10-04\\xa0\\xa0\\xa001:46:12.01hr 44min ago18.62\\xa0S\\xa0\\xa070.99\\xa0W\\xa0\\xa015ML3.6\\xa0OFFSHORE TARAPACA, CHILE2019-10-04 02:39', 'earthquake2019-10-04\\xa0\\xa0\\xa001:36:22.11hr 54min ago37.65\\xa0N\\xa0\\xa0118.95\\xa0W\\xa0\\xa05Md2.2\\xa0LONG VALLEY AREA, CALIFORNIA2019-10-04 01:37', 'earthquake2019-10-04\\xa0\\xa0\\xa001:32:59.01hr 57min ago16.20\\xa0N\\xa0\\xa097.52\\xa0W\\xa0\\xa06 M4.1\\xa0OAXACA, MEXICO2019-10-04 01:50', 'earthquake2019-10-04\\xa0\\xa0\\xa001:32:52.01hr 57min ago42.75\\xa0S\\xa0\\xa074.22\\xa0W\\xa0\\xa038ML3.1\\xa0OFFSHORE LOS LAGOS, CHILE2019-10-04 01:42', 'earthquake2019-10-04\\xa0\\xa0\\xa001:28:02.92hr 02min ago39.81\\xa0N\\xa0\\xa040.48\\xa0E\\xa0\\xa07ML2.6\\xa0EASTERN TURKEY2019-10-04 01:53', 'earthquake2019-10-04\\xa0\\xa0\\xa001:21:16.92hr 09min ago59.00\\xa0N\\xa0\\xa0152.08\\xa0W\\xa0\\xa027ML2.8\\xa0SOUTHERN ALASKA2019-10-04 01:29', 'earthquake2019-10-04\\xa0\\xa0\\xa001:16:00.02hr 14min ago35.78\\xa0N\\xa0\\xa04.61\\xa0E\\xa0\\xa010 M3.5\\xa0NORTHERN ALGERIA2019-10-04 02:43', 'earthquake2019-10-04\\xa0\\xa0\\xa001:07:16.72hr 23min ago22.68\\xa0S\\xa0\\xa0152.50\\xa0E\\xa0\\xa010ML3.3\\xa0EAST OF AUSTRALIA2019-10-04 03:16', 'earthquake2019-10-04\\xa0\\xa0\\xa001:06:09.02hr 24min ago4.80\\xa0N\\xa0\\xa0126.37\\xa0E\\xa0\\xa093 M4.5\\xa0KEPULAUAN TALAUD, INDONESIA2019-10-04 01:15', 'earthquake2019-10-04\\xa0\\xa0\\xa000:53:55.12hr 36min ago56.36\\xa0N\\xa0\\xa0156.13\\xa0W\\xa0\\xa048ML2.9\\xa0ALASKA PENINSULA2019-10-04 01:53', 'earthquake2019-10-04\\xa0\\xa0\\xa000:45:57.72hr 44min ago1.40\\xa0N\\xa0\\xa0125.75\\xa0E\\xa0\\xa052mb4.7\\xa0MOLUCCA SEA2019-10-04 01:57', 'earthquake2019-10-04\\xa0\\xa0\\xa000:34:06.62hr 56min ago36.31\\xa0N\\xa0\\xa029.29\\xa0E\\xa0\\xa025ML2.2\\xa0WESTERN TURKEY2019-10-04 01:51', 'earthquake2019-10-04\\xa0\\xa0\\xa000:26:26.03hr 04min ago31.39\\xa0S\\xa0\\xa067.69\\xa0W\\xa0\\xa010 M3.6\\xa0SAN JUAN, ARGENTINA2019-10-04 00:35', 'earthquake2019-10-04\\xa0\\xa0\\xa000:12:29.83hr 18min ago57.68\\xa0N\\xa0\\xa0154.19\\xa0W\\xa0\\xa035ML2.3\\xa0KODIAK ISLAND REGION, ALASKA2019-10-04 01:59', 'earthquake2019-10-04\\xa0\\xa0\\xa000:07:45.83hr 22min ago37.46\\xa0N\\xa0\\xa0118.49\\xa0W\\xa0\\xa02ML2.0\\xa0CENTRAL CALIFORNIA2019-10-04 00:22', '', '', '', '36IVearthquake2019-10-03\\xa0\\xa0\\xa023:52:00.93hr 38min ago44.60\\xa0N\\xa0\\xa018.63\\xa0E\\xa0\\xa010ML3.0\\xa0BOSNIA AND HERZEGOVINA2019-10-03 23:57', 'earthquake2019-10-03\\xa0\\xa0\\xa023:44:49.03hr 45min ago19.72\\xa0N\\xa0\\xa071.60\\xa0W\\xa0\\xa012 M2.7\\xa0DOMINICAN REPUBLIC2019-10-04 00:15', 'earthquake2019-10-03\\xa0\\xa0\\xa023:34:57.03hr 55min ago19.69\\xa0N\\xa0\\xa070.75\\xa0W\\xa0\\xa023 M2.9\\xa0DOMINICAN REPUBLIC2019-10-04 00:02', 'earthquake2019-10-03\\xa0\\xa0\\xa023:33:28.63hr 57min ago39.50\\xa0N\\xa0\\xa099.13\\xa0W\\xa0\\xa05mb2.6\\xa0KANSAS2019-10-04 02:06', 'earthquake2019-10-03\\xa0\\xa0\\xa023:23:21.44hr 07min ago35.78\\xa0N\\xa0\\xa0117.58\\xa0W\\xa0\\xa010Ml2.1\\xa0SOUTHERN CALIFORNIA2019-10-03 23:27', 'earthquake2019-10-03\\xa0\\xa0\\xa022:48:42.34hr 41min ago39.83\\xa0N\\xa0\\xa040.49\\xa0E\\xa0\\xa07ML2.4\\xa0EASTERN TURKEY2019-10-04 01:39', 'earthquake2019-10-03\\xa0\\xa0\\xa022:41:15.94hr 49min ago62.28\\xa0N\\xa0\\xa0150.38\\xa0W\\xa0\\xa015ML2.5\\xa0CENTRAL ALASKA2019-10-03 22:58', 'earthquake2019-10-03\\xa0\\xa0\\xa022:22:42.85hr 07min ago37.64\\xa0N\\xa0\\xa0118.94\\xa0W\\xa0\\xa05Md2.2\\xa0LONG VALLEY AREA, CALIFORNIA2019-10-03 22:24', 'earthquake2019-10-03\\xa0\\xa0\\xa022:18:49.05hr 11min ago3.62\\xa0S\\xa0\\xa0128.37\\xa0E\\xa0\\xa010 M3.7\\xa0SERAM, INDONESIA2019-10-03 22:26', 'earthquake2019-10-03\\xa0\\xa0\\xa022:11:54.65hr 18min ago36.88\\xa0N\\xa0\\xa029.22\\xa0E\\xa0\\xa08ML2.5\\xa0WESTERN TURKEY2019-10-04 01:37', 'earthquake2019-10-03\\xa0\\xa0\\xa022:11:53.55hr 18min ago19.16\\xa0N\\xa0\\xa0155.48\\xa0W\\xa0\\xa030Md2.1\\xa0ISLAND OF HAWAII, HAWAII2019-10-03 22:15', 'earthquake2019-10-03\\xa0\\xa0\\xa022:03:26.95hr 27min ago19.16\\xa0N\\xa0\\xa067.37\\xa0W\\xa0\\xa010ML3.4\\xa0PUERTO RICO REGION2019-10-04 02:07', 'Fearthquake2019-10-03\\xa0\\xa0\\xa022:02:55.85hr 27min ago37.48\\xa0N\\xa0\\xa072.26\\xa0E\\xa0\\xa0187mb4.4\\xa0TAJIKISTAN2019-10-03 23:56', 'earthquake2019-10-03\\xa0\\xa0\\xa021:54:51.05hr 35min ago16.55\\xa0N\\xa0\\xa098.97\\xa0W\\xa0\\xa014 M3.5\\xa0OFFSHORE GUERRERO, MEXICO2019-10-04 01:05', 'earthquake2019-10-03\\xa0\\xa0\\xa021:41:05.05hr 49min ago15.34\\xa0N\\xa0\\xa094.74\\xa0W\\xa0\\xa08 M3.6\\xa0OFFSHORE OAXACA, MEXICO2019-10-04 01:05', 'earthquake2019-10-03\\xa0\\xa0\\xa021:18:18.86hr 12min ago19.15\\xa0N\\xa0\\xa0155.45\\xa0W\\xa0\\xa034Md2.2\\xa0ISLAND OF HAWAII, HAWAII2019-10-03 21:21', 'earthquake2019-10-03\\xa0\\xa0\\xa021:16:57.06hr 13min ago38.71\\xa0N\\xa0\\xa038.10\\xa0E\\xa0\\xa07ML2.3\\xa0EASTERN TURKEY2019-10-03 21:23', 'earthquake2019-10-03\\xa0\\xa0\\xa021:12:25.06hr 18min ago2.78\\xa0S\\xa0\\xa0138.50\\xa0E\\xa0\\xa026mb4.7\\xa0PAPUA, INDONESIA2019-10-04 02:16', 'earthquake2019-10-03\\xa0\\xa0\\xa021:03:10.06hr 27min ago2.45\\xa0S\\xa0\\xa0138.58\\xa0E\\xa0\\xa010 M3.8\\xa0PAPUA, INDONESIA2019-10-03 21:15', 'earthquake2019-10-03\\xa0\\xa0\\xa020:54:12.56hr 36min ago19.30\\xa0N\\xa0\\xa067.46\\xa0W\\xa0\\xa030Md2.9\\xa0PUERTO RICO REGION2019-10-03 23:17', 'earthquake2019-10-03\\xa0\\xa0\\xa020:51:53.06hr 38min ago15.88\\xa0N\\xa0\\xa098.53\\xa0W\\xa0\\xa020 M3.7\\xa0OFFSHORE OAXACA, MEXICO2019-10-04 01:05', 'earthquake2019-10-03\\xa0\\xa0\\xa020:45:26.06hr 45min ago0.68\\xa0S\\xa0\\xa0127.69\\xa0E\\xa0\\xa010 M3.9\\xa0HALMAHERA, INDONESIA2019-10-03 20:55', 'earthquake2019-10-03\\xa0\\xa0\\xa020:34:51.06hr 55min ago15.99\\xa0N\\xa0\\xa094.30\\xa0W\\xa0\\xa010 M3.9\\xa0OFFSHORE OAXACA, MEXICO2019-10-04 01:05', \"earthquake2019-10-03\\xa0\\xa0\\xa020:34:19.06hr 56min ago34.64\\xa0S\\xa0\\xa071.97\\xa0W\\xa0\\xa014ML3.0\\xa0LIBERTADOR O'HIGGINS, CHILE2019-10-03 20:57\", 'earthquake2019-10-03\\xa0\\xa0\\xa020:33:15.06hr 57min ago64.63\\xa0N\\xa0\\xa017.36\\xa0W\\xa0\\xa01 M3.1\\xa0ICELAND2019-10-03 20:55', 'earthquake2019-10-03\\xa0\\xa0\\xa020:13:54.07hr 16min ago19.70\\xa0N\\xa0\\xa070.72\\xa0W\\xa0\\xa023 M3.2\\xa0DOMINICAN REPUBLIC2019-10-03 23:50', 'earthquake2019-10-03\\xa0\\xa0\\xa020:06:14.97hr 24min ago42.59\\xa0N\\xa0\\xa0111.44\\xa0W\\xa0\\xa05Ml2.7\\xa0SOUTHERN IDAHO2019-10-03 23:29', 'earthquake2019-10-03\\xa0\\xa0\\xa019:59:58.07hr 30min ago14.20\\xa0N\\xa0\\xa092.51\\xa0W\\xa0\\xa032 M3.8\\xa0OFFSHORE CHIAPAS, MEXICO2019-10-04 01:06', 'earthquake2019-10-03\\xa0\\xa0\\xa019:55:14.07hr 35min ago15.10\\xa0N\\xa0\\xa094.39\\xa0W\\xa0\\xa014 M3.7\\xa0OFF COAST OF CHIAPAS, MEXICO2019-10-04 01:06', 'earthquake2019-10-03\\xa0\\xa0\\xa019:50:01.17hr 40min ago36.29\\xa0N\\xa0\\xa028.50\\xa0E\\xa0\\xa07ML2.0\\xa0DODECANESE IS.-TURKEY BORDER REG2019-10-03 20:53', '', '12345678910›»', '']\n"
     ]
    }
   ],
   "source": []
  },
  {
   "cell_type": "markdown",
   "metadata": {},
   "source": [
    "#### Display the date, days, title, city, country of next 25 hackathon events as a Pandas dataframe table"
   ]
  },
  {
   "cell_type": "code",
   "execution_count": null,
   "metadata": {},
   "outputs": [],
   "source": []
  },
  {
   "cell_type": "code",
   "execution_count": null,
   "metadata": {},
   "outputs": [],
   "source": []
  },
  {
   "cell_type": "code",
   "execution_count": null,
   "metadata": {},
   "outputs": [],
   "source": [
    "# This is the url you will scrape in this exercise\n",
    "url ='https://hackevents.co/hackathons'"
   ]
  },
  {
   "cell_type": "code",
   "execution_count": null,
   "metadata": {},
   "outputs": [],
   "source": [
    "#your code"
   ]
  },
  {
   "cell_type": "markdown",
   "metadata": {},
   "source": [
    "#### Count number of tweets by a given Twitter account."
   ]
  },
  {
   "cell_type": "markdown",
   "metadata": {},
   "source": [
    "You will need to include a ***try/except block*** for account names not found. \n",
    "<br>***Hint:*** the program should count the number of tweets for any provided account"
   ]
  },
  {
   "cell_type": "code",
   "execution_count": null,
   "metadata": {},
   "outputs": [],
   "source": [
    "# This is the url you will scrape in this exercise \n",
    "# You will need to add the account credentials to this url\n",
    "url = 'https://twitter.com/'"
   ]
  },
  {
   "cell_type": "code",
   "execution_count": null,
   "metadata": {},
   "outputs": [],
   "source": [
    "#your code"
   ]
  },
  {
   "cell_type": "markdown",
   "metadata": {},
   "source": [
    "#### Number of followers of a given twitter account"
   ]
  },
  {
   "cell_type": "markdown",
   "metadata": {},
   "source": [
    "You will need to include a ***try/except block*** in case account/s name not found. \n",
    "<br>***Hint:*** the program should count the followers for any provided account"
   ]
  },
  {
   "cell_type": "code",
   "execution_count": null,
   "metadata": {},
   "outputs": [],
   "source": [
    "# This is the url you will scrape in this exercise \n",
    "# You will need to add the account credentials to this url\n",
    "url = 'https://twitter.com/'"
   ]
  },
  {
   "cell_type": "code",
   "execution_count": null,
   "metadata": {},
   "outputs": [],
   "source": [
    "#your code"
   ]
  },
  {
   "cell_type": "markdown",
   "metadata": {},
   "source": [
    "#### List all language names and number of related articles in the order they appear in wikipedia.org"
   ]
  },
  {
   "cell_type": "code",
   "execution_count": null,
   "metadata": {},
   "outputs": [],
   "source": [
    "# This is the url you will scrape in this exercise\n",
    "url = 'https://www.wikipedia.org/'"
   ]
  },
  {
   "cell_type": "code",
   "execution_count": null,
   "metadata": {},
   "outputs": [],
   "source": [
    "#your code"
   ]
  },
  {
   "cell_type": "markdown",
   "metadata": {},
   "source": [
    "#### A list with the different kind of datasets available in data.gov.uk "
   ]
  },
  {
   "cell_type": "code",
   "execution_count": null,
   "metadata": {},
   "outputs": [],
   "source": [
    "# This is the url you will scrape in this exercise\n",
    "url = 'https://data.gov.uk/'"
   ]
  },
  {
   "cell_type": "code",
   "execution_count": null,
   "metadata": {},
   "outputs": [],
   "source": [
    "#your code "
   ]
  },
  {
   "cell_type": "markdown",
   "metadata": {},
   "source": [
    "#### Top 10 languages by number of native speakers stored in a Pandas Dataframe"
   ]
  },
  {
   "cell_type": "code",
   "execution_count": null,
   "metadata": {},
   "outputs": [],
   "source": [
    "# This is the url you will scrape in this exercise\n",
    "url = 'https://en.wikipedia.org/wiki/List_of_languages_by_number_of_native_speakers'"
   ]
  },
  {
   "cell_type": "code",
   "execution_count": null,
   "metadata": {},
   "outputs": [],
   "source": [
    "#your code"
   ]
  },
  {
   "cell_type": "markdown",
   "metadata": {},
   "source": [
    "### BONUS QUESTIONS"
   ]
  },
  {
   "cell_type": "markdown",
   "metadata": {},
   "source": [
    "#### Scrape a certain number of tweets of a given Twitter account."
   ]
  },
  {
   "cell_type": "code",
   "execution_count": null,
   "metadata": {},
   "outputs": [],
   "source": [
    "# This is the url you will scrape in this exercise \n",
    "# You will need to add the account credentials to this url\n",
    "url = 'https://twitter.com/'"
   ]
  },
  {
   "cell_type": "code",
   "execution_count": null,
   "metadata": {},
   "outputs": [],
   "source": [
    "# your code"
   ]
  },
  {
   "cell_type": "markdown",
   "metadata": {},
   "source": [
    "#### IMDB's Top 250 data (movie name, Initial release, director name and stars) as a pandas dataframe"
   ]
  },
  {
   "cell_type": "code",
   "execution_count": null,
   "metadata": {},
   "outputs": [],
   "source": [
    "# This is the url you will scrape in this exercise \n",
    "url = 'https://www.imdb.com/chart/top'"
   ]
  },
  {
   "cell_type": "code",
   "execution_count": null,
   "metadata": {},
   "outputs": [],
   "source": [
    "# your code"
   ]
  },
  {
   "cell_type": "markdown",
   "metadata": {},
   "source": [
    "#### Movie name, year and a brief summary of the top 10 random movies (IMDB) as a pandas dataframe."
   ]
  },
  {
   "cell_type": "code",
   "execution_count": null,
   "metadata": {},
   "outputs": [],
   "source": [
    "#This is the url you will scrape in this exercise\n",
    "url = 'http://www.imdb.com/chart/top'"
   ]
  },
  {
   "cell_type": "code",
   "execution_count": null,
   "metadata": {},
   "outputs": [],
   "source": [
    "#your code"
   ]
  },
  {
   "cell_type": "markdown",
   "metadata": {},
   "source": [
    "#### Find the live weather report (temperature, wind speed, description and weather) of a given city."
   ]
  },
  {
   "cell_type": "code",
   "execution_count": null,
   "metadata": {},
   "outputs": [],
   "source": [
    "#https://openweathermap.org/current\n",
    "city = city=input('Enter the city:')\n",
    "url = 'http://api.openweathermap.org/data/2.5/weather?'+'q='+city+'&APPID=b35975e18dc93725acb092f7272cc6b8&units=metric'"
   ]
  },
  {
   "cell_type": "code",
   "execution_count": null,
   "metadata": {},
   "outputs": [],
   "source": [
    "# your code"
   ]
  },
  {
   "cell_type": "markdown",
   "metadata": {},
   "source": [
    "#### Book name,price and stock availability as a pandas dataframe."
   ]
  },
  {
   "cell_type": "code",
   "execution_count": null,
   "metadata": {},
   "outputs": [],
   "source": [
    "# This is the url you will scrape in this exercise. \n",
    "# It is a fictional bookstore created to be scraped. \n",
    "url = 'http://books.toscrape.com/'"
   ]
  },
  {
   "cell_type": "code",
   "execution_count": null,
   "metadata": {},
   "outputs": [],
   "source": [
    "#your code"
   ]
  }
 ],
 "metadata": {
  "kernelspec": {
   "display_name": "Python 3",
   "language": "python",
   "name": "python3"
  },
  "language_info": {
   "codemirror_mode": {
    "name": "ipython",
    "version": 3
   },
   "file_extension": ".py",
   "mimetype": "text/x-python",
   "name": "python",
   "nbconvert_exporter": "python",
   "pygments_lexer": "ipython3",
   "version": "3.7.3"
  }
 },
 "nbformat": 4,
 "nbformat_minor": 2
}
