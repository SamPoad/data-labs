{
 "cells": [
  {
   "cell_type": "markdown",
   "metadata": {},
   "source": [
    "Moved to Jupyter notebook for Challenge 3, just expecting to keep hitting the rate_limit otherwise"
   ]
  },
  {
   "cell_type": "code",
   "execution_count": 11,
   "metadata": {},
   "outputs": [],
   "source": [
    "# DEPENDENCIES\n",
    "from keyring import github_token\n",
    "import json\n",
    "import requests\n",
    "import pandas as pd\n",
    "from pandas.io.json import json_normalize\n",
    "\n",
    "# RESOURCES\n",
    "# https://developer.github.com/v3/search/#search-repositories\n",
    "# up to 1,000 results per search\n",
    "# https://developer.github.com/v3/search/#constructing-a-search-query\n",
    "\n"
   ]
  },
  {
   "cell_type": "code",
   "execution_count": 12,
   "metadata": {},
   "outputs": [
    {
     "name": "stdout",
     "output_type": "stream",
     "text": [
      "<Response [200]>\n"
     ]
    }
   ],
   "source": [
    "rate_message = requests.get('https://api.github.com/rate_limit')\n",
    "print(rate_message)"
   ]
  },
  {
   "cell_type": "code",
   "execution_count": 52,
   "metadata": {},
   "outputs": [
    {
     "name": "stdout",
     "output_type": "stream",
     "text": [
      "{'total_count': 1, 'incomplete_results': False, 'items': [{'name': 'README.md', 'path': 'module-1/lab-api-scavenger-game/README.md', 'sha': 'e966ac45e09880cc06a1d4733c1a29fabd7763ff', 'url': 'https://api.github.com/repositories/147683540/contents/module-1/lab-api-scavenger-game/README.md?ref=0f77691d2e5a4642f0956d943509f7ccd61384b7', 'git_url': 'https://api.github.com/repositories/147683540/git/blobs/e966ac45e09880cc06a1d4733c1a29fabd7763ff', 'html_url': 'https://github.com/ironhack-labs/data-labs/blob/0f77691d2e5a4642f0956d943509f7ccd61384b7/module-1/lab-api-scavenger-game/README.md', 'repository': {'id': 147683540, 'node_id': 'MDEwOlJlcG9zaXRvcnkxNDc2ODM1NDA=', 'name': 'data-labs', 'full_name': 'ironhack-labs/data-labs', 'private': False, 'owner': {'login': 'ironhack-labs', 'id': 25032046, 'node_id': 'MDEyOk9yZ2FuaXphdGlvbjI1MDMyMDQ2', 'avatar_url': 'https://avatars3.githubusercontent.com/u/25032046?v=4', 'gravatar_id': '', 'url': 'https://api.github.com/users/ironhack-labs', 'html_url': 'https://github.com/ironhack-labs', 'followers_url': 'https://api.github.com/users/ironhack-labs/followers', 'following_url': 'https://api.github.com/users/ironhack-labs/following{/other_user}', 'gists_url': 'https://api.github.com/users/ironhack-labs/gists{/gist_id}', 'starred_url': 'https://api.github.com/users/ironhack-labs/starred{/owner}{/repo}', 'subscriptions_url': 'https://api.github.com/users/ironhack-labs/subscriptions', 'organizations_url': 'https://api.github.com/users/ironhack-labs/orgs', 'repos_url': 'https://api.github.com/users/ironhack-labs/repos', 'events_url': 'https://api.github.com/users/ironhack-labs/events{/privacy}', 'received_events_url': 'https://api.github.com/users/ironhack-labs/received_events', 'type': 'Organization', 'site_admin': False}, 'html_url': 'https://github.com/ironhack-labs/data-labs', 'description': None, 'fork': False, 'url': 'https://api.github.com/repos/ironhack-labs/data-labs', 'forks_url': 'https://api.github.com/repos/ironhack-labs/data-labs/forks', 'keys_url': 'https://api.github.com/repos/ironhack-labs/data-labs/keys{/key_id}', 'collaborators_url': 'https://api.github.com/repos/ironhack-labs/data-labs/collaborators{/collaborator}', 'teams_url': 'https://api.github.com/repos/ironhack-labs/data-labs/teams', 'hooks_url': 'https://api.github.com/repos/ironhack-labs/data-labs/hooks', 'issue_events_url': 'https://api.github.com/repos/ironhack-labs/data-labs/issues/events{/number}', 'events_url': 'https://api.github.com/repos/ironhack-labs/data-labs/events', 'assignees_url': 'https://api.github.com/repos/ironhack-labs/data-labs/assignees{/user}', 'branches_url': 'https://api.github.com/repos/ironhack-labs/data-labs/branches{/branch}', 'tags_url': 'https://api.github.com/repos/ironhack-labs/data-labs/tags', 'blobs_url': 'https://api.github.com/repos/ironhack-labs/data-labs/git/blobs{/sha}', 'git_tags_url': 'https://api.github.com/repos/ironhack-labs/data-labs/git/tags{/sha}', 'git_refs_url': 'https://api.github.com/repos/ironhack-labs/data-labs/git/refs{/sha}', 'trees_url': 'https://api.github.com/repos/ironhack-labs/data-labs/git/trees{/sha}', 'statuses_url': 'https://api.github.com/repos/ironhack-labs/data-labs/statuses/{sha}', 'languages_url': 'https://api.github.com/repos/ironhack-labs/data-labs/languages', 'stargazers_url': 'https://api.github.com/repos/ironhack-labs/data-labs/stargazers', 'contributors_url': 'https://api.github.com/repos/ironhack-labs/data-labs/contributors', 'subscribers_url': 'https://api.github.com/repos/ironhack-labs/data-labs/subscribers', 'subscription_url': 'https://api.github.com/repos/ironhack-labs/data-labs/subscription', 'commits_url': 'https://api.github.com/repos/ironhack-labs/data-labs/commits{/sha}', 'git_commits_url': 'https://api.github.com/repos/ironhack-labs/data-labs/git/commits{/sha}', 'comments_url': 'https://api.github.com/repos/ironhack-labs/data-labs/comments{/number}', 'issue_comment_url': 'https://api.github.com/repos/ironhack-labs/data-labs/issues/comments{/number}', 'contents_url': 'https://api.github.com/repos/ironhack-labs/data-labs/contents/{+path}', 'compare_url': 'https://api.github.com/repos/ironhack-labs/data-labs/compare/{base}...{head}', 'merges_url': 'https://api.github.com/repos/ironhack-labs/data-labs/merges', 'archive_url': 'https://api.github.com/repos/ironhack-labs/data-labs/{archive_format}{/ref}', 'downloads_url': 'https://api.github.com/repos/ironhack-labs/data-labs/downloads', 'issues_url': 'https://api.github.com/repos/ironhack-labs/data-labs/issues{/number}', 'pulls_url': 'https://api.github.com/repos/ironhack-labs/data-labs/pulls{/number}', 'milestones_url': 'https://api.github.com/repos/ironhack-labs/data-labs/milestones{/number}', 'notifications_url': 'https://api.github.com/repos/ironhack-labs/data-labs/notifications{?since,all,participating}', 'labels_url': 'https://api.github.com/repos/ironhack-labs/data-labs/labels{/name}', 'releases_url': 'https://api.github.com/repos/ironhack-labs/data-labs/releases{/id}', 'deployments_url': 'https://api.github.com/repos/ironhack-labs/data-labs/deployments'}, 'score': 15.464926}]}\n"
     ]
    }
   ],
   "source": [
    "# check to make sure I've got the right search query\n",
    "# url = 'https://api.github.com/search/repositories?q=stars:>=10000'\n",
    "# url = 'https://api.github.com/search/code?q=filename:scavenger+repo:ironhack-labs/data-labs'\n",
    "# url = 'https://api.github.com/search/code?q=filename:scavenger+org:ironhack-labs'\n",
    "# q=repo:ironhack-labs/data-labs/+filename:.scavengerhunt # not found\n",
    "# q=filename:.scavengerhunt+repo:ironhack-labs/data-labs/ # not found\n",
    "# q=repo:ironhack-labs/data-labs/+filename:scavengerhunt # not found\n",
    "# q=filename:scavengerhunt+in:repo:ironhack-labs/data-labs # not found\n",
    "# q=filename:scavengerhunt+repo:ironhack-labs/data-labs # not found\n",
    "# q=org:Ironhack-labs+repo:ironhack-labs/data-labs # not found\n",
    "# from terminal, attempted\n",
    "# curl -u SamPoad:\"my token string here\" \"https://api.github.com/Search/repositories/q=repo:ironhack-labs/data-labs\"\n",
    "# looks like the below is the better format to use?\n",
    "# https://api.github.com/Search/repositories?q=repo:ironhack-labs/data-labs\n",
    "# and still doesn't work\n",
    "# at least I know it CAN be done\n",
    "# https://api.github.com/search/repositories?q=stars:>=10000+language:go&sort=stars&order=desc\n",
    "# url = 'https://api.github.com/Search/repositories?q=scavengerhunt'\n",
    "# not even the above works\n",
    "# FINALLY found this file\n",
    "# https://api.github.com/search/code?q=scavenger+repo:ironhack-labs/data-labs\n",
    "\n",
    "url = 'https://api.github.com/search/code?q=scavenger+repo:ironhack-labs/data-labs'\n",
    "response = requests.get(url)\n",
    "result = response.json()\n",
    "print(result)\n",
    "\n"
   ]
  },
  {
   "cell_type": "code",
   "execution_count": null,
   "metadata": {},
   "outputs": [],
   "source": [
    "# to try and pull in all the files? \n",
    "for i in range(.0001, .0024):\n",
    "    url = f'https://api.github.com/Search/repositories/q=repo:ironhack-labs/data-labs/filename:{i}.scavengerhunt'\n",
    "    response = requests.get(url)\n",
    "    result = pd.read_json(response.json())\n",
    "    result2.append(result)\n",
    "print(result2)"
   ]
  },
  {
   "cell_type": "code",
   "execution_count": null,
   "metadata": {},
   "outputs": [],
   "source": []
  }
 ],
 "metadata": {
  "kernelspec": {
   "display_name": "Python 3",
   "language": "python",
   "name": "python3"
  },
  "language_info": {
   "codemirror_mode": {
    "name": "ipython",
    "version": 3
   },
   "file_extension": ".py",
   "mimetype": "text/x-python",
   "name": "python",
   "nbconvert_exporter": "python",
   "pygments_lexer": "ipython3",
   "version": "3.7.3"
  }
 },
 "nbformat": 4,
 "nbformat_minor": 2
}
