{
 "cells": [
  {
   "cell_type": "markdown",
   "metadata": {},
   "source": [
    "Moved to Jupyter notebook for Challenge 3, just expecting to keep hitting the rate_limit otherwise"
   ]
  },
  {
   "cell_type": "code",
   "execution_count": 1,
   "metadata": {},
   "outputs": [],
   "source": [
    "# DEPENDENCIES\n",
    "from keyring import github_token\n",
    "import json\n",
    "import requests\n",
    "import pandas as pd\n",
    "from pandas.io.json import json_normalize\n",
    "\n",
    "# RESOURCES\n",
    "# https://developer.github.com/v3/search/#search-repositories\n",
    "# up to 1,000 results per search\n",
    "# https://developer.github.com/v3/search/#constructing-a-search-query\n",
    "\n"
   ]
  },
  {
   "cell_type": "code",
   "execution_count": 12,
   "metadata": {},
   "outputs": [
    {
     "name": "stdout",
     "output_type": "stream",
     "text": [
      "<Response [200]>\n"
     ]
    }
   ],
   "source": [
    "rate_message = requests.get('https://api.github.com/rate_limit')\n",
    "print(rate_message)"
   ]
  },
  {
   "cell_type": "code",
   "execution_count": 14,
   "metadata": {},
   "outputs": [
    {
     "name": "stdout",
     "output_type": "stream",
     "text": [
      "{'message': \"API rate limit exceeded for 73.138.93.245. (But here's the good news: Authenticated requests get a higher rate limit. Check out the documentation for more details.)\", 'documentation_url': 'https://developer.github.com/v3/#rate-limiting'}\n"
     ]
    }
   ],
   "source": [
    "# check to make sure I've got the right search query\n",
    "url = 'https://api.github.com/Search/repositories/q=filename:.scavengerhunt+repo:ironhack-labs/data-labs/'\n",
    "response = requests.get(url)\n",
    "result = response.json()\n",
    "print(result)\n"
   ]
  },
  {
   "cell_type": "code",
   "execution_count": null,
   "metadata": {},
   "outputs": [],
   "source": [
    "# to try and pull in all the files? \n",
    "for i in range(.0001, .0024):\n",
    "    url = f'https://api.github.com/Search/repositories/q=repo:ironhack-labs/data-labs/filename:{i}.scavengerhunt'\n",
    "    response = requests.get(url)\n",
    "    result = pd.read_json(response.json())\n",
    "    result2.append(result)\n",
    "print(result2)"
   ]
  },
  {
   "cell_type": "code",
   "execution_count": null,
   "metadata": {},
   "outputs": [],
   "source": []
  }
 ],
 "metadata": {
  "kernelspec": {
   "display_name": "Python 3",
   "language": "python",
   "name": "python3"
  },
  "language_info": {
   "codemirror_mode": {
    "name": "ipython",
    "version": 3
   },
   "file_extension": ".py",
   "mimetype": "text/x-python",
   "name": "python",
   "nbconvert_exporter": "python",
   "pygments_lexer": "ipython3",
   "version": "3.7.3"
  }
 },
 "nbformat": 4,
 "nbformat_minor": 2
}
