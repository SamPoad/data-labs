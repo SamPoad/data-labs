{
 "cells": [
  {
   "cell_type": "markdown",
   "metadata": {},
   "source": []
  },
  {
   "cell_type": "code",
   "execution_count": 13,
   "metadata": {},
   "outputs": [
    {
     "name": "stdout",
     "output_type": "stream",
     "text": [
      "5992\n",
      "0\n",
      "0\n",
      "0\n",
      "Case Number                  0\n",
      "Date                         0\n",
      "Year                         0\n",
      "Type                         0\n",
      "Country                     43\n",
      "Area                       402\n",
      "Location                   496\n",
      "Activity                   527\n",
      "Name                       200\n",
      "Sex                        567\n",
      "Age                       2681\n",
      "Injury                      27\n",
      "Fatal (Y/N)                 19\n",
      "Time                      3213\n",
      "Species                   2934\n",
      "Investigator or Source      15\n",
      "pdf                          0\n",
      "href formula                 1\n",
      "href                         3\n",
      "Case Number.1                0\n",
      "Case Number.2                0\n",
      "dtype: int64\n"
     ]
    }
   ],
   "source": [
    "# DEPENDENCIES\n",
    "import pandas as pd\n",
    "import numpy as np\n",
    "import re\n",
    "# GLOBAL VARIABLES\n",
    "# FUNCTIONS\n",
    "# PROCEDURES\n",
    "raw_data = pd.read_csv('/Users/sampoad/Documents/Ironhack/data-labs/module-1/pandas-project/GSAF5.csv', engine='python')\n",
    "# print(raw_data.head())\n",
    "\n",
    "raw_data = raw_data.drop(columns=['original order', 'Unnamed: 22', 'Unnamed: 23'])\n",
    "# print(raw_data.head())\n",
    "print(len(raw_data['Case Number']))\n",
    "# print(len(raw_data['Case Number.1']))\n",
    "# print(len(raw_data['Case Number.2']))\n",
    "print(raw_data['Case Number'].isnull().sum())\n",
    "print(raw_data['Case Number.1'].isnull().sum())\n",
    "print(raw_data['Case Number.2'].isnull().sum())\n",
    "print(raw_data.isnull().sum())\n",
    "\n"
   ]
  },
  {
   "cell_type": "code",
   "execution_count": 14,
   "metadata": {},
   "outputs": [
    {
     "name": "stdout",
     "output_type": "stream",
     "text": [
      "['Case Number', 'Date', 'Year', 'Type', 'Country', 'Area', 'Location', 'Activity', 'Name', 'Sex ', 'Age', 'Injury', 'Fatal (Y/N)', 'Time', 'Species ', 'Investigator or Source', 'pdf', 'href formula', 'href', 'Case Number.1', 'Case Number.2']\n"
     ]
    }
   ],
   "source": [
    "print(list(raw_data))"
   ]
  },
  {
   "cell_type": "markdown",
   "metadata": {},
   "source": [
    "Since these three Columns appeared to identical for the first five rows, I want to drop the column if they are duplicates."
   ]
  },
  {
   "cell_type": "code",
   "execution_count": 15,
   "metadata": {},
   "outputs": [
    {
     "name": "stdout",
     "output_type": "stream",
     "text": [
      "['Case Number', 'Date', 'Year', 'Type', 'Country', 'Area', 'Location', 'Activity', 'Name', 'Sex ', 'Age', 'Injury', 'Fatal (Y/N)', 'Time', 'Species ', 'Investigator or Source']\n"
     ]
    }
   ],
   "source": [
    "raw_data.drop(['Case Number.1', 'Case Number.2', 'pdf', 'href formula', 'href'], axis = 1, inplace = True)\n",
    "print(list(raw_data))"
   ]
  },
  {
   "cell_type": "code",
   "execution_count": 16,
   "metadata": {},
   "outputs": [
    {
     "name": "stdout",
     "output_type": "stream",
     "text": [
      "Case Number               object\n",
      "Date                      object\n",
      "Year                       int64\n",
      "Type                      object\n",
      "Country                   object\n",
      "Area                      object\n",
      "Location                  object\n",
      "Activity                  object\n",
      "Name                      object\n",
      "Sex                       object\n",
      "Age                       object\n",
      "Injury                    object\n",
      "Fatal (Y/N)               object\n",
      "Time                      object\n",
      "Species                   object\n",
      "Investigator or Source    object\n",
      "dtype: object\n"
     ]
    }
   ],
   "source": [
    "print(raw_data.dtypes)"
   ]
  },
  {
   "cell_type": "code",
   "execution_count": 17,
   "metadata": {},
   "outputs": [
    {
     "name": "stdout",
     "output_type": "stream",
     "text": [
      "           Case Number  Date        Type Country     Area  \\\n",
      "count             5992  5992        5992    5949     5590   \n",
      "unique            5976  5128           6     203      785   \n",
      "top     1915.07.06.a.R  1957  Unprovoked     USA  Florida   \n",
      "freq                 2    11        4386    2116      990   \n",
      "\n",
      "                                Location Activity  Name  Sex    Age Injury  \\\n",
      "count                               5496     5465  5792  5425  3311   5965   \n",
      "unique                              3929     1492  5009     6   151   3595   \n",
      "top     New Smyrna Beach, Volusia County  Surfing  male     M    17  FATAL   \n",
      "freq                                 157      904   495  4835   148    729   \n",
      "\n",
      "       Fatal (Y/N)       Time     Species  Investigator or Source  \n",
      "count         5973       2779         3058                   5977  \n",
      "unique           8        357         1538                   4752  \n",
      "top              N  Afternoon  White shark         C. Moore, GSAF  \n",
      "freq          4315        174          161                     94  \n"
     ]
    }
   ],
   "source": [
    "print(raw_data.drop('Year', axis = 1).describe()) # this lets me review the Summary info for the dataframe minus the Year column which is an integer datatype"
   ]
  },
  {
   "cell_type": "markdown",
   "metadata": {},
   "source": []
  },
  {
   "cell_type": "code",
   "execution_count": 23,
   "metadata": {},
   "outputs": [
    {
     "name": "stdout",
     "output_type": "stream",
     "text": [
      "Invalid\n"
     ]
    }
   ],
   "source": [
    "clean_data = raw_data['Type'].loc[\n",
    "    (raw_data['Type'].str.lower() != 'unprovoked') &\n",
    "    (raw_data['Type'].str.lower() != 'provoked')] = 'Invalid'\n",
    "print(clean_data)\n"
   ]
  },
  {
   "cell_type": "code",
   "execution_count": null,
   "metadata": {},
   "outputs": [],
   "source": []
  }
 ],
 "metadata": {
  "kernelspec": {
   "display_name": "Python 3",
   "language": "python",
   "name": "python3"
  },
  "language_info": {
   "codemirror_mode": {
    "name": "ipython",
    "version": 3
   },
   "file_extension": ".py",
   "mimetype": "text/x-python",
   "name": "python",
   "nbconvert_exporter": "python",
   "pygments_lexer": "ipython3",
   "version": "3.7.3"
  }
 },
 "nbformat": 4,
 "nbformat_minor": 2
}
