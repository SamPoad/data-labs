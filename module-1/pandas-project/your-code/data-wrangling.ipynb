{
 "cells": [
  {
   "cell_type": "markdown",
   "metadata": {},
   "source": []
  },
  {
   "cell_type": "code",
   "execution_count": 1,
   "metadata": {},
   "outputs": [
    {
     "name": "stdout",
     "output_type": "stream",
     "text": [
      "5992\n",
      "0\n",
      "0\n",
      "0\n",
      "Case Number                  0\n",
      "Date                         0\n",
      "Year                         0\n",
      "Type                         0\n",
      "Country                     43\n",
      "Area                       402\n",
      "Location                   496\n",
      "Activity                   527\n",
      "Name                       200\n",
      "Sex                        567\n",
      "Age                       2681\n",
      "Injury                      27\n",
      "Fatal (Y/N)                 19\n",
      "Time                      3213\n",
      "Species                   2934\n",
      "Investigator or Source      15\n",
      "pdf                          0\n",
      "href formula                 1\n",
      "href                         3\n",
      "Case Number.1                0\n",
      "Case Number.2                0\n",
      "dtype: int64\n"
     ]
    }
   ],
   "source": [
    "# DEPENDENCIES\n",
    "import pandas as pd\n",
    "import numpy as np\n",
    "import re\n",
    "# GLOBAL VARIABLES\n",
    "# FUNCTIONS\n",
    "# PROCEDURES\n",
    "raw_data = pd.read_csv('/Users/sampoad/Documents/Ironhack/data-labs/module-1/pandas-project/GSAF5.csv', engine='python')\n",
    "# print(raw_data.head())\n",
    "\n",
    "raw_data = raw_data.drop(columns=['original order', 'Unnamed: 22', 'Unnamed: 23'])\n",
    "# print(raw_data.head())\n",
    "print(len(raw_data['Case Number']))\n",
    "# print(len(raw_data['Case Number.1']))\n",
    "# print(len(raw_data['Case Number.2']))\n",
    "print(raw_data['Case Number'].isnull().sum())\n",
    "print(raw_data['Case Number.1'].isnull().sum())\n",
    "print(raw_data['Case Number.2'].isnull().sum())\n",
    "print(raw_data.isnull().sum())\n",
    "\n"
   ]
  },
  {
   "cell_type": "code",
   "execution_count": 2,
   "metadata": {},
   "outputs": [
    {
     "name": "stdout",
     "output_type": "stream",
     "text": [
      "['Case Number', 'Date', 'Year', 'Type', 'Country', 'Area', 'Location', 'Activity', 'Name', 'Sex ', 'Age', 'Injury', 'Fatal (Y/N)', 'Time', 'Species ', 'Investigator or Source', 'pdf', 'href formula', 'href', 'Case Number.1', 'Case Number.2']\n"
     ]
    }
   ],
   "source": [
    "print(list(raw_data))"
   ]
  },
  {
   "cell_type": "markdown",
   "metadata": {},
   "source": [
    "Since these three Columns appeared to identical for the first five rows, I want to drop the column if they are duplicates."
   ]
  },
  {
   "cell_type": "code",
   "execution_count": 3,
   "metadata": {},
   "outputs": [
    {
     "name": "stdout",
     "output_type": "stream",
     "text": [
      "['Case Number', 'Date', 'Year', 'Type', 'Country', 'Area', 'Location', 'Activity', 'Name', 'Sex ', 'Age', 'Injury', 'Fatal (Y/N)', 'Time', 'Species ', 'Investigator or Source']\n"
     ]
    }
   ],
   "source": [
    "raw_data.drop(['Case Number.1', 'Case Number.2', 'pdf', 'href formula', 'href'], axis = 1, inplace = True)\n",
    "print(list(raw_data))"
   ]
  },
  {
   "cell_type": "code",
   "execution_count": 4,
   "metadata": {},
   "outputs": [
    {
     "name": "stdout",
     "output_type": "stream",
     "text": [
      "Case Number               object\n",
      "Date                      object\n",
      "Year                       int64\n",
      "Type                      object\n",
      "Country                   object\n",
      "Area                      object\n",
      "Location                  object\n",
      "Activity                  object\n",
      "Name                      object\n",
      "Sex                       object\n",
      "Age                       object\n",
      "Injury                    object\n",
      "Fatal (Y/N)               object\n",
      "Time                      object\n",
      "Species                   object\n",
      "Investigator or Source    object\n",
      "dtype: object\n"
     ]
    }
   ],
   "source": [
    "print(raw_data.dtypes)"
   ]
  },
  {
   "cell_type": "code",
   "execution_count": 5,
   "metadata": {},
   "outputs": [
    {
     "name": "stdout",
     "output_type": "stream",
     "text": [
      "       Case Number  Date        Type Country     Area  \\\n",
      "count         5992  5992        5992    5949     5590   \n",
      "unique        5976  5128           6     203      785   \n",
      "top     2014.08.02  1957  Unprovoked     USA  Florida   \n",
      "freq             2    11        4386    2116      990   \n",
      "\n",
      "                                Location Activity  Name  Sex    Age Injury  \\\n",
      "count                               5496     5465  5792  5425  3311   5965   \n",
      "unique                              3929     1492  5009     6   151   3595   \n",
      "top     New Smyrna Beach, Volusia County  Surfing  male     M    17  FATAL   \n",
      "freq                                 157      904   495  4835   148    729   \n",
      "\n",
      "       Fatal (Y/N)       Time     Species  Investigator or Source  \n",
      "count         5973       2779         3058                   5977  \n",
      "unique           8        357         1538                   4752  \n",
      "top              N  Afternoon  White shark         C. Moore, GSAF  \n",
      "freq          4315        174          161                     94  \n"
     ]
    }
   ],
   "source": [
    "print(raw_data.drop('Year', axis = 1).describe()) # this lets me review the Summary info for the dataframe minus the Year column which is an integer datatype"
   ]
  },
  {
   "cell_type": "markdown",
   "metadata": {},
   "source": []
  },
  {
   "cell_type": "markdown",
   "metadata": {},
   "source": [
    "I want to drop the rows that do not belong to either Provoked or Unprovoked"
   ]
  },
  {
   "cell_type": "code",
   "execution_count": 6,
   "metadata": {},
   "outputs": [
    {
     "name": "stdout",
     "output_type": "stream",
     "text": [
      "    Case Number       Date  Year        Type    Country      Area  \\\n",
      "0  2016.09.18.c  18-Sep-16  2016  Unprovoked        USA   Florida   \n",
      "1  2016.09.18.b  18-Sep-16  2016  Unprovoked        USA   Florida   \n",
      "2  2016.09.18.a  18-Sep-16  2016  Unprovoked        USA   Florida   \n",
      "3    2016.09.17  17-Sep-16  2016  Unprovoked  AUSTRALIA  Victoria   \n",
      "4    2016.09.15  16-Sep-16  2016  Unprovoked  AUSTRALIA  Victoria   \n",
      "\n",
      "                           Location Activity             Name Sex   Age  \\\n",
      "0  New Smyrna Beach, Volusia County  Surfing             male    M   16   \n",
      "1  New Smyrna Beach, Volusia County  Surfing   Chucky Luciano    M   36   \n",
      "2  New Smyrna Beach, Volusia County  Surfing             male    M   43   \n",
      "3                  Thirteenth Beach  Surfing  Rory Angiolella    M  NaN   \n",
      "4                       Bells Beach  Surfing             male    M  NaN   \n",
      "\n",
      "                                  Injury Fatal (Y/N)   Time   Species   \\\n",
      "0                  Minor injury to thigh           N  13h00        NaN   \n",
      "1                   Lacerations to hands           N  11h00        NaN   \n",
      "2               Lacerations to lower leg           N  10h43        NaN   \n",
      "3           Struck by fin on chest & leg           N    NaN        NaN   \n",
      "4  No injury: Knocked off board by shark           N    NaN  2 m shark   \n",
      "\n",
      "        Investigator or Source  \n",
      "0  Orlando Sentinel, 9/19/2016  \n",
      "1  Orlando Sentinel, 9/19/2016  \n",
      "2  Orlando Sentinel, 9/19/2016  \n",
      "3           The Age, 9/18/2016  \n",
      "4           The Age, 9/16/2016  \n",
      "5992\n",
      "4943\n",
      "Rows Dropped: 1049\n"
     ]
    }
   ],
   "source": [
    "clean_data = raw_data[(raw_data['Type'] == 'Provoked') | (raw_data['Type'] == 'Unprovoked')]\n",
    "print(clean_data.head())\n",
    "\n",
    "print(len(raw_data['Type']))\n",
    "print(len(clean_data['Type']))\n",
    "print(\"Rows Dropped: \" + str(len(raw_data['Type']) - len(clean_data['Type'])))\n"
   ]
  },
  {
   "cell_type": "markdown",
   "metadata": {},
   "source": [
    "Check on nullvalue counts after this drop."
   ]
  },
  {
   "cell_type": "code",
   "execution_count": 7,
   "metadata": {},
   "outputs": [
    {
     "name": "stdout",
     "output_type": "stream",
     "text": [
      "Case Number                  0\n",
      "Date                         0\n",
      "Year                         0\n",
      "Type                         0\n",
      "Country                     30\n",
      "Area                       275\n",
      "Location                   360\n",
      "Activity                   357\n",
      "Name                        82\n",
      "Sex                        227\n",
      "Age                       1928\n",
      "Injury                      16\n",
      "Fatal (Y/N)                  3\n",
      "Time                      2429\n",
      "Species                   2377\n",
      "Investigator or Source      11\n",
      "dtype: int64\n"
     ]
    }
   ],
   "source": [
    "print(clean_data.isnull().sum())"
   ]
  },
  {
   "cell_type": "markdown",
   "metadata": {},
   "source": [
    "Drop the nulls in Country (no meaningful way to replace these)."
   ]
  },
  {
   "cell_type": "code",
   "execution_count": 8,
   "metadata": {
    "scrolled": true
   },
   "outputs": [
    {
     "name": "stdout",
     "output_type": "stream",
     "text": [
      "4943\n",
      "4913\n",
      "    Case Number       Date  Year        Type    Country      Area  \\\n",
      "0  2016.09.18.c  18-Sep-16  2016  Unprovoked        USA   Florida   \n",
      "1  2016.09.18.b  18-Sep-16  2016  Unprovoked        USA   Florida   \n",
      "2  2016.09.18.a  18-Sep-16  2016  Unprovoked        USA   Florida   \n",
      "3    2016.09.17  17-Sep-16  2016  Unprovoked  AUSTRALIA  Victoria   \n",
      "4    2016.09.15  16-Sep-16  2016  Unprovoked  AUSTRALIA  Victoria   \n",
      "\n",
      "                           Location Activity             Name Sex   Age  \\\n",
      "0  New Smyrna Beach, Volusia County  Surfing             male    M   16   \n",
      "1  New Smyrna Beach, Volusia County  Surfing   Chucky Luciano    M   36   \n",
      "2  New Smyrna Beach, Volusia County  Surfing             male    M   43   \n",
      "3                  Thirteenth Beach  Surfing  Rory Angiolella    M  NaN   \n",
      "4                       Bells Beach  Surfing             male    M  NaN   \n",
      "\n",
      "                                  Injury Fatal (Y/N)   Time   Species   \\\n",
      "0                  Minor injury to thigh           N  13h00        NaN   \n",
      "1                   Lacerations to hands           N  11h00        NaN   \n",
      "2               Lacerations to lower leg           N  10h43        NaN   \n",
      "3           Struck by fin on chest & leg           N    NaN        NaN   \n",
      "4  No injury: Knocked off board by shark           N    NaN  2 m shark   \n",
      "\n",
      "        Investigator or Source  \n",
      "0  Orlando Sentinel, 9/19/2016  \n",
      "1  Orlando Sentinel, 9/19/2016  \n",
      "2  Orlando Sentinel, 9/19/2016  \n",
      "3           The Age, 9/18/2016  \n",
      "4           The Age, 9/16/2016  \n"
     ]
    }
   ],
   "source": [
    "print(len(clean_data['Country'])) # returns 4943\n",
    "clean_data = clean_data[clean_data['Country'].notnull()]\n",
    "#filtered_df = df[df['Nums'] > 3]  # Filter out rows where 'Nums' value <= 3\n",
    "print(len(clean_data['Country'])) # now returns 4913\n",
    "#that dropped my thirty rows! \n",
    "print(clean_data.head())"
   ]
  },
  {
   "cell_type": "raw",
   "metadata": {},
   "source": [
    "Drop the rows where Sex was not reported (no meaninful way to replace, and unable to answer my question)\n",
    "But I should have been able to do BOTH in a combined conditional (Country and Sex) try that in the code below"
   ]
  },
  {
   "cell_type": "code",
   "execution_count": 9,
   "metadata": {},
   "outputs": [
    {
     "name": "stdout",
     "output_type": "stream",
     "text": [
      "4913\n",
      "4686\n"
     ]
    }
   ],
   "source": [
    "print(len(clean_data['Country'])) # returns 4913 now because I dropped from above\n",
    "clean_data = clean_data[\n",
    "    (clean_data['Country'].notnull()) &\n",
    "    (clean_data['Sex '].notnull()) # column name Sex had a trailing whitespace that threw me off with a Key Error. should have .strip() the elements in the list of column names! \n",
    "]\n",
    "print(len(clean_data['Country'])) # should return 4913 - 227"
   ]
  },
  {
   "cell_type": "code",
   "execution_count": 10,
   "metadata": {},
   "outputs": [
    {
     "name": "stdout",
     "output_type": "stream",
     "text": [
      "object\n"
     ]
    }
   ],
   "source": [
    "# clean_data = clean_data['Age'].fillna(clean_data['Age'].median()) # need to strip out the alpha characters, convert everything to an integer in this column. Astype or strip it/drop it?\n",
    "# print(clean_data['Age'].isnull().sum())\n",
    "print(clean_data['Age'].dtype)"
   ]
  },
  {
   "cell_type": "markdown",
   "metadata": {},
   "source": [
    "So the above shows me that I have non-integer values in my age column, which I'll need to contend with so that I can replace the null values in the column."
   ]
  },
  {
   "cell_type": "code",
   "execution_count": 11,
   "metadata": {},
   "outputs": [],
   "source": [
    "# clean_data['Age'] = clean_data['Age'].astype('int64') # gives a Type Error? tried a few different formats\n",
    "# clean_data['Age'] = clean_data.astype({'Age':'int64'}) # Same error\n",
    "# print(clean_data['Age'].dtype)\n"
   ]
  },
  {
   "cell_type": "markdown",
   "metadata": {},
   "source": []
  },
  {
   "cell_type": "code",
   "execution_count": 12,
   "metadata": {},
   "outputs": [
    {
     "name": "stdout",
     "output_type": "stream",
     "text": [
      "     Case Number       Date  Year        Type        Country            Area  \\\n",
      "0   2016.09.18.c  18-Sep-16  2016  Unprovoked            USA         Florida   \n",
      "1   2016.09.18.b  18-Sep-16  2016  Unprovoked            USA         Florida   \n",
      "2   2016.09.18.a  18-Sep-16  2016  Unprovoked            USA         Florida   \n",
      "6     2016.09.11  11-Sep-16  2016  Unprovoked            USA         Florida   \n",
      "7     2016.09.07  07-Sep-16  2016  Unprovoked            USA          Hawaii   \n",
      "8     2016.09.06  06-Sep-16  2016  Unprovoked  NEW CALEDONIA  North Province   \n",
      "9   2016.09.05.b  05-Sep-16  2016  Unprovoked            USA  South Carolina   \n",
      "11    2016.09.04  04-Sep-16  2016  Unprovoked            USA         Florida   \n",
      "12    2016.09.01  01-Sep-16  2016  Unprovoked            USA      California   \n",
      "13  2016.08.29.b  29-Aug-16  2016  Unprovoked            USA         Florida   \n",
      "\n",
      "                                           Location         Activity  \\\n",
      "0                  New Smyrna Beach, Volusia County          Surfing   \n",
      "1                  New Smyrna Beach, Volusia County          Surfing   \n",
      "2                  New Smyrna Beach, Volusia County          Surfing   \n",
      "6                     Ponte Vedra, St. Johns County           Wading   \n",
      "7                                      Makaha, Oahu         Swimming   \n",
      "8                                            Koumac     Kite surfing   \n",
      "9   Kingston Plantation, Myrtle Beach, Horry County  Boogie boarding   \n",
      "11                 New Smyrna Beach, Volusia County    Body boarding   \n",
      "12        Refugio State Beach, Santa Barbara County     Spearfishing   \n",
      "13                 New Smyrna Beach, Volusia County          Surfing   \n",
      "\n",
      "                Name Sex   Age                                      Injury  \\\n",
      "0               male    M   16                       Minor injury to thigh   \n",
      "1     Chucky Luciano    M   36                        Lacerations to hands   \n",
      "2               male    M   43                    Lacerations to lower leg   \n",
      "6               male    M  60s                         Minor injury to arm   \n",
      "7             female    F   51    Severe lacerations to shoulder & forearm   \n",
      "8       David Jewell    M   50                                       FATAL   \n",
      "9     Rylie Williams    F   12  Lacerations & punctures to lower right leg   \n",
      "11      Austin Moore    M    9                                 Foot bitten   \n",
      "12  Tyler McQuillen     M   22                 Two toes broken & lacerated   \n",
      "13     Sam Cumiskey     M   25                   Lacerations to right foot   \n",
      "\n",
      "   Fatal (Y/N)            Time          Species        Investigator or Source  \n",
      "0            N           13h00               NaN  Orlando Sentinel, 9/19/2016  \n",
      "1            N           11h00               NaN  Orlando Sentinel, 9/19/2016  \n",
      "2            N           10h43               NaN  Orlando Sentinel, 9/19/2016  \n",
      "6            N           15h15    3' to 4' shark          News4Jax, 9/11/2016  \n",
      "7            N           14h30  Tiger shark, 10?    Hawaii News Now, 9/7/2016  \n",
      "8            Y           15h40               NaN       TVANouvelles, 9/6/2016  \n",
      "9            N  Late afternoon               NaN            C. Creswell, GSAF  \n",
      "11           N             NaN               NaN   Orlando Sentinel, 9/7/2016  \n",
      "12           N             NaN       White shark             R. Collier, GSAF  \n",
      "13           N           15h00    Bull shark, 6'      News Channel 8, 8/30/16  \n"
     ]
    }
   ],
   "source": [
    "clean_data = clean_data[ clean_data['Age'].notnull() ]\n",
    "print(clean_data.head(10))"
   ]
  },
  {
   "cell_type": "code",
   "execution_count": 29,
   "metadata": {},
   "outputs": [
    {
     "ename": "KeyError",
     "evalue": "'Age'",
     "output_type": "error",
     "traceback": [
      "\u001b[0;31m---------------------------------------------------------------------------\u001b[0m",
      "\u001b[0;31mKeyError\u001b[0m                                  Traceback (most recent call last)",
      "\u001b[0;32m/anaconda3/lib/python3.7/site-packages/pandas/core/indexes/base.py\u001b[0m in \u001b[0;36mget_loc\u001b[0;34m(self, key, method, tolerance)\u001b[0m\n\u001b[1;32m   2656\u001b[0m             \u001b[0;32mtry\u001b[0m\u001b[0;34m:\u001b[0m\u001b[0;34m\u001b[0m\u001b[0;34m\u001b[0m\u001b[0m\n\u001b[0;32m-> 2657\u001b[0;31m                 \u001b[0;32mreturn\u001b[0m \u001b[0mself\u001b[0m\u001b[0;34m.\u001b[0m\u001b[0m_engine\u001b[0m\u001b[0;34m.\u001b[0m\u001b[0mget_loc\u001b[0m\u001b[0;34m(\u001b[0m\u001b[0mkey\u001b[0m\u001b[0;34m)\u001b[0m\u001b[0;34m\u001b[0m\u001b[0;34m\u001b[0m\u001b[0m\n\u001b[0m\u001b[1;32m   2658\u001b[0m             \u001b[0;32mexcept\u001b[0m \u001b[0mKeyError\u001b[0m\u001b[0;34m:\u001b[0m\u001b[0;34m\u001b[0m\u001b[0;34m\u001b[0m\u001b[0m\n",
      "\u001b[0;32mpandas/_libs/index.pyx\u001b[0m in \u001b[0;36mpandas._libs.index.IndexEngine.get_loc\u001b[0;34m()\u001b[0m\n",
      "\u001b[0;32mpandas/_libs/index.pyx\u001b[0m in \u001b[0;36mpandas._libs.index.IndexEngine.get_loc\u001b[0;34m()\u001b[0m\n",
      "\u001b[0;32mpandas/_libs/hashtable_class_helper.pxi\u001b[0m in \u001b[0;36mpandas._libs.hashtable.PyObjectHashTable.get_item\u001b[0;34m()\u001b[0m\n",
      "\u001b[0;32mpandas/_libs/hashtable_class_helper.pxi\u001b[0m in \u001b[0;36mpandas._libs.hashtable.PyObjectHashTable.get_item\u001b[0;34m()\u001b[0m\n",
      "\u001b[0;31mKeyError\u001b[0m: 'Age'",
      "\nDuring handling of the above exception, another exception occurred:\n",
      "\u001b[0;31mKeyError\u001b[0m                                  Traceback (most recent call last)",
      "\u001b[0;32m<ipython-input-29-e28023f0b02b>\u001b[0m in \u001b[0;36m<module>\u001b[0;34m\u001b[0m\n\u001b[1;32m      8\u001b[0m clean_data = clean_data.drop(\n\u001b[1;32m      9\u001b[0m     clean_data.loc[\n\u001b[0;32m---> 10\u001b[0;31m         \u001b[0mclean_data\u001b[0m\u001b[0;34m[\u001b[0m\u001b[0;34m'Age'\u001b[0m\u001b[0;34m]\u001b[0m \u001b[0;34m==\u001b[0m \u001b[0;34m'60s'\u001b[0m\u001b[0;34m\u001b[0m\u001b[0;34m\u001b[0m\u001b[0m\n\u001b[0m\u001b[1;32m     11\u001b[0m     ], axis = 1)\n\u001b[1;32m     12\u001b[0m \u001b[0mprint\u001b[0m\u001b[0;34m(\u001b[0m\u001b[0mclean_data\u001b[0m\u001b[0;34m[\u001b[0m\u001b[0;34m'Age'\u001b[0m\u001b[0;34m]\u001b[0m\u001b[0;34m.\u001b[0m\u001b[0mdtype\u001b[0m\u001b[0;34m)\u001b[0m\u001b[0;34m\u001b[0m\u001b[0;34m\u001b[0m\u001b[0m\n",
      "\u001b[0;32m/anaconda3/lib/python3.7/site-packages/pandas/core/frame.py\u001b[0m in \u001b[0;36m__getitem__\u001b[0;34m(self, key)\u001b[0m\n\u001b[1;32m   2925\u001b[0m             \u001b[0;32mif\u001b[0m \u001b[0mself\u001b[0m\u001b[0;34m.\u001b[0m\u001b[0mcolumns\u001b[0m\u001b[0;34m.\u001b[0m\u001b[0mnlevels\u001b[0m \u001b[0;34m>\u001b[0m \u001b[0;36m1\u001b[0m\u001b[0;34m:\u001b[0m\u001b[0;34m\u001b[0m\u001b[0;34m\u001b[0m\u001b[0m\n\u001b[1;32m   2926\u001b[0m                 \u001b[0;32mreturn\u001b[0m \u001b[0mself\u001b[0m\u001b[0;34m.\u001b[0m\u001b[0m_getitem_multilevel\u001b[0m\u001b[0;34m(\u001b[0m\u001b[0mkey\u001b[0m\u001b[0;34m)\u001b[0m\u001b[0;34m\u001b[0m\u001b[0;34m\u001b[0m\u001b[0m\n\u001b[0;32m-> 2927\u001b[0;31m             \u001b[0mindexer\u001b[0m \u001b[0;34m=\u001b[0m \u001b[0mself\u001b[0m\u001b[0;34m.\u001b[0m\u001b[0mcolumns\u001b[0m\u001b[0;34m.\u001b[0m\u001b[0mget_loc\u001b[0m\u001b[0;34m(\u001b[0m\u001b[0mkey\u001b[0m\u001b[0;34m)\u001b[0m\u001b[0;34m\u001b[0m\u001b[0;34m\u001b[0m\u001b[0m\n\u001b[0m\u001b[1;32m   2928\u001b[0m             \u001b[0;32mif\u001b[0m \u001b[0mis_integer\u001b[0m\u001b[0;34m(\u001b[0m\u001b[0mindexer\u001b[0m\u001b[0;34m)\u001b[0m\u001b[0;34m:\u001b[0m\u001b[0;34m\u001b[0m\u001b[0;34m\u001b[0m\u001b[0m\n\u001b[1;32m   2929\u001b[0m                 \u001b[0mindexer\u001b[0m \u001b[0;34m=\u001b[0m \u001b[0;34m[\u001b[0m\u001b[0mindexer\u001b[0m\u001b[0;34m]\u001b[0m\u001b[0;34m\u001b[0m\u001b[0;34m\u001b[0m\u001b[0m\n",
      "\u001b[0;32m/anaconda3/lib/python3.7/site-packages/pandas/core/indexes/base.py\u001b[0m in \u001b[0;36mget_loc\u001b[0;34m(self, key, method, tolerance)\u001b[0m\n\u001b[1;32m   2657\u001b[0m                 \u001b[0;32mreturn\u001b[0m \u001b[0mself\u001b[0m\u001b[0;34m.\u001b[0m\u001b[0m_engine\u001b[0m\u001b[0;34m.\u001b[0m\u001b[0mget_loc\u001b[0m\u001b[0;34m(\u001b[0m\u001b[0mkey\u001b[0m\u001b[0;34m)\u001b[0m\u001b[0;34m\u001b[0m\u001b[0;34m\u001b[0m\u001b[0m\n\u001b[1;32m   2658\u001b[0m             \u001b[0;32mexcept\u001b[0m \u001b[0mKeyError\u001b[0m\u001b[0;34m:\u001b[0m\u001b[0;34m\u001b[0m\u001b[0;34m\u001b[0m\u001b[0m\n\u001b[0;32m-> 2659\u001b[0;31m                 \u001b[0;32mreturn\u001b[0m \u001b[0mself\u001b[0m\u001b[0;34m.\u001b[0m\u001b[0m_engine\u001b[0m\u001b[0;34m.\u001b[0m\u001b[0mget_loc\u001b[0m\u001b[0;34m(\u001b[0m\u001b[0mself\u001b[0m\u001b[0;34m.\u001b[0m\u001b[0m_maybe_cast_indexer\u001b[0m\u001b[0;34m(\u001b[0m\u001b[0mkey\u001b[0m\u001b[0;34m)\u001b[0m\u001b[0;34m)\u001b[0m\u001b[0;34m\u001b[0m\u001b[0;34m\u001b[0m\u001b[0m\n\u001b[0m\u001b[1;32m   2660\u001b[0m         \u001b[0mindexer\u001b[0m \u001b[0;34m=\u001b[0m \u001b[0mself\u001b[0m\u001b[0;34m.\u001b[0m\u001b[0mget_indexer\u001b[0m\u001b[0;34m(\u001b[0m\u001b[0;34m[\u001b[0m\u001b[0mkey\u001b[0m\u001b[0;34m]\u001b[0m\u001b[0;34m,\u001b[0m \u001b[0mmethod\u001b[0m\u001b[0;34m=\u001b[0m\u001b[0mmethod\u001b[0m\u001b[0;34m,\u001b[0m \u001b[0mtolerance\u001b[0m\u001b[0;34m=\u001b[0m\u001b[0mtolerance\u001b[0m\u001b[0;34m)\u001b[0m\u001b[0;34m\u001b[0m\u001b[0;34m\u001b[0m\u001b[0m\n\u001b[1;32m   2661\u001b[0m         \u001b[0;32mif\u001b[0m \u001b[0mindexer\u001b[0m\u001b[0;34m.\u001b[0m\u001b[0mndim\u001b[0m \u001b[0;34m>\u001b[0m \u001b[0;36m1\u001b[0m \u001b[0;32mor\u001b[0m \u001b[0mindexer\u001b[0m\u001b[0;34m.\u001b[0m\u001b[0msize\u001b[0m \u001b[0;34m>\u001b[0m \u001b[0;36m1\u001b[0m\u001b[0;34m:\u001b[0m\u001b[0;34m\u001b[0m\u001b[0;34m\u001b[0m\u001b[0m\n",
      "\u001b[0;32mpandas/_libs/index.pyx\u001b[0m in \u001b[0;36mpandas._libs.index.IndexEngine.get_loc\u001b[0;34m()\u001b[0m\n",
      "\u001b[0;32mpandas/_libs/index.pyx\u001b[0m in \u001b[0;36mpandas._libs.index.IndexEngine.get_loc\u001b[0;34m()\u001b[0m\n",
      "\u001b[0;32mpandas/_libs/hashtable_class_helper.pxi\u001b[0m in \u001b[0;36mpandas._libs.hashtable.PyObjectHashTable.get_item\u001b[0;34m()\u001b[0m\n",
      "\u001b[0;32mpandas/_libs/hashtable_class_helper.pxi\u001b[0m in \u001b[0;36mpandas._libs.hashtable.PyObjectHashTable.get_item\u001b[0;34m()\u001b[0m\n",
      "\u001b[0;31mKeyError\u001b[0m: 'Age'"
     ]
    }
   ],
   "source": [
    "# df[df['id'].apply(lambda x: isinstance(x, (int, np.int64)))]\n",
    "# clean_data['Age'] = clean_data['Age'].astype({'Age':int})\n",
    "# clean_data['Age'] = clean_data['Age'].astype(str)\n",
    "# clean_data['Age'] = clean_data['Age'].astype(int)\n",
    "# print(clean_data2['Age'].dtype)\n",
    "# print(clean_data2.head())\n",
    "# df.drop(df.loc[df['line_race']==0].index, inplace=True)\n",
    "# clean_data = clean_data.drop(\n",
    "#     clean_data.loc[\n",
    "#         clean_data['Age'] == '60s'\n",
    "#     ], axis = 1)\n",
    "# print(clean_data['Age'].dtype)\n",
    "\n"
   ]
  },
  {
   "cell_type": "code",
   "execution_count": null,
   "metadata": {},
   "outputs": [],
   "source": []
  }
 ],
 "metadata": {
  "kernelspec": {
   "display_name": "Python 3",
   "language": "python",
   "name": "python3"
  },
  "language_info": {
   "codemirror_mode": {
    "name": "ipython",
    "version": 3
   },
   "file_extension": ".py",
   "mimetype": "text/x-python",
   "name": "python",
   "nbconvert_exporter": "python",
   "pygments_lexer": "ipython3",
   "version": "3.7.3"
  }
 },
 "nbformat": 4,
 "nbformat_minor": 2
}
